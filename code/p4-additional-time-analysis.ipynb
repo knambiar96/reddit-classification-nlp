{
 "cells": [
  {
   "cell_type": "code",
   "execution_count": 1,
   "id": "96b4fd00-a3c8-476d-9605-b66516384976",
   "metadata": {},
   "outputs": [],
   "source": [
    "\n",
    "import seaborn as sns\n",
    "import pandas as pd\n",
    "\n",
    "import numpy as np\n",
    "import pickle\n",
    "\n",
    "import time\n",
    "\n",
    "import matplotlib.pyplot as plt"
   ]
  },
  {
   "cell_type": "code",
   "execution_count": 2,
   "id": "dc59c418-abc1-47fc-8e50-63ed9c089e1d",
   "metadata": {},
   "outputs": [],
   "source": [
    "with open('../data/pickledcooking.pkl','rb') as x:\n",
    "    df_cook = pickle.load(x)"
   ]
  },
  {
   "cell_type": "code",
   "execution_count": 3,
   "id": "53e7e38e-78d5-426b-898e-7c0bf4bb7f65",
   "metadata": {},
   "outputs": [],
   "source": [
    "with open('../data/pickledbeginners.pkl','rb') as x:\n",
    "    df_cforb = pickle.load(x)"
   ]
  },
  {
   "cell_type": "code",
   "execution_count": 4,
   "id": "5cf92039-bf83-461a-a673-33aba29e80da",
   "metadata": {},
   "outputs": [],
   "source": [
    "df_cook['sub'] = 'r/Cooking'\n",
    "\n",
    "df_cforb['sub'] = 'r/Cookingforbeginners'"
   ]
  },
  {
   "cell_type": "markdown",
   "id": "11530b77-fbfd-46c2-a469-43997409e1da",
   "metadata": {},
   "source": [
    "The following with https://www.geeksforgeeks.org/finding-the-quantile-and-decile-ranks-of-a-pandas-dataframe-column/ https://www.geeksforgeeks.org/plotting-multiple-bar-charts-using-matplotlib-in-python/"
   ]
  },
  {
   "cell_type": "code",
   "execution_count": 5,
   "id": "bf00901f-f996-47e9-a473-a162a72a5658",
   "metadata": {},
   "outputs": [],
   "source": [
    "df_cook['quintile'] = pd.qcut(df_cook['created_utc'],q=5,labels=['1st','2nd','3rd','4th','5th'])"
   ]
  },
  {
   "cell_type": "code",
   "execution_count": 6,
   "id": "13bc6907-0444-4b34-ae12-b1e5027587a5",
   "metadata": {},
   "outputs": [],
   "source": [
    "removedlist = [(quint,df_cook[(df_cook['selftext']=='[removed]')&(df_cook['quintile']==quint)].shape[0]/(len(df_cook)/5)) \n",
    " for quint in df_cook['quintile'].unique()]"
   ]
  },
  {
   "cell_type": "code",
   "execution_count": 7,
   "id": "5effd0e7-eb4e-4b65-baff-822798eba9d0",
   "metadata": {},
   "outputs": [],
   "source": [
    "removedlist.reverse()"
   ]
  },
  {
   "cell_type": "code",
   "execution_count": 8,
   "id": "2a299a18-986d-4ccd-9afa-22bbe49d1ece",
   "metadata": {},
   "outputs": [
    {
     "data": {
      "text/plain": [
       "[('1st', 0.25387740029542094),\n",
       " ('2nd', 0.22572008862629245),\n",
       " ('3rd', 0.1292466765140325),\n",
       " ('4th', 0.09324224519940916),\n",
       " ('5th', 0.06831610044313145)]"
      ]
     },
     "execution_count": 8,
     "metadata": {},
     "output_type": "execute_result"
    }
   ],
   "source": [
    "removedlist"
   ]
  },
  {
   "cell_type": "code",
   "execution_count": 9,
   "id": "a6a1e062-30e3-4637-8edf-106b4ad51fc1",
   "metadata": {},
   "outputs": [],
   "source": [
    "df_cforb['quintile'] = pd.qcut(df_cforb['created_utc'],q=5,labels=['1st','2nd','3rd','4th','5th'])"
   ]
  },
  {
   "cell_type": "code",
   "execution_count": 10,
   "id": "5ca26f43-8fab-41ad-92a3-0c9a29fbcd92",
   "metadata": {},
   "outputs": [],
   "source": [
    "removedlistb = [(quint,df_cforb[(df_cforb['selftext']=='[removed]')&(df_cforb['quintile']==quint)].shape[0]/(len(df_cforb)/5)) \n",
    " for quint in df_cforb['quintile'].unique()]"
   ]
  },
  {
   "cell_type": "code",
   "execution_count": 11,
   "id": "3cd879f7-b51c-4d1e-b9eb-9d8c3a99347f",
   "metadata": {},
   "outputs": [],
   "source": [
    "removedlistb.reverse()"
   ]
  },
  {
   "cell_type": "code",
   "execution_count": 12,
   "id": "7d275114-fd9f-4edc-84d7-8fa860971d20",
   "metadata": {},
   "outputs": [
    {
     "data": {
      "text/plain": [
       "[('1st', 0.06179101724614959),\n",
       " ('2nd', 0.06801623167020197),\n",
       " ('3rd', 0.20128193304436043),\n",
       " ('4th', 0.22041870331089183),\n",
       " ('5th', 0.1856036152356359)]"
      ]
     },
     "execution_count": 12,
     "metadata": {},
     "output_type": "execute_result"
    }
   ],
   "source": [
    "removedlistb"
   ]
  },
  {
   "cell_type": "code",
   "execution_count": 18,
   "id": "94180e61-644c-4a27-b0d6-9e30a45cd022",
   "metadata": {},
   "outputs": [],
   "source": [
    "x1,y1 = zip(*removedlist)\n",
    "x2,y2 = zip(*removedlistb)"
   ]
  },
  {
   "cell_type": "code",
   "execution_count": 21,
   "id": "22a6bac9-c3bb-4c30-a0a4-03ad5ea6d8c4",
   "metadata": {},
   "outputs": [],
   "source": [
    "axis = np.arange(len(x1))"
   ]
  },
  {
   "cell_type": "code",
   "execution_count": 30,
   "id": "8a765ae9-d280-4d73-a50e-7603426b3a4b",
   "metadata": {},
   "outputs": [
    {
     "data": {
      "image/png": "[encoded data removed]",
      "text/plain": [
       "<Figure size 720x432 with 1 Axes>"
      ]
     },
     "metadata": {
      "needs_background": "light"
     },
     "output_type": "display_data"
    }
   ],
   "source": [
    "plt.figure(figsize=(10,6))\n",
    "plt.bar(axis-0.2,y1,0.4,label='cooking')\n",
    "plt.bar(axis+0.2,y2,0.4,label='cookingforbeginners')\n",
    "plt.xticks(axis,x1)\n",
    "plt.xlabel('Quintiles of data by time posted from earliest to latest')\n",
    "plt.ylabel('Percentage of posts removed by moderation')\n",
    "plt.title('Percentage of posts removed by moderation on selected subreddits based on time-frame')\n",
    "plt.legend()\n",
    "plt.show()"
   ]
  },
  {
   "cell_type": "code",
   "execution_count": 31,
   "id": "ac0d224e-5df5-420a-9770-1870c4e2eef8",
   "metadata": {},
   "outputs": [],
   "source": [
    "blanklist = [(quint,df_cook[(df_cook['selftext']=='')&(df_cook['quintile']==quint)].shape[0]/(len(df_cook)/5)) \n",
    " for quint in df_cook['quintile'].unique()]"
   ]
  },
  {
   "cell_type": "code",
   "execution_count": 32,
   "id": "f110f9a9-edf6-4d63-b18c-72427bd8bf18",
   "metadata": {},
   "outputs": [],
   "source": [
    "blanklist.reverse()"
   ]
  },
  {
   "cell_type": "code",
   "execution_count": 41,
   "id": "c6f4ca99-0b20-4c97-a633-5ca8c2a1e041",
   "metadata": {},
   "outputs": [],
   "source": [
    "blanklistb = [(quint,df_cforb[(df_cforb['selftext']=='')&(df_cforb['quintile']==quint)].shape[0]/(len(df_cforb)/5)) \n",
    " for quint in df_cforb['quintile'].unique()]"
   ]
  },
  {
   "cell_type": "code",
   "execution_count": 42,
   "id": "298bbf23-d361-4997-99ec-c4dd1df58c7f",
   "metadata": {},
   "outputs": [],
   "source": [
    "blanklistb.reverse()"
   ]
  },
  {
   "cell_type": "code",
   "execution_count": 43,
   "id": "250eaa93-4385-41c3-89a3-b20e02dec8dd",
   "metadata": {},
   "outputs": [],
   "source": [
    "x3,y3 = zip(*blanklist)\n",
    "x4,y4 = zip(*blanklistb)"
   ]
  },
  {
   "cell_type": "code",
   "execution_count": 46,
   "id": "02445d58-619b-460d-85c3-7fb932ccf403",
   "metadata": {},
   "outputs": [
    {
     "data": {
      "image/png": "[encoded data removed]",
      "text/plain": [
       "<Figure size 720x432 with 1 Axes>"
      ]
     },
     "metadata": {
      "needs_background": "light"
     },
     "output_type": "display_data"
    }
   ],
   "source": [
    "plt.figure(figsize=(10,6))\n",
    "plt.bar(axis-0.2,y3,0.4,label='cooking')\n",
    "plt.bar(axis+0.2,y4,0.4,label='cookingforbeginners')\n",
    "plt.xticks(axis,x1)\n",
    "plt.xlabel('Quintiles of data by time posted from earliest to latest')\n",
    "plt.ylabel('Percentage of posts that were blank/non-self')\n",
    "plt.title('Percentage of blank/non-self-posts on selected subreddits based on time-frame')\n",
    "plt.legend()\n",
    "plt.show()"
   ]
  },
  {
   "cell_type": "code",
   "execution_count": null,
   "id": "b438db28-c46d-4f5e-b895-65e323bad1b3",
   "metadata": {},
   "outputs": [],
   "source": []
  }
 ],
 "metadata": {
  "kernelspec": {
   "display_name": "Python 3 (ipykernel)",
   "language": "python",
   "name": "python3"
  },
  "language_info": {
   "codemirror_mode": {
    "name": "ipython",
    "version": 3
   },
   "file_extension": ".py",
   "mimetype": "text/x-python",
   "name": "python",
   "nbconvert_exporter": "python",
   "pygments_lexer": "ipython3",
   "version": "3.9.7"
  }
 },
 "nbformat": 4,
 "nbformat_minor": 5
}
