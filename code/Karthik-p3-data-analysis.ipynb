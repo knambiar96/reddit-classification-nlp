{
 "cells": [
  {
   "cell_type": "code",
   "execution_count": 33,
   "id": "a21b4cf3-dddd-4a02-bed4-7cde0b4f4a20",
   "metadata": {},
   "outputs": [],
   "source": [
    "import requests\n",
    "import seaborn as sns\n",
    "import pandas as pd\n",
    "import time\n",
    "import pickle\n",
    "from sklearn.model_selection import train_test_split, GridSearchCV, RandomizedSearchCV\n",
    "from sklearn.pipeline import Pipeline\n",
    "from sklearn.feature_extraction.text import CountVectorizer, TfidfVectorizer\n",
    "from sklearn.linear_model import LinearRegression, LogisticRegression\n",
    "from sklearn.ensemble import VotingClassifier, RandomForestClassifier, ExtraTreesClassifier"
   ]
  },
  {
   "cell_type": "code",
   "execution_count": 2,
   "id": "4989bfab-fb7f-4dd9-9dd3-854f3298612a",
   "metadata": {},
   "outputs": [],
   "source": [
    "with open('../data/pickledcooking.pkl','rb') as x:\n",
    "    df_cook = pickle.load(x)"
   ]
  },
  {
   "cell_type": "code",
   "execution_count": 3,
   "id": "98fc1d53-360f-4fad-bb93-bd29033fca1e",
   "metadata": {},
   "outputs": [],
   "source": [
    "with open('../data/pickledbeginners.pkl','rb') as x:\n",
    "    df_cforb = pickle.load(x)"
   ]
  },
  {
   "cell_type": "code",
   "execution_count": 5,
   "id": "f9073ff6-e6c0-486c-81e5-3601fb6fcc98",
   "metadata": {},
   "outputs": [
    {
     "data": {
      "image/png": "[encoded data removed]",
      "text/plain": [
       "<Figure size 432x288 with 1 Axes>"
      ]
     },
     "metadata": {
      "needs_background": "light"
     },
     "output_type": "display_data"
    }
   ],
   "source": [
    "sns.scatterplot(data=df_cook,x='created_utc',y='subreddit_subscribers')\n",
    "sns.scatterplot(data=df_cforb,x='created_utc',y='subreddit_subscribers');"
   ]
  },
  {
   "cell_type": "code",
   "execution_count": 9,
   "id": "e4e2f343-3cf9-4cb7-82b5-41197f0d5a03",
   "metadata": {},
   "outputs": [
    {
     "data": {
      "text/plain": [
       "self.cookingforbeginners    0.786821\n",
       "i.redd.it                   0.067325\n",
       "youtu.be                    0.060546\n",
       "youtube.com                 0.041594\n",
       "imgur.com                   0.002951\n",
       "                              ...   \n",
       "megadealerships.com         0.000046\n",
       "campbells.com               0.000046\n",
       "questionocean.com           0.000046\n",
       "bnnbloomberg.ca             0.000046\n",
       "simmyideas.com              0.000046\n",
       "Name: domain, Length: 371, dtype: float64"
      ]
     },
     "execution_count": 9,
     "metadata": {},
     "output_type": "execute_result"
    }
   ],
   "source": [
    "df_cforb['domain'].value_counts(normalize=True)"
   ]
  },
  {
   "cell_type": "code",
   "execution_count": 10,
   "id": "452b589a-81b9-4daa-8e17-72b123e6e54a",
   "metadata": {},
   "outputs": [
    {
     "data": {
      "text/plain": [
       "self.Cooking                0.994184\n",
       "rg4amia.wordpress.com       0.000785\n",
       "self.AskCulinary            0.000692\n",
       "self.limitlessallergies     0.000415\n",
       "self.cookingforbeginners    0.000185\n",
       "                              ...   \n",
       "self.suggestmearecipe       0.000046\n",
       "self.PressureCooking        0.000046\n",
       "self.KitchenConfidential    0.000046\n",
       "self.sushi                  0.000046\n",
       "self.Frugal                 0.000046\n",
       "Name: domain, Length: 70, dtype: float64"
      ]
     },
     "execution_count": 10,
     "metadata": {},
     "output_type": "execute_result"
    }
   ],
   "source": [
    "df_cook['domain'].value_counts(normalize=True)"
   ]
  },
  {
   "cell_type": "markdown",
   "id": "4d828c26-75b3-42d6-bfc4-6a9b16d6f748",
   "metadata": {},
   "source": [
    "Right now, all of this information is for testing some things. It's interesting that r/cooking has had more robust growth, even relative to its size when compared to r/cookingforbeginners. Along with this, they have or recently put in place a rule of only allowing self-posts (it's implausible that 99.4% of posts would be selfs otherwise, especially when an informal look at reddit suggests that image/video posts tend to do better. Also, there are some cross-posts like suggestmearecipe or kitchenconfidential)"
   ]
  },
  {
   "cell_type": "code",
   "execution_count": 16,
   "id": "291143ad-4832-4be6-98f3-7898038127a7",
   "metadata": {},
   "outputs": [
    {
     "data": {
      "text/plain": [
       "Index(['created_utc', 'domain', 'selftext', 'subreddit_subscribers', 'title'], dtype='object')"
      ]
     },
     "execution_count": 16,
     "metadata": {},
     "output_type": "execute_result"
    }
   ],
   "source": [
    "df_cook.columns"
   ]
  },
  {
   "cell_type": "code",
   "execution_count": 17,
   "id": "81308388-5f62-4edc-80c6-76c2fd567d20",
   "metadata": {},
   "outputs": [
    {
     "data": {
      "text/plain": [
       "[removed]                                                                                                                                                                                                                                                                                                                                                                                                                                                                                                                                                                                                                          0.154308\n",
       "                                                                                                                                                                                                                                                                                                                                                                                                                                                                                                                                                                                                                                   0.068417\n",
       "[deleted]                                                                                                                                                                                                                                                                                                                                                                                                                                                                                                                                                                                                                          0.004808\n",
       "I am making dumpling wrappers, and I thought I would have time to stuff the dumplings today, but I don’t, so I want to wait until tomorrow to do that. However I already made the dough for the wrappers which is just flour and water and some salt. You already are supposed to let it rest for an hour or so to let it relax...but would it be bad if I just left it out until tomorrow morning? Should I keep it in the fridge? Should I just chuck it and make a new batch tomorrow? Any insight would be much appreciated!                                                                                                   0.000462\n",
       "I’ve always wanted to learn to cook well and I’ve decided now we are stuck inside, it would be the perfect time to focus on that. I think I want to learn techniques first and then some staple recipes. I made fresh pasta for the first time a few days ago and it came out quite well! What else do you think everyone should be able to do and I should learn next? Thank you in advance :)                                                                                                                                                                                                                                    0.000462\n",
       "                                                                                                                                                                                                                                                                                                                                                                                                                                                                                                                                                                                                                                     ...   \n",
       "Grapes, blackberries, raspberries, etc \\n\\nCan those be stored in airtight containers? Specifically glass containers?                                                                                                                                                                                                                                                                                                                                                                                                                                                                                                              0.000046\n",
       "It feel like I've been seeing this more and more lately. It seems so counter intuitive to me. The smaller you chop something, the higher the surface area and the more it's flavor is able to permeate your dish. The other day I actually saw a video where someone was cooking steak and actually threw in whole garlic cloves with the peel still on them! I thought what a waste. They probably barely got any garlic flavor in that steak. End of rant.                                                                                                                                                                       0.000046\n",
       "This is meant to be lighthearted, but since the dawn of time, there has been the question of sweet or salty. And yes, of course there is cuisine that is a mix of both. But I firmly believe that those who excel in baking are subpar cooks and those who cook (sautée, fry, etc.) are usually terrible bakers. My personal, based-on-nothing theory is that baking requires precision and rigidity, while cooking is jazz, mixing a little of this and a little of that, seasoning by taste and aroma rather than recipe, and both of those attract certain, very different character types.\\n\\nSigned, \\nA cook, not a baker    0.000046\n",
       "Korean barbeque is a world wide known dish and pork is the way to go. Using common ingredients and basic cooking skills, you can make your own k barbeque dish. The ingredients are comprised of onions, green onions, garlic, soysauce, redwine, and starch. [Here is a video to check out.](https://www.youtube.com/watch?v=WN1byLLCH5Y)                                                                                                                                                                                                                                                                                         0.000046\n",
       "Honestly, I'm 25 and lucky I've made it this far.  I was making a modified version of a hollandaise for dinner and forgot about the sauce.  It's now a runny, rich tasting version of scrambled eggs.\\n\\nIs there anything I can use it for/incorporate it into? Pasta?  Bread? Literally anything.  I'm one of those \"save the scraps of the vegis to turn into broth\" kind of cooks and hate food waste.                                                                                                                                                                                                                         0.000046\n",
       "Name: selftext, Length: 16621, dtype: float64"
      ]
     },
     "execution_count": 17,
     "metadata": {},
     "output_type": "execute_result"
    }
   ],
   "source": [
    "df_cook['selftext'].value_counts(normalize=True)"
   ]
  },
  {
   "cell_type": "code",
   "execution_count": 19,
   "id": "de3ebb1e-388b-42e6-955e-4cea9d0741df",
   "metadata": {},
   "outputs": [
    {
     "data": {
      "text/plain": [
       "                                                                                                                                                                                                                                                                                                                                                                                                                                                                                                                                                                                                                                                                                                                                                                                                                                                                                                                                                                                                                                                                                                                                                                                                                                                                                                                                                                                                                                                                                                                                                                                      0.226625\n",
       "[removed]                                                                                                                                                                                                                                                                                                                                                                                                                                                                                                                                                                                                                                                                                                                                                                                                                                                                                                                                                                                                                                                                                                                                                                                                                                                                                                                                                                                                                                                                                                                                                                             0.147831\n",
       "[deleted]                                                                                                                                                                                                                                                                                                                                                                                                                                                                                                                                                                                                                                                                                                                                                                                                                                                                                                                                                                                                                                                                                                                                                                                                                                                                                                                                                                                                                                                                                                                                                                             0.004300\n",
       "**It's May! We're hoping you are all staying safe (and home, if possible).** \\n\\n**Please see our** [**Quarantine Cuisine**](https://www.reddit.com/r/cookingforbeginners/comments/fjpvuf/quarantine_cuisine_keep_calm_and_cook_on/) **thread for all COVID-related posts.**\\n\\nThis megathread is for all non text posts. That includes videos, outside links, self-promotion, your personal recipes, and images. If you try to post these things outside the megathread, they'll be deleted.\\n\\n**What will be allowed?**\\n\\nText posts, questions, and discussion threads.\\n\\n**Why can't I post pictures anymore?**\\n\\nPlease [read this thread](https://www.reddit.com/r/cookingforbeginners/comments/e229jg/subreddit_updates_mod_apps_temporary_policies_and/) for updates regarding the subreddit rules. In short, no image posts for the time being -- they may be back in some form in the future, but we want to let the new mods get settled and discuss a better policy.\\n\\nThis megathread is the right place for posting pictures of your great creations!\\n\\n**Can I post links, videos, etc. in the comments?**\\n\\nYes. That's fine, as long as it's requested directly or makes sense in context -- like a recipe recommendation or a great instructional video. Just don't leave a comment with a link to your blog and walk away -- that's not cool. If you've clearly just made a comment or text post to promote your own brand, it'll be deleted.\\n\\n**Any other questions or feedback should be left in this thread or directed via modmail to our team.**    0.000370\n",
       ".                                                                                                                                                                                                                                                                                                                                                                                                                                                                                                                                                                                                                                                                                                                                                                                                                                                                                                                                                                                                                                                                                                                                                                                                                                                                                                                                                                                                                                                                                                                                                                                     0.000370\n",
       "                                                                                                                                                                                                                                                                                                                                                                                                                                                                                                                                                                                                                                                                                                                                                                                                                                                                                                                                                                                                                                                                                                                                                                                                                                                                                                                                                                                                                                                                                                                                                                                        ...   \n",
       "Hey so Im tryna make dinner for my family for the first time, any suggestions? Not looking for anything crazy or complicated but just a solid family dinner                                                                                                                                                                                                                                                                                                                                                                                                                                                                                                                                                                                                                                                                                                                                                                                                                                                                                                                                                                                                                                                                                                                                                                                                                                                                                                                                                                                                                           0.000046\n",
       "When cooking your rice just put a bunch of leafy greens (I like spinach) on top and get yourself some more healthy nutrients without any additional dishes to wash!                                                                                                                                                                                                                                                                                                                                                                                                                                                                                                                                                                                                                                                                                                                                                                                                                                                                                                                                                                                                                                                                                                                                                                                                                                                                                                                                                                                                                   0.000046\n",
       "Ingredients\\n\\n1 cup white channa\\n\\n3 Tomatoes finely chopped\\n\\n2 onion finely chopped\\n\\n½ cucumber finely chopped\\n\\n2 green chilli finely chopped\\n\\n1 tsp jeera\\n\\n1tsp garm masala\\n\\n1tsp dhaniya powder\\n\\n½ tsp amchur (dry mango powder)\\n\\n1tsp channa masala\\n\\n½ tsp kashmiri red chilli\\n\\n½ tsp roasted jeera powder\\n\\n2 pinch meetha soda\\n\\nPinch of hing\\n\\n1 tej patta\\n\\n1 inch cinnamon\\n\\n1 tea bag\\n\\n3 tbsp ghee\\n\\nSalt to taste\\n\\nFor details follow the link  https://www.omgfeeds.com/channa-kulcha-recipe-chole-kulche-recipe-kulche-chole-recipe/                                                                                                                                                                                                                                                                                                                                                                                                                                                                                                                                                                                                                                                                                                                                                                                                                                                                                                                                                                                                    0.000046\n",
       "Hello!\\nI love dumplings, bao and pizza for the following reasons:\\n\\n-\\teasy to freeze\\n-\\tone step reheating/cooking\\n-\\tcontains veg, protein, and carbs in one easy (bound together) serving\\n\\n\\nI have also been freezing extra pasta in individual serving tins so I can just stick them in the oven during the week.  I know that technically doesn’t fall under “bound together”, but the one step reheating is sooo convenient!\\n\\nAre there any meals that I can make that are similarly convenient?  These are already in heavy rotation during the weeks!                                                                                                                                                                                                                                                                                                                                                                                                                                                                                                                                                                                                                                                                                                                                                                                                                                                                                                                                                                                                                0.000046\n",
       "Can I use these noodles? \\n\\n[http://i5.walmartimages.ca/images/Large/119/8_1/501198_1.jpg](http://i5.walmartimages.ca/images/Large/119/8_1/501198_1.jpg)\\n\\nThanks                                                                                                                                                                                                                                                                                                                                                                                                                                                                                                                                                                                                                                                                                                                                                                                                                                                                                                                                                                                                                                                                                                                                                                                                                                                                                                                                                                                                                   0.000046\n",
       "Name: selftext, Length: 13347, dtype: float64"
      ]
     },
     "execution_count": 19,
     "metadata": {},
     "output_type": "execute_result"
    }
   ],
   "source": [
    "df_cforb['selftext'].value_counts(normalize=True)"
   ]
  },
  {
   "cell_type": "markdown",
   "id": "eb35c2eb-039c-41d6-a924-6ff6dd8d5a2b",
   "metadata": {},
   "source": [
    "15.4% removed (by mods/admins) on cooking versus 22.7% on CforB, and 6.85% removed by creator on cooking versus14.8% on CforB. These are all interesting ideas. Let's try to focus on only self-text (or at least primarily so) in this notebook. Figuring out how to integrate for instance, the title in a vectorized way should be interesting, along with all the other features we dragged along and comments, but those also take extra effort in processing. Let's stick to just selftext for now"
   ]
  },
  {
   "cell_type": "code",
   "execution_count": 23,
   "id": "a284e78d-9569-4df6-a4da-69db89d5728b",
   "metadata": {},
   "outputs": [
    {
     "data": {
      "text/plain": [
       "(created_utc               0\n",
       " domain                    0\n",
       " selftext                 32\n",
       " subreddit_subscribers     0\n",
       " title                     0\n",
       " dtype: int64,\n",
       " created_utc               0\n",
       " domain                    0\n",
       " selftext                 60\n",
       " subreddit_subscribers     0\n",
       " title                     0\n",
       " dtype: int64)"
      ]
     },
     "execution_count": 23,
     "metadata": {},
     "output_type": "execute_result"
    }
   ],
   "source": [
    "df_cook.isnull().sum(), df_cforb.isnull().sum()"
   ]
  },
  {
   "cell_type": "markdown",
   "id": "4852f3f3-ee5a-4caf-9bf1-dcc0943b1c81",
   "metadata": {},
   "source": [
    "While we have nulls, that too can be information on the class. We won't remove them, or if need be, we'll fill them with ''"
   ]
  },
  {
   "cell_type": "markdown",
   "id": "b6ac4cdf-b8b5-4fcd-8c24-10f2699a63d1",
   "metadata": {},
   "source": [
    "The one thing we need is a class marker so that we can actually work with these"
   ]
  },
  {
   "cell_type": "code",
   "execution_count": 24,
   "id": "46cca50f-5694-491a-a006-668984314b11",
   "metadata": {},
   "outputs": [],
   "source": [
    "df_cook['sub'] = 'r/Cooking'"
   ]
  },
  {
   "cell_type": "code",
   "execution_count": 26,
   "id": "c48f6197-86ed-4e3a-9f01-90a8a04fd1bf",
   "metadata": {},
   "outputs": [],
   "source": [
    "df_cforb['sub'] = 'r/Cookingforbeginners'"
   ]
  },
  {
   "cell_type": "code",
   "execution_count": 28,
   "id": "ab3e1f59-d832-4897-aa52-fce2de527dfd",
   "metadata": {},
   "outputs": [],
   "source": [
    "textdata = pd.concat([df_cook[['selftext','sub']],df_cforb[['selftext','sub']]])"
   ]
  },
  {
   "cell_type": "code",
   "execution_count": 29,
   "id": "74e9bbc1-8fef-4ce5-bc1a-b9926a8dab6a",
   "metadata": {},
   "outputs": [],
   "source": [
    "X = textdata['selftext']\n",
    "y = textdata['sub']"
   ]
  },
  {
   "cell_type": "code",
   "execution_count": 38,
   "id": "6d6aa99d-0e9f-4009-88a9-fde483b9ccce",
   "metadata": {},
   "outputs": [],
   "source": [
    "X.fillna('',inplace=True)"
   ]
  },
  {
   "cell_type": "code",
   "execution_count": 34,
   "id": "a4192a58-4f4a-429a-88eb-916aac4ffcea",
   "metadata": {},
   "outputs": [
    {
     "data": {
      "text/plain": [
       "r/Cookingforbeginners    0.500254\n",
       "r/Cooking                0.499746\n",
       "Name: sub, dtype: float64"
      ]
     },
     "execution_count": 34,
     "metadata": {},
     "output_type": "execute_result"
    }
   ],
   "source": [
    "y.value_counts(normalize=True)"
   ]
  },
  {
   "cell_type": "markdown",
   "id": "cfea552f-8b2d-487b-b880-6e5f10c32e8e",
   "metadata": {},
   "source": [
    "Null Model- about as even as you can get!"
   ]
  },
  {
   "cell_type": "code",
   "execution_count": 39,
   "id": "fe434b2e-a6c5-42d4-9416-833aead7d24a",
   "metadata": {},
   "outputs": [],
   "source": [
    "X_train, X_test, y_train, y_test = train_test_split(X,y,random_state=815,stratify=y)"
   ]
  },
  {
   "cell_type": "code",
   "execution_count": 40,
   "id": "809c026d-8038-4222-81c5-b4b1b00cbae7",
   "metadata": {},
   "outputs": [],
   "source": [
    "pipe1 = Pipeline([\n",
    "    ('cv',CountVectorizer(strip_accents='unicode',ngram_range=(1,1),max_features=None)),\n",
    "    ('logreg',LogisticRegression(penalty='l2'))#just calling some of these so you keep them in mind\n",
    "])"
   ]
  },
  {
   "cell_type": "code",
   "execution_count": 41,
   "id": "f0330087-dca4-4518-bd2c-4c835e64dbaa",
   "metadata": {},
   "outputs": [
    {
     "name": "stderr",
     "output_type": "stream",
     "text": [
      "C:\\Users\\Karthik\\AppData\\Roaming\\Python\\Python39\\site-packages\\sklearn\\linear_model\\_logistic.py:814: ConvergenceWarning: lbfgs failed to converge (status=1):\n",
      "STOP: TOTAL NO. of ITERATIONS REACHED LIMIT.\n",
      "\n",
      "Increase the number of iterations (max_iter) or scale the data as shown in:\n",
      "    https://scikit-learn.org/stable/modules/preprocessing.html\n",
      "Please also refer to the documentation for alternative solver options:\n",
      "    https://scikit-learn.org/stable/modules/linear_model.html#logistic-regression\n",
      "  n_iter_i = _check_optimize_result(\n"
     ]
    },
    {
     "data": {
      "text/plain": [
       "0.6164421479977855"
      ]
     },
     "execution_count": 41,
     "metadata": {},
     "output_type": "execute_result"
    }
   ],
   "source": [
    "pipe1.fit(X_train,y_train)\n",
    "pipe1.score(X_test,y_test)"
   ]
  },
  {
   "cell_type": "markdown",
   "id": "11e16de3-5047-4c48-b5a4-06f53f92c6a2",
   "metadata": {},
   "source": [
    "So one of our simplest models got a score of 61.6%-we'll want to look more carefully into all our options, but this is at least a starting point"
   ]
  },
  {
   "cell_type": "code",
   "execution_count": null,
   "id": "4e5876fe-1172-49cd-9514-121c0305076d",
   "metadata": {},
   "outputs": [],
   "source": []
  }
 ],
 "metadata": {
  "kernelspec": {
   "display_name": "Python 3 (ipykernel)",
   "language": "python",
   "name": "python3"
  },
  "language_info": {
   "codemirror_mode": {
    "name": "ipython",
    "version": 3
   },
   "file_extension": ".py",
   "mimetype": "text/x-python",
   "name": "python",
   "nbconvert_exporter": "python",
   "pygments_lexer": "ipython3",
   "version": "3.9.7"
  }
 },
 "nbformat": 4,
 "nbformat_minor": 5
}
