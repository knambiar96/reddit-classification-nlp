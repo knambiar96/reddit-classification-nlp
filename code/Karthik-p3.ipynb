{
 "cells": [
  {
   "cell_type": "code",
   "execution_count": 50,
   "id": "08f32895-9af6-46cf-b70c-d646b6859efc",
   "metadata": {},
   "outputs": [],
   "source": [
    "import requests\n",
    "import seaborn as sns\n",
    "import pandas as pd\n",
    "import time"
   ]
  },
  {
   "cell_type": "code",
   "execution_count": 3,
   "id": "313316f2-eb5b-4ab6-b4af-b5ccf054c781",
   "metadata": {},
   "outputs": [],
   "source": [
    "urlcook = 'https://api.pushshift.io/reddit/search/submission/?subreddit=cooking&metadata=true&size=500&is_self=true'\n",
    "urlbegin = 'https://api.pushshift.io/reddit/search/submission?subreddit=cookingforbeginners&metadata=true&size=500&is_self=true'"
   ]
  },
  {
   "cell_type": "code",
   "execution_count": 4,
   "id": "b3540510-60be-4a7a-b508-67a7651635e3",
   "metadata": {},
   "outputs": [],
   "source": [
    "rescook = requests.get(urlcook)\n",
    "resbegin = requests.get(urlbegin)"
   ]
  },
  {
   "cell_type": "code",
   "execution_count": 5,
   "id": "008fb8ed-02f6-4285-8b89-38c64a20f5ea",
   "metadata": {},
   "outputs": [],
   "source": [
    "begindict = resbegin.json()\n",
    "cookdict= rescook.json()"
   ]
  },
  {
   "cell_type": "code",
   "execution_count": 6,
   "id": "327c55b7-bb53-4bb7-a532-440889c04e5c",
   "metadata": {},
   "outputs": [
    {
     "data": {
      "text/plain": [
       "dict_keys(['data', 'metadata'])"
      ]
     },
     "execution_count": 6,
     "metadata": {},
     "output_type": "execute_result"
    }
   ],
   "source": [
    "begindict.keys()"
   ]
  },
  {
   "cell_type": "code",
   "execution_count": 9,
   "id": "875ab24c-5afe-4bb9-a157-4e1f17761d10",
   "metadata": {},
   "outputs": [
    {
     "data": {
      "text/plain": [
       "1651021913"
      ]
     },
     "execution_count": 9,
     "metadata": {},
     "output_type": "execute_result"
    }
   ],
   "source": [
    "\n",
    "begindict.get('data')[1].get('created_utc')"
   ]
  },
  {
   "cell_type": "code",
   "execution_count": 15,
   "id": "7d22f597-e175-44d4-a95a-3b7f44f6d69d",
   "metadata": {},
   "outputs": [],
   "source": [
    "plotter = [begindict.get('data')[i].get('created_utc') for i in range(len(begindict.get('data')))]"
   ]
  },
  {
   "cell_type": "code",
   "execution_count": 19,
   "id": "aba006c0-87ae-42c3-973e-20918db358be",
   "metadata": {},
   "outputs": [
    {
     "data": {
      "text/plain": [
       "100"
      ]
     },
     "execution_count": 19,
     "metadata": {},
     "output_type": "execute_result"
    }
   ],
   "source": [
    "len(plotter)"
   ]
  },
  {
   "cell_type": "code",
   "execution_count": 21,
   "id": "8aade2a3-c22f-4d88-a811-fe7259806307",
   "metadata": {},
   "outputs": [
    {
     "data": {
      "image/png": "[encoded data removed]",
      "text/plain": [
       "<Figure size 432x288 with 1 Axes>"
      ]
     },
     "metadata": {
      "needs_background": "light"
     },
     "output_type": "display_data"
    }
   ],
   "source": [
    "sns.scatterplot(x=list(range(100)),y=plotter);"
   ]
  },
  {
   "cell_type": "markdown",
   "id": "f1d0ea11-56cc-422a-ba3b-32076f03d99d",
   "metadata": {},
   "source": [
    "All of this was just confirmation that the scrape goes back monotonically in time. Of note, while size was set to 500, we only got 100 hits, suggesting we should be careful about how our scraping works and give time to pulls- and it might be the case that their API (https://github.com/pushshift/api) is outdated. Moving forwards, let's see what data keys there are that can be of interest"
   ]
  },
  {
   "cell_type": "code",
   "execution_count": 30,
   "id": "52a4a3ef-308a-488b-9303-6aeccf25d9b8",
   "metadata": {},
   "outputs": [
    {
     "data": {
      "text/plain": [
       "['all_awardings',\n",
       " 'allow_live_comments',\n",
       " 'author',\n",
       " 'author_flair_css_class',\n",
       " 'author_flair_richtext',\n",
       " 'author_flair_text',\n",
       " 'author_flair_type',\n",
       " 'author_fullname',\n",
       " 'author_is_blocked',\n",
       " 'author_patreon_flair',\n",
       " 'author_premium',\n",
       " 'awarders',\n",
       " 'can_mod_post',\n",
       " 'contest_mode',\n",
       " 'created_utc',\n",
       " 'domain',\n",
       " 'full_link',\n",
       " 'gildings',\n",
       " 'id',\n",
       " 'is_created_from_ads_ui',\n",
       " 'is_crosspostable',\n",
       " 'is_meta',\n",
       " 'is_original_content',\n",
       " 'is_reddit_media_domain',\n",
       " 'is_robot_indexable',\n",
       " 'is_self',\n",
       " 'is_video',\n",
       " 'link_flair_background_color',\n",
       " 'link_flair_richtext',\n",
       " 'link_flair_template_id',\n",
       " 'link_flair_text',\n",
       " 'link_flair_text_color',\n",
       " 'link_flair_type',\n",
       " 'locked',\n",
       " 'media_only',\n",
       " 'no_follow',\n",
       " 'num_comments',\n",
       " 'num_crossposts',\n",
       " 'over_18',\n",
       " 'parent_whitelist_status',\n",
       " 'permalink',\n",
       " 'pinned',\n",
       " 'pwls',\n",
       " 'retrieved_on',\n",
       " 'score',\n",
       " 'selftext',\n",
       " 'send_replies',\n",
       " 'spoiler',\n",
       " 'stickied',\n",
       " 'subreddit',\n",
       " 'subreddit_id',\n",
       " 'subreddit_subscribers',\n",
       " 'subreddit_type',\n",
       " 'thumbnail',\n",
       " 'title',\n",
       " 'total_awards_received',\n",
       " 'treatment_tags',\n",
       " 'upvote_ratio',\n",
       " 'url',\n",
       " 'whitelist_status',\n",
       " 'wls']"
      ]
     },
     "execution_count": 30,
     "metadata": {},
     "output_type": "execute_result"
    }
   ],
   "source": [
    "list(begindict.get('data')[0].keys())"
   ]
  },
  {
   "cell_type": "markdown",
   "id": "d5ecaf88-e765-4f28-a2fc-3381cfddc8df",
   "metadata": {
    "tags": []
   },
   "source": [
    "We'll be looking at text, primarily, but it seems that other factors could be useful. Although, some are just cheating- ex, since r/cooking is a much more popular subreddit than r/cookingforbeginners, we should expect to see far more awards on average, along with other factors."
   ]
  },
  {
   "cell_type": "code",
   "execution_count": 31,
   "id": "8ffdd4ef-10b4-4548-8ce1-ab3a0b725105",
   "metadata": {},
   "outputs": [
    {
     "data": {
      "text/plain": [
       "526815"
      ]
     },
     "execution_count": 31,
     "metadata": {},
     "output_type": "execute_result"
    }
   ],
   "source": [
    "begindict.get('data')[0].get('subreddit_subscribers')"
   ]
  },
  {
   "cell_type": "code",
   "execution_count": 32,
   "id": "2b3b6ed8-8f26-4f3a-bcbd-8d21d439c293",
   "metadata": {},
   "outputs": [
    {
     "data": {
      "text/plain": [
       "517775"
      ]
     },
     "execution_count": 32,
     "metadata": {},
     "output_type": "execute_result"
    }
   ],
   "source": [
    "begindict.get('data')[99].get('subreddit_subscribers')"
   ]
  },
  {
   "cell_type": "markdown",
   "id": "0e934716-ac2f-4974-b748-d6eac21f5541",
   "metadata": {},
   "source": [
    "Interestingly, they seem to be able to track subreddit subscribers at posting. If nothing else, we can use this information to see how, if at all, the subreddit changed over the years."
   ]
  },
  {
   "cell_type": "code",
   "execution_count": 34,
   "id": "1aaf4632-7f6f-447f-b0de-127020418992",
   "metadata": {},
   "outputs": [
    {
     "data": {
      "text/plain": [
       "{'all_awardings': [],\n",
       " 'allow_live_comments': False,\n",
       " 'author': 'catalinados',\n",
       " 'author_flair_css_class': None,\n",
       " 'author_flair_richtext': [],\n",
       " 'author_flair_text': None,\n",
       " 'author_flair_type': 'text',\n",
       " 'author_fullname': 't2_70k700a8',\n",
       " 'author_is_blocked': False,\n",
       " 'author_patreon_flair': False,\n",
       " 'author_premium': False,\n",
       " 'awarders': [],\n",
       " 'can_mod_post': False,\n",
       " 'contest_mode': False,\n",
       " 'created_utc': 1651028669,\n",
       " 'domain': 'self.cookingforbeginners',\n",
       " 'full_link': 'https://www.reddit.com/r/cookingforbeginners/comments/uctswb/why_are_there_white_spots_on_my_mayo/',\n",
       " 'gildings': {},\n",
       " 'id': 'uctswb',\n",
       " 'is_created_from_ads_ui': False,\n",
       " 'is_crosspostable': True,\n",
       " 'is_meta': False,\n",
       " 'is_original_content': False,\n",
       " 'is_reddit_media_domain': False,\n",
       " 'is_robot_indexable': True,\n",
       " 'is_self': True,\n",
       " 'is_video': False,\n",
       " 'link_flair_background_color': '#7193ff',\n",
       " 'link_flair_richtext': [],\n",
       " 'link_flair_template_id': '8a236e74-32f2-11e9-b9df-0ecae544881c',\n",
       " 'link_flair_text': 'Question',\n",
       " 'link_flair_text_color': 'light',\n",
       " 'link_flair_type': 'text',\n",
       " 'locked': False,\n",
       " 'media_only': False,\n",
       " 'no_follow': True,\n",
       " 'num_comments': 0,\n",
       " 'num_crossposts': 0,\n",
       " 'over_18': False,\n",
       " 'parent_whitelist_status': 'all_ads',\n",
       " 'permalink': '/r/cookingforbeginners/comments/uctswb/why_are_there_white_spots_on_my_mayo/',\n",
       " 'pinned': False,\n",
       " 'pwls': 6,\n",
       " 'retrieved_on': 1651028679,\n",
       " 'score': 1,\n",
       " 'selftext': \"I made some mayonnaise with egg yolk, olive oil, salt, and lemon juice. It was in pretty good shape, but after refrigerating it there are now white spots all over. Have you experienced this? What caused it? \\n\\nNot mold as it's only been a fee hours.\",\n",
       " 'send_replies': True,\n",
       " 'spoiler': False,\n",
       " 'stickied': False,\n",
       " 'subreddit': 'cookingforbeginners',\n",
       " 'subreddit_id': 't5_32u9b',\n",
       " 'subreddit_subscribers': 526815,\n",
       " 'subreddit_type': 'public',\n",
       " 'thumbnail': 'self',\n",
       " 'title': 'Why are there white spots on my mayo?',\n",
       " 'total_awards_received': 0,\n",
       " 'treatment_tags': [],\n",
       " 'upvote_ratio': 1.0,\n",
       " 'url': 'https://www.reddit.com/r/cookingforbeginners/comments/uctswb/why_are_there_white_spots_on_my_mayo/',\n",
       " 'whitelist_status': 'all_ads',\n",
       " 'wls': 6}"
      ]
     },
     "execution_count": 34,
     "metadata": {},
     "output_type": "execute_result"
    }
   ],
   "source": [
    "begindict.get('data')[0]"
   ]
  },
  {
   "cell_type": "markdown",
   "id": "d09e5cfd-b8bb-4062-9ffe-53fa481de8fd",
   "metadata": {},
   "source": [
    "Given what we see, for submissions, the only relevant keys are 'created_utc', 'domain', 'selftext', 'subreddit_subscribers', 'title'"
   ]
  },
  {
   "cell_type": "markdown",
   "id": "7eeff95c-9af3-4061-8bb5-3fe7b61e5900",
   "metadata": {},
   "source": [
    "We want to be flexible, so let's also look at comments"
   ]
  },
  {
   "cell_type": "code",
   "execution_count": 35,
   "id": "58891758-c23f-40ad-82a0-60ff4e763c23",
   "metadata": {},
   "outputs": [],
   "source": [
    "beginurl = 'https://api.pushshift.io/reddit/search/comment/?subreddit=cookingforbeginners&metadata=true&size=500'"
   ]
  },
  {
   "cell_type": "code",
   "execution_count": 36,
   "id": "4a51e10a-7505-45c6-959b-a1403bed2e4b",
   "metadata": {},
   "outputs": [],
   "source": [
    "beginres = requests.get(beginurl)\n",
    "dictbegin = beginres.json()"
   ]
  },
  {
   "cell_type": "code",
   "execution_count": 38,
   "id": "1e677b5a-8c26-410b-932d-9649ecfe8264",
   "metadata": {},
   "outputs": [
    {
     "data": {
      "text/plain": [
       "100"
      ]
     },
     "execution_count": 38,
     "metadata": {},
     "output_type": "execute_result"
    }
   ],
   "source": [
    "len(dictbegin.get('data'))"
   ]
  },
  {
   "cell_type": "code",
   "execution_count": 41,
   "id": "aa61be6a-49e2-4fc0-a70f-34c577b148d2",
   "metadata": {},
   "outputs": [
    {
     "data": {
      "text/plain": [
       "{'all_awardings': [],\n",
       " 'archived': False,\n",
       " 'associated_award': None,\n",
       " 'author': '96dpi',\n",
       " 'author_flair_background_color': None,\n",
       " 'author_flair_css_class': None,\n",
       " 'author_flair_richtext': [],\n",
       " 'author_flair_template_id': None,\n",
       " 'author_flair_text': None,\n",
       " 'author_flair_text_color': None,\n",
       " 'author_flair_type': 'text',\n",
       " 'author_fullname': 't2_bsnif',\n",
       " 'author_patreon_flair': False,\n",
       " 'author_premium': False,\n",
       " 'body': 'Start here for you tempura\\n\\nhttps://www.seriouseats.com/the-food-lab-tempura-vegetables-shrimp-recipe\\n\\nAnd find a Thai chili sauce at the grocery store or online. Toss it in the sauce after frying.',\n",
       " 'body_sha1': 'f1de3685810d0f426694084ee7c4eee50af46f3f',\n",
       " 'can_gild': True,\n",
       " 'collapsed': False,\n",
       " 'collapsed_because_crowd_control': None,\n",
       " 'collapsed_reason': None,\n",
       " 'collapsed_reason_code': None,\n",
       " 'comment_type': None,\n",
       " 'controversiality': 0,\n",
       " 'created_utc': 1651034224,\n",
       " 'distinguished': None,\n",
       " 'gilded': 0,\n",
       " 'gildings': {},\n",
       " 'id': 'i6d2mfx',\n",
       " 'is_submitter': False,\n",
       " 'link_id': 't3_ucuwqx',\n",
       " 'locked': False,\n",
       " 'no_follow': False,\n",
       " 'parent_id': 't3_ucuwqx',\n",
       " 'permalink': '/r/cookingforbeginners/comments/ucuwqx/help_making_this_broccoli_from_a_restaurant/i6d2mfx/',\n",
       " 'retrieved_utc': 1651034252,\n",
       " 'score': 1,\n",
       " 'score_hidden': True,\n",
       " 'send_replies': True,\n",
       " 'stickied': False,\n",
       " 'subreddit': 'cookingforbeginners',\n",
       " 'subreddit_id': 't5_32u9b',\n",
       " 'subreddit_name_prefixed': 'r/cookingforbeginners',\n",
       " 'subreddit_type': 'public',\n",
       " 'top_awarded_type': None,\n",
       " 'total_awards_received': 0,\n",
       " 'treatment_tags': [],\n",
       " 'unrepliable_reason': None}"
      ]
     },
     "execution_count": 41,
     "metadata": {},
     "output_type": "execute_result"
    }
   ],
   "source": [
    "dictbegin.get('data')[0]"
   ]
  },
  {
   "cell_type": "markdown",
   "id": "4d066a9e-7ca6-4439-a510-ede9584b8f98",
   "metadata": {},
   "source": [
    "Looking at this, you can tie comments to a specific post by permalink and removing the final '/' pair. Whether that will be useful is yet to be seen, but let's start with as broad a search as we can. In that case, what we need is 'created_utc','body','permalink'"
   ]
  },
  {
   "cell_type": "markdown",
   "id": "c6a36b6d-aafb-45c8-bf4e-ba097955dd73",
   "metadata": {},
   "source": [
    "Given what we know, let's try and make an iterable set of instructions that will collect every submission and comment (with relevant information) from the last 4 years. That should easily pass the minimum number of posts and give us a healthy amount of data to crunch to figure out differences"
   ]
  },
  {
   "cell_type": "code",
   "execution_count": 70,
   "id": "e89e06a3-2ade-4d47-a58f-5873d82fe178",
   "metadata": {},
   "outputs": [],
   "source": [
    "cforbbaseurl = 'https://api.pushshift.io/reddit/search/submission/?subreddit=cookingforbeginners&metadata=true&size=500'\n",
    "cookingbaseurl = 'https://api.pushshift.io/reddit/search/submission/?subreddit=cooking&metadata=true&size=500'\n",
    "present_time = 1651037065 #Tuesday, April 26, 2022 10:24:25 PM GMT -7:00, for the curious"
   ]
  },
  {
   "cell_type": "code",
   "execution_count": 42,
   "id": "996d5a80-d797-474f-ab9b-49c04af9dee2",
   "metadata": {},
   "outputs": [
    {
     "data": {
      "text/plain": [
       "1651034224"
      ]
     },
     "execution_count": 42,
     "metadata": {},
     "output_type": "execute_result"
    }
   ],
   "source": [
    "dictbegin.get('data')[0].get('created_utc')"
   ]
  },
  {
   "cell_type": "code",
   "execution_count": 67,
   "id": "39d6b9a4-45bf-4252-b069-0b4e94ee0c9b",
   "metadata": {},
   "outputs": [
    {
     "data": {
      "text/plain": [
       "'https://api.pushshift.io/reddit/search/submission/?subreddit=cookingforbeginners&metadata=true&size=500?is_self=true?before=1651037065'"
      ]
     },
     "execution_count": 69,
     "metadata": {},
     "output_type": "execute_result"
    }
   ],
   "source": [
    "cforbbaseurl + '?before=' + str(present_time)"
   ]
  },
  {
   "cell_type": "code",
   "execution_count": 49,
   "id": "e818cb90-69a1-4568-bd5d-0950e50a2490",
   "metadata": {},
   "outputs": [],
   "source": [
    "starttime = 1524806665"
   ]
  },
  {
   "cell_type": "markdown",
   "id": "8d526342-75ea-4de7-9739-a1ec1868b82c",
   "metadata": {},
   "source": [
    "^4 years ago, more or less. Credit to https://www.epochconverter.com/"
   ]
  },
  {
   "cell_type": "code",
   "execution_count": 75,
   "id": "979e424d-ebff-4cce-bf0c-06172269e2f7",
   "metadata": {},
   "outputs": [
    {
     "name": "stdout",
     "output_type": "stream",
     "text": [
      "1650884441\n",
      "1650884441\n",
      "1650884441\n"
     ]
    },
    {
     "ename": "KeyboardInterrupt",
     "evalue": "",
     "output_type": "error",
     "traceback": [
      "\u001b[1;31m---------------------------------------------------------------------------\u001b[0m",
      "\u001b[1;31mKeyboardInterrupt\u001b[0m                         Traceback (most recent call last)",
      "\u001b[1;32m~\\AppData\\Local\\Temp/ipykernel_1404/3596005046.py\u001b[0m in \u001b[0;36m<module>\u001b[1;34m\u001b[0m\n\u001b[0;32m     14\u001b[0m \u001b[1;32mwhile\u001b[0m \u001b[0mpresent_time\u001b[0m \u001b[1;33m>\u001b[0m \u001b[0mstarttime\u001b[0m\u001b[1;33m:\u001b[0m\u001b[1;33m\u001b[0m\u001b[1;33m\u001b[0m\u001b[0m\n\u001b[0;32m     15\u001b[0m     \u001b[0mtime\u001b[0m\u001b[1;33m.\u001b[0m\u001b[0msleep\u001b[0m\u001b[1;33m(\u001b[0m\u001b[1;36m2\u001b[0m\u001b[1;33m)\u001b[0m \u001b[1;31m#to avoid any API overload issues- max calls should be 60/min or 1/sec. 2 calls bc 2 subreddits, so 2 sec sleep\u001b[0m\u001b[1;33m\u001b[0m\u001b[1;33m\u001b[0m\u001b[0m\n\u001b[1;32m---> 16\u001b[1;33m     \u001b[0msubcforb\u001b[0m \u001b[1;33m=\u001b[0m \u001b[0mrequests\u001b[0m\u001b[1;33m.\u001b[0m\u001b[0mget\u001b[0m\u001b[1;33m(\u001b[0m\u001b[0mcforbbaseurl\u001b[0m\u001b[1;33m+\u001b[0m\u001b[1;34m'?before='\u001b[0m\u001b[1;33m+\u001b[0m\u001b[0mstr\u001b[0m\u001b[1;33m(\u001b[0m\u001b[0mpresent_time\u001b[0m\u001b[1;33m)\u001b[0m\u001b[1;33m+\u001b[0m\u001b[0mfields\u001b[0m\u001b[1;33m)\u001b[0m\u001b[1;33m\u001b[0m\u001b[1;33m\u001b[0m\u001b[0m\n\u001b[0m\u001b[0;32m     17\u001b[0m     \u001b[0msubcook\u001b[0m \u001b[1;33m=\u001b[0m \u001b[0mrequests\u001b[0m\u001b[1;33m.\u001b[0m\u001b[0mget\u001b[0m\u001b[1;33m(\u001b[0m\u001b[0mcookingbaseurl\u001b[0m\u001b[1;33m+\u001b[0m\u001b[1;34m'?before='\u001b[0m\u001b[1;33m+\u001b[0m\u001b[0mstr\u001b[0m\u001b[1;33m(\u001b[0m\u001b[0mpresent_time\u001b[0m\u001b[1;33m)\u001b[0m\u001b[1;33m+\u001b[0m\u001b[0mfields\u001b[0m\u001b[1;33m)\u001b[0m\u001b[1;33m\u001b[0m\u001b[1;33m\u001b[0m\u001b[0m\n\u001b[0;32m     18\u001b[0m     \u001b[0msubcookdata\u001b[0m \u001b[1;33m=\u001b[0m \u001b[0msubcook\u001b[0m\u001b[1;33m.\u001b[0m\u001b[0mjson\u001b[0m\u001b[1;33m(\u001b[0m\u001b[1;33m)\u001b[0m\u001b[1;33m.\u001b[0m\u001b[0mget\u001b[0m\u001b[1;33m(\u001b[0m\u001b[1;34m'data'\u001b[0m\u001b[1;33m)\u001b[0m\u001b[1;33m\u001b[0m\u001b[1;33m\u001b[0m\u001b[0m\n",
      "\u001b[1;32mC:\\ProgramData\\Anaconda3\\lib\\site-packages\\requests\\api.py\u001b[0m in \u001b[0;36mget\u001b[1;34m(url, params, **kwargs)\u001b[0m\n\u001b[0;32m     73\u001b[0m     \"\"\"\n\u001b[0;32m     74\u001b[0m \u001b[1;33m\u001b[0m\u001b[0m\n\u001b[1;32m---> 75\u001b[1;33m     \u001b[1;32mreturn\u001b[0m \u001b[0mrequest\u001b[0m\u001b[1;33m(\u001b[0m\u001b[1;34m'get'\u001b[0m\u001b[1;33m,\u001b[0m \u001b[0murl\u001b[0m\u001b[1;33m,\u001b[0m \u001b[0mparams\u001b[0m\u001b[1;33m=\u001b[0m\u001b[0mparams\u001b[0m\u001b[1;33m,\u001b[0m \u001b[1;33m**\u001b[0m\u001b[0mkwargs\u001b[0m\u001b[1;33m)\u001b[0m\u001b[1;33m\u001b[0m\u001b[1;33m\u001b[0m\u001b[0m\n\u001b[0m\u001b[0;32m     76\u001b[0m \u001b[1;33m\u001b[0m\u001b[0m\n\u001b[0;32m     77\u001b[0m \u001b[1;33m\u001b[0m\u001b[0m\n",
      "\u001b[1;32mC:\\ProgramData\\Anaconda3\\lib\\site-packages\\requests\\api.py\u001b[0m in \u001b[0;36mrequest\u001b[1;34m(method, url, **kwargs)\u001b[0m\n\u001b[0;32m     59\u001b[0m     \u001b[1;31m# cases, and look like a memory leak in others.\u001b[0m\u001b[1;33m\u001b[0m\u001b[1;33m\u001b[0m\u001b[0m\n\u001b[0;32m     60\u001b[0m     \u001b[1;32mwith\u001b[0m \u001b[0msessions\u001b[0m\u001b[1;33m.\u001b[0m\u001b[0mSession\u001b[0m\u001b[1;33m(\u001b[0m\u001b[1;33m)\u001b[0m \u001b[1;32mas\u001b[0m \u001b[0msession\u001b[0m\u001b[1;33m:\u001b[0m\u001b[1;33m\u001b[0m\u001b[1;33m\u001b[0m\u001b[0m\n\u001b[1;32m---> 61\u001b[1;33m         \u001b[1;32mreturn\u001b[0m \u001b[0msession\u001b[0m\u001b[1;33m.\u001b[0m\u001b[0mrequest\u001b[0m\u001b[1;33m(\u001b[0m\u001b[0mmethod\u001b[0m\u001b[1;33m=\u001b[0m\u001b[0mmethod\u001b[0m\u001b[1;33m,\u001b[0m \u001b[0murl\u001b[0m\u001b[1;33m=\u001b[0m\u001b[0murl\u001b[0m\u001b[1;33m,\u001b[0m \u001b[1;33m**\u001b[0m\u001b[0mkwargs\u001b[0m\u001b[1;33m)\u001b[0m\u001b[1;33m\u001b[0m\u001b[1;33m\u001b[0m\u001b[0m\n\u001b[0m\u001b[0;32m     62\u001b[0m \u001b[1;33m\u001b[0m\u001b[0m\n\u001b[0;32m     63\u001b[0m \u001b[1;33m\u001b[0m\u001b[0m\n",
      "\u001b[1;32mC:\\ProgramData\\Anaconda3\\lib\\site-packages\\requests\\sessions.py\u001b[0m in \u001b[0;36mrequest\u001b[1;34m(self, method, url, params, data, headers, cookies, files, auth, timeout, allow_redirects, proxies, hooks, stream, verify, cert, json)\u001b[0m\n\u001b[0;32m    540\u001b[0m         }\n\u001b[0;32m    541\u001b[0m         \u001b[0msend_kwargs\u001b[0m\u001b[1;33m.\u001b[0m\u001b[0mupdate\u001b[0m\u001b[1;33m(\u001b[0m\u001b[0msettings\u001b[0m\u001b[1;33m)\u001b[0m\u001b[1;33m\u001b[0m\u001b[1;33m\u001b[0m\u001b[0m\n\u001b[1;32m--> 542\u001b[1;33m         \u001b[0mresp\u001b[0m \u001b[1;33m=\u001b[0m \u001b[0mself\u001b[0m\u001b[1;33m.\u001b[0m\u001b[0msend\u001b[0m\u001b[1;33m(\u001b[0m\u001b[0mprep\u001b[0m\u001b[1;33m,\u001b[0m \u001b[1;33m**\u001b[0m\u001b[0msend_kwargs\u001b[0m\u001b[1;33m)\u001b[0m\u001b[1;33m\u001b[0m\u001b[1;33m\u001b[0m\u001b[0m\n\u001b[0m\u001b[0;32m    543\u001b[0m \u001b[1;33m\u001b[0m\u001b[0m\n\u001b[0;32m    544\u001b[0m         \u001b[1;32mreturn\u001b[0m \u001b[0mresp\u001b[0m\u001b[1;33m\u001b[0m\u001b[1;33m\u001b[0m\u001b[0m\n",
      "\u001b[1;32mC:\\ProgramData\\Anaconda3\\lib\\site-packages\\requests\\sessions.py\u001b[0m in \u001b[0;36msend\u001b[1;34m(self, request, **kwargs)\u001b[0m\n\u001b[0;32m    653\u001b[0m \u001b[1;33m\u001b[0m\u001b[0m\n\u001b[0;32m    654\u001b[0m         \u001b[1;31m# Send the request\u001b[0m\u001b[1;33m\u001b[0m\u001b[1;33m\u001b[0m\u001b[0m\n\u001b[1;32m--> 655\u001b[1;33m         \u001b[0mr\u001b[0m \u001b[1;33m=\u001b[0m \u001b[0madapter\u001b[0m\u001b[1;33m.\u001b[0m\u001b[0msend\u001b[0m\u001b[1;33m(\u001b[0m\u001b[0mrequest\u001b[0m\u001b[1;33m,\u001b[0m \u001b[1;33m**\u001b[0m\u001b[0mkwargs\u001b[0m\u001b[1;33m)\u001b[0m\u001b[1;33m\u001b[0m\u001b[1;33m\u001b[0m\u001b[0m\n\u001b[0m\u001b[0;32m    656\u001b[0m \u001b[1;33m\u001b[0m\u001b[0m\n\u001b[0;32m    657\u001b[0m         \u001b[1;31m# Total elapsed time of the request (approximately)\u001b[0m\u001b[1;33m\u001b[0m\u001b[1;33m\u001b[0m\u001b[0m\n",
      "\u001b[1;32mC:\\ProgramData\\Anaconda3\\lib\\site-packages\\requests\\adapters.py\u001b[0m in \u001b[0;36msend\u001b[1;34m(self, request, stream, timeout, verify, cert, proxies)\u001b[0m\n\u001b[0;32m    437\u001b[0m         \u001b[1;32mtry\u001b[0m\u001b[1;33m:\u001b[0m\u001b[1;33m\u001b[0m\u001b[1;33m\u001b[0m\u001b[0m\n\u001b[0;32m    438\u001b[0m             \u001b[1;32mif\u001b[0m \u001b[1;32mnot\u001b[0m \u001b[0mchunked\u001b[0m\u001b[1;33m:\u001b[0m\u001b[1;33m\u001b[0m\u001b[1;33m\u001b[0m\u001b[0m\n\u001b[1;32m--> 439\u001b[1;33m                 resp = conn.urlopen(\n\u001b[0m\u001b[0;32m    440\u001b[0m                     \u001b[0mmethod\u001b[0m\u001b[1;33m=\u001b[0m\u001b[0mrequest\u001b[0m\u001b[1;33m.\u001b[0m\u001b[0mmethod\u001b[0m\u001b[1;33m,\u001b[0m\u001b[1;33m\u001b[0m\u001b[1;33m\u001b[0m\u001b[0m\n\u001b[0;32m    441\u001b[0m                     \u001b[0murl\u001b[0m\u001b[1;33m=\u001b[0m\u001b[0murl\u001b[0m\u001b[1;33m,\u001b[0m\u001b[1;33m\u001b[0m\u001b[1;33m\u001b[0m\u001b[0m\n",
      "\u001b[1;32mC:\\ProgramData\\Anaconda3\\lib\\site-packages\\urllib3\\connectionpool.py\u001b[0m in \u001b[0;36murlopen\u001b[1;34m(self, method, url, body, headers, retries, redirect, assert_same_host, timeout, pool_timeout, release_conn, chunked, body_pos, **response_kw)\u001b[0m\n\u001b[0;32m    697\u001b[0m \u001b[1;33m\u001b[0m\u001b[0m\n\u001b[0;32m    698\u001b[0m             \u001b[1;31m# Make the request on the httplib connection object.\u001b[0m\u001b[1;33m\u001b[0m\u001b[1;33m\u001b[0m\u001b[0m\n\u001b[1;32m--> 699\u001b[1;33m             httplib_response = self._make_request(\n\u001b[0m\u001b[0;32m    700\u001b[0m                 \u001b[0mconn\u001b[0m\u001b[1;33m,\u001b[0m\u001b[1;33m\u001b[0m\u001b[1;33m\u001b[0m\u001b[0m\n\u001b[0;32m    701\u001b[0m                 \u001b[0mmethod\u001b[0m\u001b[1;33m,\u001b[0m\u001b[1;33m\u001b[0m\u001b[1;33m\u001b[0m\u001b[0m\n",
      "\u001b[1;32mC:\\ProgramData\\Anaconda3\\lib\\site-packages\\urllib3\\connectionpool.py\u001b[0m in \u001b[0;36m_make_request\u001b[1;34m(self, conn, method, url, timeout, chunked, **httplib_request_kw)\u001b[0m\n\u001b[0;32m    443\u001b[0m                     \u001b[1;31m# Python 3 (including for exceptions like SystemExit).\u001b[0m\u001b[1;33m\u001b[0m\u001b[1;33m\u001b[0m\u001b[0m\n\u001b[0;32m    444\u001b[0m                     \u001b[1;31m# Otherwise it looks like a bug in the code.\u001b[0m\u001b[1;33m\u001b[0m\u001b[1;33m\u001b[0m\u001b[0m\n\u001b[1;32m--> 445\u001b[1;33m                     \u001b[0msix\u001b[0m\u001b[1;33m.\u001b[0m\u001b[0mraise_from\u001b[0m\u001b[1;33m(\u001b[0m\u001b[0me\u001b[0m\u001b[1;33m,\u001b[0m \u001b[1;32mNone\u001b[0m\u001b[1;33m)\u001b[0m\u001b[1;33m\u001b[0m\u001b[1;33m\u001b[0m\u001b[0m\n\u001b[0m\u001b[0;32m    446\u001b[0m         \u001b[1;32mexcept\u001b[0m \u001b[1;33m(\u001b[0m\u001b[0mSocketTimeout\u001b[0m\u001b[1;33m,\u001b[0m \u001b[0mBaseSSLError\u001b[0m\u001b[1;33m,\u001b[0m \u001b[0mSocketError\u001b[0m\u001b[1;33m)\u001b[0m \u001b[1;32mas\u001b[0m \u001b[0me\u001b[0m\u001b[1;33m:\u001b[0m\u001b[1;33m\u001b[0m\u001b[1;33m\u001b[0m\u001b[0m\n\u001b[0;32m    447\u001b[0m             \u001b[0mself\u001b[0m\u001b[1;33m.\u001b[0m\u001b[0m_raise_timeout\u001b[0m\u001b[1;33m(\u001b[0m\u001b[0merr\u001b[0m\u001b[1;33m=\u001b[0m\u001b[0me\u001b[0m\u001b[1;33m,\u001b[0m \u001b[0murl\u001b[0m\u001b[1;33m=\u001b[0m\u001b[0murl\u001b[0m\u001b[1;33m,\u001b[0m \u001b[0mtimeout_value\u001b[0m\u001b[1;33m=\u001b[0m\u001b[0mread_timeout\u001b[0m\u001b[1;33m)\u001b[0m\u001b[1;33m\u001b[0m\u001b[1;33m\u001b[0m\u001b[0m\n",
      "\u001b[1;32mC:\\ProgramData\\Anaconda3\\lib\\site-packages\\urllib3\\packages\\six.py\u001b[0m in \u001b[0;36mraise_from\u001b[1;34m(value, from_value)\u001b[0m\n",
      "\u001b[1;32mC:\\ProgramData\\Anaconda3\\lib\\site-packages\\urllib3\\connectionpool.py\u001b[0m in \u001b[0;36m_make_request\u001b[1;34m(self, conn, method, url, timeout, chunked, **httplib_request_kw)\u001b[0m\n\u001b[0;32m    438\u001b[0m                 \u001b[1;31m# Python 3\u001b[0m\u001b[1;33m\u001b[0m\u001b[1;33m\u001b[0m\u001b[0m\n\u001b[0;32m    439\u001b[0m                 \u001b[1;32mtry\u001b[0m\u001b[1;33m:\u001b[0m\u001b[1;33m\u001b[0m\u001b[1;33m\u001b[0m\u001b[0m\n\u001b[1;32m--> 440\u001b[1;33m                     \u001b[0mhttplib_response\u001b[0m \u001b[1;33m=\u001b[0m \u001b[0mconn\u001b[0m\u001b[1;33m.\u001b[0m\u001b[0mgetresponse\u001b[0m\u001b[1;33m(\u001b[0m\u001b[1;33m)\u001b[0m\u001b[1;33m\u001b[0m\u001b[1;33m\u001b[0m\u001b[0m\n\u001b[0m\u001b[0;32m    441\u001b[0m                 \u001b[1;32mexcept\u001b[0m \u001b[0mBaseException\u001b[0m \u001b[1;32mas\u001b[0m \u001b[0me\u001b[0m\u001b[1;33m:\u001b[0m\u001b[1;33m\u001b[0m\u001b[1;33m\u001b[0m\u001b[0m\n\u001b[0;32m    442\u001b[0m                     \u001b[1;31m# Remove the TypeError from the exception chain in\u001b[0m\u001b[1;33m\u001b[0m\u001b[1;33m\u001b[0m\u001b[0m\n",
      "\u001b[1;32mC:\\ProgramData\\Anaconda3\\lib\\http\\client.py\u001b[0m in \u001b[0;36mgetresponse\u001b[1;34m(self)\u001b[0m\n\u001b[0;32m   1369\u001b[0m         \u001b[1;32mtry\u001b[0m\u001b[1;33m:\u001b[0m\u001b[1;33m\u001b[0m\u001b[1;33m\u001b[0m\u001b[0m\n\u001b[0;32m   1370\u001b[0m             \u001b[1;32mtry\u001b[0m\u001b[1;33m:\u001b[0m\u001b[1;33m\u001b[0m\u001b[1;33m\u001b[0m\u001b[0m\n\u001b[1;32m-> 1371\u001b[1;33m                 \u001b[0mresponse\u001b[0m\u001b[1;33m.\u001b[0m\u001b[0mbegin\u001b[0m\u001b[1;33m(\u001b[0m\u001b[1;33m)\u001b[0m\u001b[1;33m\u001b[0m\u001b[1;33m\u001b[0m\u001b[0m\n\u001b[0m\u001b[0;32m   1372\u001b[0m             \u001b[1;32mexcept\u001b[0m \u001b[0mConnectionError\u001b[0m\u001b[1;33m:\u001b[0m\u001b[1;33m\u001b[0m\u001b[1;33m\u001b[0m\u001b[0m\n\u001b[0;32m   1373\u001b[0m                 \u001b[0mself\u001b[0m\u001b[1;33m.\u001b[0m\u001b[0mclose\u001b[0m\u001b[1;33m(\u001b[0m\u001b[1;33m)\u001b[0m\u001b[1;33m\u001b[0m\u001b[1;33m\u001b[0m\u001b[0m\n",
      "\u001b[1;32mC:\\ProgramData\\Anaconda3\\lib\\http\\client.py\u001b[0m in \u001b[0;36mbegin\u001b[1;34m(self)\u001b[0m\n\u001b[0;32m    317\u001b[0m         \u001b[1;31m# read until we get a non-100 response\u001b[0m\u001b[1;33m\u001b[0m\u001b[1;33m\u001b[0m\u001b[0m\n\u001b[0;32m    318\u001b[0m         \u001b[1;32mwhile\u001b[0m \u001b[1;32mTrue\u001b[0m\u001b[1;33m:\u001b[0m\u001b[1;33m\u001b[0m\u001b[1;33m\u001b[0m\u001b[0m\n\u001b[1;32m--> 319\u001b[1;33m             \u001b[0mversion\u001b[0m\u001b[1;33m,\u001b[0m \u001b[0mstatus\u001b[0m\u001b[1;33m,\u001b[0m \u001b[0mreason\u001b[0m \u001b[1;33m=\u001b[0m \u001b[0mself\u001b[0m\u001b[1;33m.\u001b[0m\u001b[0m_read_status\u001b[0m\u001b[1;33m(\u001b[0m\u001b[1;33m)\u001b[0m\u001b[1;33m\u001b[0m\u001b[1;33m\u001b[0m\u001b[0m\n\u001b[0m\u001b[0;32m    320\u001b[0m             \u001b[1;32mif\u001b[0m \u001b[0mstatus\u001b[0m \u001b[1;33m!=\u001b[0m \u001b[0mCONTINUE\u001b[0m\u001b[1;33m:\u001b[0m\u001b[1;33m\u001b[0m\u001b[1;33m\u001b[0m\u001b[0m\n\u001b[0;32m    321\u001b[0m                 \u001b[1;32mbreak\u001b[0m\u001b[1;33m\u001b[0m\u001b[1;33m\u001b[0m\u001b[0m\n",
      "\u001b[1;32mC:\\ProgramData\\Anaconda3\\lib\\http\\client.py\u001b[0m in \u001b[0;36m_read_status\u001b[1;34m(self)\u001b[0m\n\u001b[0;32m    278\u001b[0m \u001b[1;33m\u001b[0m\u001b[0m\n\u001b[0;32m    279\u001b[0m     \u001b[1;32mdef\u001b[0m \u001b[0m_read_status\u001b[0m\u001b[1;33m(\u001b[0m\u001b[0mself\u001b[0m\u001b[1;33m)\u001b[0m\u001b[1;33m:\u001b[0m\u001b[1;33m\u001b[0m\u001b[1;33m\u001b[0m\u001b[0m\n\u001b[1;32m--> 280\u001b[1;33m         \u001b[0mline\u001b[0m \u001b[1;33m=\u001b[0m \u001b[0mstr\u001b[0m\u001b[1;33m(\u001b[0m\u001b[0mself\u001b[0m\u001b[1;33m.\u001b[0m\u001b[0mfp\u001b[0m\u001b[1;33m.\u001b[0m\u001b[0mreadline\u001b[0m\u001b[1;33m(\u001b[0m\u001b[0m_MAXLINE\u001b[0m \u001b[1;33m+\u001b[0m \u001b[1;36m1\u001b[0m\u001b[1;33m)\u001b[0m\u001b[1;33m,\u001b[0m \u001b[1;34m\"iso-8859-1\"\u001b[0m\u001b[1;33m)\u001b[0m\u001b[1;33m\u001b[0m\u001b[1;33m\u001b[0m\u001b[0m\n\u001b[0m\u001b[0;32m    281\u001b[0m         \u001b[1;32mif\u001b[0m \u001b[0mlen\u001b[0m\u001b[1;33m(\u001b[0m\u001b[0mline\u001b[0m\u001b[1;33m)\u001b[0m \u001b[1;33m>\u001b[0m \u001b[0m_MAXLINE\u001b[0m\u001b[1;33m:\u001b[0m\u001b[1;33m\u001b[0m\u001b[1;33m\u001b[0m\u001b[0m\n\u001b[0;32m    282\u001b[0m             \u001b[1;32mraise\u001b[0m \u001b[0mLineTooLong\u001b[0m\u001b[1;33m(\u001b[0m\u001b[1;34m\"status line\"\u001b[0m\u001b[1;33m)\u001b[0m\u001b[1;33m\u001b[0m\u001b[1;33m\u001b[0m\u001b[0m\n",
      "\u001b[1;32mC:\\ProgramData\\Anaconda3\\lib\\socket.py\u001b[0m in \u001b[0;36mreadinto\u001b[1;34m(self, b)\u001b[0m\n\u001b[0;32m    702\u001b[0m         \u001b[1;32mwhile\u001b[0m \u001b[1;32mTrue\u001b[0m\u001b[1;33m:\u001b[0m\u001b[1;33m\u001b[0m\u001b[1;33m\u001b[0m\u001b[0m\n\u001b[0;32m    703\u001b[0m             \u001b[1;32mtry\u001b[0m\u001b[1;33m:\u001b[0m\u001b[1;33m\u001b[0m\u001b[1;33m\u001b[0m\u001b[0m\n\u001b[1;32m--> 704\u001b[1;33m                 \u001b[1;32mreturn\u001b[0m \u001b[0mself\u001b[0m\u001b[1;33m.\u001b[0m\u001b[0m_sock\u001b[0m\u001b[1;33m.\u001b[0m\u001b[0mrecv_into\u001b[0m\u001b[1;33m(\u001b[0m\u001b[0mb\u001b[0m\u001b[1;33m)\u001b[0m\u001b[1;33m\u001b[0m\u001b[1;33m\u001b[0m\u001b[0m\n\u001b[0m\u001b[0;32m    705\u001b[0m             \u001b[1;32mexcept\u001b[0m \u001b[0mtimeout\u001b[0m\u001b[1;33m:\u001b[0m\u001b[1;33m\u001b[0m\u001b[1;33m\u001b[0m\u001b[0m\n\u001b[0;32m    706\u001b[0m                 \u001b[0mself\u001b[0m\u001b[1;33m.\u001b[0m\u001b[0m_timeout_occurred\u001b[0m \u001b[1;33m=\u001b[0m \u001b[1;32mTrue\u001b[0m\u001b[1;33m\u001b[0m\u001b[1;33m\u001b[0m\u001b[0m\n",
      "\u001b[1;32mC:\\ProgramData\\Anaconda3\\lib\\ssl.py\u001b[0m in \u001b[0;36mrecv_into\u001b[1;34m(self, buffer, nbytes, flags)\u001b[0m\n\u001b[0;32m   1239\u001b[0m                   \u001b[1;34m\"non-zero flags not allowed in calls to recv_into() on %s\"\u001b[0m \u001b[1;33m%\u001b[0m\u001b[1;33m\u001b[0m\u001b[1;33m\u001b[0m\u001b[0m\n\u001b[0;32m   1240\u001b[0m                   self.__class__)\n\u001b[1;32m-> 1241\u001b[1;33m             \u001b[1;32mreturn\u001b[0m \u001b[0mself\u001b[0m\u001b[1;33m.\u001b[0m\u001b[0mread\u001b[0m\u001b[1;33m(\u001b[0m\u001b[0mnbytes\u001b[0m\u001b[1;33m,\u001b[0m \u001b[0mbuffer\u001b[0m\u001b[1;33m)\u001b[0m\u001b[1;33m\u001b[0m\u001b[1;33m\u001b[0m\u001b[0m\n\u001b[0m\u001b[0;32m   1242\u001b[0m         \u001b[1;32melse\u001b[0m\u001b[1;33m:\u001b[0m\u001b[1;33m\u001b[0m\u001b[1;33m\u001b[0m\u001b[0m\n\u001b[0;32m   1243\u001b[0m             \u001b[1;32mreturn\u001b[0m \u001b[0msuper\u001b[0m\u001b[1;33m(\u001b[0m\u001b[1;33m)\u001b[0m\u001b[1;33m.\u001b[0m\u001b[0mrecv_into\u001b[0m\u001b[1;33m(\u001b[0m\u001b[0mbuffer\u001b[0m\u001b[1;33m,\u001b[0m \u001b[0mnbytes\u001b[0m\u001b[1;33m,\u001b[0m \u001b[0mflags\u001b[0m\u001b[1;33m)\u001b[0m\u001b[1;33m\u001b[0m\u001b[1;33m\u001b[0m\u001b[0m\n",
      "\u001b[1;32mC:\\ProgramData\\Anaconda3\\lib\\ssl.py\u001b[0m in \u001b[0;36mread\u001b[1;34m(self, len, buffer)\u001b[0m\n\u001b[0;32m   1097\u001b[0m         \u001b[1;32mtry\u001b[0m\u001b[1;33m:\u001b[0m\u001b[1;33m\u001b[0m\u001b[1;33m\u001b[0m\u001b[0m\n\u001b[0;32m   1098\u001b[0m             \u001b[1;32mif\u001b[0m \u001b[0mbuffer\u001b[0m \u001b[1;32mis\u001b[0m \u001b[1;32mnot\u001b[0m \u001b[1;32mNone\u001b[0m\u001b[1;33m:\u001b[0m\u001b[1;33m\u001b[0m\u001b[1;33m\u001b[0m\u001b[0m\n\u001b[1;32m-> 1099\u001b[1;33m                 \u001b[1;32mreturn\u001b[0m \u001b[0mself\u001b[0m\u001b[1;33m.\u001b[0m\u001b[0m_sslobj\u001b[0m\u001b[1;33m.\u001b[0m\u001b[0mread\u001b[0m\u001b[1;33m(\u001b[0m\u001b[0mlen\u001b[0m\u001b[1;33m,\u001b[0m \u001b[0mbuffer\u001b[0m\u001b[1;33m)\u001b[0m\u001b[1;33m\u001b[0m\u001b[1;33m\u001b[0m\u001b[0m\n\u001b[0m\u001b[0;32m   1100\u001b[0m             \u001b[1;32melse\u001b[0m\u001b[1;33m:\u001b[0m\u001b[1;33m\u001b[0m\u001b[1;33m\u001b[0m\u001b[0m\n\u001b[0;32m   1101\u001b[0m                 \u001b[1;32mreturn\u001b[0m \u001b[0mself\u001b[0m\u001b[1;33m.\u001b[0m\u001b[0m_sslobj\u001b[0m\u001b[1;33m.\u001b[0m\u001b[0mread\u001b[0m\u001b[1;33m(\u001b[0m\u001b[0mlen\u001b[0m\u001b[1;33m)\u001b[0m\u001b[1;33m\u001b[0m\u001b[1;33m\u001b[0m\u001b[0m\n",
      "\u001b[1;31mKeyboardInterrupt\u001b[0m: "
     ]
    }
   ],
   "source": [
    "Csubtimelist = []\n",
    "Csubdomainlist = []\n",
    "Csubtextlist = []\n",
    "Csubscriberlist = []\n",
    "Csubtitlelist = []\n",
    "Bsubtimelist = []\n",
    "Bsubdomainlist = []\n",
    "Bsubtextlist = []\n",
    "Bsubscriberlist = []\n",
    "Bsubtitlelist = []\n",
    "fields = '&fields=created_utc,domain,selftext,subreddit_subscribers,title'\n",
    "#all of these lists should be combined together and dealt with together, but as long as they're pulling from the same places,\n",
    "#in the same order, it's not too bad to keep them separate just to keep them legible before tossing into a DF\n",
    "while present_time > starttime:\n",
    "    time.sleep(2) #to avoid any API overload issues- max calls should be 60/min or 1/sec. 2 calls bc 2 subreddits, so 2 sec sleep\n",
    "    subcforb = requests.get(cforbbaseurl+'?before='+str(present_time)+fields)\n",
    "    subcook = requests.get(cookingbaseurl+'?before='+str(present_time)+fields)\n",
    "    subcookdata = subcook.json().get('data')\n",
    "    subcforbdata = subcforb.json().get('data')\n",
    " \n",
    "    \n",
    "    Csubtimelist.extend([subcookdata[i].get('created_utc') for i in range(len(subcookdata))])\n",
    "    Csubdomainlist.extend([subcookdata[i].get('domain') for i in range(len(subcookdata))])\n",
    "    Csubtextlist.extend([subcookdata[i].get('selftext') for i in range(len(subcookdata))])\n",
    "    Csubscriberlist.extend([subcookdata[i].get('subreddit_subscribers') for i in range(len(subcookdata))])\n",
    "    Csubtitlelist.extend([subcookdata[i].get('title') for i in range(len(subcookdata))])\n",
    "    \n",
    "    Bsubtimelist.extend([subcforbdata[i].get('created_utc') for i in range(len(subcforbdata))])\n",
    "    Bsubdomainlist.extend([subcforbdata[i].get('domain') for i in range(len(subcforbdata))])\n",
    "    Bsubtextlist.extend([subcforbdata[i].get('selftext') for i in range(len(subcforbdata))])\n",
    "    Bsubscriberlist.extend([subcforbdata[i].get('subreddit_subscribers') for i in range(len(subcforbdata))])\n",
    "    Bsubtitlelist.extend([subcforbdata[i].get('title') for i in range(len(subcforbdata))])\n",
    "    \n",
    "    \n",
    "    \n",
    "    present_time = Bsubtimelist[-1]\n",
    "    print(present_time)\n",
    "    \n",
    "    "
   ]
  },
  {
   "cell_type": "code",
   "execution_count": 79,
   "id": "44bfaab5-c016-4441-a514-7d114dd6c920",
   "metadata": {},
   "outputs": [],
   "source": [
    "subcforb = requests.get(cforbbaseurl+'?before='+str(present_time)+fields)\n",
    "subcook = requests.get(cookingbaseurl+'?before='+str(present_time)+fields)\n",
    "subcookdata = subcook.json().get('data')\n",
    "subcforbdata = subcforb.json().get('data')"
   ]
  },
  {
   "cell_type": "code",
   "execution_count": 89,
   "id": "19d7748f-d759-4f58-a063-e833ccc42b80",
   "metadata": {},
   "outputs": [
    {
     "data": {
      "text/plain": [
       "1651040152"
      ]
     },
     "execution_count": 89,
     "metadata": {},
     "output_type": "execute_result"
    }
   ],
   "source": [
    "subcook.json().get('data')[-1].get('created_utc')"
   ]
  },
  {
   "cell_type": "code",
   "execution_count": 64,
   "id": "07ec5d3e-fb2b-4fb6-bce0-3d0cf4f20c54",
   "metadata": {},
   "outputs": [],
   "source": [
    "strtest= cforbbaseurl+'?before='+str(present_time)"
   ]
  },
  {
   "cell_type": "code",
   "execution_count": 92,
   "id": "bb93128e-8053-4d7e-bea3-795eb812d893",
   "metadata": {},
   "outputs": [
    {
     "data": {
      "text/plain": [
       "[1651040152,\n",
       " 1651038497,\n",
       " 1651037272,\n",
       " 1651036707,\n",
       " 1651033692,\n",
       " 1651031961,\n",
       " 1651031959,\n",
       " 1651031105,\n",
       " 1651029082,\n",
       " 1651028735,\n",
       " 1651027990,\n",
       " 1651027256,\n",
       " 1651027237,\n",
       " 1651026608,\n",
       " 1651026486,\n",
       " 1651025971,\n",
       " 1651025910,\n",
       " 1651025769,\n",
       " 1651025650,\n",
       " 1651024741,\n",
       " 1651024652,\n",
       " 1651024620,\n",
       " 1651023283,\n",
       " 1651022099,\n",
       " 1651022053]"
      ]
     },
     "execution_count": 92,
     "metadata": {},
     "output_type": "execute_result"
    }
   ],
   "source": [
    "[subcookdata[i].get('created_utc') for i in range(len(subcookdata))]"
   ]
  },
  {
   "cell_type": "code",
   "execution_count": 94,
   "id": "6a9e4d8b-03e6-4013-9fee-6017575908b7",
   "metadata": {},
   "outputs": [
    {
     "data": {
      "text/plain": [
       "[{'created_utc': 1651040152,\n",
       "  'domain': 'self.Cooking',\n",
       "  'selftext': 'Do you have a good method for making decent fajita chicken on a non stick pan? (concerned with seasoning/marinade, oil use, heat etc, no need to list vegetables etc).',\n",
       "  'subreddit_subscribers': 3215958,\n",
       "  'title': 'Chicken Fajita method for non stick?'},\n",
       " {'created_utc': 1651038497,\n",
       "  'domain': 'self.Cooking',\n",
       "  'selftext': '\\n\\nDaripada beli es krim yang makin lama makin mahal yuk kita membuat resep mudah cara membuat es krim oreo yang super duper enak\\n\\nBahan-bahan\\n.Goriorio\\n. susu cair\\n.coklat blok\\n. stik\\n\\nhttps://youtu.be/1Pp8AnXMUGY',\n",
       "  'subreddit_subscribers': 3215921,\n",
       "  'title': 'Ice Cream Oreo Magnum'},\n",
       " {'created_utc': 1651037272,\n",
       "  'domain': 'self.Cooking',\n",
       "  'selftext': \"I wanted to buy chicken thighs yesterday and since I have not bought them in about 5 years I have forgotten what the raw meat with skin on is supposed to look like. This one had a bunch of yellow spots on it. All of them on the Walmart shelf had  it. So since nobody raised an alarm I'm guessing it's normal?\",\n",
       "  'subreddit_subscribers': 3215893,\n",
       "  'title': 'is chicken thigh with skin on supposed to have yellow/mustard colored spots?'},\n",
       " {'created_utc': 1651036707,\n",
       "  'domain': 'self.Cooking',\n",
       "  'selftext': \"For me it's chicken broth. \\nMy mom also made a tea we used to call 'magic tea'. The reason for that beeing that the tea was blue when made and we always added some orange jucie and it turned redish.\",\n",
       "  'subreddit_subscribers': 3215885,\n",
       "  'title': \"What is your sick food from your cuisine? Also what's the sick food that your parents made for you?\"},\n",
       " {'created_utc': 1651033692,\n",
       "  'domain': 'self.Cooking',\n",
       "  'selftext': 'My body fat is the lowest it’s ever been and my doctor said I I need to gain weight for my health. What is the highest calories meals I can make that would also be easy to consume without getting full too fast?',\n",
       "  'subreddit_subscribers': 3215800,\n",
       "  'title': 'I’m desperately trying to gain weight'},\n",
       " {'created_utc': 1651031961,\n",
       "  'domain': 'self.Cooking',\n",
       "  'selftext': '',\n",
       "  'subreddit_subscribers': 3215759,\n",
       "  'title': 'Where should I store cooked korean corndogs? Freezer, chiller, or refrigerator? After storing it what is the best way to heat it back up? Would via toaster oven work?'},\n",
       " {'created_utc': 1651031959,\n",
       "  'domain': 'self.Cooking',\n",
       "  'selftext': 'What is the name of the sauce made by boiling broth then adding a solution of whisked flour and milk? And how do you keep it from getting lumpy?',\n",
       "  'subreddit_subscribers': 3215759,\n",
       "  'title': 'Sauce Question'},\n",
       " {'created_utc': 1651031105,\n",
       "  'domain': 'self.Cooking',\n",
       "  'selftext': 'I have acquired a good amount of loquats, and I have some old bananas that are ready to be made into banana bread. Does anyone have a recipe combining the two of them?',\n",
       "  'subreddit_subscribers': 3215730,\n",
       "  'title': 'Loquat Banana Bread recipe?'},\n",
       " {'created_utc': 1651029082,\n",
       "  'domain': 'self.Cooking',\n",
       "  'selftext': \"Like something that was suppose to be great and all, but only takes up space in your drawer, cause it's not worth the hassle.\\n\\nI have a citrus squeezer/juicer thing. I hate the dang thing, as a fork works so much better to juice a lemon than this thing. And the fork is easier to clean to boot.\",\n",
       "  'subreddit_subscribers': 3215675,\n",
       "  'title': \"What's the most worthless kitchen tool you have?\"},\n",
       " {'created_utc': 1651028735,\n",
       "  'domain': 'self.Cooking',\n",
       "  'selftext': 'I do not feel sick, just worry. Can I send a picture to someone that would be able to calm my fear of having some type of food poisoning.',\n",
       "  'subreddit_subscribers': 3215664,\n",
       "  'title': 'Cooked a steak and now I am second guessing whether it was cooked.'},\n",
       " {'created_utc': 1651027990,\n",
       "  'domain': 'self.Cooking',\n",
       "  'selftext': \"My chicken takesc2 hours and it's still pink on the inside.\\n\\nI'm talking 4 to 6 chicken legs.\\n\\nI bake middle plan\",\n",
       "  'subreddit_subscribers': 3215649,\n",
       "  'title': 'What am I doing wrong (bake chicken legs)'},\n",
       " {'created_utc': 1651027256,\n",
       "  'domain': 'self.Cooking',\n",
       "  'selftext': 'I was in Sam’s today and noticed an all in one pan for 60 USD. I always wanted an always pan and this seemed like a good alternative. I learned I have no idea how to use it outside of a normal skillet. Does anyone have any recipes or meals you like making in your all in one pan?',\n",
       "  'subreddit_subscribers': 3215637,\n",
       "  'title': 'Using a tramotina all in one pan'},\n",
       " {'created_utc': 1651027237,\n",
       "  'domain': 'self.Cooking',\n",
       "  'selftext': \"I'm a big fan of ginger and was contemplating making some ginger juice with lemon juice and a bit of honey. But trying to think of the best way to liquify the ginger without needing to purchase a juicer. If I put a few stalks of ginger root in the Vitamix blender with water, will it break down into a pulpy liquid? I'm a little hesitant because unsure what the limitations are for these blenders as far as the harder root vegetables.\",\n",
       "  'subreddit_subscribers': 3215637,\n",
       "  'title': 'Can you break down ginger in a Vitamix blender?'},\n",
       " {'created_utc': 1651026608,\n",
       "  'domain': 'self.Cooking',\n",
       "  'selftext': 'There is a gloriously massive choko forest taking over the garden and I am wondering how other people eat their chokos? \\n\\nIt’s a fairly common garden plant in my corner of the world but I can’t find much inspiration on the internet for much more than: \\n- roasted and buttered\\n- stir fried with touch of sugar, shaosing, soy, garlic, ginger\\n- pickled\\n\\nThere are a lot of references to being a favourite childhood recipe but no real explanation of how everyone is eating them. \\n\\nI also discovered that the whole plant is edible so keen to hear any recipes using the stems or leaves. \\n\\nThe stems taste pretty clean and crisp so I can imagine it’d be a good salat veg, pickled and lightly sautéed.',\n",
       "  'subreddit_subscribers': 3215627,\n",
       "  'title': 'Chayote/choko recipes'},\n",
       " {'created_utc': 1651026486,\n",
       "  'domain': 'self.Cooking',\n",
       "  'selftext': '[removed]',\n",
       "  'subreddit_subscribers': 3215626,\n",
       "  'title': '15 Best kitchen shears 2021'},\n",
       " {'created_utc': 1651025971,\n",
       "  'domain': 'self.Cooking',\n",
       "  'selftext': 'I can’t seem to find a can opener that lasts longer than a few months, help? \\n\\n(I hope this is the right place for this).',\n",
       "  'subreddit_subscribers': 3215619,\n",
       "  'title': 'What reliable (manual, handheld) can opener do I buy?'},\n",
       " {'created_utc': 1651025910,\n",
       "  'domain': 'self.Cooking',\n",
       "  'selftext': 'For me, it’s using a bit of honey in my pizza dough. It makes a just-noticeable difference in the taste of the crust that I really enjoy.',\n",
       "  'subreddit_subscribers': 3215616,\n",
       "  'title': 'What is your secret ingredient to make a specific dish go from good to “I would put a ring on that”'},\n",
       " {'created_utc': 1651025769,\n",
       "  'domain': 'self.Cooking',\n",
       "  'selftext': '',\n",
       "  'subreddit_subscribers': 3215614,\n",
       "  'title': 'whenever I cook at home no mater what it is it smokes out the place does anyone else have this problem?'},\n",
       " {'created_utc': 1651025650,\n",
       "  'domain': 'self.Cooking',\n",
       "  'selftext': \"I remember watching \\\\*all\\\\* the European episodes of Kitchen Nightmares, Hell's Kitchen and reading through a few of Ramsey's cookbooks and he is definitely entertaining but I think Giada just makes more practical, delicious food.\\n\\n It seems like her cooking isn't taken seriously, that she's more of a personality, (especially when she's being interviewed) but after spending a few months poring over a wide variety of popular cookbooks Giada's recipes just work better and are easier and get eaten in our house.\\n\\nSo pick a chef, a famous one and tell us why.\",\n",
       "  'subreddit_subscribers': 3215614,\n",
       "  'title': \"Who's your ride or die celeb chef and why?\"},\n",
       " {'created_utc': 1651024741,\n",
       "  'domain': 'self.Cooking',\n",
       "  'selftext': 'I wish I could find the thread to thank them. I just bought some [Knorr Tomato and chicken bouillon](https://www.knorr.com/us/en/products/granulated-bouillon/tomato-with-chicken-granulated-bouillon.html) and it’s my favorite form of msg so far. We put it in rice tonight, with lime, and it’s fantastic. It’ll be great as a roasted chicken seasoning as well.',\n",
       "  'subreddit_subscribers': 3215599,\n",
       "  'title': 'Whoever mentioned tomato bouillon this week in a post - thank you!'},\n",
       " {'created_utc': 1651024652,\n",
       "  'domain': 'self.Cooking',\n",
       "  'selftext': \"What's your favorite grits recipe? Do you go for sweet or savory? What do you like to add in?\",\n",
       "  'subreddit_subscribers': 3215595,\n",
       "  'title': 'Best way to serve /eat grits?'},\n",
       " {'created_utc': 1651024620,\n",
       "  'domain': 'self.Cooking',\n",
       "  'selftext': 'Big recall.  60 tons.  \\n\\n The beef was sold to grocery stores and restaurants under the labels of Thomas Farms, Nature’s Reserve, Tajima Kobe Ground Beef, Marketside Butcher, By Nature and Naturally Better.\\xa0 \\n\\n[article from WSJ](https://www.wsj.com/articles/more-than-60-tons-of-ground-beef-recalled-due-to-e-coli-concerns-11650999660?st=zkz2zhxccedo2tr&amp;reflink=desktopwebshare_permalink)',\n",
       "  'subreddit_subscribers': 3215592,\n",
       "  'title': 'For those in the USA who buy high grade ground beef.'},\n",
       " {'created_utc': 1651023283,\n",
       "  'domain': 'self.Cooking',\n",
       "  'selftext': \"I like to buy the bags of frozen stir fry at the store, a long time ago the fav r pac stir fry bags would have recipes on them, but now they don't and i've forgotten the recipe since it's been forever since making it. Can you help me find it? \\n\\nI think it was the one of the back of the lo mein stir fry or chow mein sir fry bags. It was simple..\\n\\ncream of mushroom, soy sauce, black pepper.. and that's all i can remember, i feel like there anohter 1 or two ingredients i'm missing. Their suggestion was to cook the veggies, stir in the soup and spices, then serve the mixture over rice.. \\n\\nDoes anyone remember this, did you write it down and can tell me what i'm missing?\\n\\n&amp;#x200B;\\n\\nThanks.\",\n",
       "  'subreddit_subscribers': 3215559,\n",
       "  'title': 'i lost the stir fry recipe'},\n",
       " {'created_utc': 1651022099,\n",
       "  'domain': 'self.Cooking',\n",
       "  'selftext': \"I don't see how the flavor goes deeper than the crust with a marinade, would you agree? I'm thinking about putting it in the oven first then searing it or just searing on the stove and saving some of the marinade to pour on top after I'm done searing it. Any tips are much appreciated\",\n",
       "  'subreddit_subscribers': 3215523,\n",
       "  'title': 'should I be worried about killing the flavor of my marinated salmon by searing it on the stove?'},\n",
       " {'created_utc': 1651022053,\n",
       "  'domain': 'self.Cooking',\n",
       "  'selftext': 'I have a brand new pasta maker and when I turn the wheel to feed the pasta sheet in, it gets stuck. When I turn it the other way, to feed it back out, it works. \\n\\nIs there something I need to do first? Some kind of oil?',\n",
       "  'subreddit_subscribers': 3215523,\n",
       "  'title': 'My pasta maker is getting stuck, what can I do?'}]"
      ]
     },
     "execution_count": 94,
     "metadata": {},
     "output_type": "execute_result"
    }
   ],
   "source": [
    "subcookdata"
   ]
  },
  {
   "cell_type": "code",
   "execution_count": 91,
   "id": "68de0d3a-9988-4217-afcd-2e414bc00786",
   "metadata": {},
   "outputs": [
    {
     "data": {
      "text/plain": [
       "[1, 0, 1, 2, 3, 4, 5, 6, 7, 8, 9]"
      ]
     },
     "execution_count": 91,
     "metadata": {},
     "output_type": "execute_result"
    }
   ],
   "source": [
    "ls = [1]\n",
    "ls.extend([i for i in range(10)])\n",
    "ls"
   ]
  },
  {
   "cell_type": "code",
   "execution_count": null,
   "id": "b92b249e-66e2-4d4e-b8f5-8c5a68803129",
   "metadata": {},
   "outputs": [],
   "source": []
  }
 ],
 "metadata": {
  "kernelspec": {
   "display_name": "Python 3 (ipykernel)",
   "language": "python",
   "name": "python3"
  },
  "language_info": {
   "codemirror_mode": {
    "name": "ipython",
    "version": 3
   },
   "file_extension": ".py",
   "mimetype": "text/x-python",
   "name": "python",
   "nbconvert_exporter": "python",
   "pygments_lexer": "ipython3",
   "version": "3.9.7"
  }
 },
 "nbformat": 4,
 "nbformat_minor": 5
}
