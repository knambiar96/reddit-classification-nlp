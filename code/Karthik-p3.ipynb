{
 "cells": [
  {
   "cell_type": "code",
   "execution_count": 1,
   "id": "08f32895-9af6-46cf-b70c-d646b6859efc",
   "metadata": {},
   "outputs": [],
   "source": [
    "import requests\n"
   ]
  },
  {
   "cell_type": "code",
   "execution_count": 5,
   "id": "313316f2-eb5b-4ab6-b4af-b5ccf054c781",
   "metadata": {},
   "outputs": [],
   "source": [
    "urlcook = 'https://api.pushshift.io/reddit/search/submission/?subreddit=cooking&metadata=true&size=500&is_self=true'\n",
    "urlbegin = 'https://api.pushshift.io/reddit/search/submission?subreddit=cookingforbeginners&metadata=true&size=500&is_self=true'"
   ]
  },
  {
   "cell_type": "code",
   "execution_count": 6,
   "id": "b3540510-60be-4a7a-b508-67a7651635e3",
   "metadata": {},
   "outputs": [],
   "source": [
    "rescook = requests.get(urlcook)\n",
    "resbegin = requests.get(urlbegin)"
   ]
  },
  {
   "cell_type": "code",
   "execution_count": 10,
   "id": "008fb8ed-02f6-4285-8b89-38c64a20f5ea",
   "metadata": {},
   "outputs": [],
   "source": [
    "begindict = resbegin.json()\n",
    "cookdict= rescook.json()"
   ]
  },
  {
   "cell_type": "code",
   "execution_count": 12,
   "id": "327c55b7-bb53-4bb7-a532-440889c04e5c",
   "metadata": {},
   "outputs": [
    {
     "data": {
      "text/plain": [
       "dict_keys(['data', 'metadata'])"
      ]
     },
     "execution_count": 12,
     "metadata": {},
     "output_type": "execute_result"
    }
   ],
   "source": [
    "begindict.keys()"
   ]
  },
  {
   "cell_type": "code",
   "execution_count": 20,
   "id": "875ab24c-5afe-4bb9-a157-4e1f17761d10",
   "metadata": {},
   "outputs": [
    {
     "data": {
      "text/plain": [
       "'What is the best way to do this? for instance on a griddle, or a pan. I bought an Ozeri Profesional, it says to use a spoon of oil, but how to spread this? I was going to use spray, but it says on the instructions to not use spray.\\n\\nWith a piece of paper, it is a bit nasty since it can leave paper particles.\\n\\nis there some PTFE free brush or some kind of tool that will not melt or leave traces?'"
      ]
     },
     "execution_count": 20,
     "metadata": {},
     "output_type": "execute_result"
    }
   ],
   "source": [
    "\n",
    "begindict.get('data')[0].get('selftext')"
   ]
  },
  {
   "cell_type": "code",
   "execution_count": null,
   "id": "7d22f597-e175-44d4-a95a-3b7f44f6d69d",
   "metadata": {},
   "outputs": [],
   "source": []
  }
 ],
 "metadata": {
  "kernelspec": {
   "display_name": "Python 3 (ipykernel)",
   "language": "python",
   "name": "python3"
  },
  "language_info": {
   "codemirror_mode": {
    "name": "ipython",
    "version": 3
   },
   "file_extension": ".py",
   "mimetype": "text/x-python",
   "name": "python",
   "nbconvert_exporter": "python",
   "pygments_lexer": "ipython3",
   "version": "3.9.7"
  }
 },
 "nbformat": 4,
 "nbformat_minor": 5
}
