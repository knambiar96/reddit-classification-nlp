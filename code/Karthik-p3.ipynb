{
 "cells": [
  {
   "cell_type": "code",
   "execution_count": 1,
   "id": "08f32895-9af6-46cf-b70c-d646b6859efc",
   "metadata": {},
   "outputs": [],
   "source": [
    "import requests\n",
    "import seaborn as sns\n",
    "import pandas as pd\n",
    "import time\n",
    "import pickle"
   ]
  },
  {
   "cell_type": "code",
   "execution_count": 2,
   "id": "313316f2-eb5b-4ab6-b4af-b5ccf054c781",
   "metadata": {},
   "outputs": [],
   "source": [
    "urlcook = 'https://api.pushshift.io/reddit/search/submission/?subreddit=cooking&metadata=true&size=500&is_self=true'\n",
    "urlbegin = 'https://api.pushshift.io/reddit/search/submission?subreddit=cookingforbeginners&metadata=true&size=500&is_self=true'"
   ]
  },
  {
   "cell_type": "code",
   "execution_count": 3,
   "id": "b3540510-60be-4a7a-b508-67a7651635e3",
   "metadata": {},
   "outputs": [],
   "source": [
    "rescook = requests.get(urlcook)\n",
    "resbegin = requests.get(urlbegin)"
   ]
  },
  {
   "cell_type": "code",
   "execution_count": 4,
   "id": "008fb8ed-02f6-4285-8b89-38c64a20f5ea",
   "metadata": {},
   "outputs": [],
   "source": [
    "begindict = resbegin.json()\n",
    "cookdict= rescook.json()"
   ]
  },
  {
   "cell_type": "code",
   "execution_count": 5,
   "id": "327c55b7-bb53-4bb7-a532-440889c04e5c",
   "metadata": {},
   "outputs": [
    {
     "data": {
      "text/plain": [
       "dict_keys(['data', 'metadata'])"
      ]
     },
     "execution_count": 5,
     "metadata": {},
     "output_type": "execute_result"
    }
   ],
   "source": [
    "begindict.keys()"
   ]
  },
  {
   "cell_type": "code",
   "execution_count": 6,
   "id": "875ab24c-5afe-4bb9-a157-4e1f17761d10",
   "metadata": {},
   "outputs": [
    {
     "data": {
      "text/plain": [
       "1651073092"
      ]
     },
     "execution_count": 6,
     "metadata": {},
     "output_type": "execute_result"
    }
   ],
   "source": [
    "\n",
    "begindict.get('data')[1].get('created_utc')"
   ]
  },
  {
   "cell_type": "code",
   "execution_count": 7,
   "id": "7d22f597-e175-44d4-a95a-3b7f44f6d69d",
   "metadata": {},
   "outputs": [],
   "source": [
    "plotter = [begindict.get('data')[i].get('created_utc') for i in range(len(begindict.get('data')))]"
   ]
  },
  {
   "cell_type": "code",
   "execution_count": 8,
   "id": "aba006c0-87ae-42c3-973e-20918db358be",
   "metadata": {},
   "outputs": [
    {
     "data": {
      "text/plain": [
       "100"
      ]
     },
     "execution_count": 8,
     "metadata": {},
     "output_type": "execute_result"
    }
   ],
   "source": [
    "len(plotter)"
   ]
  },
  {
   "cell_type": "code",
   "execution_count": 9,
   "id": "8aade2a3-c22f-4d88-a811-fe7259806307",
   "metadata": {},
   "outputs": [
    {
     "data": {
      "image/png": "[encoded data removed]",
      "text/plain": [
       "<Figure size 432x288 with 1 Axes>"
      ]
     },
     "metadata": {
      "needs_background": "light"
     },
     "output_type": "display_data"
    }
   ],
   "source": [
    "sns.scatterplot(x=list(range(100)),y=plotter);"
   ]
  },
  {
   "cell_type": "markdown",
   "id": "f1d0ea11-56cc-422a-ba3b-32076f03d99d",
   "metadata": {},
   "source": [
    "All of this was just confirmation that the scrape goes back monotonically in time. Of note, while size was set to 500, we only got 100 hits, suggesting we should be careful about how our scraping works and give time to pulls- and it might be the case that their API (https://github.com/pushshift/api) is outdated. Moving forwards, let's see what data keys there are that can be of interest"
   ]
  },
  {
   "cell_type": "code",
   "execution_count": 10,
   "id": "52a4a3ef-308a-488b-9303-6aeccf25d9b8",
   "metadata": {},
   "outputs": [
    {
     "data": {
      "text/plain": [
       "['all_awardings',\n",
       " 'allow_live_comments',\n",
       " 'author',\n",
       " 'author_flair_css_class',\n",
       " 'author_flair_richtext',\n",
       " 'author_flair_text',\n",
       " 'author_flair_type',\n",
       " 'author_fullname',\n",
       " 'author_is_blocked',\n",
       " 'author_patreon_flair',\n",
       " 'author_premium',\n",
       " 'awarders',\n",
       " 'can_mod_post',\n",
       " 'contest_mode',\n",
       " 'created_utc',\n",
       " 'domain',\n",
       " 'full_link',\n",
       " 'gildings',\n",
       " 'id',\n",
       " 'is_created_from_ads_ui',\n",
       " 'is_crosspostable',\n",
       " 'is_meta',\n",
       " 'is_original_content',\n",
       " 'is_reddit_media_domain',\n",
       " 'is_robot_indexable',\n",
       " 'is_self',\n",
       " 'is_video',\n",
       " 'link_flair_background_color',\n",
       " 'link_flair_richtext',\n",
       " 'link_flair_template_id',\n",
       " 'link_flair_text',\n",
       " 'link_flair_text_color',\n",
       " 'link_flair_type',\n",
       " 'locked',\n",
       " 'media_only',\n",
       " 'no_follow',\n",
       " 'num_comments',\n",
       " 'num_crossposts',\n",
       " 'over_18',\n",
       " 'parent_whitelist_status',\n",
       " 'permalink',\n",
       " 'pinned',\n",
       " 'pwls',\n",
       " 'removed_by_category',\n",
       " 'retrieved_on',\n",
       " 'score',\n",
       " 'selftext',\n",
       " 'send_replies',\n",
       " 'spoiler',\n",
       " 'stickied',\n",
       " 'subreddit',\n",
       " 'subreddit_id',\n",
       " 'subreddit_subscribers',\n",
       " 'subreddit_type',\n",
       " 'thumbnail',\n",
       " 'title',\n",
       " 'total_awards_received',\n",
       " 'treatment_tags',\n",
       " 'upvote_ratio',\n",
       " 'url',\n",
       " 'whitelist_status',\n",
       " 'wls']"
      ]
     },
     "execution_count": 10,
     "metadata": {},
     "output_type": "execute_result"
    }
   ],
   "source": [
    "list(begindict.get('data')[0].keys())"
   ]
  },
  {
   "cell_type": "markdown",
   "id": "d5ecaf88-e765-4f28-a2fc-3381cfddc8df",
   "metadata": {
    "tags": []
   },
   "source": [
    "We'll be looking at text, primarily, but it seems that other factors could be useful. Although, some are just cheating- ex, since r/cooking is a much more popular subreddit than r/cookingforbeginners, we should expect to see far more awards on average, along with other factors."
   ]
  },
  {
   "cell_type": "code",
   "execution_count": 11,
   "id": "8ffdd4ef-10b4-4548-8ce1-ab3a0b725105",
   "metadata": {},
   "outputs": [
    {
     "data": {
      "text/plain": [
       "527532"
      ]
     },
     "execution_count": 11,
     "metadata": {},
     "output_type": "execute_result"
    }
   ],
   "source": [
    "begindict.get('data')[0].get('subreddit_subscribers')"
   ]
  },
  {
   "cell_type": "code",
   "execution_count": 12,
   "id": "2b3b6ed8-8f26-4f3a-bcbd-8d21d439c293",
   "metadata": {},
   "outputs": [
    {
     "data": {
      "text/plain": [
       "518642"
      ]
     },
     "execution_count": 12,
     "metadata": {},
     "output_type": "execute_result"
    }
   ],
   "source": [
    "begindict.get('data')[99].get('subreddit_subscribers')"
   ]
  },
  {
   "cell_type": "markdown",
   "id": "0e934716-ac2f-4974-b748-d6eac21f5541",
   "metadata": {},
   "source": [
    "Interestingly, they seem to be able to track subreddit subscribers at posting. If nothing else, we can use this information to see how, if at all, the subreddit changed over the years."
   ]
  },
  {
   "cell_type": "code",
   "execution_count": 13,
   "id": "1aaf4632-7f6f-447f-b0de-127020418992",
   "metadata": {},
   "outputs": [
    {
     "data": {
      "text/plain": [
       "{'all_awardings': [],\n",
       " 'allow_live_comments': False,\n",
       " 'author': 'Bilbo_bagins_35',\n",
       " 'author_flair_css_class': None,\n",
       " 'author_flair_richtext': [],\n",
       " 'author_flair_text': None,\n",
       " 'author_flair_type': 'text',\n",
       " 'author_fullname': 't2_mfn63yzf',\n",
       " 'author_is_blocked': False,\n",
       " 'author_patreon_flair': False,\n",
       " 'author_premium': False,\n",
       " 'awarders': [],\n",
       " 'can_mod_post': False,\n",
       " 'contest_mode': False,\n",
       " 'created_utc': 1651074869,\n",
       " 'domain': 'self.cookingforbeginners',\n",
       " 'full_link': 'https://www.reddit.com/r/cookingforbeginners/comments/ud6t7p/student_recipes_you_can_recommend_me/',\n",
       " 'gildings': {},\n",
       " 'id': 'ud6t7p',\n",
       " 'is_created_from_ads_ui': False,\n",
       " 'is_crosspostable': False,\n",
       " 'is_meta': False,\n",
       " 'is_original_content': False,\n",
       " 'is_reddit_media_domain': False,\n",
       " 'is_robot_indexable': False,\n",
       " 'is_self': True,\n",
       " 'is_video': False,\n",
       " 'link_flair_background_color': '#7193ff',\n",
       " 'link_flair_richtext': [],\n",
       " 'link_flair_template_id': '8a236e74-32f2-11e9-b9df-0ecae544881c',\n",
       " 'link_flair_text': 'Question',\n",
       " 'link_flair_text_color': 'light',\n",
       " 'link_flair_type': 'text',\n",
       " 'locked': False,\n",
       " 'media_only': False,\n",
       " 'no_follow': True,\n",
       " 'num_comments': 1,\n",
       " 'num_crossposts': 0,\n",
       " 'over_18': False,\n",
       " 'parent_whitelist_status': 'all_ads',\n",
       " 'permalink': '/r/cookingforbeginners/comments/ud6t7p/student_recipes_you_can_recommend_me/',\n",
       " 'pinned': False,\n",
       " 'pwls': 6,\n",
       " 'removed_by_category': 'moderator',\n",
       " 'retrieved_on': 1651074879,\n",
       " 'score': 1,\n",
       " 'selftext': '[removed]',\n",
       " 'send_replies': True,\n",
       " 'spoiler': False,\n",
       " 'stickied': False,\n",
       " 'subreddit': 'cookingforbeginners',\n",
       " 'subreddit_id': 't5_32u9b',\n",
       " 'subreddit_subscribers': 527532,\n",
       " 'subreddit_type': 'public',\n",
       " 'thumbnail': 'self',\n",
       " 'title': 'Student recipes you can recommend me?',\n",
       " 'total_awards_received': 0,\n",
       " 'treatment_tags': [],\n",
       " 'upvote_ratio': 1.0,\n",
       " 'url': 'https://www.reddit.com/r/cookingforbeginners/comments/ud6t7p/student_recipes_you_can_recommend_me/',\n",
       " 'whitelist_status': 'all_ads',\n",
       " 'wls': 6}"
      ]
     },
     "execution_count": 13,
     "metadata": {},
     "output_type": "execute_result"
    }
   ],
   "source": [
    "begindict.get('data')[0]"
   ]
  },
  {
   "cell_type": "markdown",
   "id": "d09e5cfd-b8bb-4062-9ffe-53fa481de8fd",
   "metadata": {},
   "source": [
    "Given what we see, for submissions, the only relevant keys are 'created_utc', 'domain', 'selftext', 'subreddit_subscribers', 'title'"
   ]
  },
  {
   "cell_type": "markdown",
   "id": "7eeff95c-9af3-4061-8bb5-3fe7b61e5900",
   "metadata": {},
   "source": [
    "We want to be flexible, so let's also look at comments"
   ]
  },
  {
   "cell_type": "code",
   "execution_count": 14,
   "id": "58891758-c23f-40ad-82a0-60ff4e763c23",
   "metadata": {},
   "outputs": [],
   "source": [
    "beginurl = 'https://api.pushshift.io/reddit/search/comment/?subreddit=cookingforbeginners&metadata=true&size=500'"
   ]
  },
  {
   "cell_type": "code",
   "execution_count": 15,
   "id": "4a51e10a-7505-45c6-959b-a1403bed2e4b",
   "metadata": {},
   "outputs": [],
   "source": [
    "beginres = requests.get(beginurl)\n",
    "dictbegin = beginres.json()"
   ]
  },
  {
   "cell_type": "code",
   "execution_count": 16,
   "id": "1e677b5a-8c26-410b-932d-9649ecfe8264",
   "metadata": {},
   "outputs": [
    {
     "data": {
      "text/plain": [
       "100"
      ]
     },
     "execution_count": 16,
     "metadata": {},
     "output_type": "execute_result"
    }
   ],
   "source": [
    "len(dictbegin.get('data'))"
   ]
  },
  {
   "cell_type": "code",
   "execution_count": 17,
   "id": "aa61be6a-49e2-4fc0-a70f-34c577b148d2",
   "metadata": {},
   "outputs": [
    {
     "data": {
      "text/plain": [
       "{'all_awardings': [],\n",
       " 'archived': False,\n",
       " 'associated_award': None,\n",
       " 'author': 'AutoModerator',\n",
       " 'author_flair_background_color': None,\n",
       " 'author_flair_css_class': None,\n",
       " 'author_flair_richtext': [],\n",
       " 'author_flair_template_id': None,\n",
       " 'author_flair_text': None,\n",
       " 'author_flair_text_color': None,\n",
       " 'author_flair_type': 'text',\n",
       " 'author_fullname': 't2_6l4z3',\n",
       " 'author_patreon_flair': False,\n",
       " 'author_premium': True,\n",
       " 'body': \"Hello! It appears that you are trying to post from an account that does not have enough karma. We ask that you engage first, comment on other posts and gain some karma points then try again soon. If this is a legitimate post, and on topic of food (must be directly related), please [message the mods](http://www.reddit.com/message/compose?to=/r/cookingforbeginners), with a link to your post, NOT THE LINK TO THE IMAGE and we'll reinstate it.\\n\\nAdditionally, please read the [rules of reddit](http://www.reddit.com/rules/).\\n\\nIf you're thinking of doing any self-promotion on reddit, you might want to [**CLICK THIS LINK AND READ THIS FIRST**](http://www.reddit.com/wiki/selfpromotion).\\n\\nYour post may have been removed for spam, read about what constitutes spam by [**CLICKING THIS LINK**](http://www.reddit.com/wiki/faq#wiki_what_constitutes_spam.3F).\\n\\n*I am a bot, and this action was performed automatically. Please [contact the moderators of this subreddit](/message/compose/?to=/r/cookingforbeginners) if you have any questions or concerns.*\",\n",
       " 'body_sha1': 'e203a08c5c3a5d9266b3555e1c2cb2df358ce503',\n",
       " 'can_gild': True,\n",
       " 'collapsed': False,\n",
       " 'collapsed_because_crowd_control': None,\n",
       " 'collapsed_reason': None,\n",
       " 'collapsed_reason_code': None,\n",
       " 'comment_type': None,\n",
       " 'controversiality': 0,\n",
       " 'created_utc': 1651074869,\n",
       " 'distinguished': 'moderator',\n",
       " 'gilded': 0,\n",
       " 'gildings': {},\n",
       " 'id': 'i6exsx4',\n",
       " 'is_submitter': False,\n",
       " 'link_id': 't3_ud6t7p',\n",
       " 'locked': False,\n",
       " 'no_follow': True,\n",
       " 'parent_id': 't3_ud6t7p',\n",
       " 'permalink': '/r/cookingforbeginners/comments/ud6t7p/student_recipes_you_can_recommend_me/i6exsx4/',\n",
       " 'retrieved_utc': 1651074882,\n",
       " 'score': 1,\n",
       " 'score_hidden': True,\n",
       " 'send_replies': False,\n",
       " 'stickied': False,\n",
       " 'subreddit': 'cookingforbeginners',\n",
       " 'subreddit_id': 't5_32u9b',\n",
       " 'subreddit_name_prefixed': 'r/cookingforbeginners',\n",
       " 'subreddit_type': 'public',\n",
       " 'top_awarded_type': None,\n",
       " 'total_awards_received': 0,\n",
       " 'treatment_tags': [],\n",
       " 'unrepliable_reason': None}"
      ]
     },
     "execution_count": 17,
     "metadata": {},
     "output_type": "execute_result"
    }
   ],
   "source": [
    "dictbegin.get('data')[0]"
   ]
  },
  {
   "cell_type": "markdown",
   "id": "4d066a9e-7ca6-4439-a510-ede9584b8f98",
   "metadata": {},
   "source": [
    "Looking at this, you can tie comments to a specific post by permalink and removing the final '/' pair. Whether that will be useful is yet to be seen, but let's start with as broad a search as we can. In that case, what we need is 'created_utc','body','permalink'"
   ]
  },
  {
   "cell_type": "markdown",
   "id": "c6a36b6d-aafb-45c8-bf4e-ba097955dd73",
   "metadata": {},
   "source": [
    "Given what we know, let's try and make an iterable set of instructions that will collect every submission and comment (with relevant information) from the last 4 years. That should easily pass the minimum number of posts and give us a healthy amount of data to crunch to figure out differences"
   ]
  },
  {
   "cell_type": "code",
   "execution_count": 19,
   "id": "e89e06a3-2ade-4d47-a58f-5873d82fe178",
   "metadata": {},
   "outputs": [],
   "source": [
    "cforbbaseurl = 'https://api.pushshift.io/reddit/search/submission/?subreddit=cookingforbeginners&metadata=true&size=500'\n",
    "cookingbaseurl = 'https://api.pushshift.io/reddit/search/submission/?subreddit=cooking&metadata=true&size=500'\n",
    "present_time = 1651037065 #Tuesday, April 26, 2022 10:24:25 PM GMT -7:00, for the curious"
   ]
  },
  {
   "cell_type": "code",
   "execution_count": 20,
   "id": "996d5a80-d797-474f-ab9b-49c04af9dee2",
   "metadata": {},
   "outputs": [
    {
     "data": {
      "text/plain": [
       "1651074869"
      ]
     },
     "execution_count": 20,
     "metadata": {},
     "output_type": "execute_result"
    }
   ],
   "source": [
    "dictbegin.get('data')[0].get('created_utc')"
   ]
  },
  {
   "cell_type": "code",
   "execution_count": 21,
   "id": "39d6b9a4-45bf-4252-b069-0b4e94ee0c9b",
   "metadata": {},
   "outputs": [
    {
     "data": {
      "text/plain": [
       "'https://api.pushshift.io/reddit/search/submission/?subreddit=cookingforbeginners&metadata=true&size=500&before=1651037065'"
      ]
     },
     "execution_count": 21,
     "metadata": {},
     "output_type": "execute_result"
    }
   ],
   "source": [
    "cforbbaseurl + '&before=' + str(present_time)"
   ]
  },
  {
   "cell_type": "code",
   "execution_count": 36,
   "id": "e818cb90-69a1-4568-bd5d-0950e50a2490",
   "metadata": {},
   "outputs": [],
   "source": [
    "starttime = 1524806665"
   ]
  },
  {
   "cell_type": "markdown",
   "id": "8d526342-75ea-4de7-9739-a1ec1868b82c",
   "metadata": {},
   "source": [
    "^4 years ago, more or less. Credit to https://www.epochconverter.com/"
   ]
  },
  {
   "cell_type": "code",
   "execution_count": 22,
   "id": "94bcd07c-e2ba-46be-ac80-fe518943c70a",
   "metadata": {},
   "outputs": [
    {
     "data": {
      "text/plain": [
       "1651037065"
      ]
     },
     "execution_count": 22,
     "metadata": {},
     "output_type": "execute_result"
    }
   ],
   "source": [
    "present_time"
   ]
  },
  {
   "cell_type": "code",
   "execution_count": 33,
   "id": "c3ba3b7b-7d59-4ced-8ad8-3faf8da8b1d3",
   "metadata": {},
   "outputs": [],
   "source": [
    "newrl = cforbbaseurl + '&before=' + str(present_time) + fields\n"
   ]
  },
  {
   "cell_type": "code",
   "execution_count": 34,
   "id": "381d1e0b-1c08-469c-b1c7-c129ac742757",
   "metadata": {},
   "outputs": [
    {
     "data": {
      "text/plain": [
       "<Response [200]>"
      ]
     },
     "execution_count": 34,
     "metadata": {},
     "output_type": "execute_result"
    }
   ],
   "source": [
    "fields = '&fields=created_utc,domain,selftext,subreddit_subscribers,title'\n",
    "\n",
    "requests.get(newrl)"
   ]
  },
  {
   "cell_type": "code",
   "execution_count": 39,
   "id": "979e424d-ebff-4cce-bf0c-06172269e2f7",
   "metadata": {
    "tags": []
   },
   "outputs": [],
   "source": [
    "df_cook = pd.DataFrame(columns=['created_utc','domain','selftext','subreddit_subscribers','title'])\n",
    "df_cforb = pd.DataFrame(columns=['created_utc','domain','selftext','subreddit_subscribers','title'])\n",
    "fields = '&fields=created_utc,domain,selftext,subreddit_subscribers,title'\n",
    "#all of these lists should be combined together and dealt with together, but as long as they're pulling from the same places,\n",
    "#in the same order, it's not too bad to keep them separate just to keep them legible before tossing into a DF\n",
    "while present_time > starttime:\n",
    "    time.sleep(2) #to avoid any API overload issues- max calls should be 60/min or 1/sec. 2 calls bc 2 subreddits, so 2 sec sleep\n",
    "    cnewrl = cookingbaseurl + '&before=' + str(present_time) + fields\n",
    "    bnewrl = cforbbaseurl + '&before=' + str(present_time) + fields\n",
    "    subcforb = requests.get(bnewrl)\n",
    "    subcook = requests.get(cnewrl)\n",
    "    subcookdata = subcook.json().get('data')\n",
    "    subcforbdata = subcforb.json().get('data')\n",
    "    df_cook = pd.concat([df_cook,\n",
    "                        pd.DataFrame([[\n",
    "                            subcookdata[i].get('created_utc'),\n",
    "                            subcookdata[i].get('domain'),\n",
    "                            subcookdata[i].get('selftext'),\n",
    "                            subcookdata[i].get('subreddit_subscribers'),\n",
    "                            subcookdata[i].get('title')]\n",
    "                        for i in range(len(subcookdata))],\n",
    "                            columns = ['created_utc','domain','selftext','subreddit_subscribers','title'])])\n",
    "    df_cforb = pd.concat([df_cforb,\n",
    "                        pd.DataFrame([[\n",
    "                            subcforbdata[i].get('created_utc'),\n",
    "                            subcforbdata[i].get('domain'),\n",
    "                            subcforbdata[i].get('selftext'),\n",
    "                            subcforbdata[i].get('subreddit_subscribers'),\n",
    "                            subcforbdata[i].get('title')]\n",
    "                        for i in range(len(subcforbdata))],\n",
    "                            columns = ['created_utc','domain','selftext','subreddit_subscribers','title'])])\n",
    "    \n",
    " \n",
    "    \n",
    "    \n",
    "    present_time = df_cforb.loc[:,'created_utc'].iloc[-1]\n",
    "    \n",
    "    \n",
    "    "
   ]
  },
  {
   "cell_type": "code",
   "execution_count": 42,
   "id": "44bfaab5-c016-4441-a514-7d114dd6c920",
   "metadata": {},
   "outputs": [
    {
     "data": {
      "text/plain": [
       "((21686, 5), (21664, 5))"
      ]
     },
     "execution_count": 42,
     "metadata": {},
     "output_type": "execute_result"
    }
   ],
   "source": [
    "df_cforb.shape,df_cook.shape"
   ]
  },
  {
   "cell_type": "markdown",
   "id": "7229f61f-c527-4150-b715-82236d1bb30d",
   "metadata": {
    "tags": []
   },
   "source": [
    "Note that since present_time was set by the cooking for beginner's time, a much smaller sub overall, the shapes are around the same. For that reason, however, we know that we don't have overlaps, either. Let's preserve this data so we don't have to do this again and again- pickling!"
   ]
  },
  {
   "cell_type": "code",
   "execution_count": 45,
   "id": "da8c8826-7c7e-45fe-b541-f17ef0af6ef1",
   "metadata": {},
   "outputs": [
    {
     "data": {
      "text/plain": [
       "(created_utc              21682\n",
       " domain                     371\n",
       " selftext                 13347\n",
       " subreddit_subscribers    19822\n",
       " title                    21265\n",
       " dtype: int64,\n",
       " created_utc              21634\n",
       " domain                      70\n",
       " selftext                 16621\n",
       " subreddit_subscribers    19757\n",
       " title                    21436\n",
       " dtype: int64)"
      ]
     },
     "execution_count": 45,
     "metadata": {},
     "output_type": "execute_result"
    }
   ],
   "source": [
    "df_cforb.nunique(), df_cook.nunique()"
   ]
  },
  {
   "cell_type": "markdown",
   "id": "c1eb59d6-36e4-452b-9915-c75ae821ae7b",
   "metadata": {},
   "source": [
    "Self-Text being less unique overall can be probably because many of the posts are blank or otherwise simple, perhaps even posts sent in error or by mistake"
   ]
  },
  {
   "cell_type": "code",
   "execution_count": 8,
   "id": "2de19b90-d035-4e85-a489-8d548fa49237",
   "metadata": {},
   "outputs": [],
   "source": [
    "with open('../data/pickledcooking.pkl','wb') as pickle_out:\n",
    "    pickle.dump(df_cook,pickle_out)"
   ]
  },
  {
   "cell_type": "code",
   "execution_count": 9,
   "id": "b3b76f93-4507-4650-8c5f-92a86a51dad6",
   "metadata": {},
   "outputs": [],
   "source": [
    "with open('../data/pickledbeginners.pkl','wb') as pickle_out:\n",
    "    pickle.dump(df_cforb,pickle_out)"
   ]
  },
  {
   "cell_type": "markdown",
   "id": "b80b35da-c1e5-46b8-b438-55b32baccbce",
   "metadata": {},
   "source": [
    "Moving on to comments!"
   ]
  },
  {
   "cell_type": "code",
   "execution_count": 10,
   "id": "1aea0973-e424-410f-8d5b-05285c6d0423",
   "metadata": {},
   "outputs": [],
   "source": [
    "bcommurl = 'https://api.pushshift.io/reddit/search/comment/?subreddit=cookingforbeginners&metadata=true&size=500'\n",
    "ccommurl = 'https://api.pushshift.io/reddit/search/comment/?subreddit=cooking&metadata=true&size=500'"
   ]
  },
  {
   "cell_type": "code",
   "execution_count": 16,
   "id": "7b523124-b44b-4d92-9f98-966f67ca8ff7",
   "metadata": {},
   "outputs": [],
   "source": [
    "present_time = 1651037065\n",
    "starttime = 1524806665\n",
    "commfields = '&fields=created_utc,body,permalink'"
   ]
  },
  {
   "cell_type": "code",
   "execution_count": 17,
   "id": "37b545af-efa0-4106-b217-f03afd344428",
   "metadata": {},
   "outputs": [
    {
     "ename": "KeyboardInterrupt",
     "evalue": "",
     "output_type": "error",
     "traceback": [
      "\u001b[1;31m---------------------------------------------------------------------------\u001b[0m",
      "\u001b[1;31mKeyboardInterrupt\u001b[0m                         Traceback (most recent call last)",
      "\u001b[1;32m~\\AppData\\Local\\Temp/ipykernel_11820/3225283321.py\u001b[0m in \u001b[0;36m<module>\u001b[1;34m\u001b[0m\n\u001b[0;32m      6\u001b[0m     \u001b[0mccnewrl\u001b[0m \u001b[1;33m=\u001b[0m \u001b[0mccommurl\u001b[0m \u001b[1;33m+\u001b[0m \u001b[1;34m'&before='\u001b[0m \u001b[1;33m+\u001b[0m\u001b[0mstr\u001b[0m\u001b[1;33m(\u001b[0m\u001b[0mpresent_time\u001b[0m\u001b[1;33m)\u001b[0m \u001b[1;33m+\u001b[0m \u001b[0mcommfields\u001b[0m\u001b[1;33m\u001b[0m\u001b[1;33m\u001b[0m\u001b[0m\n\u001b[0;32m      7\u001b[0m     \u001b[0mbcnewrl\u001b[0m \u001b[1;33m=\u001b[0m \u001b[0mbcommurl\u001b[0m \u001b[1;33m+\u001b[0m \u001b[1;34m'&before='\u001b[0m \u001b[1;33m+\u001b[0m\u001b[0mstr\u001b[0m\u001b[1;33m(\u001b[0m\u001b[0mpresent_time\u001b[0m\u001b[1;33m)\u001b[0m \u001b[1;33m+\u001b[0m \u001b[0mcommfields\u001b[0m\u001b[1;33m\u001b[0m\u001b[1;33m\u001b[0m\u001b[0m\n\u001b[1;32m----> 8\u001b[1;33m     \u001b[0mcommcforb\u001b[0m \u001b[1;33m=\u001b[0m \u001b[0mrequests\u001b[0m\u001b[1;33m.\u001b[0m\u001b[0mget\u001b[0m\u001b[1;33m(\u001b[0m\u001b[0mbcnewrl\u001b[0m\u001b[1;33m)\u001b[0m\u001b[1;33m\u001b[0m\u001b[1;33m\u001b[0m\u001b[0m\n\u001b[0m\u001b[0;32m      9\u001b[0m     \u001b[0mcommcook\u001b[0m \u001b[1;33m=\u001b[0m \u001b[0mrequests\u001b[0m\u001b[1;33m.\u001b[0m\u001b[0mget\u001b[0m\u001b[1;33m(\u001b[0m\u001b[0mccnewrl\u001b[0m\u001b[1;33m)\u001b[0m\u001b[1;33m\u001b[0m\u001b[1;33m\u001b[0m\u001b[0m\n\u001b[0;32m     10\u001b[0m     \u001b[0mcommcookdata\u001b[0m \u001b[1;33m=\u001b[0m \u001b[0mcommcook\u001b[0m\u001b[1;33m.\u001b[0m\u001b[0mjson\u001b[0m\u001b[1;33m(\u001b[0m\u001b[1;33m)\u001b[0m\u001b[1;33m.\u001b[0m\u001b[0mget\u001b[0m\u001b[1;33m(\u001b[0m\u001b[1;34m'data'\u001b[0m\u001b[1;33m)\u001b[0m\u001b[1;33m\u001b[0m\u001b[1;33m\u001b[0m\u001b[0m\n",
      "\u001b[1;32mC:\\ProgramData\\Anaconda3\\lib\\site-packages\\requests\\api.py\u001b[0m in \u001b[0;36mget\u001b[1;34m(url, params, **kwargs)\u001b[0m\n\u001b[0;32m     73\u001b[0m     \"\"\"\n\u001b[0;32m     74\u001b[0m \u001b[1;33m\u001b[0m\u001b[0m\n\u001b[1;32m---> 75\u001b[1;33m     \u001b[1;32mreturn\u001b[0m \u001b[0mrequest\u001b[0m\u001b[1;33m(\u001b[0m\u001b[1;34m'get'\u001b[0m\u001b[1;33m,\u001b[0m \u001b[0murl\u001b[0m\u001b[1;33m,\u001b[0m \u001b[0mparams\u001b[0m\u001b[1;33m=\u001b[0m\u001b[0mparams\u001b[0m\u001b[1;33m,\u001b[0m \u001b[1;33m**\u001b[0m\u001b[0mkwargs\u001b[0m\u001b[1;33m)\u001b[0m\u001b[1;33m\u001b[0m\u001b[1;33m\u001b[0m\u001b[0m\n\u001b[0m\u001b[0;32m     76\u001b[0m \u001b[1;33m\u001b[0m\u001b[0m\n\u001b[0;32m     77\u001b[0m \u001b[1;33m\u001b[0m\u001b[0m\n",
      "\u001b[1;32mC:\\ProgramData\\Anaconda3\\lib\\site-packages\\requests\\api.py\u001b[0m in \u001b[0;36mrequest\u001b[1;34m(method, url, **kwargs)\u001b[0m\n\u001b[0;32m     59\u001b[0m     \u001b[1;31m# cases, and look like a memory leak in others.\u001b[0m\u001b[1;33m\u001b[0m\u001b[1;33m\u001b[0m\u001b[0m\n\u001b[0;32m     60\u001b[0m     \u001b[1;32mwith\u001b[0m \u001b[0msessions\u001b[0m\u001b[1;33m.\u001b[0m\u001b[0mSession\u001b[0m\u001b[1;33m(\u001b[0m\u001b[1;33m)\u001b[0m \u001b[1;32mas\u001b[0m \u001b[0msession\u001b[0m\u001b[1;33m:\u001b[0m\u001b[1;33m\u001b[0m\u001b[1;33m\u001b[0m\u001b[0m\n\u001b[1;32m---> 61\u001b[1;33m         \u001b[1;32mreturn\u001b[0m \u001b[0msession\u001b[0m\u001b[1;33m.\u001b[0m\u001b[0mrequest\u001b[0m\u001b[1;33m(\u001b[0m\u001b[0mmethod\u001b[0m\u001b[1;33m=\u001b[0m\u001b[0mmethod\u001b[0m\u001b[1;33m,\u001b[0m \u001b[0murl\u001b[0m\u001b[1;33m=\u001b[0m\u001b[0murl\u001b[0m\u001b[1;33m,\u001b[0m \u001b[1;33m**\u001b[0m\u001b[0mkwargs\u001b[0m\u001b[1;33m)\u001b[0m\u001b[1;33m\u001b[0m\u001b[1;33m\u001b[0m\u001b[0m\n\u001b[0m\u001b[0;32m     62\u001b[0m \u001b[1;33m\u001b[0m\u001b[0m\n\u001b[0;32m     63\u001b[0m \u001b[1;33m\u001b[0m\u001b[0m\n",
      "\u001b[1;32mC:\\ProgramData\\Anaconda3\\lib\\site-packages\\requests\\sessions.py\u001b[0m in \u001b[0;36mrequest\u001b[1;34m(self, method, url, params, data, headers, cookies, files, auth, timeout, allow_redirects, proxies, hooks, stream, verify, cert, json)\u001b[0m\n\u001b[0;32m    540\u001b[0m         }\n\u001b[0;32m    541\u001b[0m         \u001b[0msend_kwargs\u001b[0m\u001b[1;33m.\u001b[0m\u001b[0mupdate\u001b[0m\u001b[1;33m(\u001b[0m\u001b[0msettings\u001b[0m\u001b[1;33m)\u001b[0m\u001b[1;33m\u001b[0m\u001b[1;33m\u001b[0m\u001b[0m\n\u001b[1;32m--> 542\u001b[1;33m         \u001b[0mresp\u001b[0m \u001b[1;33m=\u001b[0m \u001b[0mself\u001b[0m\u001b[1;33m.\u001b[0m\u001b[0msend\u001b[0m\u001b[1;33m(\u001b[0m\u001b[0mprep\u001b[0m\u001b[1;33m,\u001b[0m \u001b[1;33m**\u001b[0m\u001b[0msend_kwargs\u001b[0m\u001b[1;33m)\u001b[0m\u001b[1;33m\u001b[0m\u001b[1;33m\u001b[0m\u001b[0m\n\u001b[0m\u001b[0;32m    543\u001b[0m \u001b[1;33m\u001b[0m\u001b[0m\n\u001b[0;32m    544\u001b[0m         \u001b[1;32mreturn\u001b[0m \u001b[0mresp\u001b[0m\u001b[1;33m\u001b[0m\u001b[1;33m\u001b[0m\u001b[0m\n",
      "\u001b[1;32mC:\\ProgramData\\Anaconda3\\lib\\site-packages\\requests\\sessions.py\u001b[0m in \u001b[0;36msend\u001b[1;34m(self, request, **kwargs)\u001b[0m\n\u001b[0;32m    653\u001b[0m \u001b[1;33m\u001b[0m\u001b[0m\n\u001b[0;32m    654\u001b[0m         \u001b[1;31m# Send the request\u001b[0m\u001b[1;33m\u001b[0m\u001b[1;33m\u001b[0m\u001b[0m\n\u001b[1;32m--> 655\u001b[1;33m         \u001b[0mr\u001b[0m \u001b[1;33m=\u001b[0m \u001b[0madapter\u001b[0m\u001b[1;33m.\u001b[0m\u001b[0msend\u001b[0m\u001b[1;33m(\u001b[0m\u001b[0mrequest\u001b[0m\u001b[1;33m,\u001b[0m \u001b[1;33m**\u001b[0m\u001b[0mkwargs\u001b[0m\u001b[1;33m)\u001b[0m\u001b[1;33m\u001b[0m\u001b[1;33m\u001b[0m\u001b[0m\n\u001b[0m\u001b[0;32m    656\u001b[0m \u001b[1;33m\u001b[0m\u001b[0m\n\u001b[0;32m    657\u001b[0m         \u001b[1;31m# Total elapsed time of the request (approximately)\u001b[0m\u001b[1;33m\u001b[0m\u001b[1;33m\u001b[0m\u001b[0m\n",
      "\u001b[1;32mC:\\ProgramData\\Anaconda3\\lib\\site-packages\\requests\\adapters.py\u001b[0m in \u001b[0;36msend\u001b[1;34m(self, request, stream, timeout, verify, cert, proxies)\u001b[0m\n\u001b[0;32m    437\u001b[0m         \u001b[1;32mtry\u001b[0m\u001b[1;33m:\u001b[0m\u001b[1;33m\u001b[0m\u001b[1;33m\u001b[0m\u001b[0m\n\u001b[0;32m    438\u001b[0m             \u001b[1;32mif\u001b[0m \u001b[1;32mnot\u001b[0m \u001b[0mchunked\u001b[0m\u001b[1;33m:\u001b[0m\u001b[1;33m\u001b[0m\u001b[1;33m\u001b[0m\u001b[0m\n\u001b[1;32m--> 439\u001b[1;33m                 resp = conn.urlopen(\n\u001b[0m\u001b[0;32m    440\u001b[0m                     \u001b[0mmethod\u001b[0m\u001b[1;33m=\u001b[0m\u001b[0mrequest\u001b[0m\u001b[1;33m.\u001b[0m\u001b[0mmethod\u001b[0m\u001b[1;33m,\u001b[0m\u001b[1;33m\u001b[0m\u001b[1;33m\u001b[0m\u001b[0m\n\u001b[0;32m    441\u001b[0m                     \u001b[0murl\u001b[0m\u001b[1;33m=\u001b[0m\u001b[0murl\u001b[0m\u001b[1;33m,\u001b[0m\u001b[1;33m\u001b[0m\u001b[1;33m\u001b[0m\u001b[0m\n",
      "\u001b[1;32mC:\\ProgramData\\Anaconda3\\lib\\site-packages\\urllib3\\connectionpool.py\u001b[0m in \u001b[0;36murlopen\u001b[1;34m(self, method, url, body, headers, retries, redirect, assert_same_host, timeout, pool_timeout, release_conn, chunked, body_pos, **response_kw)\u001b[0m\n\u001b[0;32m    697\u001b[0m \u001b[1;33m\u001b[0m\u001b[0m\n\u001b[0;32m    698\u001b[0m             \u001b[1;31m# Make the request on the httplib connection object.\u001b[0m\u001b[1;33m\u001b[0m\u001b[1;33m\u001b[0m\u001b[0m\n\u001b[1;32m--> 699\u001b[1;33m             httplib_response = self._make_request(\n\u001b[0m\u001b[0;32m    700\u001b[0m                 \u001b[0mconn\u001b[0m\u001b[1;33m,\u001b[0m\u001b[1;33m\u001b[0m\u001b[1;33m\u001b[0m\u001b[0m\n\u001b[0;32m    701\u001b[0m                 \u001b[0mmethod\u001b[0m\u001b[1;33m,\u001b[0m\u001b[1;33m\u001b[0m\u001b[1;33m\u001b[0m\u001b[0m\n",
      "\u001b[1;32mC:\\ProgramData\\Anaconda3\\lib\\site-packages\\urllib3\\connectionpool.py\u001b[0m in \u001b[0;36m_make_request\u001b[1;34m(self, conn, method, url, timeout, chunked, **httplib_request_kw)\u001b[0m\n\u001b[0;32m    443\u001b[0m                     \u001b[1;31m# Python 3 (including for exceptions like SystemExit).\u001b[0m\u001b[1;33m\u001b[0m\u001b[1;33m\u001b[0m\u001b[0m\n\u001b[0;32m    444\u001b[0m                     \u001b[1;31m# Otherwise it looks like a bug in the code.\u001b[0m\u001b[1;33m\u001b[0m\u001b[1;33m\u001b[0m\u001b[0m\n\u001b[1;32m--> 445\u001b[1;33m                     \u001b[0msix\u001b[0m\u001b[1;33m.\u001b[0m\u001b[0mraise_from\u001b[0m\u001b[1;33m(\u001b[0m\u001b[0me\u001b[0m\u001b[1;33m,\u001b[0m \u001b[1;32mNone\u001b[0m\u001b[1;33m)\u001b[0m\u001b[1;33m\u001b[0m\u001b[1;33m\u001b[0m\u001b[0m\n\u001b[0m\u001b[0;32m    446\u001b[0m         \u001b[1;32mexcept\u001b[0m \u001b[1;33m(\u001b[0m\u001b[0mSocketTimeout\u001b[0m\u001b[1;33m,\u001b[0m \u001b[0mBaseSSLError\u001b[0m\u001b[1;33m,\u001b[0m \u001b[0mSocketError\u001b[0m\u001b[1;33m)\u001b[0m \u001b[1;32mas\u001b[0m \u001b[0me\u001b[0m\u001b[1;33m:\u001b[0m\u001b[1;33m\u001b[0m\u001b[1;33m\u001b[0m\u001b[0m\n\u001b[0;32m    447\u001b[0m             \u001b[0mself\u001b[0m\u001b[1;33m.\u001b[0m\u001b[0m_raise_timeout\u001b[0m\u001b[1;33m(\u001b[0m\u001b[0merr\u001b[0m\u001b[1;33m=\u001b[0m\u001b[0me\u001b[0m\u001b[1;33m,\u001b[0m \u001b[0murl\u001b[0m\u001b[1;33m=\u001b[0m\u001b[0murl\u001b[0m\u001b[1;33m,\u001b[0m \u001b[0mtimeout_value\u001b[0m\u001b[1;33m=\u001b[0m\u001b[0mread_timeout\u001b[0m\u001b[1;33m)\u001b[0m\u001b[1;33m\u001b[0m\u001b[1;33m\u001b[0m\u001b[0m\n",
      "\u001b[1;32mC:\\ProgramData\\Anaconda3\\lib\\site-packages\\urllib3\\packages\\six.py\u001b[0m in \u001b[0;36mraise_from\u001b[1;34m(value, from_value)\u001b[0m\n",
      "\u001b[1;32mC:\\ProgramData\\Anaconda3\\lib\\site-packages\\urllib3\\connectionpool.py\u001b[0m in \u001b[0;36m_make_request\u001b[1;34m(self, conn, method, url, timeout, chunked, **httplib_request_kw)\u001b[0m\n\u001b[0;32m    438\u001b[0m                 \u001b[1;31m# Python 3\u001b[0m\u001b[1;33m\u001b[0m\u001b[1;33m\u001b[0m\u001b[0m\n\u001b[0;32m    439\u001b[0m                 \u001b[1;32mtry\u001b[0m\u001b[1;33m:\u001b[0m\u001b[1;33m\u001b[0m\u001b[1;33m\u001b[0m\u001b[0m\n\u001b[1;32m--> 440\u001b[1;33m                     \u001b[0mhttplib_response\u001b[0m \u001b[1;33m=\u001b[0m \u001b[0mconn\u001b[0m\u001b[1;33m.\u001b[0m\u001b[0mgetresponse\u001b[0m\u001b[1;33m(\u001b[0m\u001b[1;33m)\u001b[0m\u001b[1;33m\u001b[0m\u001b[1;33m\u001b[0m\u001b[0m\n\u001b[0m\u001b[0;32m    441\u001b[0m                 \u001b[1;32mexcept\u001b[0m \u001b[0mBaseException\u001b[0m \u001b[1;32mas\u001b[0m \u001b[0me\u001b[0m\u001b[1;33m:\u001b[0m\u001b[1;33m\u001b[0m\u001b[1;33m\u001b[0m\u001b[0m\n\u001b[0;32m    442\u001b[0m                     \u001b[1;31m# Remove the TypeError from the exception chain in\u001b[0m\u001b[1;33m\u001b[0m\u001b[1;33m\u001b[0m\u001b[0m\n",
      "\u001b[1;32mC:\\ProgramData\\Anaconda3\\lib\\http\\client.py\u001b[0m in \u001b[0;36mgetresponse\u001b[1;34m(self)\u001b[0m\n\u001b[0;32m   1369\u001b[0m         \u001b[1;32mtry\u001b[0m\u001b[1;33m:\u001b[0m\u001b[1;33m\u001b[0m\u001b[1;33m\u001b[0m\u001b[0m\n\u001b[0;32m   1370\u001b[0m             \u001b[1;32mtry\u001b[0m\u001b[1;33m:\u001b[0m\u001b[1;33m\u001b[0m\u001b[1;33m\u001b[0m\u001b[0m\n\u001b[1;32m-> 1371\u001b[1;33m                 \u001b[0mresponse\u001b[0m\u001b[1;33m.\u001b[0m\u001b[0mbegin\u001b[0m\u001b[1;33m(\u001b[0m\u001b[1;33m)\u001b[0m\u001b[1;33m\u001b[0m\u001b[1;33m\u001b[0m\u001b[0m\n\u001b[0m\u001b[0;32m   1372\u001b[0m             \u001b[1;32mexcept\u001b[0m \u001b[0mConnectionError\u001b[0m\u001b[1;33m:\u001b[0m\u001b[1;33m\u001b[0m\u001b[1;33m\u001b[0m\u001b[0m\n\u001b[0;32m   1373\u001b[0m                 \u001b[0mself\u001b[0m\u001b[1;33m.\u001b[0m\u001b[0mclose\u001b[0m\u001b[1;33m(\u001b[0m\u001b[1;33m)\u001b[0m\u001b[1;33m\u001b[0m\u001b[1;33m\u001b[0m\u001b[0m\n",
      "\u001b[1;32mC:\\ProgramData\\Anaconda3\\lib\\http\\client.py\u001b[0m in \u001b[0;36mbegin\u001b[1;34m(self)\u001b[0m\n\u001b[0;32m    317\u001b[0m         \u001b[1;31m# read until we get a non-100 response\u001b[0m\u001b[1;33m\u001b[0m\u001b[1;33m\u001b[0m\u001b[0m\n\u001b[0;32m    318\u001b[0m         \u001b[1;32mwhile\u001b[0m \u001b[1;32mTrue\u001b[0m\u001b[1;33m:\u001b[0m\u001b[1;33m\u001b[0m\u001b[1;33m\u001b[0m\u001b[0m\n\u001b[1;32m--> 319\u001b[1;33m             \u001b[0mversion\u001b[0m\u001b[1;33m,\u001b[0m \u001b[0mstatus\u001b[0m\u001b[1;33m,\u001b[0m \u001b[0mreason\u001b[0m \u001b[1;33m=\u001b[0m \u001b[0mself\u001b[0m\u001b[1;33m.\u001b[0m\u001b[0m_read_status\u001b[0m\u001b[1;33m(\u001b[0m\u001b[1;33m)\u001b[0m\u001b[1;33m\u001b[0m\u001b[1;33m\u001b[0m\u001b[0m\n\u001b[0m\u001b[0;32m    320\u001b[0m             \u001b[1;32mif\u001b[0m \u001b[0mstatus\u001b[0m \u001b[1;33m!=\u001b[0m \u001b[0mCONTINUE\u001b[0m\u001b[1;33m:\u001b[0m\u001b[1;33m\u001b[0m\u001b[1;33m\u001b[0m\u001b[0m\n\u001b[0;32m    321\u001b[0m                 \u001b[1;32mbreak\u001b[0m\u001b[1;33m\u001b[0m\u001b[1;33m\u001b[0m\u001b[0m\n",
      "\u001b[1;32mC:\\ProgramData\\Anaconda3\\lib\\http\\client.py\u001b[0m in \u001b[0;36m_read_status\u001b[1;34m(self)\u001b[0m\n\u001b[0;32m    278\u001b[0m \u001b[1;33m\u001b[0m\u001b[0m\n\u001b[0;32m    279\u001b[0m     \u001b[1;32mdef\u001b[0m \u001b[0m_read_status\u001b[0m\u001b[1;33m(\u001b[0m\u001b[0mself\u001b[0m\u001b[1;33m)\u001b[0m\u001b[1;33m:\u001b[0m\u001b[1;33m\u001b[0m\u001b[1;33m\u001b[0m\u001b[0m\n\u001b[1;32m--> 280\u001b[1;33m         \u001b[0mline\u001b[0m \u001b[1;33m=\u001b[0m \u001b[0mstr\u001b[0m\u001b[1;33m(\u001b[0m\u001b[0mself\u001b[0m\u001b[1;33m.\u001b[0m\u001b[0mfp\u001b[0m\u001b[1;33m.\u001b[0m\u001b[0mreadline\u001b[0m\u001b[1;33m(\u001b[0m\u001b[0m_MAXLINE\u001b[0m \u001b[1;33m+\u001b[0m \u001b[1;36m1\u001b[0m\u001b[1;33m)\u001b[0m\u001b[1;33m,\u001b[0m \u001b[1;34m\"iso-8859-1\"\u001b[0m\u001b[1;33m)\u001b[0m\u001b[1;33m\u001b[0m\u001b[1;33m\u001b[0m\u001b[0m\n\u001b[0m\u001b[0;32m    281\u001b[0m         \u001b[1;32mif\u001b[0m \u001b[0mlen\u001b[0m\u001b[1;33m(\u001b[0m\u001b[0mline\u001b[0m\u001b[1;33m)\u001b[0m \u001b[1;33m>\u001b[0m \u001b[0m_MAXLINE\u001b[0m\u001b[1;33m:\u001b[0m\u001b[1;33m\u001b[0m\u001b[1;33m\u001b[0m\u001b[0m\n\u001b[0;32m    282\u001b[0m             \u001b[1;32mraise\u001b[0m \u001b[0mLineTooLong\u001b[0m\u001b[1;33m(\u001b[0m\u001b[1;34m\"status line\"\u001b[0m\u001b[1;33m)\u001b[0m\u001b[1;33m\u001b[0m\u001b[1;33m\u001b[0m\u001b[0m\n",
      "\u001b[1;32mC:\\ProgramData\\Anaconda3\\lib\\socket.py\u001b[0m in \u001b[0;36mreadinto\u001b[1;34m(self, b)\u001b[0m\n\u001b[0;32m    702\u001b[0m         \u001b[1;32mwhile\u001b[0m \u001b[1;32mTrue\u001b[0m\u001b[1;33m:\u001b[0m\u001b[1;33m\u001b[0m\u001b[1;33m\u001b[0m\u001b[0m\n\u001b[0;32m    703\u001b[0m             \u001b[1;32mtry\u001b[0m\u001b[1;33m:\u001b[0m\u001b[1;33m\u001b[0m\u001b[1;33m\u001b[0m\u001b[0m\n\u001b[1;32m--> 704\u001b[1;33m                 \u001b[1;32mreturn\u001b[0m \u001b[0mself\u001b[0m\u001b[1;33m.\u001b[0m\u001b[0m_sock\u001b[0m\u001b[1;33m.\u001b[0m\u001b[0mrecv_into\u001b[0m\u001b[1;33m(\u001b[0m\u001b[0mb\u001b[0m\u001b[1;33m)\u001b[0m\u001b[1;33m\u001b[0m\u001b[1;33m\u001b[0m\u001b[0m\n\u001b[0m\u001b[0;32m    705\u001b[0m             \u001b[1;32mexcept\u001b[0m \u001b[0mtimeout\u001b[0m\u001b[1;33m:\u001b[0m\u001b[1;33m\u001b[0m\u001b[1;33m\u001b[0m\u001b[0m\n\u001b[0;32m    706\u001b[0m                 \u001b[0mself\u001b[0m\u001b[1;33m.\u001b[0m\u001b[0m_timeout_occurred\u001b[0m \u001b[1;33m=\u001b[0m \u001b[1;32mTrue\u001b[0m\u001b[1;33m\u001b[0m\u001b[1;33m\u001b[0m\u001b[0m\n",
      "\u001b[1;32mC:\\ProgramData\\Anaconda3\\lib\\ssl.py\u001b[0m in \u001b[0;36mrecv_into\u001b[1;34m(self, buffer, nbytes, flags)\u001b[0m\n\u001b[0;32m   1239\u001b[0m                   \u001b[1;34m\"non-zero flags not allowed in calls to recv_into() on %s\"\u001b[0m \u001b[1;33m%\u001b[0m\u001b[1;33m\u001b[0m\u001b[1;33m\u001b[0m\u001b[0m\n\u001b[0;32m   1240\u001b[0m                   self.__class__)\n\u001b[1;32m-> 1241\u001b[1;33m             \u001b[1;32mreturn\u001b[0m \u001b[0mself\u001b[0m\u001b[1;33m.\u001b[0m\u001b[0mread\u001b[0m\u001b[1;33m(\u001b[0m\u001b[0mnbytes\u001b[0m\u001b[1;33m,\u001b[0m \u001b[0mbuffer\u001b[0m\u001b[1;33m)\u001b[0m\u001b[1;33m\u001b[0m\u001b[1;33m\u001b[0m\u001b[0m\n\u001b[0m\u001b[0;32m   1242\u001b[0m         \u001b[1;32melse\u001b[0m\u001b[1;33m:\u001b[0m\u001b[1;33m\u001b[0m\u001b[1;33m\u001b[0m\u001b[0m\n\u001b[0;32m   1243\u001b[0m             \u001b[1;32mreturn\u001b[0m \u001b[0msuper\u001b[0m\u001b[1;33m(\u001b[0m\u001b[1;33m)\u001b[0m\u001b[1;33m.\u001b[0m\u001b[0mrecv_into\u001b[0m\u001b[1;33m(\u001b[0m\u001b[0mbuffer\u001b[0m\u001b[1;33m,\u001b[0m \u001b[0mnbytes\u001b[0m\u001b[1;33m,\u001b[0m \u001b[0mflags\u001b[0m\u001b[1;33m)\u001b[0m\u001b[1;33m\u001b[0m\u001b[1;33m\u001b[0m\u001b[0m\n",
      "\u001b[1;32mC:\\ProgramData\\Anaconda3\\lib\\ssl.py\u001b[0m in \u001b[0;36mread\u001b[1;34m(self, len, buffer)\u001b[0m\n\u001b[0;32m   1097\u001b[0m         \u001b[1;32mtry\u001b[0m\u001b[1;33m:\u001b[0m\u001b[1;33m\u001b[0m\u001b[1;33m\u001b[0m\u001b[0m\n\u001b[0;32m   1098\u001b[0m             \u001b[1;32mif\u001b[0m \u001b[0mbuffer\u001b[0m \u001b[1;32mis\u001b[0m \u001b[1;32mnot\u001b[0m \u001b[1;32mNone\u001b[0m\u001b[1;33m:\u001b[0m\u001b[1;33m\u001b[0m\u001b[1;33m\u001b[0m\u001b[0m\n\u001b[1;32m-> 1099\u001b[1;33m                 \u001b[1;32mreturn\u001b[0m \u001b[0mself\u001b[0m\u001b[1;33m.\u001b[0m\u001b[0m_sslobj\u001b[0m\u001b[1;33m.\u001b[0m\u001b[0mread\u001b[0m\u001b[1;33m(\u001b[0m\u001b[0mlen\u001b[0m\u001b[1;33m,\u001b[0m \u001b[0mbuffer\u001b[0m\u001b[1;33m)\u001b[0m\u001b[1;33m\u001b[0m\u001b[1;33m\u001b[0m\u001b[0m\n\u001b[0m\u001b[0;32m   1100\u001b[0m             \u001b[1;32melse\u001b[0m\u001b[1;33m:\u001b[0m\u001b[1;33m\u001b[0m\u001b[1;33m\u001b[0m\u001b[0m\n\u001b[0;32m   1101\u001b[0m                 \u001b[1;32mreturn\u001b[0m \u001b[0mself\u001b[0m\u001b[1;33m.\u001b[0m\u001b[0m_sslobj\u001b[0m\u001b[1;33m.\u001b[0m\u001b[0mread\u001b[0m\u001b[1;33m(\u001b[0m\u001b[0mlen\u001b[0m\u001b[1;33m)\u001b[0m\u001b[1;33m\u001b[0m\u001b[1;33m\u001b[0m\u001b[0m\n",
      "\u001b[1;31mKeyboardInterrupt\u001b[0m: "
     ]
    }
   ],
   "source": [
    "df_comm_cook = pd.DataFrame(columns=['created_utc','body','permalink'])\n",
    "df_comm_cforb = pd.DataFrame(columns=['created_utc','body','permalink'])\n",
    "\n",
    "while present_time > starttime:\n",
    "    time.sleep(2)\n",
    "    ccnewrl = ccommurl + '&before=' +str(present_time) + commfields\n",
    "    bcnewrl = bcommurl + '&before=' +str(present_time) + commfields\n",
    "    commcforb = requests.get(bcnewrl)\n",
    "    commcook = requests.get(ccnewrl)\n",
    "    commcookdata = commcook.json().get('data')\n",
    "    commcforbdata = commcforb.json().get('data')\n",
    "    df_comm_cook = pd.concat([df_comm_cook,\n",
    "                              pd.DataFrame([[\n",
    "                                  commcookdata[i].get('created_utc'),\n",
    "                                  commcookdata[i].get('body'),\n",
    "                                  commcookdata[i].get('permalink')\n",
    "                              ] for i in range(len(commcookdata))],\n",
    "                              columns=['created_utc','body','permalink'])\n",
    "                             ])\n",
    "    df_comm_cforb = pd.concat([df_comm_cforb,\n",
    "                              pd.DataFrame([[\n",
    "                                  commcforbdata[i].get('created_utc'),\n",
    "                                  commcforbdata[i].get('body'),\n",
    "                                  commcforbdata[i].get('permalink')\n",
    "                              ] for i in range(len(commcforbdata))],\n",
    "                              columns=['created_utc','body','permalink'])\n",
    "                             ])\n",
    "    \n",
    "    present_time = df_comm_cforb.loc[:,'created_utc'].iloc[-1]\n",
    "    "
   ]
  },
  {
   "cell_type": "code",
   "execution_count": 13,
   "id": "985c99de-dcbe-4997-82ef-0adc118ccc19",
   "metadata": {},
   "outputs": [
    {
     "data": {
      "text/plain": [
       "'https://api.pushshift.io/reddit/search/comment/?subreddit=cooking&metadata=true&size=500&before=1651037065&fields=created_utc,body,permalink'"
      ]
     },
     "execution_count": 13,
     "metadata": {},
     "output_type": "execute_result"
    }
   ],
   "source": [
    "ccommurl + '&before=' +str(present_time) + commfields"
   ]
  },
  {
   "cell_type": "code",
   "execution_count": 19,
   "id": "5fbc5bd6-6843-4378-94b9-28429eca2855",
   "metadata": {},
   "outputs": [
    {
     "data": {
      "text/plain": [
       "((100800, 3), (100800, 3))"
      ]
     },
     "execution_count": 19,
     "metadata": {},
     "output_type": "execute_result"
    }
   ],
   "source": [
    "df_comm_cook.shape,df_comm_cforb.shape"
   ]
  },
  {
   "cell_type": "code",
   "execution_count": 22,
   "id": "c5e14831-61d3-4f7d-9082-c58ee3eaab2d",
   "metadata": {},
   "outputs": [
    {
     "data": {
      "text/plain": [
       "(created_utc     98573\n",
       " body            96953\n",
       " permalink      100800\n",
       " dtype: int64,\n",
       " created_utc    100608\n",
       " body            95496\n",
       " permalink      100800\n",
       " dtype: int64)"
      ]
     },
     "execution_count": 22,
     "metadata": {},
     "output_type": "execute_result"
    }
   ],
   "source": [
    "df_comm_cook.nunique(), df_comm_cforb.nunique()"
   ]
  },
  {
   "cell_type": "code",
   "execution_count": 23,
   "id": "70a699e9-93c0-4644-b5cc-aee0830d690d",
   "metadata": {},
   "outputs": [
    {
     "data": {
      "text/plain": [
       "1606548748"
      ]
     },
     "execution_count": 23,
     "metadata": {},
     "output_type": "execute_result"
    }
   ],
   "source": [
    "df_comm_cforb.loc[:,'created_utc'].iloc[-1]"
   ]
  },
  {
   "cell_type": "markdown",
   "id": "bbe4d8b0-779f-40ab-bc6e-32f2e935100a",
   "metadata": {},
   "source": [
    "I manually stopped the code, as it had mbeen running for over an hour. Based on the nuniques, it seems that *every single one of those  ** 1008000 ** comments* was unique, and indeed, not some mistake in the programming. I'm not quite sure *if* we'll use comments or how they'll come into play- but our current present time winds up somewhere on Nov 2020- that is, only 1.5 years back, not even half way. Given those constraints, it seems reasonable to stop it. Given that we still know the earliest present_time, it would be trivial to restart the process if needed, but again, with 100800 results, any kind of model fitting would be better fit with something with higher compute than a mid-end laptop from a couple years back and 12 GB of RAM. Again, *if* needed, it would be best done using Google CoLab or some other such source"
   ]
  },
  {
   "cell_type": "markdown",
   "id": "800ce4b0-978c-4e92-96d4-9aed9fe567d1",
   "metadata": {},
   "source": [
    "Then, let's pickle this, and then move to a different worksheet"
   ]
  },
  {
   "cell_type": "code",
   "execution_count": 24,
   "id": "b0ff42a8-7556-4730-ae4d-f447b3824f3f",
   "metadata": {},
   "outputs": [],
   "source": [
    "with open('../data/commpicklecooking.pkl','wb') as pickle_out:\n",
    "    pickle.dump(df_comm_cook,pickle_out)"
   ]
  },
  {
   "cell_type": "code",
   "execution_count": 25,
   "id": "82b0d99a-fddb-4ad4-8ae9-4853d0a00a2e",
   "metadata": {},
   "outputs": [],
   "source": [
    "with open('../data/commpicklebeginner.pkl','wb') as pickle_out:\n",
    "    pickle.dump(df_comm_cforb,pickle_out)"
   ]
  },
  {
   "cell_type": "markdown",
   "id": "36f9e8ba-df06-46b7-ae07-3dc7bc23c394",
   "metadata": {},
   "source": [
    "One final point to be made- note that in this dataset, the *only* piece of data that was 100% unique was the permalink. While I was worried that in the previous dataset that created_utc was not perfectly unique or title, for that matter, it seems that this is not that surprising- as posts and comments can be sent at the same UTC time or be repetitive"
   ]
  },
  {
   "cell_type": "code",
   "execution_count": null,
   "id": "d4748c9c-9bc6-4983-b450-7989ce19321d",
   "metadata": {},
   "outputs": [],
   "source": []
  }
 ],
 "metadata": {
  "kernelspec": {
   "display_name": "Python 3 (ipykernel)",
   "language": "python",
   "name": "python3"
  },
  "language_info": {
   "codemirror_mode": {
    "name": "ipython",
    "version": 3
   },
   "file_extension": ".py",
   "mimetype": "text/x-python",
   "name": "python",
   "nbconvert_exporter": "python",
   "pygments_lexer": "ipython3",
   "version": "3.9.7"
  }
 },
 "nbformat": 4,
 "nbformat_minor": 5
}
