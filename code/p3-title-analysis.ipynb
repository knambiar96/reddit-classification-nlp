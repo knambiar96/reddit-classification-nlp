{
 "cells": [
  {
   "cell_type": "code",
   "execution_count": 49,
   "id": "8d62029e-0395-49d2-aeee-ffaa31b56baa",
   "metadata": {},
   "outputs": [],
   "source": [
    "#%pip install spacy"
   ]
  },
  {
   "cell_type": "code",
   "execution_count": 1,
   "id": "525cb7db-be4b-4141-ab43-f32a7088eb8d",
   "metadata": {},
   "outputs": [],
   "source": [
    "import requests\n",
    "import seaborn as sns\n",
    "import pandas as pd\n",
    "import time\n",
    "import numpy as np\n",
    "import pickle\n",
    "from sklearn.preprocessing import FunctionTransformer\n",
    "from sklearn.model_selection import train_test_split, GridSearchCV, RandomizedSearchCV\n",
    "from sklearn.pipeline import Pipeline\n",
    "from sklearn.feature_extraction.text import CountVectorizer, TfidfVectorizer\n",
    "from sklearn.linear_model import LinearRegression, LogisticRegression\n",
    "from sklearn.ensemble import VotingClassifier, RandomForestClassifier, ExtraTreesClassifier, AdaBoostClassifier\n",
    "from sklearn.metrics import ConfusionMatrixDisplay, precision_score, recall_score, roc_curve, RocCurveDisplay\n",
    "from nltk import WordNetLemmatizer\n",
    "from sklearn.naive_bayes import MultinomialNB, GaussianNB\n",
    "import spacy\n",
    "import time\n",
    "import warnings\n",
    "import matplotlib.pyplot as plt"
   ]
  },
  {
   "cell_type": "code",
   "execution_count": 2,
   "id": "1107802f-a5c1-49a8-b8a5-7e48d600b3ac",
   "metadata": {},
   "outputs": [],
   "source": [
    "with open('../data/pickledcooking.pkl','rb') as x:\n",
    "    df_cook = pickle.load(x)"
   ]
  },
  {
   "cell_type": "code",
   "execution_count": 3,
   "id": "d83c0cc3-1e49-409e-af61-a8d08e70cc8f",
   "metadata": {},
   "outputs": [],
   "source": [
    "with open('../data/pickledbeginners.pkl','rb') as x:\n",
    "    df_cforb = pickle.load(x)"
   ]
  },
  {
   "cell_type": "code",
   "execution_count": 4,
   "id": "ad18c138-ec09-4b58-8581-64f2c07f3f2c",
   "metadata": {},
   "outputs": [],
   "source": [
    "df_cook['sub'] = 'r/Cooking'\n",
    "\n",
    "df_cforb['sub'] = 'r/Cookingforbeginners'"
   ]
  },
  {
   "cell_type": "code",
   "execution_count": 5,
   "id": "5f5eb5f9-024a-4c4f-8cd5-3874ceccd665",
   "metadata": {},
   "outputs": [],
   "source": [
    "textdata = pd.concat([df_cook[['title','sub']],df_cforb[['title','sub']]])"
   ]
  },
  {
   "cell_type": "code",
   "execution_count": 6,
   "id": "3a29d632-68fc-4629-b080-c73091884ca4",
   "metadata": {},
   "outputs": [],
   "source": [
    "X = textdata['title']\n",
    "y = textdata['sub']"
   ]
  },
  {
   "cell_type": "code",
   "execution_count": 7,
   "id": "319257d2-9cb8-4400-b1c0-49fec6020d8a",
   "metadata": {},
   "outputs": [
    {
     "data": {
      "text/plain": [
       "Culinary Arts School Delhi - Diploma Courses in Culinary Arts    0.000415\n",
       "YWB mez-Scotty Pippin                                            0.000208\n",
       "A dumb question about leaving dough out                          0.000161\n",
       "Help!                                                            0.000138\n",
       "Where do I start?                                                0.000138\n",
       "Name: title, dtype: float64"
      ]
     },
     "execution_count": 7,
     "metadata": {},
     "output_type": "execute_result"
    }
   ],
   "source": [
    "X.value_counts(normalize=True,ascending=False).head()"
   ]
  },
  {
   "cell_type": "code",
   "execution_count": 8,
   "id": "76e42a83-75cd-466d-9e26-d9713c0045eb",
   "metadata": {},
   "outputs": [],
   "source": [
    "X_train, X_test, y_train, y_test = train_test_split(X,y,random_state=39,stratify=y)"
   ]
  },
  {
   "cell_type": "code",
   "execution_count": 9,
   "id": "0b3f7492-3f1f-4baa-aa18-a71806884201",
   "metadata": {},
   "outputs": [],
   "source": [
    "pipe1 = Pipeline([\n",
    "    ('cv',CountVectorizer(strip_accents='unicode',ngram_range=(1,1),max_features=None)),\n",
    "    ('logreg',LogisticRegression(penalty='l2',max_iter=1000))#just calling some of these so you keep them in mind\n",
    "])"
   ]
  },
  {
   "cell_type": "code",
   "execution_count": 10,
   "id": "0b44702e-f902-4a8d-9d13-137fea696128",
   "metadata": {},
   "outputs": [
    {
     "data": {
      "text/plain": [
       "(0.7621186023622047, 0.6118287506920096)"
      ]
     },
     "execution_count": 10,
     "metadata": {},
     "output_type": "execute_result"
    }
   ],
   "source": [
    "pipe1.fit(X_train,y_train)\n",
    "pipe1.score(X_train,y_train), pipe1.score(X_test,y_test)"
   ]
  },
  {
   "cell_type": "code",
   "execution_count": 11,
   "id": "47ff1f0a-cb85-4c0a-8b20-aaed0eb210fa",
   "metadata": {},
   "outputs": [
    {
     "data": {
      "text/plain": [
       "<sklearn.metrics._plot.confusion_matrix.ConfusionMatrixDisplay at 0x24c6dd25610>"
      ]
     },
     "execution_count": 11,
     "metadata": {},
     "output_type": "execute_result"
    },
    {
     "data": {
      "image/png": "[encoded data removed]",
      "text/plain": [
       "<Figure size 432x288 with 2 Axes>"
      ]
     },
     "metadata": {
      "needs_background": "light"
     },
     "output_type": "display_data"
    }
   ],
   "source": [
    "ConfusionMatrixDisplay.from_estimator(pipe1,X_test,y_test,cmap='Greens')"
   ]
  },
  {
   "cell_type": "code",
   "execution_count": 41,
   "id": "8cce5c29-a177-4db5-8b75-8c3a5a4b7cbe",
   "metadata": {},
   "outputs": [],
   "source": [
    "pipe3 = Pipeline([\n",
    "    ('cv',CountVectorizer(strip_accents='ascii',max_features=1000,max_df=0.8)),\n",
    "    ('abc',AdaBoostClassifier(n_estimators=3000,random_state=815))\n",
    "])"
   ]
  },
  {
   "cell_type": "code",
   "execution_count": 32,
   "id": "0b675037-82f8-42d5-aaf5-64862d0c4eb5",
   "metadata": {},
   "outputs": [
    {
     "data": {
      "text/plain": [
       "(0.6574495570866141, 0.6121978224764717)"
      ]
     },
     "execution_count": 32,
     "metadata": {},
     "output_type": "execute_result"
    }
   ],
   "source": [
    "pipe3.fit(X_train,y_train)\n",
    "pipe3.score(X_train,y_train), pipe3.score(X_test,y_test)"
   ]
  },
  {
   "cell_type": "code",
   "execution_count": 33,
   "id": "248546da-0248-47d3-b9f9-f498e274f18b",
   "metadata": {},
   "outputs": [],
   "source": [
    "cv = CountVectorizer(strip_accents='unicode',ngram_range=(1,1),max_features=None)\n",
    "X_enc = cv.fit_transform(X_train,y_train)"
   ]
  },
  {
   "cell_type": "code",
   "execution_count": 34,
   "id": "f6612d23-82fa-46f4-9aeb-262dad6f29fb",
   "metadata": {},
   "outputs": [
    {
     "data": {
      "text/plain": [
       "<32512x15752 sparse matrix of type '<class 'numpy.int64'>'\n",
       "\twith 272165 stored elements in Compressed Sparse Row format>"
      ]
     },
     "execution_count": 34,
     "metadata": {},
     "output_type": "execute_result"
    }
   ],
   "source": [
    "X_enc"
   ]
  },
  {
   "cell_type": "code",
   "execution_count": 35,
   "id": "1fec36f1-290f-43a8-aa61-89a8cbd8daeb",
   "metadata": {},
   "outputs": [
    {
     "data": {
      "text/plain": [
       "LogisticRegression(max_iter=10000)"
      ]
     },
     "execution_count": 35,
     "metadata": {},
     "output_type": "execute_result"
    }
   ],
   "source": [
    "logreg = LogisticRegression(max_iter=10_000)\n",
    "logreg.fit(X_enc,y_train)"
   ]
  },
  {
   "cell_type": "code",
   "execution_count": 36,
   "id": "eab47b8e-0759-4c5d-b3de-19e48246e3d4",
   "metadata": {},
   "outputs": [
    {
     "data": {
      "text/plain": [
       "AdaBoostClassifier(n_estimators=500, random_state=815)"
      ]
     },
     "execution_count": 36,
     "metadata": {},
     "output_type": "execute_result"
    }
   ],
   "source": [
    "abc = AdaBoostClassifier(n_estimators=500,random_state=815)\n",
    "abc.fit(X_enc,y_train)"
   ]
  },
  {
   "cell_type": "code",
   "execution_count": 37,
   "id": "a1d2653d-0b2d-4ccc-aece-3f10c97fb96a",
   "metadata": {},
   "outputs": [
    {
     "data": {
      "text/plain": [
       "0.6503752460629921"
      ]
     },
     "execution_count": 37,
     "metadata": {},
     "output_type": "execute_result"
    }
   ],
   "source": [
    "abc.score(X_enc,y_train)"
   ]
  },
  {
   "cell_type": "code",
   "execution_count": 38,
   "id": "bad4fcb9-8dca-400d-bede-c8e448f1ef53",
   "metadata": {},
   "outputs": [
    {
     "data": {
      "text/html": [
       "<div>\n",
       "<style scoped>\n",
       "    .dataframe tbody tr th:only-of-type {\n",
       "        vertical-align: middle;\n",
       "    }\n",
       "\n",
       "    .dataframe tbody tr th {\n",
       "        vertical-align: top;\n",
       "    }\n",
       "\n",
       "    .dataframe thead th {\n",
       "        text-align: right;\n",
       "    }\n",
       "</style>\n",
       "<table border=\"1\" class=\"dataframe\">\n",
       "  <thead>\n",
       "    <tr style=\"text-align: right;\">\n",
       "      <th></th>\n",
       "      <th>ft_imp</th>\n",
       "    </tr>\n",
       "  </thead>\n",
       "  <tbody>\n",
       "    <tr>\n",
       "      <th>this</th>\n",
       "      <td>0.004</td>\n",
       "    </tr>\n",
       "    <tr>\n",
       "      <th>how</th>\n",
       "      <td>0.004</td>\n",
       "    </tr>\n",
       "    <tr>\n",
       "      <th>of</th>\n",
       "      <td>0.004</td>\n",
       "    </tr>\n",
       "    <tr>\n",
       "      <th>what</th>\n",
       "      <td>0.004</td>\n",
       "    </tr>\n",
       "    <tr>\n",
       "      <th>cookies</th>\n",
       "      <td>0.004</td>\n",
       "    </tr>\n",
       "    <tr>\n",
       "      <th>frozen</th>\n",
       "      <td>0.004</td>\n",
       "    </tr>\n",
       "    <tr>\n",
       "      <th>paratha</th>\n",
       "      <td>0.004</td>\n",
       "    </tr>\n",
       "    <tr>\n",
       "      <th>your</th>\n",
       "      <td>0.004</td>\n",
       "    </tr>\n",
       "    <tr>\n",
       "      <th>and</th>\n",
       "      <td>0.004</td>\n",
       "    </tr>\n",
       "    <tr>\n",
       "      <th>healthy</th>\n",
       "      <td>0.004</td>\n",
       "    </tr>\n",
       "    <tr>\n",
       "      <th>oxtail</th>\n",
       "      <td>0.002</td>\n",
       "    </tr>\n",
       "    <tr>\n",
       "      <th>usable</th>\n",
       "      <td>0.002</td>\n",
       "    </tr>\n",
       "    <tr>\n",
       "      <th>fear</th>\n",
       "      <td>0.002</td>\n",
       "    </tr>\n",
       "    <tr>\n",
       "      <th>incredible</th>\n",
       "      <td>0.002</td>\n",
       "    </tr>\n",
       "    <tr>\n",
       "      <th>sandwiches</th>\n",
       "      <td>0.002</td>\n",
       "    </tr>\n",
       "    <tr>\n",
       "      <th>favorites</th>\n",
       "      <td>0.002</td>\n",
       "    </tr>\n",
       "    <tr>\n",
       "      <th>favorite</th>\n",
       "      <td>0.002</td>\n",
       "    </tr>\n",
       "    <tr>\n",
       "      <th>leg</th>\n",
       "      <td>0.002</td>\n",
       "    </tr>\n",
       "    <tr>\n",
       "      <th>rare</th>\n",
       "      <td>0.002</td>\n",
       "    </tr>\n",
       "    <tr>\n",
       "      <th>leftovers</th>\n",
       "      <td>0.002</td>\n",
       "    </tr>\n",
       "    <tr>\n",
       "      <th>mixer</th>\n",
       "      <td>0.002</td>\n",
       "    </tr>\n",
       "    <tr>\n",
       "      <th>people</th>\n",
       "      <td>0.002</td>\n",
       "    </tr>\n",
       "    <tr>\n",
       "      <th>talk</th>\n",
       "      <td>0.002</td>\n",
       "    </tr>\n",
       "    <tr>\n",
       "      <th>chili</th>\n",
       "      <td>0.002</td>\n",
       "    </tr>\n",
       "    <tr>\n",
       "      <th>nice</th>\n",
       "      <td>0.002</td>\n",
       "    </tr>\n",
       "  </tbody>\n",
       "</table>\n",
       "</div>"
      ],
      "text/plain": [
       "            ft_imp\n",
       "this         0.004\n",
       "how          0.004\n",
       "of           0.004\n",
       "what         0.004\n",
       "cookies      0.004\n",
       "frozen       0.004\n",
       "paratha      0.004\n",
       "your         0.004\n",
       "and          0.004\n",
       "healthy      0.004\n",
       "oxtail       0.002\n",
       "usable       0.002\n",
       "fear         0.002\n",
       "incredible   0.002\n",
       "sandwiches   0.002\n",
       "favorites    0.002\n",
       "favorite     0.002\n",
       "leg          0.002\n",
       "rare         0.002\n",
       "leftovers    0.002\n",
       "mixer        0.002\n",
       "people       0.002\n",
       "talk         0.002\n",
       "chili        0.002\n",
       "nice         0.002"
      ]
     },
     "execution_count": 38,
     "metadata": {},
     "output_type": "execute_result"
    }
   ],
   "source": [
    "pd.DataFrame(abc.feature_importances_,index=cv.get_feature_names_out(),columns=['ft_imp']).sort_values(by='ft_imp',ascending=False).head(25)"
   ]
  },
  {
   "cell_type": "code",
   "execution_count": 39,
   "id": "5ef55af5-e781-48b2-971f-b1ddc6ad1004",
   "metadata": {},
   "outputs": [],
   "source": [
    "tfidf = TfidfVectorizer(strip_accents='ascii',stop_words='english',ngram_range=(1,2),min_df=5,max_df=0.8,norm='l1')\n",
    "tfidf.fit(X_train,y_train)\n",
    "X_enctoo = tfidf.transform(X_train)"
   ]
  },
  {
   "cell_type": "code",
   "execution_count": 40,
   "id": "2871cafc-f596-4ad3-8d8c-18936febd5ba",
   "metadata": {},
   "outputs": [
    {
     "data": {
      "text/plain": [
       "AdaBoostClassifier(n_estimators=500, random_state=815)"
      ]
     },
     "execution_count": 40,
     "metadata": {},
     "output_type": "execute_result"
    }
   ],
   "source": [
    "abctoo = AdaBoostClassifier(n_estimators=500,random_state=815)\n",
    "abctoo.fit(X_enctoo,y_train)\n"
   ]
  },
  {
   "cell_type": "code",
   "execution_count": 41,
   "id": "7a9bc917-1abb-4386-b85a-e9ad3e34bbdd",
   "metadata": {},
   "outputs": [
    {
     "data": {
      "text/html": [
       "<div>\n",
       "<style scoped>\n",
       "    .dataframe tbody tr th:only-of-type {\n",
       "        vertical-align: middle;\n",
       "    }\n",
       "\n",
       "    .dataframe tbody tr th {\n",
       "        vertical-align: top;\n",
       "    }\n",
       "\n",
       "    .dataframe thead th {\n",
       "        text-align: right;\n",
       "    }\n",
       "</style>\n",
       "<table border=\"1\" class=\"dataframe\">\n",
       "  <thead>\n",
       "    <tr style=\"text-align: right;\">\n",
       "      <th></th>\n",
       "      <th>ft_imp</th>\n",
       "    </tr>\n",
       "  </thead>\n",
       "  <tbody>\n",
       "    <tr>\n",
       "      <th>looking</th>\n",
       "      <td>0.004</td>\n",
       "    </tr>\n",
       "    <tr>\n",
       "      <th>scratch</th>\n",
       "      <td>0.004</td>\n",
       "    </tr>\n",
       "    <tr>\n",
       "      <th>amp</th>\n",
       "      <td>0.004</td>\n",
       "    </tr>\n",
       "    <tr>\n",
       "      <th>learn</th>\n",
       "      <td>0.004</td>\n",
       "    </tr>\n",
       "    <tr>\n",
       "      <th>street</th>\n",
       "      <td>0.004</td>\n",
       "    </tr>\n",
       "    <tr>\n",
       "      <th>cook</th>\n",
       "      <td>0.004</td>\n",
       "    </tr>\n",
       "    <tr>\n",
       "      <th>sweet potatoes</th>\n",
       "      <td>0.004</td>\n",
       "    </tr>\n",
       "    <tr>\n",
       "      <th>frozen</th>\n",
       "      <td>0.004</td>\n",
       "    </tr>\n",
       "    <tr>\n",
       "      <th>thing</th>\n",
       "      <td>0.004</td>\n",
       "    </tr>\n",
       "    <tr>\n",
       "      <th>cooking</th>\n",
       "      <td>0.004</td>\n",
       "    </tr>\n",
       "    <tr>\n",
       "      <th>advice</th>\n",
       "      <td>0.004</td>\n",
       "    </tr>\n",
       "    <tr>\n",
       "      <th>time making</th>\n",
       "      <td>0.004</td>\n",
       "    </tr>\n",
       "    <tr>\n",
       "      <th>gonna</th>\n",
       "      <td>0.004</td>\n",
       "    </tr>\n",
       "    <tr>\n",
       "      <th>easy</th>\n",
       "      <td>0.004</td>\n",
       "    </tr>\n",
       "    <tr>\n",
       "      <th>really</th>\n",
       "      <td>0.004</td>\n",
       "    </tr>\n",
       "    <tr>\n",
       "      <th>best</th>\n",
       "      <td>0.004</td>\n",
       "    </tr>\n",
       "    <tr>\n",
       "      <th>psa</th>\n",
       "      <td>0.002</td>\n",
       "    </tr>\n",
       "    <tr>\n",
       "      <th>use</th>\n",
       "      <td>0.002</td>\n",
       "    </tr>\n",
       "    <tr>\n",
       "      <th>energy</th>\n",
       "      <td>0.002</td>\n",
       "    </tr>\n",
       "    <tr>\n",
       "      <th>country</th>\n",
       "      <td>0.002</td>\n",
       "    </tr>\n",
       "    <tr>\n",
       "      <th>proud</th>\n",
       "      <td>0.002</td>\n",
       "    </tr>\n",
       "    <tr>\n",
       "      <th>indo</th>\n",
       "      <td>0.002</td>\n",
       "    </tr>\n",
       "    <tr>\n",
       "      <th>masala</th>\n",
       "      <td>0.002</td>\n",
       "    </tr>\n",
       "    <tr>\n",
       "      <th>pico</th>\n",
       "      <td>0.002</td>\n",
       "    </tr>\n",
       "    <tr>\n",
       "      <th>pickles</th>\n",
       "      <td>0.002</td>\n",
       "    </tr>\n",
       "  </tbody>\n",
       "</table>\n",
       "</div>"
      ],
      "text/plain": [
       "                ft_imp\n",
       "looking          0.004\n",
       "scratch          0.004\n",
       "amp              0.004\n",
       "learn            0.004\n",
       "street           0.004\n",
       "cook             0.004\n",
       "sweet potatoes   0.004\n",
       "frozen           0.004\n",
       "thing            0.004\n",
       "cooking          0.004\n",
       "advice           0.004\n",
       "time making      0.004\n",
       "gonna            0.004\n",
       "easy             0.004\n",
       "really           0.004\n",
       "best             0.004\n",
       "psa              0.002\n",
       "use              0.002\n",
       "energy           0.002\n",
       "country          0.002\n",
       "proud            0.002\n",
       "indo             0.002\n",
       "masala           0.002\n",
       "pico             0.002\n",
       "pickles          0.002"
      ]
     },
     "execution_count": 41,
     "metadata": {},
     "output_type": "execute_result"
    }
   ],
   "source": [
    "pd.DataFrame(abctoo.feature_importances_,index=tfidf.get_feature_names_out(),columns=['ft_imp']).sort_values(by='ft_imp',ascending=False).head(25)"
   ]
  },
  {
   "cell_type": "code",
   "execution_count": 42,
   "id": "076afe07-bc8b-4879-944e-938d4ab02e53",
   "metadata": {},
   "outputs": [
    {
     "data": {
      "text/plain": [
       "0.5988189702897213"
      ]
     },
     "execution_count": 42,
     "metadata": {},
     "output_type": "execute_result"
    }
   ],
   "source": [
    "abctoo.score(tfidf.transform(X_test),y_test)"
   ]
  },
  {
   "cell_type": "code",
   "execution_count": 12,
   "id": "5fefe680-dd43-4022-a354-b987db8bce0d",
   "metadata": {},
   "outputs": [],
   "source": [
    "nlp = spacy.load(\"en_core_web_sm\")"
   ]
  },
  {
   "cell_type": "markdown",
   "id": "5f3dfeb4-d7dc-484c-8a7a-b5670205ea5d",
   "metadata": {},
   "source": [
    "'TRF' seems to work better, but it takes at least 10 times as long, we should try something simpler first, just for testing purposes"
   ]
  },
  {
   "cell_type": "code",
   "execution_count": 13,
   "id": "4173b87a-57ae-4830-9e9e-d468a7ab398d",
   "metadata": {},
   "outputs": [],
   "source": [
    "doc = nlp('I am becoming a better human being')"
   ]
  },
  {
   "cell_type": "code",
   "execution_count": 14,
   "id": "fa238d0f-13bc-4337-a92c-8c8f7615e697",
   "metadata": {},
   "outputs": [
    {
     "data": {
      "text/plain": [
       "213.42405319213867"
      ]
     },
     "execution_count": 14,
     "metadata": {},
     "output_type": "execute_result"
    }
   ],
   "source": [
    "start_time = time.time()\n",
    "X_trlemma = []\n",
    "for i in range(len(X_train)):\n",
    "    X_trlemma.append(' '.join([w.lemma_ for w in nlp(X_train.iloc[i])]))\n",
    "end_time = time.time()\n",
    "end_time-start_time"
   ]
  },
  {
   "cell_type": "code",
   "execution_count": 15,
   "id": "4868785e-85fa-4fef-800e-1dc3f418ae52",
   "metadata": {},
   "outputs": [
    {
     "data": {
      "text/plain": [
       "'what be your favourite kind of cheese , and your favourite way to use it ?'"
      ]
     },
     "execution_count": 15,
     "metadata": {},
     "output_type": "execute_result"
    }
   ],
   "source": [
    "' '.join([w.lemma_ for w in nlp(X_train.iloc[1])])"
   ]
  },
  {
   "cell_type": "code",
   "execution_count": 16,
   "id": "ca2f1e20-2929-4d96-9e17-c1011a2eb762",
   "metadata": {},
   "outputs": [
    {
     "data": {
      "text/plain": [
       "'Easiest Shakshouka ever! Even I can make it!'"
      ]
     },
     "execution_count": 16,
     "metadata": {},
     "output_type": "execute_result"
    }
   ],
   "source": [
    "X_train.iloc[0]"
   ]
  },
  {
   "cell_type": "code",
   "execution_count": 17,
   "id": "f4d4d3d0-0568-4739-ba31-51a81b0245aa",
   "metadata": {},
   "outputs": [],
   "source": [
    "pipe4= Pipeline([\n",
    "    ('cv',CountVectorizer(strip_accents='unicode',stop_words='english')),\n",
    "    ('rfc', RandomForestClassifier(n_estimators=200,min_samples_split=3,n_jobs=-1,random_state=39,criterion='entropy'))\n",
    "])"
   ]
  },
  {
   "cell_type": "code",
   "execution_count": 18,
   "id": "03a4cbec-06ad-46ca-a4a6-7effc8871dc2",
   "metadata": {},
   "outputs": [],
   "source": [
    "X_telemma = []\n",
    "for i in range(len(X_test)):\n",
    "    X_telemma.append(' '.join([w.lemma_ for w in nlp(X_test.iloc[i])]))\n",
    "    \n",
    "X_telemma = pd.Series(X_telemma)"
   ]
  },
  {
   "cell_type": "code",
   "execution_count": 19,
   "id": "124f4155-632b-450f-bf48-4840d868f151",
   "metadata": {},
   "outputs": [],
   "source": [
    "X_trlemma = pd.Series(X_trlemma)"
   ]
  },
  {
   "cell_type": "code",
   "execution_count": 20,
   "id": "2c391c29-5f87-4e3e-ad1c-d8eca9b6f265",
   "metadata": {},
   "outputs": [
    {
     "data": {
      "text/plain": [
       "(0.9863742618110236, 0.5961431998523713, 59.35916543006897)"
      ]
     },
     "execution_count": 20,
     "metadata": {},
     "output_type": "execute_result"
    }
   ],
   "source": [
    "start_time=time.time()\n",
    "pipe4.fit(X_trlemma,y_train)\n",
    "end_time=time.time()\n",
    "pipe4.score(X_trlemma,y_train),pipe4.score(X_telemma,y_test), end_time-start_time\n"
   ]
  },
  {
   "cell_type": "code",
   "execution_count": 21,
   "id": "a3265c2c-7c28-4faa-9607-53c874f5c8f6",
   "metadata": {},
   "outputs": [
    {
     "data": {
      "text/plain": [
       "(0.9885888287401575, 0.5967890754751799)"
      ]
     },
     "execution_count": 21,
     "metadata": {},
     "output_type": "execute_result"
    }
   ],
   "source": [
    "pipe4.fit(X_train,y_train)\n",
    "pipe4.score(X_train,y_train), pipe4.score(X_test,y_test)"
   ]
  },
  {
   "cell_type": "markdown",
   "id": "86b16f1d-5c1f-4e50-a53c-5facf5b61596",
   "metadata": {},
   "source": [
    "This lemma seems at best comparable to the standard text, which makes it dubious what gain there would be from continuing testing the lemma in particular. Maybe there would be more gain from the more complicated one, but given the time commitment and whkat we've seen from this one, it's not worth pursuing"
   ]
  },
  {
   "cell_type": "code",
   "execution_count": 38,
   "id": "0138d764-1767-4244-acc8-0f660cb25821",
   "metadata": {},
   "outputs": [],
   "source": [
    "paramlist4 = {\n",
    "    'cv__stop_words' : ['english',None],\n",
    "    'cv__ngram_range' : [(1,1),(1,2),(2,2)],\n",
    "    'cv__max_features' : [1000,1500,750],\n",
    "    'cv__max_df' : [1.0,0.8,0.6],\n",
    "    'rfc__n_estimators' :[100,200,50,30],\n",
    "    'rfc__min_samples_split' : [2,3,4,5]\n",
    "}"
   ]
  },
  {
   "cell_type": "code",
   "execution_count": 39,
   "id": "0df8c57f-695f-47f6-9c00-a2122da2ee6a",
   "metadata": {},
   "outputs": [],
   "source": [
    "rsc4 = RandomizedSearchCV(pipe4,param_distributions=paramlist4,n_jobs=-1,n_iter=20)"
   ]
  },
  {
   "cell_type": "code",
   "execution_count": 40,
   "id": "ce831c9b-880b-4a88-80ac-eae9432aae70",
   "metadata": {},
   "outputs": [
    {
     "data": {
      "text/plain": [
       "(0.9604146161417323, 0.613858645506551)"
      ]
     },
     "execution_count": 40,
     "metadata": {},
     "output_type": "execute_result"
    }
   ],
   "source": [
    "rsc4.fit(X_train,y_train),\n",
    "rsc4.score(X_train,y_train),rsc4.score(X_test,y_test)"
   ]
  },
  {
   "cell_type": "code",
   "execution_count": 41,
   "id": "d9d80e46-3919-431f-985b-1a627f98969c",
   "metadata": {},
   "outputs": [
    {
     "data": {
      "text/plain": [
       "{'rfc__n_estimators': 100,\n",
       " 'rfc__min_samples_split': 5,\n",
       " 'cv__stop_words': None,\n",
       " 'cv__ngram_range': (1, 1),\n",
       " 'cv__max_features': 1000,\n",
       " 'cv__max_df': 1.0}"
      ]
     },
     "execution_count": 41,
     "metadata": {},
     "output_type": "execute_result"
    }
   ],
   "source": [
    "rsc4.best_params_"
   ]
  },
  {
   "cell_type": "code",
   "execution_count": 44,
   "id": "ccab4039-f3ca-4a99-b032-6d72eb0a4d4a",
   "metadata": {},
   "outputs": [
    {
     "data": {
      "text/html": [
       "<div>\n",
       "<style scoped>\n",
       "    .dataframe tbody tr th:only-of-type {\n",
       "        vertical-align: middle;\n",
       "    }\n",
       "\n",
       "    .dataframe tbody tr th {\n",
       "        vertical-align: top;\n",
       "    }\n",
       "\n",
       "    .dataframe thead th {\n",
       "        text-align: right;\n",
       "    }\n",
       "</style>\n",
       "<table border=\"1\" class=\"dataframe\">\n",
       "  <thead>\n",
       "    <tr style=\"text-align: right;\">\n",
       "      <th></th>\n",
       "      <th>mean_fit_time</th>\n",
       "      <th>std_fit_time</th>\n",
       "      <th>mean_score_time</th>\n",
       "      <th>std_score_time</th>\n",
       "      <th>param_rfc__n_estimators</th>\n",
       "      <th>param_rfc__min_samples_split</th>\n",
       "      <th>param_cv__stop_words</th>\n",
       "      <th>param_cv__ngram_range</th>\n",
       "      <th>param_cv__max_features</th>\n",
       "      <th>param_cv__max_df</th>\n",
       "      <th>params</th>\n",
       "      <th>split0_test_score</th>\n",
       "      <th>split1_test_score</th>\n",
       "      <th>split2_test_score</th>\n",
       "      <th>split3_test_score</th>\n",
       "      <th>split4_test_score</th>\n",
       "      <th>mean_test_score</th>\n",
       "      <th>std_test_score</th>\n",
       "      <th>rank_test_score</th>\n",
       "    </tr>\n",
       "  </thead>\n",
       "  <tbody>\n",
       "    <tr>\n",
       "      <th>16</th>\n",
       "      <td>40.309121</td>\n",
       "      <td>0.609506</td>\n",
       "      <td>2.312618</td>\n",
       "      <td>0.299428</td>\n",
       "      <td>100</td>\n",
       "      <td>5</td>\n",
       "      <td>None</td>\n",
       "      <td>(1, 1)</td>\n",
       "      <td>1000</td>\n",
       "      <td>1.0</td>\n",
       "      <td>{'rfc__n_estimators': 100, 'rfc__min_samples_s...</td>\n",
       "      <td>0.606182</td>\n",
       "      <td>0.614486</td>\n",
       "      <td>0.609659</td>\n",
       "      <td>0.617195</td>\n",
       "      <td>0.605352</td>\n",
       "      <td>0.610575</td>\n",
       "      <td>0.004616</td>\n",
       "      <td>1</td>\n",
       "    </tr>\n",
       "    <tr>\n",
       "      <th>13</th>\n",
       "      <td>43.198801</td>\n",
       "      <td>0.746960</td>\n",
       "      <td>2.267895</td>\n",
       "      <td>0.601610</td>\n",
       "      <td>100</td>\n",
       "      <td>4</td>\n",
       "      <td>None</td>\n",
       "      <td>(1, 1)</td>\n",
       "      <td>1500</td>\n",
       "      <td>0.6</td>\n",
       "      <td>{'rfc__n_estimators': 100, 'rfc__min_samples_s...</td>\n",
       "      <td>0.608335</td>\n",
       "      <td>0.608796</td>\n",
       "      <td>0.610581</td>\n",
       "      <td>0.617810</td>\n",
       "      <td>0.603660</td>\n",
       "      <td>0.609836</td>\n",
       "      <td>0.004596</td>\n",
       "      <td>2</td>\n",
       "    </tr>\n",
       "    <tr>\n",
       "      <th>5</th>\n",
       "      <td>89.052540</td>\n",
       "      <td>4.167824</td>\n",
       "      <td>3.193461</td>\n",
       "      <td>0.589482</td>\n",
       "      <td>200</td>\n",
       "      <td>5</td>\n",
       "      <td>None</td>\n",
       "      <td>(1, 2)</td>\n",
       "      <td>1500</td>\n",
       "      <td>1.0</td>\n",
       "      <td>{'rfc__n_estimators': 200, 'rfc__min_samples_s...</td>\n",
       "      <td>0.604336</td>\n",
       "      <td>0.609103</td>\n",
       "      <td>0.608121</td>\n",
       "      <td>0.610120</td>\n",
       "      <td>0.602891</td>\n",
       "      <td>0.606914</td>\n",
       "      <td>0.002805</td>\n",
       "      <td>3</td>\n",
       "    </tr>\n",
       "    <tr>\n",
       "      <th>19</th>\n",
       "      <td>20.874384</td>\n",
       "      <td>1.851434</td>\n",
       "      <td>1.695865</td>\n",
       "      <td>0.548559</td>\n",
       "      <td>50</td>\n",
       "      <td>5</td>\n",
       "      <td>None</td>\n",
       "      <td>(1, 1)</td>\n",
       "      <td>1000</td>\n",
       "      <td>1.0</td>\n",
       "      <td>{'rfc__n_estimators': 50, 'rfc__min_samples_sp...</td>\n",
       "      <td>0.604336</td>\n",
       "      <td>0.607873</td>\n",
       "      <td>0.609351</td>\n",
       "      <td>0.611812</td>\n",
       "      <td>0.599508</td>\n",
       "      <td>0.606576</td>\n",
       "      <td>0.004284</td>\n",
       "      <td>4</td>\n",
       "    </tr>\n",
       "  </tbody>\n",
       "</table>\n",
       "</div>"
      ],
      "text/plain": [
       "    mean_fit_time  std_fit_time  mean_score_time  std_score_time  \\\n",
       "16      40.309121      0.609506         2.312618        0.299428   \n",
       "13      43.198801      0.746960         2.267895        0.601610   \n",
       "5       89.052540      4.167824         3.193461        0.589482   \n",
       "19      20.874384      1.851434         1.695865        0.548559   \n",
       "\n",
       "   param_rfc__n_estimators param_rfc__min_samples_split param_cv__stop_words  \\\n",
       "16                     100                            5                 None   \n",
       "13                     100                            4                 None   \n",
       "5                      200                            5                 None   \n",
       "19                      50                            5                 None   \n",
       "\n",
       "   param_cv__ngram_range param_cv__max_features param_cv__max_df  \\\n",
       "16                (1, 1)                   1000              1.0   \n",
       "13                (1, 1)                   1500              0.6   \n",
       "5                 (1, 2)                   1500              1.0   \n",
       "19                (1, 1)                   1000              1.0   \n",
       "\n",
       "                                               params  split0_test_score  \\\n",
       "16  {'rfc__n_estimators': 100, 'rfc__min_samples_s...           0.606182   \n",
       "13  {'rfc__n_estimators': 100, 'rfc__min_samples_s...           0.608335   \n",
       "5   {'rfc__n_estimators': 200, 'rfc__min_samples_s...           0.604336   \n",
       "19  {'rfc__n_estimators': 50, 'rfc__min_samples_sp...           0.604336   \n",
       "\n",
       "    split1_test_score  split2_test_score  split3_test_score  \\\n",
       "16           0.614486           0.609659           0.617195   \n",
       "13           0.608796           0.610581           0.617810   \n",
       "5            0.609103           0.608121           0.610120   \n",
       "19           0.607873           0.609351           0.611812   \n",
       "\n",
       "    split4_test_score  mean_test_score  std_test_score  rank_test_score  \n",
       "16           0.605352         0.610575        0.004616                1  \n",
       "13           0.603660         0.609836        0.004596                2  \n",
       "5            0.602891         0.606914        0.002805                3  \n",
       "19           0.599508         0.606576        0.004284                4  "
      ]
     },
     "execution_count": 44,
     "metadata": {},
     "output_type": "execute_result"
    }
   ],
   "source": [
    "pd.DataFrame(rsc4.cv_results_).sort_values(by='mean_test_score',ascending=False).head(4)"
   ]
  },
  {
   "cell_type": "code",
   "execution_count": 45,
   "id": "079e1bf2-0acf-483f-bb85-fb4ff35808f1",
   "metadata": {},
   "outputs": [],
   "source": [
    "paramlist4_1 = {\n",
    "    'cv__max_df' : [0.5,0.6,1.0],\n",
    "    'cv__max_features' : [1000,1500],\n",
    "    'cv__stop_words' : [None],\n",
    "    'cv__ngram_range' : [(1,1)],\n",
    "    'rfc__n_estimators' : [100,125],\n",
    "    'rfc__min_samples_split' :[4,5,6,7]\n",
    "}\n",
    "\n",
    "rsc4_1 = RandomizedSearchCV(pipe4,param_distributions=paramlist4_1,n_jobs=-1,n_iter=20)"
   ]
  },
  {
   "cell_type": "code",
   "execution_count": 46,
   "id": "6807a7a7-0aab-45df-8334-0eeafbe7dbd1",
   "metadata": {},
   "outputs": [
    {
     "data": {
      "text/plain": [
       "(0.9677657480314961, 0.6169034877283631)"
      ]
     },
     "execution_count": 46,
     "metadata": {},
     "output_type": "execute_result"
    }
   ],
   "source": [
    "rsc4_1.fit(X_train,y_train)\n",
    "rsc4_1.score(X_train,y_train),rsc4_1.score(X_test,y_test)"
   ]
  },
  {
   "cell_type": "code",
   "execution_count": 47,
   "id": "08dc57b8-aea5-454d-a067-b95360172b64",
   "metadata": {},
   "outputs": [
    {
     "data": {
      "text/plain": [
       "{'rfc__n_estimators': 100,\n",
       " 'rfc__min_samples_split': 5,\n",
       " 'cv__stop_words': None,\n",
       " 'cv__ngram_range': (1, 1),\n",
       " 'cv__max_features': 1500,\n",
       " 'cv__max_df': 0.5}"
      ]
     },
     "execution_count": 47,
     "metadata": {},
     "output_type": "execute_result"
    }
   ],
   "source": [
    "rsc4_1.best_params_"
   ]
  },
  {
   "cell_type": "code",
   "execution_count": 48,
   "id": "3715d0dd-9079-42e7-aeb7-840abebd8aa7",
   "metadata": {},
   "outputs": [
    {
     "data": {
      "text/html": [
       "<div>\n",
       "<style scoped>\n",
       "    .dataframe tbody tr th:only-of-type {\n",
       "        vertical-align: middle;\n",
       "    }\n",
       "\n",
       "    .dataframe tbody tr th {\n",
       "        vertical-align: top;\n",
       "    }\n",
       "\n",
       "    .dataframe thead th {\n",
       "        text-align: right;\n",
       "    }\n",
       "</style>\n",
       "<table border=\"1\" class=\"dataframe\">\n",
       "  <thead>\n",
       "    <tr style=\"text-align: right;\">\n",
       "      <th></th>\n",
       "      <th>mean_fit_time</th>\n",
       "      <th>std_fit_time</th>\n",
       "      <th>mean_score_time</th>\n",
       "      <th>std_score_time</th>\n",
       "      <th>param_rfc__n_estimators</th>\n",
       "      <th>param_rfc__min_samples_split</th>\n",
       "      <th>param_cv__stop_words</th>\n",
       "      <th>param_cv__ngram_range</th>\n",
       "      <th>param_cv__max_features</th>\n",
       "      <th>param_cv__max_df</th>\n",
       "      <th>params</th>\n",
       "      <th>split0_test_score</th>\n",
       "      <th>split1_test_score</th>\n",
       "      <th>split2_test_score</th>\n",
       "      <th>split3_test_score</th>\n",
       "      <th>split4_test_score</th>\n",
       "      <th>mean_test_score</th>\n",
       "      <th>std_test_score</th>\n",
       "      <th>rank_test_score</th>\n",
       "    </tr>\n",
       "  </thead>\n",
       "  <tbody>\n",
       "    <tr>\n",
       "      <th>5</th>\n",
       "      <td>41.078845</td>\n",
       "      <td>0.597046</td>\n",
       "      <td>2.317602</td>\n",
       "      <td>0.378870</td>\n",
       "      <td>100</td>\n",
       "      <td>5</td>\n",
       "      <td>None</td>\n",
       "      <td>(1, 1)</td>\n",
       "      <td>1500</td>\n",
       "      <td>0.5</td>\n",
       "      <td>{'rfc__n_estimators': 100, 'rfc__min_samples_s...</td>\n",
       "      <td>0.610641</td>\n",
       "      <td>0.609719</td>\n",
       "      <td>0.617502</td>\n",
       "      <td>0.618886</td>\n",
       "      <td>0.607659</td>\n",
       "      <td>0.612882</td>\n",
       "      <td>0.004466</td>\n",
       "      <td>1</td>\n",
       "    </tr>\n",
       "    <tr>\n",
       "      <th>7</th>\n",
       "      <td>36.687817</td>\n",
       "      <td>0.947188</td>\n",
       "      <td>2.354703</td>\n",
       "      <td>0.361524</td>\n",
       "      <td>100</td>\n",
       "      <td>7</td>\n",
       "      <td>None</td>\n",
       "      <td>(1, 1)</td>\n",
       "      <td>1500</td>\n",
       "      <td>0.5</td>\n",
       "      <td>{'rfc__n_estimators': 100, 'rfc__min_samples_s...</td>\n",
       "      <td>0.606643</td>\n",
       "      <td>0.613409</td>\n",
       "      <td>0.613965</td>\n",
       "      <td>0.619963</td>\n",
       "      <td>0.608121</td>\n",
       "      <td>0.612420</td>\n",
       "      <td>0.004735</td>\n",
       "      <td>2</td>\n",
       "    </tr>\n",
       "    <tr>\n",
       "      <th>15</th>\n",
       "      <td>36.341716</td>\n",
       "      <td>0.973371</td>\n",
       "      <td>2.558359</td>\n",
       "      <td>0.241392</td>\n",
       "      <td>100</td>\n",
       "      <td>7</td>\n",
       "      <td>None</td>\n",
       "      <td>(1, 1)</td>\n",
       "      <td>1500</td>\n",
       "      <td>1.0</td>\n",
       "      <td>{'rfc__n_estimators': 100, 'rfc__min_samples_s...</td>\n",
       "      <td>0.606643</td>\n",
       "      <td>0.613409</td>\n",
       "      <td>0.613965</td>\n",
       "      <td>0.619963</td>\n",
       "      <td>0.608121</td>\n",
       "      <td>0.612420</td>\n",
       "      <td>0.004735</td>\n",
       "      <td>2</td>\n",
       "    </tr>\n",
       "    <tr>\n",
       "      <th>8</th>\n",
       "      <td>36.452929</td>\n",
       "      <td>0.345831</td>\n",
       "      <td>2.553274</td>\n",
       "      <td>0.541924</td>\n",
       "      <td>100</td>\n",
       "      <td>7</td>\n",
       "      <td>None</td>\n",
       "      <td>(1, 1)</td>\n",
       "      <td>1500</td>\n",
       "      <td>0.6</td>\n",
       "      <td>{'rfc__n_estimators': 100, 'rfc__min_samples_s...</td>\n",
       "      <td>0.606643</td>\n",
       "      <td>0.613409</td>\n",
       "      <td>0.613965</td>\n",
       "      <td>0.619963</td>\n",
       "      <td>0.608121</td>\n",
       "      <td>0.612420</td>\n",
       "      <td>0.004735</td>\n",
       "      <td>2</td>\n",
       "    </tr>\n",
       "  </tbody>\n",
       "</table>\n",
       "</div>"
      ],
      "text/plain": [
       "    mean_fit_time  std_fit_time  mean_score_time  std_score_time  \\\n",
       "5       41.078845      0.597046         2.317602        0.378870   \n",
       "7       36.687817      0.947188         2.354703        0.361524   \n",
       "15      36.341716      0.973371         2.558359        0.241392   \n",
       "8       36.452929      0.345831         2.553274        0.541924   \n",
       "\n",
       "   param_rfc__n_estimators param_rfc__min_samples_split param_cv__stop_words  \\\n",
       "5                      100                            5                 None   \n",
       "7                      100                            7                 None   \n",
       "15                     100                            7                 None   \n",
       "8                      100                            7                 None   \n",
       "\n",
       "   param_cv__ngram_range param_cv__max_features param_cv__max_df  \\\n",
       "5                 (1, 1)                   1500              0.5   \n",
       "7                 (1, 1)                   1500              0.5   \n",
       "15                (1, 1)                   1500              1.0   \n",
       "8                 (1, 1)                   1500              0.6   \n",
       "\n",
       "                                               params  split0_test_score  \\\n",
       "5   {'rfc__n_estimators': 100, 'rfc__min_samples_s...           0.610641   \n",
       "7   {'rfc__n_estimators': 100, 'rfc__min_samples_s...           0.606643   \n",
       "15  {'rfc__n_estimators': 100, 'rfc__min_samples_s...           0.606643   \n",
       "8   {'rfc__n_estimators': 100, 'rfc__min_samples_s...           0.606643   \n",
       "\n",
       "    split1_test_score  split2_test_score  split3_test_score  \\\n",
       "5            0.609719           0.617502           0.618886   \n",
       "7            0.613409           0.613965           0.619963   \n",
       "15           0.613409           0.613965           0.619963   \n",
       "8            0.613409           0.613965           0.619963   \n",
       "\n",
       "    split4_test_score  mean_test_score  std_test_score  rank_test_score  \n",
       "5            0.607659         0.612882        0.004466                1  \n",
       "7            0.608121         0.612420        0.004735                2  \n",
       "15           0.608121         0.612420        0.004735                2  \n",
       "8            0.608121         0.612420        0.004735                2  "
      ]
     },
     "execution_count": 48,
     "metadata": {},
     "output_type": "execute_result"
    }
   ],
   "source": [
    "pd.DataFrame(rsc4_1.cv_results_).sort_values(by='mean_test_score',ascending=False).head(4)"
   ]
  },
  {
   "cell_type": "code",
   "execution_count": 54,
   "id": "e91f7588-9406-4dd0-a18e-c959565bb76f",
   "metadata": {},
   "outputs": [
    {
     "data": {
      "image/png": "[encoded data removed]",
      "text/plain": [
       "<Figure size 432x288 with 2 Axes>"
      ]
     },
     "metadata": {
      "needs_background": "light"
     },
     "output_type": "display_data"
    }
   ],
   "source": [
    "ConfusionMatrixDisplay.from_estimator(rsc4,X_test,y_test,cmap='Greens');"
   ]
  },
  {
   "cell_type": "code",
   "execution_count": 55,
   "id": "1e5ad22c-5b74-4d5a-9ba4-979570a2f1b0",
   "metadata": {},
   "outputs": [
    {
     "data": {
      "text/plain": [
       "<sklearn.metrics._plot.confusion_matrix.ConfusionMatrixDisplay at 0x14da534cf40>"
      ]
     },
     "execution_count": 55,
     "metadata": {},
     "output_type": "execute_result"
    },
    {
     "data": {
      "image/png": "[encoded data removed]",
      "text/plain": [
       "<Figure size 432x288 with 2 Axes>"
      ]
     },
     "metadata": {
      "needs_background": "light"
     },
     "output_type": "display_data"
    }
   ],
   "source": [
    "ConfusionMatrixDisplay.from_estimator(rsc4_1,X_test,y_test,cmap='Greens')"
   ]
  },
  {
   "cell_type": "code",
   "execution_count": 22,
   "id": "cc333243-8638-4cfd-bb96-491e533f2b5a",
   "metadata": {},
   "outputs": [],
   "source": [
    "pipe5 = Pipeline([\n",
    "    ('cv',CountVectorizer(strip_accents='unicode',ngram_range=(1,1),max_features=1250,max_df=0.5)),\n",
    "    ('mnb',MultinomialNB())\n",
    "])"
   ]
  },
  {
   "cell_type": "code",
   "execution_count": 23,
   "id": "084b7631-7e46-49c8-8bf0-9ecaa271fb4d",
   "metadata": {},
   "outputs": [
    {
     "data": {
      "text/plain": [
       "(0.6321358267716536, 0.6056467983022698, 0.5302422046661377)"
      ]
     },
     "execution_count": 23,
     "metadata": {},
     "output_type": "execute_result"
    }
   ],
   "source": [
    "start_time=time.time()\n",
    "pipe5.fit(X_train,y_train)\n",
    "end_time=time.time()\n",
    "pipe5.score(X_train,y_train),pipe5.score(X_test,y_test),end_time-start_time"
   ]
  },
  {
   "cell_type": "markdown",
   "id": "8e84f78a-517e-4bc3-a1c0-89b5440b08b6",
   "metadata": {},
   "source": [
    "That's shockingly fast and in the range of the other scores, to the point that you can run lots of grid-searchs without worry"
   ]
  },
  {
   "cell_type": "code",
   "execution_count": 24,
   "id": "b0bb3d0c-8b4a-45ae-83da-bdce2f4572aa",
   "metadata": {},
   "outputs": [],
   "source": [
    "paramlist5 = {\n",
    "    'cv__stop_words' : ['english',None],\n",
    "    'cv__ngram_range' : [(1,1),(1,2),(2,2)],\n",
    "    'cv__max_features' : [1000,1500,750,1250,None],\n",
    "    'cv__max_df' : [1.0,0.8,0.6],\n",
    "    'mnb__alpha' : [0,1,0.5,5]\n",
    "}"
   ]
  },
  {
   "cell_type": "code",
   "execution_count": 25,
   "id": "e9615a03-9566-4d72-ba5b-5d959348b6de",
   "metadata": {},
   "outputs": [],
   "source": [
    "rsc5 = RandomizedSearchCV(pipe5,param_distributions=paramlist5,n_jobs=-1,random_state=815)"
   ]
  },
  {
   "cell_type": "code",
   "execution_count": 26,
   "id": "02e50926-4da9-4688-b9f9-61c90de24417",
   "metadata": {},
   "outputs": [
    {
     "data": {
      "text/plain": [
       "(0.8964997539370079, 0.6259457464476841, 25.087990522384644)"
      ]
     },
     "execution_count": 26,
     "metadata": {},
     "output_type": "execute_result"
    }
   ],
   "source": [
    "start_time=time.time()\n",
    "rsc5.fit(X_train,y_train)\n",
    "end_time=time.time()\n",
    "rsc5.score(X_train,y_train),rsc5.score(X_test,y_test),end_time-start_time"
   ]
  },
  {
   "cell_type": "markdown",
   "id": "13dd93eb-c74a-4076-953c-a90816897f92",
   "metadata": {},
   "source": [
    "27 seconds! We can go systematically over all 270 in 12 minutes. So let's"
   ]
  },
  {
   "cell_type": "code",
   "execution_count": 38,
   "id": "854c75cf-a884-4e94-a37f-743971ee29f5",
   "metadata": {},
   "outputs": [],
   "source": [
    "gs5 = GridSearchCV(pipe5,param_grid=paramlist5,n_jobs=-1)"
   ]
  },
  {
   "cell_type": "code",
   "execution_count": 39,
   "id": "49069a4c-07a7-41b8-9c49-dafa0ee24b2f",
   "metadata": {},
   "outputs": [
    {
     "data": {
      "text/plain": [
       "(0.8061023622047244, 0.6271452297471858, 709.4733910560608)"
      ]
     },
     "execution_count": 39,
     "metadata": {},
     "output_type": "execute_result"
    }
   ],
   "source": [
    "start_time=time.time()\n",
    "gs5.fit(X_train,y_train)\n",
    "end_time=time.time()\n",
    "gs5.score(X_train,y_train),gs5.score(X_test,y_test),end_time-start_time"
   ]
  },
  {
   "cell_type": "code",
   "execution_count": 65,
   "id": "8cebb930-8c5a-4196-84a7-012addb3fdb7",
   "metadata": {},
   "outputs": [
    {
     "data": {
      "text/plain": [
       "{'cv__max_df': 1.0,\n",
       " 'cv__max_features': None,\n",
       " 'cv__ngram_range': (1, 2),\n",
       " 'cv__stop_words': None,\n",
       " 'mnb__alpha': 5}"
      ]
     },
     "execution_count": 65,
     "metadata": {},
     "output_type": "execute_result"
    }
   ],
   "source": [
    "gs5.best_params_"
   ]
  },
  {
   "cell_type": "code",
   "execution_count": 66,
   "id": "b54b2646-4289-4b74-820b-1313b8775b11",
   "metadata": {},
   "outputs": [
    {
     "data": {
      "text/html": [
       "<div>\n",
       "<style scoped>\n",
       "    .dataframe tbody tr th:only-of-type {\n",
       "        vertical-align: middle;\n",
       "    }\n",
       "\n",
       "    .dataframe tbody tr th {\n",
       "        vertical-align: top;\n",
       "    }\n",
       "\n",
       "    .dataframe thead th {\n",
       "        text-align: right;\n",
       "    }\n",
       "</style>\n",
       "<table border=\"1\" class=\"dataframe\">\n",
       "  <thead>\n",
       "    <tr style=\"text-align: right;\">\n",
       "      <th></th>\n",
       "      <th>mean_fit_time</th>\n",
       "      <th>std_fit_time</th>\n",
       "      <th>mean_score_time</th>\n",
       "      <th>std_score_time</th>\n",
       "      <th>param_cv__max_df</th>\n",
       "      <th>param_cv__max_features</th>\n",
       "      <th>param_cv__ngram_range</th>\n",
       "      <th>param_cv__stop_words</th>\n",
       "      <th>param_mnb__alpha</th>\n",
       "      <th>params</th>\n",
       "      <th>split0_test_score</th>\n",
       "      <th>split1_test_score</th>\n",
       "      <th>split2_test_score</th>\n",
       "      <th>split3_test_score</th>\n",
       "      <th>split4_test_score</th>\n",
       "      <th>mean_test_score</th>\n",
       "      <th>std_test_score</th>\n",
       "      <th>rank_test_score</th>\n",
       "    </tr>\n",
       "  </thead>\n",
       "  <tbody>\n",
       "    <tr>\n",
       "      <th>351</th>\n",
       "      <td>1.987242</td>\n",
       "      <td>0.031636</td>\n",
       "      <td>0.347448</td>\n",
       "      <td>0.018305</td>\n",
       "      <td>0.6</td>\n",
       "      <td>None</td>\n",
       "      <td>(1, 2)</td>\n",
       "      <td>None</td>\n",
       "      <td>5</td>\n",
       "      <td>{'cv__max_df': 0.6, 'cv__max_features': None, ...</td>\n",
       "      <td>0.619099</td>\n",
       "      <td>0.624789</td>\n",
       "      <td>0.622270</td>\n",
       "      <td>0.627038</td>\n",
       "      <td>0.627653</td>\n",
       "      <td>0.624170</td>\n",
       "      <td>0.003164</td>\n",
       "      <td>1</td>\n",
       "    </tr>\n",
       "    <tr>\n",
       "      <th>231</th>\n",
       "      <td>2.196498</td>\n",
       "      <td>0.057474</td>\n",
       "      <td>0.380695</td>\n",
       "      <td>0.041701</td>\n",
       "      <td>0.8</td>\n",
       "      <td>None</td>\n",
       "      <td>(1, 2)</td>\n",
       "      <td>None</td>\n",
       "      <td>5</td>\n",
       "      <td>{'cv__max_df': 0.8, 'cv__max_features': None, ...</td>\n",
       "      <td>0.619099</td>\n",
       "      <td>0.624789</td>\n",
       "      <td>0.622270</td>\n",
       "      <td>0.627038</td>\n",
       "      <td>0.627653</td>\n",
       "      <td>0.624170</td>\n",
       "      <td>0.003164</td>\n",
       "      <td>1</td>\n",
       "    </tr>\n",
       "    <tr>\n",
       "      <th>111</th>\n",
       "      <td>1.900121</td>\n",
       "      <td>0.025742</td>\n",
       "      <td>0.374215</td>\n",
       "      <td>0.074642</td>\n",
       "      <td>1.0</td>\n",
       "      <td>None</td>\n",
       "      <td>(1, 2)</td>\n",
       "      <td>None</td>\n",
       "      <td>5</td>\n",
       "      <td>{'cv__max_df': 1.0, 'cv__max_features': None, ...</td>\n",
       "      <td>0.619099</td>\n",
       "      <td>0.624789</td>\n",
       "      <td>0.622270</td>\n",
       "      <td>0.627038</td>\n",
       "      <td>0.627653</td>\n",
       "      <td>0.624170</td>\n",
       "      <td>0.003164</td>\n",
       "      <td>1</td>\n",
       "    </tr>\n",
       "    <tr>\n",
       "      <th>229</th>\n",
       "      <td>2.077431</td>\n",
       "      <td>0.048492</td>\n",
       "      <td>0.390819</td>\n",
       "      <td>0.066754</td>\n",
       "      <td>0.8</td>\n",
       "      <td>None</td>\n",
       "      <td>(1, 2)</td>\n",
       "      <td>None</td>\n",
       "      <td>1</td>\n",
       "      <td>{'cv__max_df': 0.8, 'cv__max_features': None, ...</td>\n",
       "      <td>0.616792</td>\n",
       "      <td>0.623866</td>\n",
       "      <td>0.615349</td>\n",
       "      <td>0.622424</td>\n",
       "      <td>0.624423</td>\n",
       "      <td>0.620571</td>\n",
       "      <td>0.003760</td>\n",
       "      <td>4</td>\n",
       "    </tr>\n",
       "  </tbody>\n",
       "</table>\n",
       "</div>"
      ],
      "text/plain": [
       "     mean_fit_time  std_fit_time  mean_score_time  std_score_time  \\\n",
       "351       1.987242      0.031636         0.347448        0.018305   \n",
       "231       2.196498      0.057474         0.380695        0.041701   \n",
       "111       1.900121      0.025742         0.374215        0.074642   \n",
       "229       2.077431      0.048492         0.390819        0.066754   \n",
       "\n",
       "    param_cv__max_df param_cv__max_features param_cv__ngram_range  \\\n",
       "351              0.6                   None                (1, 2)   \n",
       "231              0.8                   None                (1, 2)   \n",
       "111              1.0                   None                (1, 2)   \n",
       "229              0.8                   None                (1, 2)   \n",
       "\n",
       "    param_cv__stop_words param_mnb__alpha  \\\n",
       "351                 None                5   \n",
       "231                 None                5   \n",
       "111                 None                5   \n",
       "229                 None                1   \n",
       "\n",
       "                                                params  split0_test_score  \\\n",
       "351  {'cv__max_df': 0.6, 'cv__max_features': None, ...           0.619099   \n",
       "231  {'cv__max_df': 0.8, 'cv__max_features': None, ...           0.619099   \n",
       "111  {'cv__max_df': 1.0, 'cv__max_features': None, ...           0.619099   \n",
       "229  {'cv__max_df': 0.8, 'cv__max_features': None, ...           0.616792   \n",
       "\n",
       "     split1_test_score  split2_test_score  split3_test_score  \\\n",
       "351           0.624789           0.622270           0.627038   \n",
       "231           0.624789           0.622270           0.627038   \n",
       "111           0.624789           0.622270           0.627038   \n",
       "229           0.623866           0.615349           0.622424   \n",
       "\n",
       "     split4_test_score  mean_test_score  std_test_score  rank_test_score  \n",
       "351           0.627653         0.624170        0.003164                1  \n",
       "231           0.627653         0.624170        0.003164                1  \n",
       "111           0.627653         0.624170        0.003164                1  \n",
       "229           0.624423         0.620571        0.003760                4  "
      ]
     },
     "execution_count": 66,
     "metadata": {},
     "output_type": "execute_result"
    }
   ],
   "source": [
    "pd.DataFrame(gs5.cv_results_).sort_values(by='mean_test_score',ascending=False).head(4)"
   ]
  },
  {
   "cell_type": "markdown",
   "id": "e0a5d3e2-bd7e-451d-9dfd-956442f1a7ee",
   "metadata": {},
   "source": [
    "So we got a slight improvement in our score, and the best ones were all the same except for max_df- and even that didn't actually change the score. Might be worth some time to find where the model messed up and furthermore, test along the alpha, see if it matters"
   ]
  },
  {
   "cell_type": "code",
   "execution_count": 27,
   "id": "e81483b0-0568-403d-9679-0527eecf656d",
   "metadata": {},
   "outputs": [
    {
     "data": {
      "text/plain": [
       "(0.8881028543307087, 0.6290828566156117)"
      ]
     },
     "execution_count": 27,
     "metadata": {},
     "output_type": "execute_result"
    }
   ],
   "source": [
    "rsc5alt = RandomizedSearchCV(pipe5,param_distributions=paramlist5,n_jobs=-1,random_state=815)\n",
    "rsc5alt.fit(X_trlemma,y_train)\n",
    "rsc5alt.score(X_trlemma,y_train), rsc5alt.score(X_telemma,y_test)"
   ]
  },
  {
   "cell_type": "markdown",
   "id": "d951a1c4-0bbe-4a64-b099-a02e8be5cddf",
   "metadata": {},
   "source": [
    "But just as a test, I tested how lemmitization would work- and it marginally increased it even past the past gridsearch! We might as well go through the full gridsearch"
   ]
  },
  {
   "cell_type": "code",
   "execution_count": 71,
   "id": "5aacea4e-0aac-42a4-9c60-8fb77899f25d",
   "metadata": {},
   "outputs": [],
   "source": [
    "gs5alt = GridSearchCV(pipe5,param_grid=paramlist5,n_jobs=-1)\n"
   ]
  },
  {
   "cell_type": "code",
   "execution_count": 72,
   "id": "ea352cbe-dd59-4382-a3b0-8456aecca6e8",
   "metadata": {},
   "outputs": [
    {
     "data": {
      "text/plain": [
       "(0.7982898622047244, 0.6247462631481823, 782.0593791007996)"
      ]
     },
     "execution_count": 72,
     "metadata": {},
     "output_type": "execute_result"
    }
   ],
   "source": [
    "start_time=time.time()\n",
    "gs5alt.fit(X_trlemma,y_train)\n",
    "end_time=time.time()\n",
    "gs5alt.score(X_trlemma,y_train),gs5alt.score(X_telemma,y_test),end_time-start_time"
   ]
  },
  {
   "cell_type": "markdown",
   "id": "1d0059a5-1bf7-4c75-802c-c2603f4d7461",
   "metadata": {},
   "source": [
    "That's slightly worse on train *and* test score..."
   ]
  },
  {
   "cell_type": "code",
   "execution_count": 70,
   "id": "c9e7a8f7-8832-4ac9-88e7-78065f80dff6",
   "metadata": {},
   "outputs": [
    {
     "data": {
      "text/plain": [
       "<sklearn.metrics._plot.confusion_matrix.ConfusionMatrixDisplay at 0x14dbe4fa160>"
      ]
     },
     "execution_count": 70,
     "metadata": {},
     "output_type": "execute_result"
    },
    {
     "data": {
      "image/png": "[encoded data removed]",
      "text/plain": [
       "<Figure size 432x288 with 2 Axes>"
      ]
     },
     "metadata": {
      "needs_background": "light"
     },
     "output_type": "display_data"
    }
   ],
   "source": [
    "ConfusionMatrixDisplay.from_estimator(gs5,X_test,y_test,cmap='Greens')"
   ]
  },
  {
   "cell_type": "code",
   "execution_count": 75,
   "id": "5c3693b9-073b-4ca9-9ae7-fe1cd20c2390",
   "metadata": {},
   "outputs": [
    {
     "data": {
      "text/plain": [
       "({'mnb__alpha': 1,\n",
       "  'cv__stop_words': None,\n",
       "  'cv__ngram_range': (1, 2),\n",
       "  'cv__max_features': None,\n",
       "  'cv__max_df': 0.8},\n",
       " {'cv__max_df': 1.0,\n",
       "  'cv__max_features': None,\n",
       "  'cv__ngram_range': (1, 2),\n",
       "  'cv__stop_words': None,\n",
       "  'mnb__alpha': 5})"
      ]
     },
     "execution_count": 75,
     "metadata": {},
     "output_type": "execute_result"
    }
   ],
   "source": [
    "rsc5alt.best_params_, gs5alt.best_params_"
   ]
  },
  {
   "cell_type": "code",
   "execution_count": 76,
   "id": "c0a8f584-1ab7-4840-8b6a-d9bfecc4f23f",
   "metadata": {},
   "outputs": [
    {
     "data": {
      "text/html": [
       "<div>\n",
       "<style scoped>\n",
       "    .dataframe tbody tr th:only-of-type {\n",
       "        vertical-align: middle;\n",
       "    }\n",
       "\n",
       "    .dataframe tbody tr th {\n",
       "        vertical-align: top;\n",
       "    }\n",
       "\n",
       "    .dataframe thead th {\n",
       "        text-align: right;\n",
       "    }\n",
       "</style>\n",
       "<table border=\"1\" class=\"dataframe\">\n",
       "  <thead>\n",
       "    <tr style=\"text-align: right;\">\n",
       "      <th></th>\n",
       "      <th>mean_fit_time</th>\n",
       "      <th>std_fit_time</th>\n",
       "      <th>mean_score_time</th>\n",
       "      <th>std_score_time</th>\n",
       "      <th>param_mnb__alpha</th>\n",
       "      <th>param_cv__stop_words</th>\n",
       "      <th>param_cv__ngram_range</th>\n",
       "      <th>param_cv__max_features</th>\n",
       "      <th>param_cv__max_df</th>\n",
       "      <th>params</th>\n",
       "      <th>split0_test_score</th>\n",
       "      <th>split1_test_score</th>\n",
       "      <th>split2_test_score</th>\n",
       "      <th>split3_test_score</th>\n",
       "      <th>split4_test_score</th>\n",
       "      <th>mean_test_score</th>\n",
       "      <th>std_test_score</th>\n",
       "      <th>rank_test_score</th>\n",
       "    </tr>\n",
       "  </thead>\n",
       "  <tbody>\n",
       "    <tr>\n",
       "      <th>9</th>\n",
       "      <td>1.801799</td>\n",
       "      <td>0.182440</td>\n",
       "      <td>0.286472</td>\n",
       "      <td>0.058188</td>\n",
       "      <td>1</td>\n",
       "      <td>None</td>\n",
       "      <td>(1, 2)</td>\n",
       "      <td>None</td>\n",
       "      <td>0.8</td>\n",
       "      <td>{'mnb__alpha': 1, 'cv__stop_words': None, 'cv_...</td>\n",
       "      <td>0.611410</td>\n",
       "      <td>0.629709</td>\n",
       "      <td>0.617195</td>\n",
       "      <td>0.629191</td>\n",
       "      <td>0.631498</td>\n",
       "      <td>0.623801</td>\n",
       "      <td>0.008005</td>\n",
       "      <td>1</td>\n",
       "    </tr>\n",
       "    <tr>\n",
       "      <th>8</th>\n",
       "      <td>0.986287</td>\n",
       "      <td>0.197822</td>\n",
       "      <td>0.202252</td>\n",
       "      <td>0.005135</td>\n",
       "      <td>5</td>\n",
       "      <td>english</td>\n",
       "      <td>(1, 1)</td>\n",
       "      <td>None</td>\n",
       "      <td>0.6</td>\n",
       "      <td>{'mnb__alpha': 5, 'cv__stop_words': 'english',...</td>\n",
       "      <td>0.610026</td>\n",
       "      <td>0.608335</td>\n",
       "      <td>0.600431</td>\n",
       "      <td>0.615042</td>\n",
       "      <td>0.606429</td>\n",
       "      <td>0.608052</td>\n",
       "      <td>0.004766</td>\n",
       "      <td>2</td>\n",
       "    </tr>\n",
       "    <tr>\n",
       "      <th>4</th>\n",
       "      <td>1.980813</td>\n",
       "      <td>0.035081</td>\n",
       "      <td>0.340108</td>\n",
       "      <td>0.019503</td>\n",
       "      <td>1</td>\n",
       "      <td>None</td>\n",
       "      <td>(1, 2)</td>\n",
       "      <td>1500</td>\n",
       "      <td>1.0</td>\n",
       "      <td>{'mnb__alpha': 1, 'cv__stop_words': None, 'cv_...</td>\n",
       "      <td>0.602030</td>\n",
       "      <td>0.612948</td>\n",
       "      <td>0.599354</td>\n",
       "      <td>0.610735</td>\n",
       "      <td>0.608582</td>\n",
       "      <td>0.606730</td>\n",
       "      <td>0.005189</td>\n",
       "      <td>3</td>\n",
       "    </tr>\n",
       "    <tr>\n",
       "      <th>1</th>\n",
       "      <td>0.909003</td>\n",
       "      <td>0.017574</td>\n",
       "      <td>0.202368</td>\n",
       "      <td>0.009502</td>\n",
       "      <td>0.5</td>\n",
       "      <td>english</td>\n",
       "      <td>(1, 1)</td>\n",
       "      <td>None</td>\n",
       "      <td>0.6</td>\n",
       "      <td>{'mnb__alpha': 0.5, 'cv__stop_words': 'english...</td>\n",
       "      <td>0.606643</td>\n",
       "      <td>0.604798</td>\n",
       "      <td>0.603507</td>\n",
       "      <td>0.609505</td>\n",
       "      <td>0.606275</td>\n",
       "      <td>0.606145</td>\n",
       "      <td>0.002016</td>\n",
       "      <td>4</td>\n",
       "    </tr>\n",
       "  </tbody>\n",
       "</table>\n",
       "</div>"
      ],
      "text/plain": [
       "   mean_fit_time  std_fit_time  mean_score_time  std_score_time  \\\n",
       "9       1.801799      0.182440         0.286472        0.058188   \n",
       "8       0.986287      0.197822         0.202252        0.005135   \n",
       "4       1.980813      0.035081         0.340108        0.019503   \n",
       "1       0.909003      0.017574         0.202368        0.009502   \n",
       "\n",
       "  param_mnb__alpha param_cv__stop_words param_cv__ngram_range  \\\n",
       "9                1                 None                (1, 2)   \n",
       "8                5              english                (1, 1)   \n",
       "4                1                 None                (1, 2)   \n",
       "1              0.5              english                (1, 1)   \n",
       "\n",
       "  param_cv__max_features param_cv__max_df  \\\n",
       "9                   None              0.8   \n",
       "8                   None              0.6   \n",
       "4                   1500              1.0   \n",
       "1                   None              0.6   \n",
       "\n",
       "                                              params  split0_test_score  \\\n",
       "9  {'mnb__alpha': 1, 'cv__stop_words': None, 'cv_...           0.611410   \n",
       "8  {'mnb__alpha': 5, 'cv__stop_words': 'english',...           0.610026   \n",
       "4  {'mnb__alpha': 1, 'cv__stop_words': None, 'cv_...           0.602030   \n",
       "1  {'mnb__alpha': 0.5, 'cv__stop_words': 'english...           0.606643   \n",
       "\n",
       "   split1_test_score  split2_test_score  split3_test_score  split4_test_score  \\\n",
       "9           0.629709           0.617195           0.629191           0.631498   \n",
       "8           0.608335           0.600431           0.615042           0.606429   \n",
       "4           0.612948           0.599354           0.610735           0.608582   \n",
       "1           0.604798           0.603507           0.609505           0.606275   \n",
       "\n",
       "   mean_test_score  std_test_score  rank_test_score  \n",
       "9         0.623801        0.008005                1  \n",
       "8         0.608052        0.004766                2  \n",
       "4         0.606730        0.005189                3  \n",
       "1         0.606145        0.002016                4  "
      ]
     },
     "execution_count": 76,
     "metadata": {},
     "output_type": "execute_result"
    }
   ],
   "source": [
    "pd.DataFrame(rsc5alt.cv_results_).sort_values(by='mean_test_score',ascending=False).head(4)"
   ]
  },
  {
   "cell_type": "code",
   "execution_count": 77,
   "id": "cd78d4f8-904e-4b0e-84b6-976715b0c992",
   "metadata": {},
   "outputs": [
    {
     "data": {
      "text/html": [
       "<div>\n",
       "<style scoped>\n",
       "    .dataframe tbody tr th:only-of-type {\n",
       "        vertical-align: middle;\n",
       "    }\n",
       "\n",
       "    .dataframe tbody tr th {\n",
       "        vertical-align: top;\n",
       "    }\n",
       "\n",
       "    .dataframe thead th {\n",
       "        text-align: right;\n",
       "    }\n",
       "</style>\n",
       "<table border=\"1\" class=\"dataframe\">\n",
       "  <thead>\n",
       "    <tr style=\"text-align: right;\">\n",
       "      <th></th>\n",
       "      <th>mean_fit_time</th>\n",
       "      <th>std_fit_time</th>\n",
       "      <th>mean_score_time</th>\n",
       "      <th>std_score_time</th>\n",
       "      <th>param_cv__max_df</th>\n",
       "      <th>param_cv__max_features</th>\n",
       "      <th>param_cv__ngram_range</th>\n",
       "      <th>param_cv__stop_words</th>\n",
       "      <th>param_mnb__alpha</th>\n",
       "      <th>params</th>\n",
       "      <th>split0_test_score</th>\n",
       "      <th>split1_test_score</th>\n",
       "      <th>split2_test_score</th>\n",
       "      <th>split3_test_score</th>\n",
       "      <th>split4_test_score</th>\n",
       "      <th>mean_test_score</th>\n",
       "      <th>std_test_score</th>\n",
       "      <th>rank_test_score</th>\n",
       "    </tr>\n",
       "  </thead>\n",
       "  <tbody>\n",
       "    <tr>\n",
       "      <th>231</th>\n",
       "      <td>1.963355</td>\n",
       "      <td>0.024017</td>\n",
       "      <td>0.347187</td>\n",
       "      <td>0.012220</td>\n",
       "      <td>0.8</td>\n",
       "      <td>None</td>\n",
       "      <td>(1, 2)</td>\n",
       "      <td>None</td>\n",
       "      <td>5</td>\n",
       "      <td>{'cv__max_df': 0.8, 'cv__max_features': None, ...</td>\n",
       "      <td>0.61587</td>\n",
       "      <td>0.628325</td>\n",
       "      <td>0.616733</td>\n",
       "      <td>0.629499</td>\n",
       "      <td>0.631037</td>\n",
       "      <td>0.624293</td>\n",
       "      <td>0.006587</td>\n",
       "      <td>1</td>\n",
       "    </tr>\n",
       "    <tr>\n",
       "      <th>351</th>\n",
       "      <td>1.825305</td>\n",
       "      <td>0.009600</td>\n",
       "      <td>0.336915</td>\n",
       "      <td>0.018133</td>\n",
       "      <td>0.6</td>\n",
       "      <td>None</td>\n",
       "      <td>(1, 2)</td>\n",
       "      <td>None</td>\n",
       "      <td>5</td>\n",
       "      <td>{'cv__max_df': 0.6, 'cv__max_features': None, ...</td>\n",
       "      <td>0.61587</td>\n",
       "      <td>0.628325</td>\n",
       "      <td>0.616733</td>\n",
       "      <td>0.629499</td>\n",
       "      <td>0.631037</td>\n",
       "      <td>0.624293</td>\n",
       "      <td>0.006587</td>\n",
       "      <td>1</td>\n",
       "    </tr>\n",
       "    <tr>\n",
       "      <th>111</th>\n",
       "      <td>2.110857</td>\n",
       "      <td>0.190354</td>\n",
       "      <td>0.521728</td>\n",
       "      <td>0.095658</td>\n",
       "      <td>1.0</td>\n",
       "      <td>None</td>\n",
       "      <td>(1, 2)</td>\n",
       "      <td>None</td>\n",
       "      <td>5</td>\n",
       "      <td>{'cv__max_df': 1.0, 'cv__max_features': None, ...</td>\n",
       "      <td>0.61587</td>\n",
       "      <td>0.628325</td>\n",
       "      <td>0.616733</td>\n",
       "      <td>0.629499</td>\n",
       "      <td>0.631037</td>\n",
       "      <td>0.624293</td>\n",
       "      <td>0.006587</td>\n",
       "      <td>1</td>\n",
       "    </tr>\n",
       "    <tr>\n",
       "      <th>109</th>\n",
       "      <td>1.984388</td>\n",
       "      <td>0.033456</td>\n",
       "      <td>0.340205</td>\n",
       "      <td>0.012429</td>\n",
       "      <td>1.0</td>\n",
       "      <td>None</td>\n",
       "      <td>(1, 2)</td>\n",
       "      <td>None</td>\n",
       "      <td>1</td>\n",
       "      <td>{'cv__max_df': 1.0, 'cv__max_features': None, ...</td>\n",
       "      <td>0.61141</td>\n",
       "      <td>0.629709</td>\n",
       "      <td>0.617195</td>\n",
       "      <td>0.629191</td>\n",
       "      <td>0.631498</td>\n",
       "      <td>0.623801</td>\n",
       "      <td>0.008005</td>\n",
       "      <td>4</td>\n",
       "    </tr>\n",
       "  </tbody>\n",
       "</table>\n",
       "</div>"
      ],
      "text/plain": [
       "     mean_fit_time  std_fit_time  mean_score_time  std_score_time  \\\n",
       "231       1.963355      0.024017         0.347187        0.012220   \n",
       "351       1.825305      0.009600         0.336915        0.018133   \n",
       "111       2.110857      0.190354         0.521728        0.095658   \n",
       "109       1.984388      0.033456         0.340205        0.012429   \n",
       "\n",
       "    param_cv__max_df param_cv__max_features param_cv__ngram_range  \\\n",
       "231              0.8                   None                (1, 2)   \n",
       "351              0.6                   None                (1, 2)   \n",
       "111              1.0                   None                (1, 2)   \n",
       "109              1.0                   None                (1, 2)   \n",
       "\n",
       "    param_cv__stop_words param_mnb__alpha  \\\n",
       "231                 None                5   \n",
       "351                 None                5   \n",
       "111                 None                5   \n",
       "109                 None                1   \n",
       "\n",
       "                                                params  split0_test_score  \\\n",
       "231  {'cv__max_df': 0.8, 'cv__max_features': None, ...            0.61587   \n",
       "351  {'cv__max_df': 0.6, 'cv__max_features': None, ...            0.61587   \n",
       "111  {'cv__max_df': 1.0, 'cv__max_features': None, ...            0.61587   \n",
       "109  {'cv__max_df': 1.0, 'cv__max_features': None, ...            0.61141   \n",
       "\n",
       "     split1_test_score  split2_test_score  split3_test_score  \\\n",
       "231           0.628325           0.616733           0.629499   \n",
       "351           0.628325           0.616733           0.629499   \n",
       "111           0.628325           0.616733           0.629499   \n",
       "109           0.629709           0.617195           0.629191   \n",
       "\n",
       "     split4_test_score  mean_test_score  std_test_score  rank_test_score  \n",
       "231           0.631037         0.624293        0.006587                1  \n",
       "351           0.631037         0.624293        0.006587                1  \n",
       "111           0.631037         0.624293        0.006587                1  \n",
       "109           0.631498         0.623801        0.008005                4  "
      ]
     },
     "execution_count": 77,
     "metadata": {},
     "output_type": "execute_result"
    }
   ],
   "source": [
    "pd.DataFrame(gs5alt.cv_results_).sort_values(by='mean_test_score',ascending=False).head(4)"
   ]
  },
  {
   "cell_type": "markdown",
   "id": "766ee1d5-e788-47d1-b819-54f6d3b8887a",
   "metadata": {},
   "source": [
    "Let's see if by changing the MNB alpha, we can improve the original gridsearch past the lemmatized randomsearch one"
   ]
  },
  {
   "cell_type": "code",
   "execution_count": 81,
   "id": "40e0a151-6471-4657-9f1b-1ee12fb3d8b6",
   "metadata": {},
   "outputs": [],
   "source": [
    "paramlist5_1 = {\n",
    "    'cv__max_features' : [None],\n",
    "    'cv__max_df' : [0.6,0.8,1.0],\n",
    "    'cv__ngram_range' : [(1,2)],\n",
    "    'mnb__alpha' : [1,4,5,6,7,10]\n",
    "}"
   ]
  },
  {
   "cell_type": "code",
   "execution_count": 83,
   "id": "a01d074e-24dd-4ee0-bc18-baf6ee5527d3",
   "metadata": {},
   "outputs": [],
   "source": [
    "gs5_1 = GridSearchCV(pipe5,param_grid=paramlist5_1,n_jobs=-1)"
   ]
  },
  {
   "cell_type": "code",
   "execution_count": 84,
   "id": "089889ab-d9f9-4117-861d-4419ef476de0",
   "metadata": {},
   "outputs": [
    {
     "data": {
      "text/plain": [
       "(0.8061023622047244, 0.6271452297471858, 52.08309197425842)"
      ]
     },
     "execution_count": 84,
     "metadata": {},
     "output_type": "execute_result"
    }
   ],
   "source": [
    "start_time=time.time()\n",
    "gs5_1.fit(X_train,y_train)\n",
    "end_time=time.time()\n",
    "gs5_1.score(X_train,y_train),gs5_1.score(X_test,y_test),end_time-start_time"
   ]
  },
  {
   "cell_type": "code",
   "execution_count": 85,
   "id": "61a18e85-b9ed-4816-b4ba-2732a169b945",
   "metadata": {},
   "outputs": [
    {
     "data": {
      "text/plain": [
       "{'cv__max_df': 1.0,\n",
       " 'cv__max_features': None,\n",
       " 'cv__ngram_range': (1, 2),\n",
       " 'cv__stop_words': None,\n",
       " 'mnb__alpha': 5}"
      ]
     },
     "execution_count": 85,
     "metadata": {},
     "output_type": "execute_result"
    }
   ],
   "source": [
    "gs5.best_params_"
   ]
  },
  {
   "cell_type": "code",
   "execution_count": 87,
   "id": "ca3086a9-3fbd-47aa-b909-e22651b896ac",
   "metadata": {},
   "outputs": [
    {
     "data": {
      "text/plain": [
       "<sklearn.metrics._plot.confusion_matrix.ConfusionMatrixDisplay at 0x14dbe5f40a0>"
      ]
     },
     "execution_count": 87,
     "metadata": {},
     "output_type": "execute_result"
    },
    {
     "data": {
      "image/png": "[encoded data removed]",
      "text/plain": [
       "<Figure size 432x288 with 2 Axes>"
      ]
     },
     "metadata": {
      "needs_background": "light"
     },
     "output_type": "display_data"
    }
   ],
   "source": [
    "ConfusionMatrixDisplay.from_estimator(gs5,X_test,y_test,cmap='Greens')"
   ]
  },
  {
   "cell_type": "markdown",
   "id": "265ed5ad-92ac-491a-b250-a5327501544d",
   "metadata": {},
   "source": [
    "So far, it's only been the case in the self-text that we had odd patterns where the model was better at predicting one class over the other despite having an almost perfectly even split-set. We could try a extratreesclassifier, which had that property in self-text. Along with that we could try a Gaussian Naive-Bayes classifier with Tfidf- and even a voting classifier if we can figure out some kind of variance we can exploit. But after that, we should probably proceed into feature importance, odd passages that stand out and had difficulty being fit, etc"
   ]
  },
  {
   "cell_type": "code",
   "execution_count": 28,
   "id": "6a95c6d3-5c26-4c39-94be-93dbecc9d99e",
   "metadata": {},
   "outputs": [],
   "source": [
    "pipe6 = Pipeline([\n",
    "    ('cv', CountVectorizer()),\n",
    "    ('etc', ExtraTreesClassifier(n_jobs=-1,random_state=815))\n",
    "])"
   ]
  },
  {
   "cell_type": "code",
   "execution_count": 29,
   "id": "18984815-5ef1-4f38-a883-cfba87e7c42e",
   "metadata": {},
   "outputs": [],
   "source": [
    "paramlist6 = {\n",
    "    'cv__max_df' : [0.8,0.9,1],\n",
    "    'cv__ngram_range' : [(1,1),(1,2),(2,2)],\n",
    "    'cv__strip_accents' : ['unicode'],\n",
    "    'cv__max_features' : [None,1000,750],\n",
    "    'etc__min_samples_split' : [2,3,4,5,6,7],\n",
    "    'etc__criterion' : ['gini','entropy'],\n",
    "    'etc__n_estimators' : [100,50,200,75]\n",
    "}"
   ]
  },
  {
   "cell_type": "code",
   "execution_count": 96,
   "id": "e13330d6-5f80-4531-b2fd-28c2a9f8380e",
   "metadata": {},
   "outputs": [],
   "source": [
    "rsc6 = RandomizedSearchCV(pipe6, param_distributions=paramlist6,n_iter=20,n_jobs=-1)"
   ]
  },
  {
   "cell_type": "code",
   "execution_count": 99,
   "id": "771723c8-e9f2-4c03-acc3-1bdd6cd0637c",
   "metadata": {},
   "outputs": [
    {
     "data": {
      "text/plain": [
       "RandomizedSearchCV(estimator=Pipeline(steps=[('cv', CountVectorizer()),\n",
       "                                             ('etc',\n",
       "                                              ExtraTreesClassifier(n_jobs=-1,\n",
       "                                                                   random_state=815))]),\n",
       "                   n_iter=20, n_jobs=-1,\n",
       "                   param_distributions={'cv__max_df': [0.8, 0.9, 1],\n",
       "                                        'cv__max_features': [None, 1000, 750],\n",
       "                                        'cv__ngram_range': [(1, 1), (1, 2),\n",
       "                                                            (2, 2)],\n",
       "                                        'cv__strip_accents': ['unicode'],\n",
       "                                        'etc__criterion': ['gini', 'entropy'],\n",
       "                                        'etc__min_samples_split': [2, 3, 4, 5,\n",
       "                                                                   6, 7],\n",
       "                                        'etc__n_estimators': [100, 50, 200,\n",
       "                                                              75]})"
      ]
     },
     "execution_count": 99,
     "metadata": {},
     "output_type": "execute_result"
    }
   ],
   "source": [
    "rsc6.fit(X_train,y_train)"
   ]
  },
  {
   "cell_type": "code",
   "execution_count": 100,
   "id": "4c3a6c5e-807e-4686-b747-e5e3e4ed0885",
   "metadata": {},
   "outputs": [
    {
     "data": {
      "text/plain": [
       "(0.9933255413385826, 0.6225318324414099)"
      ]
     },
     "execution_count": 100,
     "metadata": {},
     "output_type": "execute_result"
    }
   ],
   "source": [
    "rsc6.score(X_train,y_train), rsc6.score(X_test,y_test)"
   ]
  },
  {
   "cell_type": "code",
   "execution_count": 101,
   "id": "26ac69ab-f5cc-449d-839d-149629e6ee59",
   "metadata": {},
   "outputs": [],
   "source": [
    "with open('C:/Users/Karthik/Documents/DSIProj3largedata/extrapickledtreesttitle.pkl','wb') as pickle_out:\n",
    "    pickle.dump(rsc6,pickle_out)"
   ]
  },
  {
   "cell_type": "code",
   "execution_count": 32,
   "id": "7b3644d1-d0da-4034-9770-b2f6ac0232db",
   "metadata": {},
   "outputs": [],
   "source": [
    "with open('C:/Users/Karthik/Documents/DSIProj3largedata/extrapickledtreesttitle.pkl','rb') as x:\n",
    "    rsc6 = pickle.load(x)"
   ]
  },
  {
   "cell_type": "code",
   "execution_count": 33,
   "id": "8871486a-5134-42bc-8eb9-aed195ea437d",
   "metadata": {},
   "outputs": [
    {
     "data": {
      "text/plain": [
       "{'etc__n_estimators': 200,\n",
       " 'etc__min_samples_split': 6,\n",
       " 'etc__criterion': 'entropy',\n",
       " 'cv__strip_accents': 'unicode',\n",
       " 'cv__ngram_range': (1, 2),\n",
       " 'cv__max_features': None,\n",
       " 'cv__max_df': 0.8}"
      ]
     },
     "execution_count": 33,
     "metadata": {},
     "output_type": "execute_result"
    }
   ],
   "source": [
    "rsc6.best_params_"
   ]
  },
  {
   "cell_type": "code",
   "execution_count": 106,
   "id": "660df472-4503-4356-a8c7-db83a18b6af9",
   "metadata": {},
   "outputs": [
    {
     "data": {
      "image/png": "[encoded data removed]",
      "text/plain": [
       "<Figure size 432x288 with 2 Axes>"
      ]
     },
     "metadata": {
      "needs_background": "light"
     },
     "output_type": "display_data"
    }
   ],
   "source": [
    "ConfusionMatrixDisplay.from_estimator(rsc6,X_test,y_test,cmap='Greens');"
   ]
  },
  {
   "cell_type": "code",
   "execution_count": 127,
   "id": "42bb1617-3109-44d9-b1cb-024e59a97320",
   "metadata": {},
   "outputs": [],
   "source": [
    "pipe7 = Pipeline([\n",
    "    ('tf',TfidfVectorizer(strip_accents='unicode',max_features=1000)),\n",
    "    ('ft',FunctionTransformer(lambda x: x.todense(),accept_sparse=True)),\n",
    "    ('gnb',GaussianNB())\n",
    "])"
   ]
  },
  {
   "cell_type": "markdown",
   "id": "9b26c7e9-d819-4b08-8fc3-d82f521bede7",
   "metadata": {},
   "source": [
    "https://stackoverflow.com/questions/28384680/scikit-learns-pipeline-a-sparse-matrix-was-passed-but-dense-data-is-required taken from help on this page"
   ]
  },
  {
   "cell_type": "code",
   "execution_count": 133,
   "id": "a2cb61ad-2f73-44a7-99fb-3f9a92873281",
   "metadata": {},
   "outputs": [],
   "source": [
    "warnings.filterwarnings('ignore')"
   ]
  },
  {
   "cell_type": "code",
   "execution_count": 134,
   "id": "f125e9cb-ad03-4bca-a53f-997110689112",
   "metadata": {},
   "outputs": [
    {
     "data": {
      "text/plain": [
       "(0.6200787401574803, 0.5805499169588485, 1.1520576477050781)"
      ]
     },
     "execution_count": 134,
     "metadata": {},
     "output_type": "execute_result"
    }
   ],
   "source": [
    "start_time=time.time()\n",
    "pipe7.fit(X_train,y_train)\n",
    "end_time=time.time()\n",
    "pipe7.score(X_train,y_train),pipe7.score(X_test,y_test),end_time-start_time\n"
   ]
  },
  {
   "cell_type": "code",
   "execution_count": 136,
   "id": "5748351f-88db-4803-9670-b8f837d39902",
   "metadata": {},
   "outputs": [],
   "source": [
    "paramlist7 = {\n",
    "    'tf__max_features' : [1000,1250,750],\n",
    "    'tf__stop_words' : ['english',None],\n",
    "    'tf__ngram_range' : [(1,1),(1,2),(1,3)],\n",
    "    'tf__max_df' : [1,0.9,0.8],\n",
    "    'tf__norm' : ['l1','l2'],\n",
    "    'gnb__var_smoothing' : [1e-9,1e-8,0,2e-9]\n",
    "}"
   ]
  },
  {
   "cell_type": "code",
   "execution_count": 137,
   "id": "ab6a1976-4e07-4846-878d-894e58fe5a2d",
   "metadata": {},
   "outputs": [],
   "source": [
    "gs7 = GridSearchCV(pipe7,param_grid=paramlist7,n_jobs=-1)"
   ]
  },
  {
   "cell_type": "code",
   "execution_count": 138,
   "id": "3bcdef51-f527-4a85-a78a-b5409d1c7446",
   "metadata": {},
   "outputs": [
    {
     "data": {
      "text/plain": [
       "(0.6327202263779528, 0.5967890754751799, 1779.7616064548492)"
      ]
     },
     "execution_count": 138,
     "metadata": {},
     "output_type": "execute_result"
    }
   ],
   "source": [
    "start_time=time.time()\n",
    "gs7.fit(X_train,y_train)\n",
    "end_time=time.time()\n",
    "gs7.score(X_train,y_train),gs7.score(X_test,y_test),end_time-start_time"
   ]
  },
  {
   "cell_type": "code",
   "execution_count": 139,
   "id": "1b30306e-27f1-4617-a185-6b2e78d251e4",
   "metadata": {},
   "outputs": [
    {
     "data": {
      "text/plain": [
       "{'gnb__var_smoothing': 1e-08,\n",
       " 'tf__max_df': 0.9,\n",
       " 'tf__max_features': 1250,\n",
       " 'tf__ngram_range': (1, 2),\n",
       " 'tf__norm': 'l2',\n",
       " 'tf__stop_words': None}"
      ]
     },
     "execution_count": 139,
     "metadata": {},
     "output_type": "execute_result"
    }
   ],
   "source": [
    "gs7.best_params_"
   ]
  },
  {
   "cell_type": "code",
   "execution_count": 141,
   "id": "11ffdcf1-6dd0-4cf8-a274-d5400ece71f0",
   "metadata": {},
   "outputs": [],
   "source": [
    "rsc7alt = RandomizedSearchCV(pipe7,param_distributions=paramlist7,n_jobs=-1)"
   ]
  },
  {
   "cell_type": "code",
   "execution_count": 143,
   "id": "1125740a-4368-45e2-80b9-3eb6546eb7f7",
   "metadata": {},
   "outputs": [
    {
     "data": {
      "text/plain": [
       "(0.6278297244094488, 0.585440118102971)"
      ]
     },
     "execution_count": 143,
     "metadata": {},
     "output_type": "execute_result"
    }
   ],
   "source": [
    "rsc7alt.fit(X_trlemma,y_train)\n",
    "rsc7alt.score(X_trlemma,y_train),rsc7alt.score(X_telemma,y_test)"
   ]
  },
  {
   "cell_type": "markdown",
   "id": "e6acdbeb-7c56-41d2-bd75-7032f8f4b2eb",
   "metadata": {},
   "source": [
    "All of these Gaussian Naive Bayes have been bad. Let's collect all the classifiers we've looked at, see if any stand out, and then see if we can't mash them together"
   ]
  },
  {
   "cell_type": "code",
   "execution_count": 145,
   "id": "fa63b330-ff6b-41de-8e04-9afa2a8fe2d5",
   "metadata": {},
   "outputs": [
    {
     "data": {
      "text/plain": [
       "(0.6118287506920096, 0.613858645506551, 0.6169034877283631, 0.6259457464476841)"
      ]
     },
     "execution_count": 145,
     "metadata": {},
     "output_type": "execute_result"
    }
   ],
   "source": [
    "pipe1.score(X_test,y_test),rsc4.score(X_test,y_test),rsc4_1.score(X_test,y_test),rsc5.score(X_test,y_test)"
   ]
  },
  {
   "cell_type": "code",
   "execution_count": 157,
   "id": "3b31a603-a4ec-469b-b38c-3b3777c6439f",
   "metadata": {},
   "outputs": [
    {
     "data": {
      "text/plain": [
       "(0.6290828566156117, 0.6225318324414099, 0.585440118102971)"
      ]
     },
     "execution_count": 157,
     "metadata": {},
     "output_type": "execute_result"
    }
   ],
   "source": [
    "rsc5alt.score(X_telemma,y_test),rsc6.score(X_test,y_test), rsc7alt.score(X_telemma,y_test)"
   ]
  },
  {
   "cell_type": "code",
   "execution_count": 155,
   "id": "a98f7fd6-86b0-4bfd-a5da-d50cb7fe023e",
   "metadata": {},
   "outputs": [
    {
     "data": {
      "text/plain": [
       "(0.6271452297471858,\n",
       " 0.6271452297471858,\n",
       " 0.6247462631481823,\n",
       " 0.5967890754751799)"
      ]
     },
     "execution_count": 155,
     "metadata": {},
     "output_type": "execute_result"
    }
   ],
   "source": [
    "gs5.score(X_test,y_test), gs5_1.score(X_test,y_test), gs5alt.score(X_telemma,y_test), gs7.score(X_test,y_test)"
   ]
  },
  {
   "cell_type": "code",
   "execution_count": 154,
   "id": "ad839316-4f75-485b-8111-5f642fff639e",
   "metadata": {},
   "outputs": [
    {
     "data": {
      "text/plain": [
       "Pipeline(steps=[('cv',\n",
       "                 CountVectorizer(max_df=0.8, ngram_range=(1, 2),\n",
       "                                 strip_accents='unicode')),\n",
       "                ('mnb', MultinomialNB(alpha=1))])"
      ]
     },
     "execution_count": 154,
     "metadata": {},
     "output_type": "execute_result"
    }
   ],
   "source": [
    "rsc5.best_estimator_"
   ]
  },
  {
   "cell_type": "markdown",
   "id": "f3abfbc9-53f9-441c-8afb-b5174b53b482",
   "metadata": {},
   "source": [
    "So the best ones are gs5 (Mulitnomial NB with CountVec), rsc6 (ExtraTrees with CountVec), rsc5alt (Multinomial NB with CountVec using lemmatized data). It's minor, but a real success for Multinomial NB, which shows up in all the top results here"
   ]
  },
  {
   "cell_type": "code",
   "execution_count": 34,
   "id": "dd9bb1b4-dfdd-4035-96b4-dcdc13e1af24",
   "metadata": {},
   "outputs": [],
   "source": [
    "def swap_lemma(X):\n",
    "    if len(X)>12000:\n",
    "        return X_trlemma\n",
    "    if len(X)<12000:\n",
    "        return X_telemma\n",
    "    #just a sloppy function to return the lemmas I already had stored. If you wanted to do this at scale, you'd be able to (ex) \n",
    "    #differentiate train/test by total size/4, and you could call another function to actually convert the function to its\n",
    "    #lemmatized form. Of course, this would be disastrous in an RCV/GSCV where it would be called each time and add unneccessary\n",
    "    #time calculating the lemmas (if you used spacy 'en...trf', the process could be in the hours per run). But this function works\n",
    "    #fine for what it's meant to do"
   ]
  },
  {
   "cell_type": "code",
   "execution_count": 35,
   "id": "262174eb-2cf6-41d9-9a3a-d9f398f3b502",
   "metadata": {},
   "outputs": [
    {
     "data": {
      "text/plain": [
       "CountVectorizer(max_df=0.8, ngram_range=(1, 2), strip_accents='unicode')"
      ]
     },
     "execution_count": 35,
     "metadata": {},
     "output_type": "execute_result"
    }
   ],
   "source": [
    "rsc5alt.best_estimator_.steps[0][1]"
   ]
  },
  {
   "cell_type": "code",
   "execution_count": 68,
   "id": "cab86c89-75fc-4ef3-a6d6-fb02d5d720ba",
   "metadata": {},
   "outputs": [],
   "source": [
    "pipersc5alt = Pipeline([\n",
    "    ('ft',FunctionTransformer(swap_lemma)),\n",
    "    ('rsc5alt',rsc5alt.best_estimator_)\n",
    "])"
   ]
  },
  {
   "cell_type": "code",
   "execution_count": 40,
   "id": "ce4acf0e-1e72-432f-b75b-d52506925954",
   "metadata": {},
   "outputs": [],
   "source": [
    "vc = VotingClassifier([\n",
    "    ('mnb',gs5.best_estimator_),\n",
    "    ('etc',rsc6.best_estimator_),\n",
    "    ('mnblemma',pipersc5alt)\n",
    "],voting='soft',n_jobs=-1)"
   ]
  },
  {
   "cell_type": "code",
   "execution_count": 41,
   "id": "a05b11ca-2bb4-44f3-a003-74bba355c113",
   "metadata": {},
   "outputs": [],
   "source": [
    "start_time = time.time()\n",
    "vc.fit(X_train,y_train),\n",
    "end_time = time.time()\n"
   ]
  },
  {
   "cell_type": "code",
   "execution_count": 42,
   "id": "8ebc62a6-d669-49e4-abe4-ba6960940477",
   "metadata": {},
   "outputs": [
    {
     "data": {
      "text/plain": [
       "(0.9286109744094488, 0.6336962539213877, 340.1436245441437)"
      ]
     },
     "execution_count": 42,
     "metadata": {},
     "output_type": "execute_result"
    }
   ],
   "source": [
    "vc.score(X_train,y_train),vc.score(X_test,y_test),end_time-start_time"
   ]
  },
  {
   "cell_type": "markdown",
   "id": "957a085c-d2c3-4e17-9317-ebd4e89f5c15",
   "metadata": {},
   "source": [
    "It's not a crazy increase, but it *is* something"
   ]
  },
  {
   "cell_type": "markdown",
   "id": "963f5e76-62e3-4230-8e9f-c9ab8d7f9210",
   "metadata": {},
   "source": [
    "What we'll focus now is looking at what succeeded where, what are problem titles in general, points to improve, in essence"
   ]
  },
  {
   "cell_type": "code",
   "execution_count": 182,
   "id": "53603a2e-42ea-436c-b482-94b2ae99e29b",
   "metadata": {},
   "outputs": [
    {
     "data": {
      "image/png": "[encoded data removed]",
      "text/plain": [
       "<Figure size 432x288 with 2 Axes>"
      ]
     },
     "metadata": {
      "needs_background": "light"
     },
     "output_type": "display_data"
    }
   ],
   "source": [
    "ConfusionMatrixDisplay.from_estimator(vc,X_test,y_test,cmap='Greens');"
   ]
  },
  {
   "cell_type": "code",
   "execution_count": 219,
   "id": "6f56aa8d-5ec5-492d-b41f-c4788a75c706",
   "metadata": {},
   "outputs": [
    {
     "data": {
      "image/png": "[encoded data removed]",
      "text/plain": [
       "<Figure size 432x288 with 1 Axes>"
      ]
     },
     "metadata": {
      "needs_background": "light"
     },
     "output_type": "display_data"
    }
   ],
   "source": [
    "RocCurveDisplay.from_predictions(y_test,vc.predict_proba(X_test)[:,0],pos_label='r/Cooking')\n",
    "sns.lineplot(x=np.arange(0,1,.01),y=np.arange(0,1,.01))\n",
    "plt.title('ROC curve of Voting Classifier mix of MultiNomial NB, ExtraTrees for Sub Titles');"
   ]
  },
  {
   "cell_type": "markdown",
   "id": "386f809b-8037-478a-bbe7-5e21d5dc9673",
   "metadata": {},
   "source": [
    "Just looking at it, it looks pretty smoothed over the top, as fitting from a classifier that is essentially a smoothing over of 3 methods"
   ]
  },
  {
   "cell_type": "code",
   "execution_count": 215,
   "id": "908487cf-4e31-4d8a-8c67-67ef00380d1e",
   "metadata": {},
   "outputs": [
    {
     "data": {
      "image/png": "[encoded data removed]",
      "text/plain": [
       "<Figure size 432x288 with 1 Axes>"
      ]
     },
     "metadata": {
      "needs_background": "light"
     },
     "output_type": "display_data"
    }
   ],
   "source": [
    "RocCurveDisplay.from_predictions(y_test,rsc6.best_estimator_.predict_proba(X_test)[:,0],pos_label='r/Cooking')\n",
    "sns.lineplot(x=np.arange(0,1,.01),y=np.arange(0,1,.01))\n",
    "plt.title('ROC curve for ExtraTrees Classifier (Sub Title)');"
   ]
  },
  {
   "cell_type": "code",
   "execution_count": 217,
   "id": "0b35565d-a3cd-4a15-95ea-8c5f9341be5e",
   "metadata": {},
   "outputs": [
    {
     "data": {
      "image/png": "[encoded data removed]",
      "text/plain": [
       "<Figure size 432x288 with 1 Axes>"
      ]
     },
     "metadata": {
      "needs_background": "light"
     },
     "output_type": "display_data"
    }
   ],
   "source": [
    "RocCurveDisplay.from_predictions(y_test,gs5.best_estimator_.predict_proba(X_test)[:,0],pos_label='r/Cooking')\n",
    "sns.lineplot(x=np.arange(0,1,.01),y=np.arange(0,1,.01))\n",
    "plt.title('ROC curve for Multinomial Bayes Classifier (Sub Title)');"
   ]
  },
  {
   "cell_type": "markdown",
   "id": "790fa487-f6f6-4661-b10f-5ce1092c63b4",
   "metadata": {},
   "source": [
    "Admittedly, they all look pretty similar"
   ]
  },
  {
   "cell_type": "markdown",
   "id": "dc5b9b40-8892-493a-afd0-a062ad12992d",
   "metadata": {},
   "source": [
    "Just one last check, let's make a voting classifier where we don't have 2 classifiers on the same method. So, instead of normal MNB, let's use rsc4_1, the RFC"
   ]
  },
  {
   "cell_type": "code",
   "execution_count": 46,
   "id": "885762dc-b47b-4c59-93bd-6c7e9563bc41",
   "metadata": {},
   "outputs": [],
   "source": [
    "vc2 = VotingClassifier([\n",
    "    ('rfcpl',rsc4_1),\n",
    "    ('etc',rsc6.best_estimator_),\n",
    "    ('mnblemma',pipersc5alt)\n",
    "],voting='soft',n_jobs=-1)"
   ]
  },
  {
   "cell_type": "code",
   "execution_count": 47,
   "id": "fb62441f-5d76-4c43-afb1-13cc43d7ac17",
   "metadata": {},
   "outputs": [
    {
     "data": {
      "text/plain": [
       "(0.9814837598425197, 0.6337885218675032, 378.8243098258972)"
      ]
     },
     "execution_count": 47,
     "metadata": {},
     "output_type": "execute_result"
    }
   ],
   "source": [
    "start_time = time.time()\n",
    "vc2.fit(X_train,y_train),\n",
    "end_time = time.time()\n",
    "\n",
    "\n",
    "vc2.score(X_train,y_train),vc2.score(X_test,y_test),end_time-start_time"
   ]
  },
  {
   "cell_type": "markdown",
   "id": "f9848dd0-2707-4b41-9088-fa53a248f6ae",
   "metadata": {},
   "source": [
    "After all that hubbub, it's .01 percent higher. But it is an improvement! (Probably non-existent on a different random-state, diffferent set of data)"
   ]
  },
  {
   "cell_type": "markdown",
   "id": "e97f8f6a-c636-43c8-afc2-4d9ff7df909b",
   "metadata": {},
   "source": [
    "One implication of this could be that in most cases, they're reaching very similar conclusions- in the ConfusionMatrixDisplay, none of them seemed particularly better at clearing one over the other class"
   ]
  },
  {
   "cell_type": "markdown",
   "id": "361f75d8-aeef-43e3-81e6-317fcdfab6db",
   "metadata": {},
   "source": [
    "But as an aside, please keep in mind that showing the same CMD overall metrics need not mean that they're covering the same ground. Example: if a population of birds has 60% blue wings and 60% hooked beaks, there need only be 20% birds that have both blue wings and hooked beaks."
   ]
  },
  {
   "cell_type": "code",
   "execution_count": 52,
   "id": "b44dee97-88c2-4939-98aa-e9527cb972aa",
   "metadata": {},
   "outputs": [],
   "source": [
    "rfcpreds = pd.DataFrame(rsc4_1.predict(X_test),columns=['randforestpred'])\n",
    "efcpreds = pd.DataFrame(rsc6.best_estimator_.predict(X_test),columns=['extforestpred'])\n",
    "mnbpreds = pd.DataFrame(pipersc5alt.predict(X_test),columns=['multinbpred'])"
   ]
  },
  {
   "cell_type": "code",
   "execution_count": 53,
   "id": "25b03c31-d6f2-4ecb-9193-81e8ea9ec2a9",
   "metadata": {},
   "outputs": [],
   "source": [
    "df_classes = pd.concat([pd.DataFrame(list(X_test),columns=['title']),\n",
    "                        pd.DataFrame(list(y_test),columns=['ytrue']),\n",
    "                        mnbpreds,rfcpreds,efcpreds],axis=1)"
   ]
  },
  {
   "cell_type": "code",
   "execution_count": 54,
   "id": "48711687-da9f-4a3f-8189-4e73822e0836",
   "metadata": {},
   "outputs": [],
   "source": [
    "mnbtrue = df_classes['ytrue'] == df_classes['multinbpred']\n",
    "rftrue = df_classes['ytrue'] == df_classes['randforestpred']\n",
    "eftrue = df_classes['ytrue'] == df_classes['extforestpred']"
   ]
  },
  {
   "cell_type": "code",
   "execution_count": 55,
   "id": "92a21a04-5866-40de-afab-b75b6047de62",
   "metadata": {},
   "outputs": [
    {
     "data": {
      "text/plain": [
       "0.20741834286768776"
      ]
     },
     "execution_count": 55,
     "metadata": {},
     "output_type": "execute_result"
    }
   ],
   "source": [
    "df_classes[(~mnbtrue) & (~rftrue) & (~eftrue)].shape[0]/df_classes.shape[0]"
   ]
  },
  {
   "cell_type": "code",
   "execution_count": 56,
   "id": "6905a5d7-f393-478d-a852-e8fafbdadd6c",
   "metadata": {},
   "outputs": [
    {
     "data": {
      "text/plain": [
       "0.44390108876176415"
      ]
     },
     "execution_count": 56,
     "metadata": {},
     "output_type": "execute_result"
    }
   ],
   "source": [
    "df_classes[(mnbtrue) & (rftrue) & (eftrue)].shape[0]/df_classes.shape[0]"
   ]
  },
  {
   "cell_type": "markdown",
   "id": "e7d02693-3d77-4de7-9943-fb7b4f7a45c8",
   "metadata": {},
   "source": [
    "44.4% of the classes were correctly classified by all classifiers, and 20.7% incorrectly classified by all classifiers-of the remainder, 54.4% was correctly classified by the voting classifier ((vc2_true-all_correct)/(1-(all_correct+all_incorrect)))"
   ]
  },
  {
   "cell_type": "code",
   "execution_count": 57,
   "id": "bce2100d-8985-4dc8-b692-2078f19e2a09",
   "metadata": {},
   "outputs": [
    {
     "data": {
      "text/plain": [
       "0.08497877837239343"
      ]
     },
     "execution_count": 57,
     "metadata": {},
     "output_type": "execute_result"
    }
   ],
   "source": [
    "df_classes[(~mnbtrue) & (rftrue) & (eftrue)].shape[0]/df_classes.shape[0]"
   ]
  },
  {
   "cell_type": "code",
   "execution_count": 58,
   "id": "a982d694-a91f-4735-8f15-ad12ae452d4e",
   "metadata": {},
   "outputs": [
    {
     "data": {
      "text/plain": [
       "0.06292673925078428"
      ]
     },
     "execution_count": 58,
     "metadata": {},
     "output_type": "execute_result"
    }
   ],
   "source": [
    "df_classes[(mnbtrue) & (~rftrue) & (eftrue)].shape[0]/df_classes.shape[0]"
   ]
  },
  {
   "cell_type": "code",
   "execution_count": 59,
   "id": "81eab8aa-0577-4000-a236-158fa123c341",
   "metadata": {},
   "outputs": [
    {
     "data": {
      "text/plain": [
       "0.04022882450636649"
      ]
     },
     "execution_count": 59,
     "metadata": {},
     "output_type": "execute_result"
    }
   ],
   "source": [
    "df_classes[(mnbtrue) & (rftrue) & (~eftrue)].shape[0]/df_classes.shape[0]"
   ]
  },
  {
   "cell_type": "markdown",
   "id": "5357af95-404b-413c-94a2-9152f69814cb",
   "metadata": {},
   "source": [
    "A hard voting classifier, just barely, underperforms the soft voting"
   ]
  },
  {
   "cell_type": "code",
   "execution_count": 60,
   "id": "6a7c8475-db47-4b49-94d4-b88fab381a3a",
   "metadata": {},
   "outputs": [],
   "source": [
    "vcpreds = pd.DataFrame(vc2.predict(X_test),columns=['votclasspred'])"
   ]
  },
  {
   "cell_type": "code",
   "execution_count": 61,
   "id": "c0aa8a98-7ab6-4c04-931a-fc5c8d251584",
   "metadata": {},
   "outputs": [],
   "source": [
    "df_classes = pd.concat([df_classes,vcpreds],axis=1)"
   ]
  },
  {
   "cell_type": "code",
   "execution_count": 62,
   "id": "3b13a979-3a49-4e1a-bb13-24230dbb9c0c",
   "metadata": {},
   "outputs": [],
   "source": [
    "vctrue = df_classes['ytrue'] == df_classes['votclasspred']"
   ]
  },
  {
   "cell_type": "code",
   "execution_count": 66,
   "id": "46124d9a-b714-499a-940a-bd910fc05e0f",
   "metadata": {},
   "outputs": [
    {
     "name": "stdout",
     "output_type": "stream",
     "text": [
      "                                                      title                  ytrue\n",
      "1956               What to do with a failed tiramisu cream?  r/Cookingforbeginners\n",
      "6988                                              Tomatoes?  r/Cookingforbeginners\n",
      "9256                       Substitute for oregano in chili?  r/Cookingforbeginners\n",
      "9185   is lobster a creature originated from the west world  r/Cookingforbeginners\n",
      "9128                 Does anyone know a cookbook like this?  r/Cookingforbeginners\n",
      "10714   Will using vanilla greek yogurt mess up the recipe?  r/Cookingforbeginners\n",
      "5952        What is your go to method for disposing grease?  r/Cookingforbeginners\n",
      "5735           Can I steam frozen dinner rolls to make Bao?              r/Cooking\n",
      "7718              Pasta Maker - How to choose the best one?  r/Cookingforbeginners\n",
      "10787           Oats in soup? Yes, No, Maybe? I don't know.  r/Cookingforbeginners\n"
     ]
    }
   ],
   "source": [
    "print(df_classes[~vctrue][['title','ytrue']].sample(10).to_string())"
   ]
  },
  {
   "cell_type": "code",
   "execution_count": 105,
   "id": "40c96030-b62b-454d-83e0-918038fea6d7",
   "metadata": {},
   "outputs": [
    {
     "name": "stdout",
     "output_type": "stream",
     "text": [
      "                                                               title                  ytrue\n",
      "4622                Been trying to perfect my Asian noodle soups....  r/Cookingforbeginners\n",
      "2707                                                       A single?  r/Cookingforbeginners\n",
      "8921   Tips for easy to make, store and cheap desserts for a buffet?              r/Cooking\n",
      "7063     should apples be cooked before freezing or frozen uncooked?              r/Cooking\n",
      "1221                             Ideas to pimp up a simple fish pie?              r/Cooking\n",
      "2096                           Why is inside of my ground beef gray?  r/Cookingforbeginners\n",
      "5119          What should I cook if I’m trying to cut back on carbs?  r/Cookingforbeginners\n",
      "8264  Why did my warm cooking oil turn into jelly after deep frying?  r/Cookingforbeginners\n",
      "4596      How to mix popcorn with spices without making it sluggish?              r/Cooking\n",
      "2864                                   Beginner cook here, need help              r/Cooking\n"
     ]
    }
   ],
   "source": [
    "print(df_classes[~vctrue][['title','ytrue']].sample(10).to_string())"
   ]
  },
  {
   "cell_type": "code",
   "execution_count": 67,
   "id": "466502e0-dc04-402c-8e6b-3b34aa8375c0",
   "metadata": {},
   "outputs": [
    {
     "name": "stdout",
     "output_type": "stream",
     "text": [
      "                                                               title                  ytrue\n",
      "5561                                          How to turn it yummy ?              r/Cooking\n",
      "3697                          How does one actually make beef gravy?              r/Cooking\n",
      "7667                                               Lard? (Urban USA)  r/Cookingforbeginners\n",
      "2846                  Do You Think Store-Bought Sauces Are Cheating?  r/Cookingforbeginners\n",
      "2470                       Browning meatballs after cooking in oven?              r/Cooking\n",
      "4806                               Onion texture and reheating help?  r/Cookingforbeginners\n",
      "3804                               The first bite is with the eye...              r/Cooking\n",
      "5000   Best easy, yet delicious meal to cook for a first first date?              r/Cooking\n",
      "5699                                           Did I ruin my shrimp?              r/Cooking\n",
      "10177                    Recipe: Old Beijing Zha Jiang Mian (老北京炸酱面)              r/Cooking\n"
     ]
    }
   ],
   "source": [
    "print(df_classes[~vctrue][['title','ytrue']].sample(10,random_state=29).to_string())"
   ]
  },
  {
   "cell_type": "code",
   "execution_count": 252,
   "id": "1dec5980-ddff-4d31-8440-339c5b2cbf2a",
   "metadata": {},
   "outputs": [
    {
     "name": "stdout",
     "output_type": "stream",
     "text": [
      "                                                                                                                                                                           title                  ytrue\n",
      "2384                                                                                                                               Best time to add garlic when cooking chicken?              r/Cooking\n",
      "3980                                                                          When do you add herbs to mash? Is it when you're boiling the potatoes or when you're mashing them?  r/Cookingforbeginners\n",
      "8890                                                                                                                           Could anyone please help me convey these to gram?  r/Cookingforbeginners\n",
      "9468                                                                                                                                            Send me your best salmon recipes  r/Cookingforbeginners\n",
      "4880                                                                                                                                                   How do I cook game meats?              r/Cooking\n",
      "7414  Recipe: Blueberry Buckle. They say that it's a bread, but it bakes like a cake, looks like a cake and it tastes like a cake too. It also tastes good with a cup of coffee.              r/Cooking\n",
      "6590                                                                                                                              Do I need a special pan for induction cooktop?  r/Cookingforbeginners\n",
      "6210                                                                                                                                             Vegetable Sandwich With Sprouts              r/Cooking\n",
      "3947                                                                                                                                             How long does pizza stone last?              r/Cooking\n",
      "335                                                                                                                                                    What is crockpot cooking?              r/Cooking\n"
     ]
    }
   ],
   "source": [
    "print(df_classes[~vctrue][['title','ytrue']].sample(10,random_state=108).to_string())"
   ]
  },
  {
   "cell_type": "markdown",
   "id": "ab819654-9281-48fb-8358-c3f8e24aa5c0",
   "metadata": {},
   "source": [
    "And now, some trues"
   ]
  },
  {
   "cell_type": "code",
   "execution_count": 253,
   "id": "5db0e1d1-2644-4180-ae1f-0cd5f41d47f1",
   "metadata": {},
   "outputs": [
    {
     "name": "stdout",
     "output_type": "stream",
     "text": [
      "                                                                                                   title                  ytrue\n",
      "615                          What recipes or foods can I make with dill, parsley, or basil (separately)?              r/Cooking\n",
      "8637  Help me pick a Parmesan cheese for fettuccine Alfredo that I’m making for my girlfriend’s parents!              r/Cooking\n",
      "6799                                                                                I'm A Little Puzzled  r/Cookingforbeginners\n",
      "3211                             What one 'thing' did you change/do to take your dish to the next level?              r/Cooking\n",
      "9297                                             How long do you find homemade mayo lasts in the fridge?              r/Cooking\n",
      "6007                                  New Recipe Octopus Plus Cocacola Grill Food Recipe by Village Kids              r/Cooking\n",
      "8963                                                                                         Suggestions  r/Cookingforbeginners\n",
      "2850                                                                    Flour Paste - Dutch Oven sealing              r/Cooking\n",
      "9884                                    Lifelong vegetarian - looking for help learning how to cook meat  r/Cookingforbeginners\n",
      "4830                                                                    Breakfasts of different cultures              r/Cooking\n"
     ]
    }
   ],
   "source": [
    "print(df_classes[vctrue][['title','ytrue']].sample(10,random_state=64).to_string())"
   ]
  },
  {
   "cell_type": "code",
   "execution_count": 254,
   "id": "aea95b3c-c5b5-4455-a80b-792794e0bcf2",
   "metadata": {},
   "outputs": [
    {
     "name": "stdout",
     "output_type": "stream",
     "text": [
      "                                                                                        title                  ytrue\n",
      "4745                                                               Culinary Arts School Delhi  r/Cookingforbeginners\n",
      "7884                                                    Where to get fresh fish in Manhattan?              r/Cooking\n",
      "7388   What do I do with all of the strawberries from my garden? This is just today's harvest              r/Cooking\n",
      "1333                                                 I've got tons of bell peppers - recipes?              r/Cooking\n",
      "7703                                                What's the best way to cook a whole duck?              r/Cooking\n",
      "9325                    Why do all my hard boiled eggs look like shit when I go to peel them?  r/Cookingforbeginners\n",
      "10339                                                          Dumb question about gas stoves              r/Cooking\n",
      "1556                                                Recipes with green beans, spinach, tomato  r/Cookingforbeginners\n",
      "8271                                      Recipe frustrations (and advice for recipe authors)              r/Cooking\n",
      "8821                      my omelette came out better than usual today. i was really pleased!  r/Cookingforbeginners\n"
     ]
    }
   ],
   "source": [
    "print(df_classes[vctrue][['title','ytrue']].sample(10,random_state=93).to_string())"
   ]
  },
  {
   "cell_type": "code",
   "execution_count": 255,
   "id": "ede4c55e-aedb-4d89-be1c-f5d7ab022bc8",
   "metadata": {},
   "outputs": [
    {
     "name": "stdout",
     "output_type": "stream",
     "text": [
      "                                                                                        title                  ytrue\n",
      "7395                               What to do with meatball ground beef other than meatballs?              r/Cooking\n",
      "3499                                   What are your favorite meals for a small dinner party?              r/Cooking\n",
      "4398                                                                pineapple stir fry quinoa  r/Cookingforbeginners\n",
      "9740                      Korean Fried Chicken from the netflix KDrama \"Crash Landing on You\"              r/Cooking\n",
      "10602                                          How can I cook in a healthier way for my kids?  r/Cookingforbeginners\n",
      "5299                          Firming a custard pudding without corn starch , egg white okay?  r/Cookingforbeginners\n",
      "5918   Question: How to triple a dinner recipe that normally uses an entire pan for one batch              r/Cooking\n",
      "8937                                      Stay home &amp; cook! $35 off home chef covid promo              r/Cooking\n",
      "2730                                            Make A Great Snack With Almond Stuffed Olives  r/Cookingforbeginners\n",
      "7540                                              Looking for Ice cream maker recommendations              r/Cooking\n"
     ]
    }
   ],
   "source": [
    "print(df_classes[vctrue][['title','ytrue']].sample(10,random_state=321).to_string())"
   ]
  },
  {
   "cell_type": "markdown",
   "id": "0af0c26e-8c91-470a-909a-c1cfd934169e",
   "metadata": {},
   "source": [
    "Where the NB classifier was better"
   ]
  },
  {
   "cell_type": "code",
   "execution_count": 264,
   "id": "f4fccf39-1fe7-4943-ac5b-16a105b75309",
   "metadata": {},
   "outputs": [
    {
     "data": {
      "text/plain": [
       "r/Cookingforbeginners    0.54731\n",
       "r/Cooking                0.45269\n",
       "Name: ytrue, dtype: float64"
      ]
     },
     "execution_count": 264,
     "metadata": {},
     "output_type": "execute_result"
    }
   ],
   "source": [
    "df_classes[(~vctrue)&(mnbtrue)]['ytrue'].value_counts(normalize=True)"
   ]
  },
  {
   "cell_type": "code",
   "execution_count": 265,
   "id": "ec5db986-80b3-4afb-b72f-b2718f42c8ea",
   "metadata": {},
   "outputs": [
    {
     "data": {
      "text/plain": [
       "r/Cooking                0.566631\n",
       "r/Cookingforbeginners    0.433369\n",
       "Name: ytrue, dtype: float64"
      ]
     },
     "execution_count": 265,
     "metadata": {},
     "output_type": "execute_result"
    }
   ],
   "source": [
    "df_classes[(~vctrue)&(rftrue)]['ytrue'].value_counts(normalize=True)"
   ]
  },
  {
   "cell_type": "code",
   "execution_count": 267,
   "id": "aedd722a-ff9d-4234-a335-f6cfa50c3ae2",
   "metadata": {},
   "outputs": [
    {
     "data": {
      "text/plain": [
       "r/Cooking                0.529412\n",
       "r/Cookingforbeginners    0.470588\n",
       "Name: ytrue, dtype: float64"
      ]
     },
     "execution_count": 267,
     "metadata": {},
     "output_type": "execute_result"
    }
   ],
   "source": [
    "df_classes[(~vctrue)&(eftrue)]['ytrue'].value_counts(normalize=True)"
   ]
  },
  {
   "cell_type": "markdown",
   "id": "2cbdf034-f8e3-40e8-8186-036192f11055",
   "metadata": {},
   "source": [
    "This is mild, but the multinomial bayes is better at CookingforBeginners, while the Forest methods are better at Cooking- this was somewhat showed earlier when the areas where RandForest/ExtraForest agreed and MNB disagreed where larger than any of the other conditions"
   ]
  },
  {
   "cell_type": "code",
   "execution_count": 268,
   "id": "06fca8f4-37e4-410f-bc54-5c263a6d2814",
   "metadata": {},
   "outputs": [
    {
     "name": "stdout",
     "output_type": "stream",
     "text": [
      "                                                                              title                  ytrue\n",
      "10598                                          Do watch this INDIAN COOKING CHANNEL              r/Cooking\n",
      "9008       Will my hand crushed tomatoes break down in my simmered bolognese sauce?  r/Cookingforbeginners\n",
      "10676                         For Italian Pork Can I Use Lemon Instead of Balsamic?              r/Cooking\n",
      "9702                                                           PORK EMBUTIDO RECIPE              r/Cooking\n",
      "5380                                      I’m starting a cooking channel on YouTube              r/Cooking\n",
      "9738   When to use chili oil or chili flakes in ramen? I can't tell the difference!              r/Cooking\n",
      "5082                              How to properly use fan-forced oven fan settings?              r/Cooking\n",
      "9383                                                                        Smoking              r/Cooking\n",
      "9533                                                     Easy spice combos for soup              r/Cooking\n",
      "2579                                                                 I love cooking              r/Cooking\n"
     ]
    }
   ],
   "source": [
    "print(df_classes[~vctrue&mnbtrue][['title','ytrue']].sample(10,random_state=321).to_string())"
   ]
  },
  {
   "cell_type": "code",
   "execution_count": 269,
   "id": "c071bd3c-0138-4fb2-ac2b-57bd5d7fe60d",
   "metadata": {},
   "outputs": [
    {
     "name": "stdout",
     "output_type": "stream",
     "text": [
      "                                                                    title                  ytrue\n",
      "6712                             What to do with pulled/shredded chicken?  r/Cookingforbeginners\n",
      "6296                  How often do you cook for yourself in a given week?  r/Cookingforbeginners\n",
      "3072               5 Health benefits that star anise can provide to women  r/Cookingforbeginners\n",
      "354                                            Dried spice mix guide pdf?              r/Cooking\n",
      "2321                               Substitutes for Toum and Shatta sauces  r/Cookingforbeginners\n",
      "9352                                         Creaming egg yolks and sugar  r/Cookingforbeginners\n",
      "1060                                    What to do with firm frozen tofu?  r/Cookingforbeginners\n",
      "8239                 Học nghề đầu bếp chuyên nghiệp không cần thì đầu vào  r/Cookingforbeginners\n",
      "670   How do y’all keep “heavy” or chunky stews from sticking to the pot?              r/Cooking\n",
      "2574                  Black Beans Keep Cooking and coming out still hard?  r/Cookingforbeginners\n"
     ]
    }
   ],
   "source": [
    "print(df_classes[~vctrue&rftrue][['title','ytrue']].sample(10,random_state=321).to_string())"
   ]
  },
  {
   "cell_type": "code",
   "execution_count": 272,
   "id": "22221a33-e9fb-4586-a295-c26c4b8b286f",
   "metadata": {},
   "outputs": [
    {
     "name": "stdout",
     "output_type": "stream",
     "text": [
      "                                                                                   title                  ytrue\n",
      "5340                                                               Celebratory meal help  r/Cookingforbeginners\n",
      "6452                When recipes ask for ‘bleu cheese’ what type of cheese do they mean?              r/Cooking\n",
      "3500                                      Pudina Paratha Recipe in Hindi - पुदीना परांठा              r/Cooking\n",
      "296                 What is information everyone who wants to learn to cook should know?              r/Cooking\n",
      "7136                                            Made African stew but it needs something  r/Cookingforbeginners\n",
      "8752                                                         Onions - colour v no colour              r/Cooking\n",
      "7038                                         I'm in desperate need of new pots and pans.              r/Cooking\n",
      "8649      I bought smoked trout instead of regular trout by accident. How do i use this?              r/Cooking\n",
      "7804  I left this piece of meat out for approximately 4 hrs. Is it safe to cook and eat?  r/Cookingforbeginners\n",
      "8283                               What can I use achiote seasoning for ss a vegetarian?  r/Cookingforbeginners\n"
     ]
    }
   ],
   "source": [
    "print(df_classes[~vctrue&eftrue][['title','ytrue']].sample(10,random_state=1412).to_string())"
   ]
  },
  {
   "cell_type": "markdown",
   "id": "cd4cc794-e40f-4b49-9a38-19234a20221a",
   "metadata": {},
   "source": [
    "The following was used after consulting: https://stackoverflow.com/questions/29867367/sklearn-multinomial-nb-most-informative-features and https://stackoverflow.com/questions/50526898/how-to-get-feature-importance-in-naive-bayes"
   ]
  },
  {
   "cell_type": "code",
   "execution_count": 69,
   "id": "311bbc0b-a7d8-4501-a953-a309d722958f",
   "metadata": {},
   "outputs": [
    {
     "data": {
      "text/plain": [
       "array(['r/Cooking', 'r/Cookingforbeginners'], dtype='<U21')"
      ]
     },
     "execution_count": 69,
     "metadata": {},
     "output_type": "execute_result"
    }
   ],
   "source": [
    "pipersc5alt[1][1].classes_ #in short, for the MultiNB, when looking at coefs, 'r/Cooking' is the first on the list"
   ]
  },
  {
   "cell_type": "code",
   "execution_count": 70,
   "id": "a7ce9fb9-c55d-41a8-8bee-993acb232578",
   "metadata": {},
   "outputs": [],
   "source": [
    "df_nb_ftimp = pd.DataFrame(pipersc5alt[1][1].feature_log_prob_.T,\n",
    "             columns=pipersc5alt[1][1].classes_,index=pipersc5alt[1][0].get_feature_names_out())"
   ]
  },
  {
   "cell_type": "code",
   "execution_count": 71,
   "id": "d690af3f-6898-423f-80b3-58b9490ed1ad",
   "metadata": {},
   "outputs": [],
   "source": [
    "df_nb_ftimp['probdiff'] = np.exp(df_nb_ftimp['r/Cooking']) - np.exp(df_nb_ftimp['r/Cookingforbeginners'])"
   ]
  },
  {
   "cell_type": "code",
   "execution_count": 72,
   "id": "00d05f10-e954-4509-b40d-19af62a5e5a6",
   "metadata": {},
   "outputs": [
    {
     "data": {
      "text/html": [
       "<div>\n",
       "<style scoped>\n",
       "    .dataframe tbody tr th:only-of-type {\n",
       "        vertical-align: middle;\n",
       "    }\n",
       "\n",
       "    .dataframe tbody tr th {\n",
       "        vertical-align: top;\n",
       "    }\n",
       "\n",
       "    .dataframe thead th {\n",
       "        text-align: right;\n",
       "    }\n",
       "</style>\n",
       "<table border=\"1\" class=\"dataframe\">\n",
       "  <thead>\n",
       "    <tr style=\"text-align: right;\">\n",
       "      <th></th>\n",
       "      <th>r/Cooking</th>\n",
       "      <th>r/Cookingforbeginners</th>\n",
       "      <th>probdiff</th>\n",
       "    </tr>\n",
       "  </thead>\n",
       "  <tbody>\n",
       "    <tr>\n",
       "      <th>what</th>\n",
       "      <td>-4.944735</td>\n",
       "      <td>-5.395215</td>\n",
       "      <td>0.002583</td>\n",
       "    </tr>\n",
       "    <tr>\n",
       "      <th>be</th>\n",
       "      <td>-4.568208</td>\n",
       "      <td>-4.780307</td>\n",
       "      <td>0.001983</td>\n",
       "    </tr>\n",
       "    <tr>\n",
       "      <th>what be</th>\n",
       "      <td>-5.910451</td>\n",
       "      <td>-6.549511</td>\n",
       "      <td>0.001280</td>\n",
       "    </tr>\n",
       "    <tr>\n",
       "      <th>your</th>\n",
       "      <td>-6.091630</td>\n",
       "      <td>-6.922070</td>\n",
       "      <td>0.001276</td>\n",
       "    </tr>\n",
       "    <tr>\n",
       "      <th>for</th>\n",
       "      <td>-4.843444</td>\n",
       "      <td>-4.986335</td>\n",
       "      <td>0.001049</td>\n",
       "    </tr>\n",
       "    <tr>\n",
       "      <th>you</th>\n",
       "      <td>-5.494250</td>\n",
       "      <td>-5.759904</td>\n",
       "      <td>0.000959</td>\n",
       "    </tr>\n",
       "    <tr>\n",
       "      <th>that</th>\n",
       "      <td>-6.033964</td>\n",
       "      <td>-6.481362</td>\n",
       "      <td>0.000864</td>\n",
       "    </tr>\n",
       "    <tr>\n",
       "      <th>have</th>\n",
       "      <td>-5.855782</td>\n",
       "      <td>-6.204294</td>\n",
       "      <td>0.000843</td>\n",
       "    </tr>\n",
       "    <tr>\n",
       "      <th>of</th>\n",
       "      <td>-5.328501</td>\n",
       "      <td>-5.518859</td>\n",
       "      <td>0.000841</td>\n",
       "    </tr>\n",
       "    <tr>\n",
       "      <th>do</th>\n",
       "      <td>-5.065605</td>\n",
       "      <td>-5.204284</td>\n",
       "      <td>0.000817</td>\n",
       "    </tr>\n",
       "  </tbody>\n",
       "</table>\n",
       "</div>"
      ],
      "text/plain": [
       "         r/Cooking  r/Cookingforbeginners  probdiff\n",
       "what     -4.944735              -5.395215  0.002583\n",
       "be       -4.568208              -4.780307  0.001983\n",
       "what be  -5.910451              -6.549511  0.001280\n",
       "your     -6.091630              -6.922070  0.001276\n",
       "for      -4.843444              -4.986335  0.001049\n",
       "you      -5.494250              -5.759904  0.000959\n",
       "that     -6.033964              -6.481362  0.000864\n",
       "have     -5.855782              -6.204294  0.000843\n",
       "of       -5.328501              -5.518859  0.000841\n",
       "do       -5.065605              -5.204284  0.000817"
      ]
     },
     "execution_count": 72,
     "metadata": {},
     "output_type": "execute_result"
    }
   ],
   "source": [
    "df_nb_ftimp.sort_values(by='probdiff',ascending=False).head(10)"
   ]
  },
  {
   "cell_type": "code",
   "execution_count": 81,
   "id": "4405c5ae-c901-42cf-a8c7-fb9fc44c307c",
   "metadata": {},
   "outputs": [
    {
     "data": {
      "text/html": [
       "<div>\n",
       "<style scoped>\n",
       "    .dataframe tbody tr th:only-of-type {\n",
       "        vertical-align: middle;\n",
       "    }\n",
       "\n",
       "    .dataframe tbody tr th {\n",
       "        vertical-align: top;\n",
       "    }\n",
       "\n",
       "    .dataframe thead th {\n",
       "        text-align: right;\n",
       "    }\n",
       "</style>\n",
       "<table border=\"1\" class=\"dataframe\">\n",
       "  <thead>\n",
       "    <tr style=\"text-align: right;\">\n",
       "      <th></th>\n",
       "      <th>r/Cooking</th>\n",
       "      <th>r/Cookingforbeginners</th>\n",
       "      <th>probdiff</th>\n",
       "    </tr>\n",
       "  </thead>\n",
       "  <tbody>\n",
       "    <tr>\n",
       "      <th>how</th>\n",
       "      <td>-5.500551</td>\n",
       "      <td>-5.077072</td>\n",
       "      <td>-0.002154</td>\n",
       "    </tr>\n",
       "    <tr>\n",
       "      <th>easy</th>\n",
       "      <td>-7.325733</td>\n",
       "      <td>-5.972227</td>\n",
       "      <td>-0.001890</td>\n",
       "    </tr>\n",
       "    <tr>\n",
       "      <th>chicken</th>\n",
       "      <td>-5.934548</td>\n",
       "      <td>-5.417701</td>\n",
       "      <td>-0.001791</td>\n",
       "    </tr>\n",
       "    <tr>\n",
       "      <th>how to</th>\n",
       "      <td>-6.390024</td>\n",
       "      <td>-5.684038</td>\n",
       "      <td>-0.001722</td>\n",
       "    </tr>\n",
       "    <tr>\n",
       "      <th>make</th>\n",
       "      <td>-5.316335</td>\n",
       "      <td>-5.048049</td>\n",
       "      <td>-0.001511</td>\n",
       "    </tr>\n",
       "    <tr>\n",
       "      <th>and</th>\n",
       "      <td>-5.186359</td>\n",
       "      <td>-4.977660</td>\n",
       "      <td>-0.001298</td>\n",
       "    </tr>\n",
       "    <tr>\n",
       "      <th>to make</th>\n",
       "      <td>-6.442127</td>\n",
       "      <td>-5.911185</td>\n",
       "      <td>-0.001116</td>\n",
       "    </tr>\n",
       "    <tr>\n",
       "      <th>to</th>\n",
       "      <td>-4.538787</td>\n",
       "      <td>-4.441327</td>\n",
       "      <td>-0.001094</td>\n",
       "    </tr>\n",
       "    <tr>\n",
       "      <th>cook</th>\n",
       "      <td>-5.589748</td>\n",
       "      <td>-5.359377</td>\n",
       "      <td>-0.000968</td>\n",
       "    </tr>\n",
       "    <tr>\n",
       "      <th>recipe</th>\n",
       "      <td>-5.230727</td>\n",
       "      <td>-5.074587</td>\n",
       "      <td>-0.000904</td>\n",
       "    </tr>\n",
       "  </tbody>\n",
       "</table>\n",
       "</div>"
      ],
      "text/plain": [
       "         r/Cooking  r/Cookingforbeginners  probdiff\n",
       "how      -5.500551              -5.077072 -0.002154\n",
       "easy     -7.325733              -5.972227 -0.001890\n",
       "chicken  -5.934548              -5.417701 -0.001791\n",
       "how to   -6.390024              -5.684038 -0.001722\n",
       "make     -5.316335              -5.048049 -0.001511\n",
       "and      -5.186359              -4.977660 -0.001298\n",
       "to make  -6.442127              -5.911185 -0.001116\n",
       "to       -4.538787              -4.441327 -0.001094\n",
       "cook     -5.589748              -5.359377 -0.000968\n",
       "recipe   -5.230727              -5.074587 -0.000904"
      ]
     },
     "execution_count": 81,
     "metadata": {},
     "output_type": "execute_result"
    }
   ],
   "source": [
    " df_nb_ftimp.sort_values(by='probdiff').head(10)"
   ]
  },
  {
   "cell_type": "code",
   "execution_count": 91,
   "id": "60b982cc-8c44-46ab-bb9e-2c45a0e3bbe9",
   "metadata": {},
   "outputs": [],
   "source": [
    "nbcook = zip( df_nb_ftimp.sort_values(by='probdiff').head(10).index,\n",
    "             df_nb_ftimp.sort_values(by='probdiff').head(10)['probdiff'])"
   ]
  },
  {
   "cell_type": "code",
   "execution_count": 92,
   "id": "7dfad2bd-e341-4b58-a38d-25c8044b44bf",
   "metadata": {},
   "outputs": [],
   "source": [
    "x,y=zip(*nbcook)"
   ]
  },
  {
   "cell_type": "code",
   "execution_count": 101,
   "id": "6159170c-a93d-4670-9dea-66dec790ab80",
   "metadata": {},
   "outputs": [],
   "source": [
    "nbcook2 = zip(df_nb_ftimp.sort_values(by='probdiff',ascending=False).head(10).index,\n",
    "             df_nb_ftimp.sort_values(by='probdiff',ascending=False).head(10)['probdiff'])"
   ]
  },
  {
   "cell_type": "code",
   "execution_count": 102,
   "id": "d2a04d1e-7898-425e-946f-a0d8621bea6e",
   "metadata": {},
   "outputs": [],
   "source": [
    "x2,y2=zip(*nbcook2)"
   ]
  },
  {
   "cell_type": "code",
   "execution_count": 100,
   "id": "dcc39263-25f6-40d4-8459-e1c1b74533d9",
   "metadata": {},
   "outputs": [
    {
     "data": {
      "image/png": "[encoded data removed]",
      "text/plain": [
       "<Figure size 720x360 with 1 Axes>"
      ]
     },
     "metadata": {
      "needs_background": "light"
     },
     "output_type": "display_data"
    }
   ],
   "source": [
    "plt.figure(figsize=(10,5))\n",
    "plt.bar(x,y)\n",
    "plt.xlabel('Features of importance')\n",
    "plt.ylabel('Percent more chance that feature is in r/cooking compared to r/c4b')\n",
    "plt.title('Words most associated with being in r/CookingforBeginners');"
   ]
  },
  {
   "cell_type": "code",
   "execution_count": 104,
   "id": "76325f04-7a08-49f4-9795-334ff1b6f306",
   "metadata": {},
   "outputs": [
    {
     "data": {
      "image/png": "[encoded data removed]",
      "text/plain": [
       "<Figure size 720x360 with 1 Axes>"
      ]
     },
     "metadata": {
      "needs_background": "light"
     },
     "output_type": "display_data"
    }
   ],
   "source": [
    "plt.figure(figsize=(10,5))\n",
    "plt.bar(x2,y2)\n",
    "plt.xlabel('Features of importance')\n",
    "plt.ylabel('Percent more chance that feature is in r/cooking compared to r/c4b')\n",
    "plt.title('Words most associated with being in r/Cooking');"
   ]
  },
  {
   "cell_type": "markdown",
   "id": "d946f69c-6455-4e05-b5c3-4155119a337c",
   "metadata": {},
   "source": [
    "So for cooking 'what,be,your,for you, that have, you, do' all are most predictive relative to cookingforbeginners\n",
    "C4B is much more interpretable- 'how', 'easy', 'how to', 'to make', 'recipe' are all more predictive for C4B versus cooking"
   ]
  },
  {
   "cell_type": "code",
   "execution_count": 323,
   "id": "f710b38b-a44c-4bfb-a366-d3412f3fea80",
   "metadata": {},
   "outputs": [
    {
     "data": {
      "text/html": [
       "<div>\n",
       "<style scoped>\n",
       "    .dataframe tbody tr th:only-of-type {\n",
       "        vertical-align: middle;\n",
       "    }\n",
       "\n",
       "    .dataframe tbody tr th {\n",
       "        vertical-align: top;\n",
       "    }\n",
       "\n",
       "    .dataframe thead th {\n",
       "        text-align: right;\n",
       "    }\n",
       "</style>\n",
       "<table border=\"1\" class=\"dataframe\">\n",
       "  <thead>\n",
       "    <tr style=\"text-align: right;\">\n",
       "      <th></th>\n",
       "      <th>ft_imp</th>\n",
       "    </tr>\n",
       "  </thead>\n",
       "  <tbody>\n",
       "    <tr>\n",
       "      <th>easy</th>\n",
       "      <td>0.009449</td>\n",
       "    </tr>\n",
       "    <tr>\n",
       "      <th>to</th>\n",
       "      <td>0.007308</td>\n",
       "    </tr>\n",
       "    <tr>\n",
       "      <th>for</th>\n",
       "      <td>0.007303</td>\n",
       "    </tr>\n",
       "    <tr>\n",
       "      <th>the</th>\n",
       "      <td>0.007236</td>\n",
       "    </tr>\n",
       "    <tr>\n",
       "      <th>chicken</th>\n",
       "      <td>0.006052</td>\n",
       "    </tr>\n",
       "    <tr>\n",
       "      <th>what</th>\n",
       "      <td>0.005875</td>\n",
       "    </tr>\n",
       "    <tr>\n",
       "      <th>in</th>\n",
       "      <td>0.005834</td>\n",
       "    </tr>\n",
       "    <tr>\n",
       "      <th>with</th>\n",
       "      <td>0.005680</td>\n",
       "    </tr>\n",
       "    <tr>\n",
       "      <th>of</th>\n",
       "      <td>0.005494</td>\n",
       "    </tr>\n",
       "    <tr>\n",
       "      <th>and</th>\n",
       "      <td>0.005127</td>\n",
       "    </tr>\n",
       "  </tbody>\n",
       "</table>\n",
       "</div>"
      ],
      "text/plain": [
       "           ft_imp\n",
       "easy     0.009449\n",
       "to       0.007308\n",
       "for      0.007303\n",
       "the      0.007236\n",
       "chicken  0.006052\n",
       "what     0.005875\n",
       "in       0.005834\n",
       "with     0.005680\n",
       "of       0.005494\n",
       "and      0.005127"
      ]
     },
     "execution_count": 323,
     "metadata": {},
     "output_type": "execute_result"
    }
   ],
   "source": [
    "pd.DataFrame(rsc4_1.best_estimator_[1].feature_importances_,\n",
    "             index=rsc4_1.best_estimator_[0].get_feature_names_out(),\n",
    "             columns=['ft_imp']).sort_values(by='ft_imp',ascending=False).head(10)"
   ]
  },
  {
   "cell_type": "code",
   "execution_count": 324,
   "id": "5012e9df-b918-4911-99e6-638b7961e4fa",
   "metadata": {},
   "outputs": [
    {
     "data": {
      "text/html": [
       "<div>\n",
       "<style scoped>\n",
       "    .dataframe tbody tr th:only-of-type {\n",
       "        vertical-align: middle;\n",
       "    }\n",
       "\n",
       "    .dataframe tbody tr th {\n",
       "        vertical-align: top;\n",
       "    }\n",
       "\n",
       "    .dataframe thead th {\n",
       "        text-align: right;\n",
       "    }\n",
       "</style>\n",
       "<table border=\"1\" class=\"dataframe\">\n",
       "  <thead>\n",
       "    <tr style=\"text-align: right;\">\n",
       "      <th></th>\n",
       "      <th>ft_imp</th>\n",
       "    </tr>\n",
       "  </thead>\n",
       "  <tbody>\n",
       "    <tr>\n",
       "      <th>easy</th>\n",
       "      <td>0.004718</td>\n",
       "    </tr>\n",
       "    <tr>\n",
       "      <th>chicken</th>\n",
       "      <td>0.002284</td>\n",
       "    </tr>\n",
       "    <tr>\n",
       "      <th>what</th>\n",
       "      <td>0.001959</td>\n",
       "    </tr>\n",
       "    <tr>\n",
       "      <th>for</th>\n",
       "      <td>0.001820</td>\n",
       "    </tr>\n",
       "    <tr>\n",
       "      <th>how</th>\n",
       "      <td>0.001774</td>\n",
       "    </tr>\n",
       "    <tr>\n",
       "      <th>to</th>\n",
       "      <td>0.001760</td>\n",
       "    </tr>\n",
       "    <tr>\n",
       "      <th>how to</th>\n",
       "      <td>0.001750</td>\n",
       "    </tr>\n",
       "    <tr>\n",
       "      <th>and</th>\n",
       "      <td>0.001671</td>\n",
       "    </tr>\n",
       "    <tr>\n",
       "      <th>recipe</th>\n",
       "      <td>0.001552</td>\n",
       "    </tr>\n",
       "    <tr>\n",
       "      <th>the</th>\n",
       "      <td>0.001481</td>\n",
       "    </tr>\n",
       "  </tbody>\n",
       "</table>\n",
       "</div>"
      ],
      "text/plain": [
       "           ft_imp\n",
       "easy     0.004718\n",
       "chicken  0.002284\n",
       "what     0.001959\n",
       "for      0.001820\n",
       "how      0.001774\n",
       "to       0.001760\n",
       "how to   0.001750\n",
       "and      0.001671\n",
       "recipe   0.001552\n",
       "the      0.001481"
      ]
     },
     "execution_count": 324,
     "metadata": {},
     "output_type": "execute_result"
    }
   ],
   "source": [
    "pd.DataFrame(rsc6.best_estimator_[1].feature_importances_,\n",
    "             index=rsc6.best_estimator_[0].get_feature_names_out(),\n",
    "             columns=['ft_imp']).sort_values(by='ft_imp',ascending=False).head(10)"
   ]
  },
  {
   "cell_type": "markdown",
   "id": "4eb9c4ab-9a69-42d9-a357-5790dd8e25e8",
   "metadata": {},
   "source": [
    "Chicken! It keeps popping out as being predictive! Perhaps just as an all-around good starter food- and often prescribed as a useful starter food for bodybuilders- popular among the younger userbase of reddit."
   ]
  },
  {
   "cell_type": "code",
   "execution_count": null,
   "id": "c931042a-26e4-40a1-b522-541a846ec81b",
   "metadata": {},
   "outputs": [],
   "source": []
  }
 ],
 "metadata": {
  "kernelspec": {
   "display_name": "Python 3 (ipykernel)",
   "language": "python",
   "name": "python3"
  },
  "language_info": {
   "codemirror_mode": {
    "name": "ipython",
    "version": 3
   },
   "file_extension": ".py",
   "mimetype": "text/x-python",
   "name": "python",
   "nbconvert_exporter": "python",
   "pygments_lexer": "ipython3",
   "version": "3.9.7"
  }
 },
 "nbformat": 4,
 "nbformat_minor": 5
}
