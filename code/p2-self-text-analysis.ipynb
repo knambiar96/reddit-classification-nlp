{
 "cells": [
  {
   "cell_type": "code",
   "execution_count": 1,
   "id": "a21b4cf3-dddd-4a02-bed4-7cde0b4f4a20",
   "metadata": {},
   "outputs": [],
   "source": [
    "import requests\n",
    "import seaborn as sns\n",
    "import pandas as pd\n",
    "import time\n",
    "import pickle\n",
    "from sklearn.model_selection import train_test_split, GridSearchCV, RandomizedSearchCV\n",
    "from sklearn.pipeline import Pipeline\n",
    "from sklearn.feature_extraction.text import CountVectorizer, TfidfVectorizer\n",
    "from sklearn.linear_model import LinearRegression, LogisticRegression\n",
    "from sklearn.ensemble import VotingClassifier, RandomForestClassifier, ExtraTreesClassifier, AdaBoostClassifier\n",
    "from sklearn.metrics import ConfusionMatrixDisplay, precision_score, recall_score, roc_curve"
   ]
  },
  {
   "cell_type": "code",
   "execution_count": 2,
   "id": "4989bfab-fb7f-4dd9-9dd3-854f3298612a",
   "metadata": {},
   "outputs": [],
   "source": [
    "with open('../data/pickledcooking.pkl','rb') as x:\n",
    "    df_cook = pickle.load(x)"
   ]
  },
  {
   "cell_type": "code",
   "execution_count": 3,
   "id": "98fc1d53-360f-4fad-bb93-bd29033fca1e",
   "metadata": {},
   "outputs": [],
   "source": [
    "with open('../data/pickledbeginners.pkl','rb') as x:\n",
    "    df_cforb = pickle.load(x)"
   ]
  },
  {
   "cell_type": "code",
   "execution_count": 4,
   "id": "f9073ff6-e6c0-486c-81e5-3601fb6fcc98",
   "metadata": {},
   "outputs": [
    {
     "data": {
      "image/png": "[encoded data removed]",
      "text/plain": [
       "<Figure size 432x288 with 1 Axes>"
      ]
     },
     "metadata": {
      "needs_background": "light"
     },
     "output_type": "display_data"
    }
   ],
   "source": [
    "sns.scatterplot(data=df_cook,x='created_utc',y='subreddit_subscribers')\n",
    "sns.scatterplot(data=df_cforb,x='created_utc',y='subreddit_subscribers');"
   ]
  },
  {
   "cell_type": "code",
   "execution_count": 5,
   "id": "e4e2f343-3cf9-4cb7-82b5-41197f0d5a03",
   "metadata": {},
   "outputs": [
    {
     "data": {
      "text/plain": [
       "self.cookingforbeginners    0.786821\n",
       "i.redd.it                   0.067325\n",
       "youtu.be                    0.060546\n",
       "youtube.com                 0.041594\n",
       "imgur.com                   0.002951\n",
       "                              ...   \n",
       "megadealerships.com         0.000046\n",
       "campbells.com               0.000046\n",
       "questionocean.com           0.000046\n",
       "bnnbloomberg.ca             0.000046\n",
       "simmyideas.com              0.000046\n",
       "Name: domain, Length: 371, dtype: float64"
      ]
     },
     "execution_count": 5,
     "metadata": {},
     "output_type": "execute_result"
    }
   ],
   "source": [
    "df_cforb['domain'].value_counts(normalize=True)"
   ]
  },
  {
   "cell_type": "code",
   "execution_count": 6,
   "id": "452b589a-81b9-4daa-8e17-72b123e6e54a",
   "metadata": {},
   "outputs": [
    {
     "data": {
      "text/plain": [
       "self.Cooking                0.994184\n",
       "rg4amia.wordpress.com       0.000785\n",
       "self.AskCulinary            0.000692\n",
       "self.limitlessallergies     0.000415\n",
       "self.cookingforbeginners    0.000185\n",
       "                              ...   \n",
       "self.suggestmearecipe       0.000046\n",
       "self.PressureCooking        0.000046\n",
       "self.KitchenConfidential    0.000046\n",
       "self.sushi                  0.000046\n",
       "self.Frugal                 0.000046\n",
       "Name: domain, Length: 70, dtype: float64"
      ]
     },
     "execution_count": 6,
     "metadata": {},
     "output_type": "execute_result"
    }
   ],
   "source": [
    "df_cook['domain'].value_counts(normalize=True)"
   ]
  },
  {
   "cell_type": "markdown",
   "id": "4d828c26-75b3-42d6-bfc4-6a9b16d6f748",
   "metadata": {},
   "source": [
    "Right now, all of this information is for testing some things. It's interesting that r/cooking has had more robust growth, even relative to its size when compared to r/cookingforbeginners. Along with this, they have or recently put in place a rule of only allowing self-posts (it's implausible that 99.4% of posts would be selfs otherwise, especially when an informal look at reddit suggests that image/video posts tend to do better. Also, there are some cross-posts like suggestmearecipe or kitchenconfidential)"
   ]
  },
  {
   "cell_type": "code",
   "execution_count": 7,
   "id": "291143ad-4832-4be6-98f3-7898038127a7",
   "metadata": {},
   "outputs": [
    {
     "data": {
      "text/plain": [
       "Index(['created_utc', 'domain', 'selftext', 'subreddit_subscribers', 'title'], dtype='object')"
      ]
     },
     "execution_count": 7,
     "metadata": {},
     "output_type": "execute_result"
    }
   ],
   "source": [
    "df_cook.columns"
   ]
  },
  {
   "cell_type": "code",
   "execution_count": 8,
   "id": "81308388-5f62-4edc-80c6-76c2fd567d20",
   "metadata": {},
   "outputs": [
    {
     "data": {
      "text/plain": [
       "[removed]                                                                                                                                                                                                                                                                                                                                                                                                                                                                                                                                                                                                                          0.154308\n",
       "                                                                                                                                                                                                                                                                                                                                                                                                                                                                                                                                                                                                                                   0.068417\n",
       "[deleted]                                                                                                                                                                                                                                                                                                                                                                                                                                                                                                                                                                                                                          0.004808\n",
       "I am making dumpling wrappers, and I thought I would have time to stuff the dumplings today, but I don’t, so I want to wait until tomorrow to do that. However I already made the dough for the wrappers which is just flour and water and some salt. You already are supposed to let it rest for an hour or so to let it relax...but would it be bad if I just left it out until tomorrow morning? Should I keep it in the fridge? Should I just chuck it and make a new batch tomorrow? Any insight would be much appreciated!                                                                                                   0.000462\n",
       "I’ve always wanted to learn to cook well and I’ve decided now we are stuck inside, it would be the perfect time to focus on that. I think I want to learn techniques first and then some staple recipes. I made fresh pasta for the first time a few days ago and it came out quite well! What else do you think everyone should be able to do and I should learn next? Thank you in advance :)                                                                                                                                                                                                                                    0.000462\n",
       "                                                                                                                                                                                                                                                                                                                                                                                                                                                                                                                                                                                                                                     ...   \n",
       "Grapes, blackberries, raspberries, etc \\n\\nCan those be stored in airtight containers? Specifically glass containers?                                                                                                                                                                                                                                                                                                                                                                                                                                                                                                              0.000046\n",
       "It feel like I've been seeing this more and more lately. It seems so counter intuitive to me. The smaller you chop something, the higher the surface area and the more it's flavor is able to permeate your dish. The other day I actually saw a video where someone was cooking steak and actually threw in whole garlic cloves with the peel still on them! I thought what a waste. They probably barely got any garlic flavor in that steak. End of rant.                                                                                                                                                                       0.000046\n",
       "This is meant to be lighthearted, but since the dawn of time, there has been the question of sweet or salty. And yes, of course there is cuisine that is a mix of both. But I firmly believe that those who excel in baking are subpar cooks and those who cook (sautée, fry, etc.) are usually terrible bakers. My personal, based-on-nothing theory is that baking requires precision and rigidity, while cooking is jazz, mixing a little of this and a little of that, seasoning by taste and aroma rather than recipe, and both of those attract certain, very different character types.\\n\\nSigned, \\nA cook, not a baker    0.000046\n",
       "Korean barbeque is a world wide known dish and pork is the way to go. Using common ingredients and basic cooking skills, you can make your own k barbeque dish. The ingredients are comprised of onions, green onions, garlic, soysauce, redwine, and starch. [Here is a video to check out.](https://www.youtube.com/watch?v=WN1byLLCH5Y)                                                                                                                                                                                                                                                                                         0.000046\n",
       "Honestly, I'm 25 and lucky I've made it this far.  I was making a modified version of a hollandaise for dinner and forgot about the sauce.  It's now a runny, rich tasting version of scrambled eggs.\\n\\nIs there anything I can use it for/incorporate it into? Pasta?  Bread? Literally anything.  I'm one of those \"save the scraps of the vegis to turn into broth\" kind of cooks and hate food waste.                                                                                                                                                                                                                         0.000046\n",
       "Name: selftext, Length: 16621, dtype: float64"
      ]
     },
     "execution_count": 8,
     "metadata": {},
     "output_type": "execute_result"
    }
   ],
   "source": [
    "df_cook['selftext'].value_counts(normalize=True)"
   ]
  },
  {
   "cell_type": "code",
   "execution_count": 9,
   "id": "de3ebb1e-388b-42e6-955e-4cea9d0741df",
   "metadata": {},
   "outputs": [
    {
     "data": {
      "text/plain": [
       "                                                                                                                                                                                                                                                                                                                                                                                                                                                                                                                                                                                                                                                                                                                                                                                                                                                                                                                                                                                                                                                                                                                                                                                                                                                                                                                                                                                                                                                                                                                                                                                      0.226625\n",
       "[removed]                                                                                                                                                                                                                                                                                                                                                                                                                                                                                                                                                                                                                                                                                                                                                                                                                                                                                                                                                                                                                                                                                                                                                                                                                                                                                                                                                                                                                                                                                                                                                                             0.147831\n",
       "[deleted]                                                                                                                                                                                                                                                                                                                                                                                                                                                                                                                                                                                                                                                                                                                                                                                                                                                                                                                                                                                                                                                                                                                                                                                                                                                                                                                                                                                                                                                                                                                                                                             0.004300\n",
       "**It's May! We're hoping you are all staying safe (and home, if possible).** \\n\\n**Please see our** [**Quarantine Cuisine**](https://www.reddit.com/r/cookingforbeginners/comments/fjpvuf/quarantine_cuisine_keep_calm_and_cook_on/) **thread for all COVID-related posts.**\\n\\nThis megathread is for all non text posts. That includes videos, outside links, self-promotion, your personal recipes, and images. If you try to post these things outside the megathread, they'll be deleted.\\n\\n**What will be allowed?**\\n\\nText posts, questions, and discussion threads.\\n\\n**Why can't I post pictures anymore?**\\n\\nPlease [read this thread](https://www.reddit.com/r/cookingforbeginners/comments/e229jg/subreddit_updates_mod_apps_temporary_policies_and/) for updates regarding the subreddit rules. In short, no image posts for the time being -- they may be back in some form in the future, but we want to let the new mods get settled and discuss a better policy.\\n\\nThis megathread is the right place for posting pictures of your great creations!\\n\\n**Can I post links, videos, etc. in the comments?**\\n\\nYes. That's fine, as long as it's requested directly or makes sense in context -- like a recipe recommendation or a great instructional video. Just don't leave a comment with a link to your blog and walk away -- that's not cool. If you've clearly just made a comment or text post to promote your own brand, it'll be deleted.\\n\\n**Any other questions or feedback should be left in this thread or directed via modmail to our team.**    0.000370\n",
       ".                                                                                                                                                                                                                                                                                                                                                                                                                                                                                                                                                                                                                                                                                                                                                                                                                                                                                                                                                                                                                                                                                                                                                                                                                                                                                                                                                                                                                                                                                                                                                                                     0.000370\n",
       "                                                                                                                                                                                                                                                                                                                                                                                                                                                                                                                                                                                                                                                                                                                                                                                                                                                                                                                                                                                                                                                                                                                                                                                                                                                                                                                                                                                                                                                                                                                                                                                        ...   \n",
       "Hey so Im tryna make dinner for my family for the first time, any suggestions? Not looking for anything crazy or complicated but just a solid family dinner                                                                                                                                                                                                                                                                                                                                                                                                                                                                                                                                                                                                                                                                                                                                                                                                                                                                                                                                                                                                                                                                                                                                                                                                                                                                                                                                                                                                                           0.000046\n",
       "When cooking your rice just put a bunch of leafy greens (I like spinach) on top and get yourself some more healthy nutrients without any additional dishes to wash!                                                                                                                                                                                                                                                                                                                                                                                                                                                                                                                                                                                                                                                                                                                                                                                                                                                                                                                                                                                                                                                                                                                                                                                                                                                                                                                                                                                                                   0.000046\n",
       "Ingredients\\n\\n1 cup white channa\\n\\n3 Tomatoes finely chopped\\n\\n2 onion finely chopped\\n\\n½ cucumber finely chopped\\n\\n2 green chilli finely chopped\\n\\n1 tsp jeera\\n\\n1tsp garm masala\\n\\n1tsp dhaniya powder\\n\\n½ tsp amchur (dry mango powder)\\n\\n1tsp channa masala\\n\\n½ tsp kashmiri red chilli\\n\\n½ tsp roasted jeera powder\\n\\n2 pinch meetha soda\\n\\nPinch of hing\\n\\n1 tej patta\\n\\n1 inch cinnamon\\n\\n1 tea bag\\n\\n3 tbsp ghee\\n\\nSalt to taste\\n\\nFor details follow the link  https://www.omgfeeds.com/channa-kulcha-recipe-chole-kulche-recipe-kulche-chole-recipe/                                                                                                                                                                                                                                                                                                                                                                                                                                                                                                                                                                                                                                                                                                                                                                                                                                                                                                                                                                                                    0.000046\n",
       "Hello!\\nI love dumplings, bao and pizza for the following reasons:\\n\\n-\\teasy to freeze\\n-\\tone step reheating/cooking\\n-\\tcontains veg, protein, and carbs in one easy (bound together) serving\\n\\n\\nI have also been freezing extra pasta in individual serving tins so I can just stick them in the oven during the week.  I know that technically doesn’t fall under “bound together”, but the one step reheating is sooo convenient!\\n\\nAre there any meals that I can make that are similarly convenient?  These are already in heavy rotation during the weeks!                                                                                                                                                                                                                                                                                                                                                                                                                                                                                                                                                                                                                                                                                                                                                                                                                                                                                                                                                                                                                0.000046\n",
       "Can I use these noodles? \\n\\n[http://i5.walmartimages.ca/images/Large/119/8_1/501198_1.jpg](http://i5.walmartimages.ca/images/Large/119/8_1/501198_1.jpg)\\n\\nThanks                                                                                                                                                                                                                                                                                                                                                                                                                                                                                                                                                                                                                                                                                                                                                                                                                                                                                                                                                                                                                                                                                                                                                                                                                                                                                                                                                                                                                   0.000046\n",
       "Name: selftext, Length: 13347, dtype: float64"
      ]
     },
     "execution_count": 9,
     "metadata": {},
     "output_type": "execute_result"
    }
   ],
   "source": [
    "df_cforb['selftext'].value_counts(normalize=True)"
   ]
  },
  {
   "cell_type": "markdown",
   "id": "eb35c2eb-039c-41d6-a924-6ff6dd8d5a2b",
   "metadata": {},
   "source": [
    "15.4% removed (by mods/admins) on cooking versus 22.7% on CforB, and 6.85% removed by creator on cooking versus14.8% on CforB. These are all interesting ideas. Let's try to focus on only self-text (or at least primarily so) in this notebook. Figuring out how to integrate for instance, the title in a vectorized way should be interesting, along with all the other features we dragged along and comments, but those also take extra effort in processing. Let's stick to just selftext for now"
   ]
  },
  {
   "cell_type": "code",
   "execution_count": 10,
   "id": "a284e78d-9569-4df6-a4da-69db89d5728b",
   "metadata": {},
   "outputs": [
    {
     "data": {
      "text/plain": [
       "(created_utc               0\n",
       " domain                    0\n",
       " selftext                 32\n",
       " subreddit_subscribers     0\n",
       " title                     0\n",
       " dtype: int64,\n",
       " created_utc               0\n",
       " domain                    0\n",
       " selftext                 60\n",
       " subreddit_subscribers     0\n",
       " title                     0\n",
       " dtype: int64)"
      ]
     },
     "execution_count": 10,
     "metadata": {},
     "output_type": "execute_result"
    }
   ],
   "source": [
    "df_cook.isnull().sum(), df_cforb.isnull().sum()"
   ]
  },
  {
   "cell_type": "markdown",
   "id": "4852f3f3-ee5a-4caf-9bf1-dcc0943b1c81",
   "metadata": {},
   "source": [
    "While we have nulls, that too can be information on the class. We won't remove them, or if need be, we'll fill them with ''"
   ]
  },
  {
   "cell_type": "markdown",
   "id": "b6ac4cdf-b8b5-4fcd-8c24-10f2699a63d1",
   "metadata": {},
   "source": [
    "The one thing we need is a class marker so that we can actually work with these"
   ]
  },
  {
   "cell_type": "code",
   "execution_count": 7,
   "id": "46cca50f-5694-491a-a006-668984314b11",
   "metadata": {},
   "outputs": [],
   "source": [
    "df_cook['sub'] = 'r/Cooking'"
   ]
  },
  {
   "cell_type": "code",
   "execution_count": 8,
   "id": "c48f6197-86ed-4e3a-9f01-90a8a04fd1bf",
   "metadata": {},
   "outputs": [],
   "source": [
    "df_cforb['sub'] = 'r/Cookingforbeginners'"
   ]
  },
  {
   "cell_type": "code",
   "execution_count": 9,
   "id": "ab3e1f59-d832-4897-aa52-fce2de527dfd",
   "metadata": {},
   "outputs": [],
   "source": [
    "textdata = pd.concat([df_cook[['selftext','sub']],df_cforb[['selftext','sub']]])"
   ]
  },
  {
   "cell_type": "code",
   "execution_count": 10,
   "id": "74e9bbc1-8fef-4ce5-bc1a-b9926a8dab6a",
   "metadata": {
    "tags": []
   },
   "outputs": [],
   "source": [
    "X = textdata['selftext']\n",
    "y = textdata['sub']"
   ]
  },
  {
   "cell_type": "code",
   "execution_count": 11,
   "id": "6d6aa99d-0e9f-4009-88a9-fde483b9ccce",
   "metadata": {},
   "outputs": [],
   "source": [
    "X.fillna('',inplace=True)"
   ]
  },
  {
   "cell_type": "code",
   "execution_count": 12,
   "id": "a4192a58-4f4a-429a-88eb-916aac4ffcea",
   "metadata": {},
   "outputs": [
    {
     "data": {
      "text/plain": [
       "r/Cookingforbeginners    0.500254\n",
       "r/Cooking                0.499746\n",
       "Name: sub, dtype: float64"
      ]
     },
     "execution_count": 12,
     "metadata": {},
     "output_type": "execute_result"
    }
   ],
   "source": [
    "y.value_counts(normalize=True)"
   ]
  },
  {
   "cell_type": "markdown",
   "id": "cfea552f-8b2d-487b-b880-6e5f10c32e8e",
   "metadata": {},
   "source": [
    "Null Model- about as even as you can get!"
   ]
  },
  {
   "cell_type": "code",
   "execution_count": 13,
   "id": "fe434b2e-a6c5-42d4-9416-833aead7d24a",
   "metadata": {},
   "outputs": [],
   "source": [
    "X_train, X_test, y_train, y_test = train_test_split(X,y,random_state=815,stratify=y)"
   ]
  },
  {
   "cell_type": "code",
   "execution_count": 31,
   "id": "809c026d-8038-4222-81c5-b4b1b00cbae7",
   "metadata": {},
   "outputs": [],
   "source": [
    "pipe1 = Pipeline([\n",
    "    ('cv',CountVectorizer(strip_accents='unicode',ngram_range=(1,1),max_features=None)),\n",
    "    ('logreg',LogisticRegression(penalty='l2'))#just calling some of these so you keep them in mind\n",
    "])"
   ]
  },
  {
   "cell_type": "code",
   "execution_count": 32,
   "id": "f0330087-dca4-4518-bd2c-4c835e64dbaa",
   "metadata": {},
   "outputs": [
    {
     "name": "stderr",
     "output_type": "stream",
     "text": [
      "C:\\Users\\Karthik\\AppData\\Roaming\\Python\\Python39\\site-packages\\sklearn\\linear_model\\_logistic.py:814: ConvergenceWarning: lbfgs failed to converge (status=1):\n",
      "STOP: TOTAL NO. of ITERATIONS REACHED LIMIT.\n",
      "\n",
      "Increase the number of iterations (max_iter) or scale the data as shown in:\n",
      "    https://scikit-learn.org/stable/modules/preprocessing.html\n",
      "Please also refer to the documentation for alternative solver options:\n",
      "    https://scikit-learn.org/stable/modules/linear_model.html#logistic-regression\n",
      "  n_iter_i = _check_optimize_result(\n"
     ]
    },
    {
     "data": {
      "text/plain": [
       "0.6164421479977855"
      ]
     },
     "execution_count": 32,
     "metadata": {},
     "output_type": "execute_result"
    }
   ],
   "source": [
    "pipe1.fit(X_train,y_train)\n",
    "pipe1.score(X_test,y_test)"
   ]
  },
  {
   "cell_type": "markdown",
   "id": "11e16de3-5047-4c48-b5a4-06f53f92c6a2",
   "metadata": {},
   "source": [
    "So one of our simplest models got a score of 61.6%-we'll want to look more carefully into all our options, but this is at least a starting point"
   ]
  },
  {
   "cell_type": "code",
   "execution_count": 20,
   "id": "4e5876fe-1172-49cd-9514-121c0305076d",
   "metadata": {},
   "outputs": [],
   "source": [
    "pipe2 = Pipeline([\n",
    "    ('cv', CountVectorizer()),\n",
    "    ('rfc', RandomForestClassifier(n_jobs=-1,random_state=815))\n",
    "])"
   ]
  },
  {
   "cell_type": "code",
   "execution_count": 22,
   "id": "20219ab2-6908-44b5-9098-6c2b7437c593",
   "metadata": {},
   "outputs": [
    {
     "data": {
      "text/plain": [
       "{'memory': None,\n",
       " 'steps': [('cv', CountVectorizer()),\n",
       "  ('rfc', RandomForestClassifier(n_jobs=-1, random_state=815))],\n",
       " 'verbose': False,\n",
       " 'cv': CountVectorizer(),\n",
       " 'rfc': RandomForestClassifier(n_jobs=-1, random_state=815),\n",
       " 'cv__analyzer': 'word',\n",
       " 'cv__binary': False,\n",
       " 'cv__decode_error': 'strict',\n",
       " 'cv__dtype': numpy.int64,\n",
       " 'cv__encoding': 'utf-8',\n",
       " 'cv__input': 'content',\n",
       " 'cv__lowercase': True,\n",
       " 'cv__max_df': 1.0,\n",
       " 'cv__max_features': None,\n",
       " 'cv__min_df': 1,\n",
       " 'cv__ngram_range': (1, 1),\n",
       " 'cv__preprocessor': None,\n",
       " 'cv__stop_words': None,\n",
       " 'cv__strip_accents': None,\n",
       " 'cv__token_pattern': '(?u)\\\\b\\\\w\\\\w+\\\\b',\n",
       " 'cv__tokenizer': None,\n",
       " 'cv__vocabulary': None,\n",
       " 'rfc__bootstrap': True,\n",
       " 'rfc__ccp_alpha': 0.0,\n",
       " 'rfc__class_weight': None,\n",
       " 'rfc__criterion': 'gini',\n",
       " 'rfc__max_depth': None,\n",
       " 'rfc__max_features': 'auto',\n",
       " 'rfc__max_leaf_nodes': None,\n",
       " 'rfc__max_samples': None,\n",
       " 'rfc__min_impurity_decrease': 0.0,\n",
       " 'rfc__min_samples_leaf': 1,\n",
       " 'rfc__min_samples_split': 2,\n",
       " 'rfc__min_weight_fraction_leaf': 0.0,\n",
       " 'rfc__n_estimators': 100,\n",
       " 'rfc__n_jobs': -1,\n",
       " 'rfc__oob_score': False,\n",
       " 'rfc__random_state': 815,\n",
       " 'rfc__verbose': 0,\n",
       " 'rfc__warm_start': False}"
      ]
     },
     "execution_count": 22,
     "metadata": {},
     "output_type": "execute_result"
    }
   ],
   "source": [
    "pipe2.get_params()"
   ]
  },
  {
   "cell_type": "code",
   "execution_count": 27,
   "id": "a4153f55-3cb1-4e34-a4e5-9d15d4ba20c8",
   "metadata": {},
   "outputs": [],
   "source": [
    "params2 = {\n",
    "    'cv__max_df' : [0.8,0.9,1],\n",
    "    'cv__ngram_range' : [(1,1),(1,2),(2,2)],\n",
    "    'cv__strip_accents' : ['ascii','unicode'],\n",
    "    'cv__max_features' : [None,1000,750],\n",
    "    'rfc__ccp_alpha' :[0.0,0.5,1],\n",
    "    'rfc__min_samples_leaf' : [1,2,3,5],\n",
    "    'rfc__n_estimators' : [75,100,200]\n",
    "} #>1800 possibilities! let's try and run through only a couple of times\n",
    "rsc = RandomizedSearchCV(pipe2,param_distributions=params2,n_iter=60,n_jobs=-1)"
   ]
  },
  {
   "cell_type": "code",
   "execution_count": 28,
   "id": "68fe9705-85d7-44df-b576-a4082c9dfae0",
   "metadata": {},
   "outputs": [
    {
     "data": {
      "text/plain": [
       "RandomizedSearchCV(estimator=Pipeline(steps=[('cv', CountVectorizer()),\n",
       "                                             ('rfc',\n",
       "                                              RandomForestClassifier(n_jobs=-1,\n",
       "                                                                     random_state=815))]),\n",
       "                   n_iter=60, n_jobs=-1,\n",
       "                   param_distributions={'cv__max_df': [0.8, 0.9, 1],\n",
       "                                        'cv__max_features': [None, 1000, 750],\n",
       "                                        'cv__ngram_range': [(1, 1), (1, 2),\n",
       "                                                            (2, 2)],\n",
       "                                        'cv__strip_accents': ['ascii',\n",
       "                                                              'unicode'],\n",
       "                                        'rfc__ccp_alpha': [0.0, 0.5, 1],\n",
       "                                        'rfc__min_samples_leaf': [1, 2, 3, 5],\n",
       "                                        'rfc__n_estimators': [75, 100, 200]})"
      ]
     },
     "execution_count": 28,
     "metadata": {},
     "output_type": "execute_result"
    }
   ],
   "source": [
    "rsc.fit(X_train,y_train)"
   ]
  },
  {
   "cell_type": "markdown",
   "id": "c766835f-e7a7-4f6d-aa83-82d4c7136ac6",
   "metadata": {},
   "source": [
    "This took hours to run. In the future, I'll be more cautious, but more importantly now, I want to pickle the rsc so I can use it later"
   ]
  },
  {
   "cell_type": "code",
   "execution_count": 29,
   "id": "cde916be-efc6-47f0-aeee-9083d368d18f",
   "metadata": {},
   "outputs": [],
   "source": [
    "with open('../data/RandForestrcvpickle.pkl', 'wb') as pickle_out:\n",
    "    pickle.dump(rsc,pickle_out)"
   ]
  },
  {
   "cell_type": "markdown",
   "id": "5d8f8b45-614a-4b58-8130-976be0dbb8d2",
   "metadata": {},
   "source": [
    "...But not that cautious, as I have some time away from keyboard, and would like to run an extra trees model"
   ]
  },
  {
   "cell_type": "code",
   "execution_count": 30,
   "id": "85ac4b1f-eb36-4e36-84f3-422607cef26e",
   "metadata": {},
   "outputs": [],
   "source": [
    "pipe3 = Pipeline([\n",
    "    ('cv', CountVectorizer()),\n",
    "    ('etc', ExtraTreesClassifier(n_jobs=-1,random_state=815))\n",
    "])"
   ]
  },
  {
   "cell_type": "code",
   "execution_count": 32,
   "id": "1bcb9aec-87e7-4175-b597-86fbd2ecdba3",
   "metadata": {},
   "outputs": [],
   "source": [
    "params3 = {\n",
    "    'cv__max_df' : [0.8,0.9,1],\n",
    "    'cv__ngram_range' : [(1,1),(1,2),(2,2)],\n",
    "    'cv__strip_accents' : ['ascii','unicode'],\n",
    "    'cv__max_features' : [None,1000,750],\n",
    "    'etc__max_features' : ['auto','log2'],\n",
    "    'etc__ccp_alpha' : [0.0,0.5,1],\n",
    "    'etc__min_samples_split' : [2,3,4,5],\n",
    "    'etc__criterion' : ['gini','entropy'],\n",
    "    'etc__n_estimators' : [100,50,200,75]\n",
    "}\n",
    "rsc2 = RandomizedSearchCV(pipe3, param_distributions=params3,n_iter=60,n_jobs=-1)"
   ]
  },
  {
   "cell_type": "code",
   "execution_count": 33,
   "id": "63ad4779-648c-45aa-8f3e-159dc34af0c4",
   "metadata": {},
   "outputs": [
    {
     "data": {
      "text/plain": [
       "RandomizedSearchCV(estimator=Pipeline(steps=[('cv', CountVectorizer()),\n",
       "                                             ('etc',\n",
       "                                              ExtraTreesClassifier(n_jobs=-1,\n",
       "                                                                   random_state=815))]),\n",
       "                   n_iter=60, n_jobs=-1,\n",
       "                   param_distributions={'cv__max_df': [0.8, 0.9, 1],\n",
       "                                        'cv__max_features': [None, 1000, 750],\n",
       "                                        'cv__ngram_range': [(1, 1), (1, 2),\n",
       "                                                            (2, 2)],\n",
       "                                        'cv__strip_accents': ['ascii',\n",
       "                                                              'unicode'],\n",
       "                                        'etc__ccp_alpha': [0.0, 0.5, 1],\n",
       "                                        'etc__criterion': ['gini', 'entropy'],\n",
       "                                        'etc__max_features': ['auto', 'log2'],\n",
       "                                        'etc__min_samples_split': [2, 3, 4, 5],\n",
       "                                        'etc__n_estimators': [100, 50, 200,\n",
       "                                                              75]})"
      ]
     },
     "execution_count": 33,
     "metadata": {},
     "output_type": "execute_result"
    }
   ],
   "source": [
    "rsc2.fit(X_train,y_train)"
   ]
  },
  {
   "cell_type": "code",
   "execution_count": 34,
   "id": "e47f8c5d-3bbe-4921-b671-fb7705a6f146",
   "metadata": {},
   "outputs": [],
   "source": [
    "with open('../data/ExtraPickledForestrcv.pkl', 'wb') as pickle_out:\n",
    "    pickle.dump(rsc2,pickle_out)"
   ]
  },
  {
   "cell_type": "code",
   "execution_count": 35,
   "id": "dfc6180e-ebb2-4292-938d-168e251dd68a",
   "metadata": {},
   "outputs": [
    {
     "data": {
      "text/plain": [
       "(0.625576674663222, 0.6325890385680015)"
      ]
     },
     "execution_count": 35,
     "metadata": {},
     "output_type": "execute_result"
    }
   ],
   "source": [
    "rsc.score(X_test,y_test), rsc2.score(X_test,y_test)"
   ]
  },
  {
   "cell_type": "markdown",
   "id": "539976d7-c710-4c10-b5dd-5b25e79ad80b",
   "metadata": {},
   "source": [
    "A lot of work for not a lot of gain"
   ]
  },
  {
   "cell_type": "code",
   "execution_count": 36,
   "id": "0fefc4fd-2b0c-4543-bcc8-eac811dc5312",
   "metadata": {},
   "outputs": [
    {
     "data": {
      "text/plain": [
       "{'rfc__n_estimators': 200,\n",
       " 'rfc__min_samples_leaf': 2,\n",
       " 'rfc__ccp_alpha': 0.0,\n",
       " 'cv__strip_accents': 'ascii',\n",
       " 'cv__ngram_range': (1, 2),\n",
       " 'cv__max_features': 1000,\n",
       " 'cv__max_df': 0.8}"
      ]
     },
     "execution_count": 36,
     "metadata": {},
     "output_type": "execute_result"
    }
   ],
   "source": [
    "rsc.best_params_"
   ]
  },
  {
   "cell_type": "code",
   "execution_count": 39,
   "id": "cf228364-b953-453d-91eb-55db43ffe5b6",
   "metadata": {},
   "outputs": [
    {
     "data": {
      "text/plain": [
       "{'etc__n_estimators': 200,\n",
       " 'etc__min_samples_split': 3,\n",
       " 'etc__max_features': 'auto',\n",
       " 'etc__criterion': 'entropy',\n",
       " 'etc__ccp_alpha': 0.0,\n",
       " 'cv__strip_accents': 'ascii',\n",
       " 'cv__ngram_range': (1, 1),\n",
       " 'cv__max_features': 1000,\n",
       " 'cv__max_df': 0.8}"
      ]
     },
     "execution_count": 39,
     "metadata": {},
     "output_type": "execute_result"
    }
   ],
   "source": [
    "rsc2.best_params_"
   ]
  },
  {
   "cell_type": "markdown",
   "id": "2334cd32-5186-45c9-9488-2ed99ff55ed7",
   "metadata": {},
   "source": [
    "It seems that more estimators, slightly larger min splits, no CCP alpha, ascii strip accents, and a max_df/ max_features all perform well. To be more sure, we could check all the parameters searched and in particular the top couple to see if they shared features, and what can be made of them"
   ]
  },
  {
   "cell_type": "code",
   "execution_count": 46,
   "id": "be24043e-8da1-48af-89af-e34b5ea07d74",
   "metadata": {},
   "outputs": [
    {
     "data": {
      "text/html": [
       "<div>\n",
       "<style scoped>\n",
       "    .dataframe tbody tr th:only-of-type {\n",
       "        vertical-align: middle;\n",
       "    }\n",
       "\n",
       "    .dataframe tbody tr th {\n",
       "        vertical-align: top;\n",
       "    }\n",
       "\n",
       "    .dataframe thead th {\n",
       "        text-align: right;\n",
       "    }\n",
       "</style>\n",
       "<table border=\"1\" class=\"dataframe\">\n",
       "  <thead>\n",
       "    <tr style=\"text-align: right;\">\n",
       "      <th></th>\n",
       "      <th>mean_fit_time</th>\n",
       "      <th>std_fit_time</th>\n",
       "      <th>mean_score_time</th>\n",
       "      <th>std_score_time</th>\n",
       "      <th>param_etc__n_estimators</th>\n",
       "      <th>param_etc__min_samples_split</th>\n",
       "      <th>param_etc__max_features</th>\n",
       "      <th>param_etc__criterion</th>\n",
       "      <th>param_etc__ccp_alpha</th>\n",
       "      <th>param_cv__strip_accents</th>\n",
       "      <th>...</th>\n",
       "      <th>param_cv__max_df</th>\n",
       "      <th>params</th>\n",
       "      <th>split0_test_score</th>\n",
       "      <th>split1_test_score</th>\n",
       "      <th>split2_test_score</th>\n",
       "      <th>split3_test_score</th>\n",
       "      <th>split4_test_score</th>\n",
       "      <th>mean_test_score</th>\n",
       "      <th>std_test_score</th>\n",
       "      <th>rank_test_score</th>\n",
       "    </tr>\n",
       "  </thead>\n",
       "  <tbody>\n",
       "    <tr>\n",
       "      <th>30</th>\n",
       "      <td>182.299128</td>\n",
       "      <td>12.506256</td>\n",
       "      <td>3.975812</td>\n",
       "      <td>0.509577</td>\n",
       "      <td>200</td>\n",
       "      <td>3</td>\n",
       "      <td>auto</td>\n",
       "      <td>entropy</td>\n",
       "      <td>0.0</td>\n",
       "      <td>ascii</td>\n",
       "      <td>...</td>\n",
       "      <td>0.8</td>\n",
       "      <td>{'etc__n_estimators': 200, 'etc__min_samples_s...</td>\n",
       "      <td>0.622482</td>\n",
       "      <td>0.623251</td>\n",
       "      <td>0.626576</td>\n",
       "      <td>0.627038</td>\n",
       "      <td>0.619194</td>\n",
       "      <td>0.623708</td>\n",
       "      <td>0.002878</td>\n",
       "      <td>1</td>\n",
       "    </tr>\n",
       "    <tr>\n",
       "      <th>48</th>\n",
       "      <td>105.817301</td>\n",
       "      <td>8.104324</td>\n",
       "      <td>5.067628</td>\n",
       "      <td>1.166393</td>\n",
       "      <td>100</td>\n",
       "      <td>2</td>\n",
       "      <td>log2</td>\n",
       "      <td>entropy</td>\n",
       "      <td>0.0</td>\n",
       "      <td>unicode</td>\n",
       "      <td>...</td>\n",
       "      <td>0.9</td>\n",
       "      <td>{'etc__n_estimators': 100, 'etc__min_samples_s...</td>\n",
       "      <td>0.609872</td>\n",
       "      <td>0.615870</td>\n",
       "      <td>0.611812</td>\n",
       "      <td>0.616580</td>\n",
       "      <td>0.614888</td>\n",
       "      <td>0.613804</td>\n",
       "      <td>0.002552</td>\n",
       "      <td>2</td>\n",
       "    </tr>\n",
       "    <tr>\n",
       "      <th>31</th>\n",
       "      <td>46.074320</td>\n",
       "      <td>4.641313</td>\n",
       "      <td>4.501480</td>\n",
       "      <td>1.110105</td>\n",
       "      <td>75</td>\n",
       "      <td>3</td>\n",
       "      <td>log2</td>\n",
       "      <td>entropy</td>\n",
       "      <td>0.0</td>\n",
       "      <td>unicode</td>\n",
       "      <td>...</td>\n",
       "      <td>0.9</td>\n",
       "      <td>{'etc__n_estimators': 75, 'etc__min_samples_sp...</td>\n",
       "      <td>0.609719</td>\n",
       "      <td>0.617254</td>\n",
       "      <td>0.611197</td>\n",
       "      <td>0.612119</td>\n",
       "      <td>0.617964</td>\n",
       "      <td>0.613650</td>\n",
       "      <td>0.003329</td>\n",
       "      <td>3</td>\n",
       "    </tr>\n",
       "    <tr>\n",
       "      <th>20</th>\n",
       "      <td>464.976246</td>\n",
       "      <td>30.019388</td>\n",
       "      <td>6.308181</td>\n",
       "      <td>1.416781</td>\n",
       "      <td>75</td>\n",
       "      <td>4</td>\n",
       "      <td>auto</td>\n",
       "      <td>entropy</td>\n",
       "      <td>0.0</td>\n",
       "      <td>unicode</td>\n",
       "      <td>...</td>\n",
       "      <td>0.8</td>\n",
       "      <td>{'etc__n_estimators': 75, 'etc__min_samples_sp...</td>\n",
       "      <td>0.613409</td>\n",
       "      <td>0.607566</td>\n",
       "      <td>0.611658</td>\n",
       "      <td>0.618118</td>\n",
       "      <td>0.613965</td>\n",
       "      <td>0.612943</td>\n",
       "      <td>0.003424</td>\n",
       "      <td>4</td>\n",
       "    </tr>\n",
       "  </tbody>\n",
       "</table>\n",
       "<p>4 rows × 22 columns</p>\n",
       "</div>"
      ],
      "text/plain": [
       "    mean_fit_time  std_fit_time  mean_score_time  std_score_time  \\\n",
       "30     182.299128     12.506256         3.975812        0.509577   \n",
       "48     105.817301      8.104324         5.067628        1.166393   \n",
       "31      46.074320      4.641313         4.501480        1.110105   \n",
       "20     464.976246     30.019388         6.308181        1.416781   \n",
       "\n",
       "   param_etc__n_estimators param_etc__min_samples_split  \\\n",
       "30                     200                            3   \n",
       "48                     100                            2   \n",
       "31                      75                            3   \n",
       "20                      75                            4   \n",
       "\n",
       "   param_etc__max_features param_etc__criterion param_etc__ccp_alpha  \\\n",
       "30                    auto              entropy                  0.0   \n",
       "48                    log2              entropy                  0.0   \n",
       "31                    log2              entropy                  0.0   \n",
       "20                    auto              entropy                  0.0   \n",
       "\n",
       "   param_cv__strip_accents  ... param_cv__max_df  \\\n",
       "30                   ascii  ...              0.8   \n",
       "48                 unicode  ...              0.9   \n",
       "31                 unicode  ...              0.9   \n",
       "20                 unicode  ...              0.8   \n",
       "\n",
       "                                               params split0_test_score  \\\n",
       "30  {'etc__n_estimators': 200, 'etc__min_samples_s...          0.622482   \n",
       "48  {'etc__n_estimators': 100, 'etc__min_samples_s...          0.609872   \n",
       "31  {'etc__n_estimators': 75, 'etc__min_samples_sp...          0.609719   \n",
       "20  {'etc__n_estimators': 75, 'etc__min_samples_sp...          0.613409   \n",
       "\n",
       "   split1_test_score  split2_test_score  split3_test_score  split4_test_score  \\\n",
       "30          0.623251           0.626576           0.627038           0.619194   \n",
       "48          0.615870           0.611812           0.616580           0.614888   \n",
       "31          0.617254           0.611197           0.612119           0.617964   \n",
       "20          0.607566           0.611658           0.618118           0.613965   \n",
       "\n",
       "    mean_test_score  std_test_score  rank_test_score  \n",
       "30         0.623708        0.002878                1  \n",
       "48         0.613804        0.002552                2  \n",
       "31         0.613650        0.003329                3  \n",
       "20         0.612943        0.003424                4  \n",
       "\n",
       "[4 rows x 22 columns]"
      ]
     },
     "execution_count": 46,
     "metadata": {},
     "output_type": "execute_result"
    }
   ],
   "source": [
    "pd.DataFrame(rsc2.cv_results_).sort_values(by='mean_test_score',ascending=False).head(4)"
   ]
  },
  {
   "cell_type": "code",
   "execution_count": 47,
   "id": "5fb10dd8-bbc9-493c-a410-f6a88f30b5ce",
   "metadata": {},
   "outputs": [
    {
     "data": {
      "text/html": [
       "<div>\n",
       "<style scoped>\n",
       "    .dataframe tbody tr th:only-of-type {\n",
       "        vertical-align: middle;\n",
       "    }\n",
       "\n",
       "    .dataframe tbody tr th {\n",
       "        vertical-align: top;\n",
       "    }\n",
       "\n",
       "    .dataframe thead th {\n",
       "        text-align: right;\n",
       "    }\n",
       "</style>\n",
       "<table border=\"1\" class=\"dataframe\">\n",
       "  <thead>\n",
       "    <tr style=\"text-align: right;\">\n",
       "      <th></th>\n",
       "      <th>mean_fit_time</th>\n",
       "      <th>std_fit_time</th>\n",
       "      <th>mean_score_time</th>\n",
       "      <th>std_score_time</th>\n",
       "      <th>param_rfc__n_estimators</th>\n",
       "      <th>param_rfc__min_samples_leaf</th>\n",
       "      <th>param_rfc__ccp_alpha</th>\n",
       "      <th>param_cv__strip_accents</th>\n",
       "      <th>param_cv__ngram_range</th>\n",
       "      <th>param_cv__max_features</th>\n",
       "      <th>param_cv__max_df</th>\n",
       "      <th>params</th>\n",
       "      <th>split0_test_score</th>\n",
       "      <th>split1_test_score</th>\n",
       "      <th>split2_test_score</th>\n",
       "      <th>split3_test_score</th>\n",
       "      <th>split4_test_score</th>\n",
       "      <th>mean_test_score</th>\n",
       "      <th>std_test_score</th>\n",
       "      <th>rank_test_score</th>\n",
       "    </tr>\n",
       "  </thead>\n",
       "  <tbody>\n",
       "    <tr>\n",
       "      <th>3</th>\n",
       "      <td>142.842152</td>\n",
       "      <td>4.763248</td>\n",
       "      <td>5.159996</td>\n",
       "      <td>1.307765</td>\n",
       "      <td>200</td>\n",
       "      <td>2</td>\n",
       "      <td>0.0</td>\n",
       "      <td>ascii</td>\n",
       "      <td>(1, 2)</td>\n",
       "      <td>1000</td>\n",
       "      <td>0.8</td>\n",
       "      <td>{'rfc__n_estimators': 200, 'rfc__min_samples_l...</td>\n",
       "      <td>0.623405</td>\n",
       "      <td>0.618638</td>\n",
       "      <td>0.624269</td>\n",
       "      <td>0.611812</td>\n",
       "      <td>0.620886</td>\n",
       "      <td>0.619802</td>\n",
       "      <td>0.004457</td>\n",
       "      <td>1</td>\n",
       "    </tr>\n",
       "    <tr>\n",
       "      <th>20</th>\n",
       "      <td>85.071160</td>\n",
       "      <td>2.455519</td>\n",
       "      <td>3.104061</td>\n",
       "      <td>0.689008</td>\n",
       "      <td>200</td>\n",
       "      <td>3</td>\n",
       "      <td>0.0</td>\n",
       "      <td>ascii</td>\n",
       "      <td>(1, 1)</td>\n",
       "      <td>1000</td>\n",
       "      <td>0.8</td>\n",
       "      <td>{'rfc__n_estimators': 200, 'rfc__min_samples_l...</td>\n",
       "      <td>0.623558</td>\n",
       "      <td>0.621098</td>\n",
       "      <td>0.619040</td>\n",
       "      <td>0.612119</td>\n",
       "      <td>0.622116</td>\n",
       "      <td>0.619586</td>\n",
       "      <td>0.004013</td>\n",
       "      <td>2</td>\n",
       "    </tr>\n",
       "    <tr>\n",
       "      <th>45</th>\n",
       "      <td>45.561750</td>\n",
       "      <td>4.423848</td>\n",
       "      <td>2.617928</td>\n",
       "      <td>0.723303</td>\n",
       "      <td>100</td>\n",
       "      <td>2</td>\n",
       "      <td>0.0</td>\n",
       "      <td>ascii</td>\n",
       "      <td>(1, 1)</td>\n",
       "      <td>1000</td>\n",
       "      <td>0.8</td>\n",
       "      <td>{'rfc__n_estimators': 100, 'rfc__min_samples_l...</td>\n",
       "      <td>0.632016</td>\n",
       "      <td>0.612948</td>\n",
       "      <td>0.617656</td>\n",
       "      <td>0.606736</td>\n",
       "      <td>0.622424</td>\n",
       "      <td>0.618356</td>\n",
       "      <td>0.008578</td>\n",
       "      <td>3</td>\n",
       "    </tr>\n",
       "    <tr>\n",
       "      <th>23</th>\n",
       "      <td>56.003265</td>\n",
       "      <td>1.791455</td>\n",
       "      <td>4.036319</td>\n",
       "      <td>0.766591</td>\n",
       "      <td>75</td>\n",
       "      <td>1</td>\n",
       "      <td>0.0</td>\n",
       "      <td>unicode</td>\n",
       "      <td>(1, 1)</td>\n",
       "      <td>1000</td>\n",
       "      <td>0.9</td>\n",
       "      <td>{'rfc__n_estimators': 75, 'rfc__min_samples_le...</td>\n",
       "      <td>0.620790</td>\n",
       "      <td>0.625096</td>\n",
       "      <td>0.615349</td>\n",
       "      <td>0.611658</td>\n",
       "      <td>0.617810</td>\n",
       "      <td>0.618141</td>\n",
       "      <td>0.004590</td>\n",
       "      <td>4</td>\n",
       "    </tr>\n",
       "  </tbody>\n",
       "</table>\n",
       "</div>"
      ],
      "text/plain": [
       "    mean_fit_time  std_fit_time  mean_score_time  std_score_time  \\\n",
       "3      142.842152      4.763248         5.159996        1.307765   \n",
       "20      85.071160      2.455519         3.104061        0.689008   \n",
       "45      45.561750      4.423848         2.617928        0.723303   \n",
       "23      56.003265      1.791455         4.036319        0.766591   \n",
       "\n",
       "   param_rfc__n_estimators param_rfc__min_samples_leaf param_rfc__ccp_alpha  \\\n",
       "3                      200                           2                  0.0   \n",
       "20                     200                           3                  0.0   \n",
       "45                     100                           2                  0.0   \n",
       "23                      75                           1                  0.0   \n",
       "\n",
       "   param_cv__strip_accents param_cv__ngram_range param_cv__max_features  \\\n",
       "3                    ascii                (1, 2)                   1000   \n",
       "20                   ascii                (1, 1)                   1000   \n",
       "45                   ascii                (1, 1)                   1000   \n",
       "23                 unicode                (1, 1)                   1000   \n",
       "\n",
       "   param_cv__max_df                                             params  \\\n",
       "3               0.8  {'rfc__n_estimators': 200, 'rfc__min_samples_l...   \n",
       "20              0.8  {'rfc__n_estimators': 200, 'rfc__min_samples_l...   \n",
       "45              0.8  {'rfc__n_estimators': 100, 'rfc__min_samples_l...   \n",
       "23              0.9  {'rfc__n_estimators': 75, 'rfc__min_samples_le...   \n",
       "\n",
       "    split0_test_score  split1_test_score  split2_test_score  \\\n",
       "3            0.623405           0.618638           0.624269   \n",
       "20           0.623558           0.621098           0.619040   \n",
       "45           0.632016           0.612948           0.617656   \n",
       "23           0.620790           0.625096           0.615349   \n",
       "\n",
       "    split3_test_score  split4_test_score  mean_test_score  std_test_score  \\\n",
       "3            0.611812           0.620886         0.619802        0.004457   \n",
       "20           0.612119           0.622116         0.619586        0.004013   \n",
       "45           0.606736           0.622424         0.618356        0.008578   \n",
       "23           0.611658           0.617810         0.618141        0.004590   \n",
       "\n",
       "    rank_test_score  \n",
       "3                 1  \n",
       "20                2  \n",
       "45                3  \n",
       "23                4  "
      ]
     },
     "execution_count": 47,
     "metadata": {},
     "output_type": "execute_result"
    }
   ],
   "source": [
    "pd.DataFrame(rsc.cv_results_).sort_values(by='mean_test_score',ascending=False).head(4)"
   ]
  },
  {
   "cell_type": "markdown",
   "id": "01316ee7-33c8-4c48-84db-dc4ea552b4dc",
   "metadata": {},
   "source": [
    "The ETC 1st place seems to have at least a percent increase, which is at least something. The difference between the top RFCs feel random at best"
   ]
  },
  {
   "cell_type": "code",
   "execution_count": 33,
   "id": "65176e32-3d70-4d62-9043-8f8bf273cd8f",
   "metadata": {},
   "outputs": [
    {
     "data": {
      "image/png": "[encoded data removed]",
      "text/plain": [
       "<Figure size 432x288 with 2 Axes>"
      ]
     },
     "metadata": {
      "needs_background": "light"
     },
     "output_type": "display_data"
    }
   ],
   "source": [
    "ConfusionMatrixDisplay.from_estimator(pipe1,X_test,y_test,cmap='Blues');"
   ]
  },
  {
   "cell_type": "code",
   "execution_count": 177,
   "id": "7f6e561a-12db-4d8b-9972-e1ad96ee656e",
   "metadata": {},
   "outputs": [
    {
     "data": {
      "image/png": "[encoded data removed]",
      "text/plain": [
       "<Figure size 432x288 with 2 Axes>"
      ]
     },
     "metadata": {
      "needs_background": "light"
     },
     "output_type": "display_data"
    }
   ],
   "source": [
    "ConfusionMatrixDisplay.from_estimator(rsc.best_estimator_,X_test,y_test,cmap='Blues');"
   ]
  },
  {
   "cell_type": "code",
   "execution_count": 176,
   "id": "4f491d5a-8b5e-4ed9-bf2e-431e73c7bfac",
   "metadata": {},
   "outputs": [
    {
     "data": {
      "image/png": "[encoded data removed]",
      "text/plain": [
       "<Figure size 432x288 with 2 Axes>"
      ]
     },
     "metadata": {
      "needs_background": "light"
     },
     "output_type": "display_data"
    }
   ],
   "source": [
    "ConfusionMatrixDisplay.from_estimator(rsc2.best_estimator_,X_test,y_test,cmap='Blues');"
   ]
  },
  {
   "cell_type": "markdown",
   "id": "d10a0589-b414-4229-ac42-fe1bdebbd232",
   "metadata": {},
   "source": [
    "This, if nothing else, is interesting. The logistic model was *pretty* good at identifying Cooking for Beginners posts- 76% of C4B posts were correctly labeled as such. But they were only able to correctly identify 47.5% of r/Cooking posts correctly as Cooking posts.\n",
    "\n",
    "The random forest splits it in the model and identifys 65% of cooking posts correctly versus 60% of Cooking for Beginners posts\n",
    "\n",
    "And the ExtraTreesClassifier correctly classifies 80% of Cooking posts, while only 47% of Cooking for Beginners posts. Further consideration must be given for why this is the case- and perhaps looking at feature-importance will help in that regard"
   ]
  },
  {
   "cell_type": "markdown",
   "id": "497dabdb-b3b3-4072-a90d-d253cbe94ae8",
   "metadata": {},
   "source": [
    "First, we're going to look at AdaBoost, though, and see if it helps"
   ]
  },
  {
   "cell_type": "code",
   "execution_count": 14,
   "id": "655d3c13-bf6c-496c-a1e5-3fd1c6fe00d9",
   "metadata": {},
   "outputs": [],
   "source": [
    "pipe3 = Pipeline([\n",
    "    ('cv',CountVectorizer(strip_accents='ascii',max_features=1000,max_df=0.8)),\n",
    "    ('abc',AdaBoostClassifier(n_estimators=800,random_state=815))\n",
    "])"
   ]
  },
  {
   "cell_type": "markdown",
   "id": "b98051d8-bb04-436a-a2a0-22182a6ea60f",
   "metadata": {},
   "source": [
    "Just a barebone model, to see if it works- if it does particularly well, we'll try playing around with features"
   ]
  },
  {
   "cell_type": "code",
   "execution_count": 15,
   "id": "0c2337db-a225-4026-b60e-d5d162352389",
   "metadata": {},
   "outputs": [
    {
     "data": {
      "text/plain": [
       "Pipeline(steps=[('cv',\n",
       "                 CountVectorizer(max_df=0.8, max_features=1000,\n",
       "                                 strip_accents='ascii')),\n",
       "                ('abc',\n",
       "                 AdaBoostClassifier(n_estimators=800, random_state=815))])"
      ]
     },
     "execution_count": 15,
     "metadata": {},
     "output_type": "execute_result"
    }
   ],
   "source": [
    "pipe3.fit(X_train,y_train)"
   ]
  },
  {
   "cell_type": "code",
   "execution_count": 16,
   "id": "dcf289cd-27d1-4fd7-ba5a-e4dfe0cf45e4",
   "metadata": {},
   "outputs": [
    {
     "data": {
      "text/plain": [
       "0.6256689426093375"
      ]
     },
     "execution_count": 16,
     "metadata": {},
     "output_type": "execute_result"
    }
   ],
   "source": [
    "pipe3.score(X_test,y_test)"
   ]
  },
  {
   "cell_type": "code",
   "execution_count": 78,
   "id": "d665f8e9-6b32-479e-9302-580bc4d5b668",
   "metadata": {},
   "outputs": [
    {
     "data": {
      "text/plain": [
       "(0.7418799212598425,\n",
       " 0.8768454724409449,\n",
       " 0.8850578248031497,\n",
       " 0.6655696358267716)"
      ]
     },
     "execution_count": 78,
     "metadata": {},
     "output_type": "execute_result"
    }
   ],
   "source": [
    "pipe1.score(X_train,y_train), rsc.score(X_train,y_train), rsc2.score(X_train,y_train), pipe3.score(X_train,y_train)"
   ]
  },
  {
   "cell_type": "markdown",
   "id": "055f0269-1de0-4a76-a206-fab5409b9611",
   "metadata": {},
   "source": [
    "The interesting thing is that none of these are as super-overfit as some models that have 99% on train, and lower on the test. But given what I see, I'd like to perhaps increase the number of estimators a lot on the AdaBoost, and see if it can figure out some of the more tricky problems- and perhaps also mess with the vectorizer somewhat"
   ]
  },
  {
   "cell_type": "code",
   "execution_count": 17,
   "id": "d02a2680-c10b-48c7-9b1a-2934406410c7",
   "metadata": {},
   "outputs": [
    {
     "data": {
      "text/plain": [
       "(0.6986958661417323, 0.6158885403210924)"
      ]
     },
     "execution_count": 17,
     "metadata": {},
     "output_type": "execute_result"
    }
   ],
   "source": [
    "pipe4 = Pipeline([\n",
    "    ('cv',CountVectorizer(strip_accents='ascii',max_features=1000,max_df=0.8)),\n",
    "    ('abc',AdaBoostClassifier(n_estimators=7500,random_state=815))\n",
    "])\n",
    "pipe4.fit(X_train,y_train)\n",
    "pipe4.score(X_train,y_train), pipe4.score(X_test,y_test)"
   ]
  },
  {
   "cell_type": "markdown",
   "id": "ee120209-3c5c-41ed-88be-3cd561433dfc",
   "metadata": {},
   "source": [
    "Amusingly, this is worse than before."
   ]
  },
  {
   "cell_type": "code",
   "execution_count": 34,
   "id": "dac12a25-0fcf-4878-bcc0-4bccb5828b79",
   "metadata": {},
   "outputs": [
    {
     "data": {
      "image/png": "[encoded data removed]",
      "text/plain": [
       "<Figure size 432x288 with 2 Axes>"
      ]
     },
     "metadata": {
      "needs_background": "light"
     },
     "output_type": "display_data"
    }
   ],
   "source": [
    "ConfusionMatrixDisplay.from_estimator(pipe4,X_test,y_test,cmap='Blues');"
   ]
  },
  {
   "cell_type": "code",
   "execution_count": 35,
   "id": "40eaa367-9593-4f7c-bd61-5a0fe82d3204",
   "metadata": {},
   "outputs": [
    {
     "data": {
      "image/png": "[encoded data removed]",
      "text/plain": [
       "<Figure size 432x288 with 2 Axes>"
      ]
     },
     "metadata": {
      "needs_background": "light"
     },
     "output_type": "display_data"
    }
   ],
   "source": [
    "ConfusionMatrixDisplay.from_estimator(pipe3,X_test,y_test,cmap='Blues');"
   ]
  },
  {
   "cell_type": "code",
   "execution_count": 36,
   "id": "56eb5c49-f62d-4c55-bc8d-9df13923fdb7",
   "metadata": {},
   "outputs": [],
   "source": [
    "with open('C:/Users/Karthik/Documents/DSIProj3largedata/RandForestrcvpickle.pkl','rb') as x:\n",
    "    rsc = pickle.load(x)"
   ]
  },
  {
   "cell_type": "code",
   "execution_count": 37,
   "id": "d09b0e50-3776-41df-8fc7-aa23324ed88e",
   "metadata": {},
   "outputs": [],
   "source": [
    "with open('C:/Users/Karthik/Documents/DSIProj3largedata/ExtraPickledForestrcv.pkl','rb') as x:\n",
    "    rsc2 = pickle.load(x)"
   ]
  },
  {
   "cell_type": "code",
   "execution_count": 38,
   "id": "86d0f051-caf7-47a5-b28a-46663b3a6673",
   "metadata": {},
   "outputs": [
    {
     "data": {
      "text/plain": [
       "Pipeline(steps=[('cv',\n",
       "                 CountVectorizer(max_df=0.8, max_features=1000,\n",
       "                                 strip_accents='ascii')),\n",
       "                ('etc',\n",
       "                 ExtraTreesClassifier(criterion='entropy', min_samples_split=3,\n",
       "                                      n_estimators=200, n_jobs=-1,\n",
       "                                      random_state=815))])"
      ]
     },
     "execution_count": 38,
     "metadata": {},
     "output_type": "execute_result"
    }
   ],
   "source": [
    "rsc2.best_estimator_"
   ]
  },
  {
   "cell_type": "code",
   "execution_count": 68,
   "id": "ea1d48c3-ffe7-4918-bd1c-fa2c241da6ce",
   "metadata": {},
   "outputs": [],
   "source": [
    "rfcpreds = pd.DataFrame(rsc.best_estimator_.predict(X_test),columns=['randforestpred'])\n",
    "efcpreds = pd.DataFrame(rsc2.best_estimator_.predict(X_test),columns=['extforestpred'])\n",
    "logpreds = pd.DataFrame(pipe1.predict(X_test),columns=['logregpred'])\n"
   ]
  },
  {
   "cell_type": "code",
   "execution_count": 100,
   "id": "102632d6-41e5-447b-82a6-7b193ef47fe7",
   "metadata": {},
   "outputs": [],
   "source": [
    "df_classes = pd.concat([pd.DataFrame(list(X_test),columns=['selftext']),\n",
    "                        pd.DataFrame(list(y_test),columns=['ytrue']),\n",
    "                        logpreds,rfcpreds,efcpreds],axis=1)"
   ]
  },
  {
   "cell_type": "code",
   "execution_count": 105,
   "id": "20c17f34-5b7b-498b-9e73-e4b4fe1f2273",
   "metadata": {},
   "outputs": [],
   "source": [
    "lrtrue = df_classes['ytrue'] == df_classes['logregpred']\n",
    "rftrue = df_classes['ytrue'] == df_classes['randforestpred']\n",
    "eftrue = df_classes['ytrue'] == df_classes['extforestpred']"
   ]
  },
  {
   "cell_type": "code",
   "execution_count": 121,
   "id": "2acce4fb-05a2-4f0a-8be0-a0d9a4cd12c4",
   "metadata": {},
   "outputs": [
    {
     "data": {
      "text/plain": [
       "((404, 5), (1596, 5))"
      ]
     },
     "execution_count": 121,
     "metadata": {},
     "output_type": "execute_result"
    }
   ],
   "source": [
    "df_classes[(~lrtrue) & (~rftrue) & (~eftrue)&(df_classes['selftext']=='')].shape,df_classes[(~lrtrue) & (~rftrue) & (~eftrue)].shape"
   ]
  },
  {
   "cell_type": "markdown",
   "id": "127dabe1-091f-4a95-a22a-3afa2be803a4",
   "metadata": {},
   "source": [
    "404 out of 1596 errors were a given because the self-text was blank- CookingforBeginners had more blank-text options"
   ]
  },
  {
   "cell_type": "code",
   "execution_count": 124,
   "id": "78e47e99-eb50-4fd3-90b8-4102cd126231",
   "metadata": {},
   "outputs": [
    {
     "data": {
      "text/plain": [
       "((1268, 5), (4209, 5))"
      ]
     },
     "execution_count": 124,
     "metadata": {},
     "output_type": "execute_result"
    }
   ],
   "source": [
    "df_classes[(lrtrue) & (rftrue) & (eftrue)&(df_classes['selftext']=='')].shape, df_classes[(lrtrue) & (rftrue) & (eftrue)].shape"
   ]
  },
  {
   "cell_type": "markdown",
   "id": "480896dd-13d2-40f2-8d86-eb55d4ea1d66",
   "metadata": {},
   "source": [
    "And 1268/4209 of ones that all got right were blank text. To be more explicit, 76% of blank self-texts are from C4B, and guesses on blanks made up 30% of (universal) correct guesses on the test set came from blank text, versus 25% of (universal) incorrect guesses"
   ]
  },
  {
   "cell_type": "code",
   "execution_count": 135,
   "id": "9ebadae2-d2a1-46fa-9b6f-834f4e89a745",
   "metadata": {},
   "outputs": [
    {
     "data": {
      "text/plain": [
       "(1201, 5)"
      ]
     },
     "execution_count": 135,
     "metadata": {},
     "output_type": "execute_result"
    }
   ],
   "source": [
    "df_classes[(~lrtrue) & (rftrue) & (eftrue)&(df_classes['selftext']!='')].shape"
   ]
  },
  {
   "cell_type": "code",
   "execution_count": 137,
   "id": "a7ddd3a1-924e-4e54-8dba-491105c87963",
   "metadata": {},
   "outputs": [
    {
     "data": {
      "text/plain": [
       "(364, 5)"
      ]
     },
     "execution_count": 137,
     "metadata": {},
     "output_type": "execute_result"
    }
   ],
   "source": [
    "df_classes[(lrtrue) & (~rftrue) & (eftrue)&(df_classes['selftext']!='')].shape"
   ]
  },
  {
   "cell_type": "code",
   "execution_count": 138,
   "id": "8a0e5429-a54c-4a8f-8295-0bbed269d62d",
   "metadata": {},
   "outputs": [
    {
     "data": {
      "text/plain": [
       "(1092, 5)"
      ]
     },
     "execution_count": 138,
     "metadata": {},
     "output_type": "execute_result"
    }
   ],
   "source": [
    "df_classes[(lrtrue) & (rftrue) & (~eftrue)&(df_classes['selftext']!='')].shape"
   ]
  },
  {
   "cell_type": "code",
   "execution_count": 148,
   "id": "8a47ad7e-081d-4257-99bf-ebf68bca5dae",
   "metadata": {},
   "outputs": [
    {
     "name": "stdout",
     "output_type": "stream",
     "text": [
      "LogReg missed predictions : 4157\n",
      "\n",
      "RandForest missed predictions: 4058\n",
      "\n",
      "ExtraForest missed predictions: 3982\n",
      "\n"
     ]
    }
   ],
   "source": [
    "print(f'''LogReg missed predictions : {round((1-pipe1.score(X_test,y_test))*len(y_test))}\n",
    "\\nRandForest missed predictions: {round((1-rsc.best_estimator_.score(X_test,y_test))*len(y_test))}\n",
    "\\nExtraForest missed predictions: {round((1-rsc2.best_estimator_.score(X_test,y_test))*len(y_test))}\n",
    "''')"
   ]
  },
  {
   "cell_type": "markdown",
   "id": "23079967-daa4-4dd8-8934-0f043e8fd778",
   "metadata": {},
   "source": [
    "To put this together, 32% of the logistic regression's misses (excluding selftext='') were caught by the other two, 30.5% of Extra Trees, but only 10% of Random Forest! We'll look at some random sentences each estimator missed that the other 2 got, but all this suggests there might be some gain from a VotingClassifier"
   ]
  },
  {
   "cell_type": "code",
   "execution_count": 158,
   "id": "0b748615-6611-4a54-875b-1a143f0c5883",
   "metadata": {},
   "outputs": [],
   "source": [
    "pd.set_option('display.max_colwidth', None)"
   ]
  },
  {
   "cell_type": "code",
   "execution_count": 159,
   "id": "13a6c993-bfb8-490f-af6e-3e86543dd256",
   "metadata": {},
   "outputs": [
    {
     "data": {
      "text/html": [
       "<div>\n",
       "<style scoped>\n",
       "    .dataframe tbody tr th:only-of-type {\n",
       "        vertical-align: middle;\n",
       "    }\n",
       "\n",
       "    .dataframe tbody tr th {\n",
       "        vertical-align: top;\n",
       "    }\n",
       "\n",
       "    .dataframe thead th {\n",
       "        text-align: right;\n",
       "    }\n",
       "</style>\n",
       "<table border=\"1\" class=\"dataframe\">\n",
       "  <thead>\n",
       "    <tr style=\"text-align: right;\">\n",
       "      <th></th>\n",
       "      <th>selftext</th>\n",
       "      <th>ytrue</th>\n",
       "      <th>logregpred</th>\n",
       "      <th>randforestpred</th>\n",
       "      <th>extforestpred</th>\n",
       "    </tr>\n",
       "  </thead>\n",
       "  <tbody>\n",
       "    <tr>\n",
       "      <th>1602</th>\n",
       "      <td>I’m going to grill a red wine and garlic marinated chukar this weekend and was wondering as to what would go well with it (besides asparagus, green beans and rice lol). Any suggestions are welcome!</td>\n",
       "      <td>r/Cooking</td>\n",
       "      <td>r/Cookingforbeginners</td>\n",
       "      <td>r/Cooking</td>\n",
       "      <td>r/Cooking</td>\n",
       "    </tr>\n",
       "    <tr>\n",
       "      <th>2621</th>\n",
       "      <td>I’ve seen michiu named in some cooking recipes like chicken fish or pork, i’m wondering what it’s mainly used for. i usually use red wine for cooking beef and red meat but i’ve run out and am wondering if i can substitute michiu (someone gifted me a bottle recently) and will it have the same result? if not what can i use michiu for?</td>\n",
       "      <td>r/Cooking</td>\n",
       "      <td>r/Cookingforbeginners</td>\n",
       "      <td>r/Cooking</td>\n",
       "      <td>r/Cooking</td>\n",
       "    </tr>\n",
       "    <tr>\n",
       "      <th>6861</th>\n",
       "      <td>This could be an injury accident (cutting yourself, burning, etc.) or less lethal mistakes (forgetting stuff on stove, leaving raw meat out way too long, etc.). \\n\\nFor me, it was cutting myself early on when I started cooking a lot. Once I wised up and my knife skills became better, burning myself became the problem. Still do it every now and then, especially now that I have a gas range.</td>\n",
       "      <td>r/Cooking</td>\n",
       "      <td>r/Cookingforbeginners</td>\n",
       "      <td>r/Cooking</td>\n",
       "      <td>r/Cooking</td>\n",
       "    </tr>\n",
       "    <tr>\n",
       "      <th>3933</th>\n",
       "      <td>[https://imgur.com/a/pNVlMj3](https://imgur.com/a/pNVlMj3)\\n\\nI know most people don't like crispy edges on their lasagna as some of us do, but this takes it to a ***whole other level***. I may have to try it.</td>\n",
       "      <td>r/Cooking</td>\n",
       "      <td>r/Cookingforbeginners</td>\n",
       "      <td>r/Cooking</td>\n",
       "      <td>r/Cooking</td>\n",
       "    </tr>\n",
       "    <tr>\n",
       "      <th>10311</th>\n",
       "      <td>Hi, so I am having an issue. Before I make potato spears I make my seasoning for them, then add olive oil and toss the potatoes before putting them in the oven at 375-400. I am having an issue where the potatoes aren't burning, but the seasoning on the potatoes is burning, and I can't figure out why. Any ideas on how to prevent something like this from happening?</td>\n",
       "      <td>r/Cooking</td>\n",
       "      <td>r/Cookingforbeginners</td>\n",
       "      <td>r/Cooking</td>\n",
       "      <td>r/Cooking</td>\n",
       "    </tr>\n",
       "  </tbody>\n",
       "</table>\n",
       "</div>"
      ],
      "text/plain": [
       "                                                                                                                                                                                                                                                                                                                                                                                                      selftext  \\\n",
       "1602                                                                                                                                                                                                     I’m going to grill a red wine and garlic marinated chukar this weekend and was wondering as to what would go well with it (besides asparagus, green beans and rice lol). Any suggestions are welcome!   \n",
       "2621                                                            I’ve seen michiu named in some cooking recipes like chicken fish or pork, i’m wondering what it’s mainly used for. i usually use red wine for cooking beef and red meat but i’ve run out and am wondering if i can substitute michiu (someone gifted me a bottle recently) and will it have the same result? if not what can i use michiu for?   \n",
       "6861   This could be an injury accident (cutting yourself, burning, etc.) or less lethal mistakes (forgetting stuff on stove, leaving raw meat out way too long, etc.). \\n\\nFor me, it was cutting myself early on when I started cooking a lot. Once I wised up and my knife skills became better, burning myself became the problem. Still do it every now and then, especially now that I have a gas range.   \n",
       "3933                                                                                                                                                                                         [https://imgur.com/a/pNVlMj3](https://imgur.com/a/pNVlMj3)\\n\\nI know most people don't like crispy edges on their lasagna as some of us do, but this takes it to a ***whole other level***. I may have to try it.   \n",
       "10311                            Hi, so I am having an issue. Before I make potato spears I make my seasoning for them, then add olive oil and toss the potatoes before putting them in the oven at 375-400. I am having an issue where the potatoes aren't burning, but the seasoning on the potatoes is burning, and I can't figure out why. Any ideas on how to prevent something like this from happening?   \n",
       "\n",
       "           ytrue             logregpred randforestpred extforestpred  \n",
       "1602   r/Cooking  r/Cookingforbeginners      r/Cooking     r/Cooking  \n",
       "2621   r/Cooking  r/Cookingforbeginners      r/Cooking     r/Cooking  \n",
       "6861   r/Cooking  r/Cookingforbeginners      r/Cooking     r/Cooking  \n",
       "3933   r/Cooking  r/Cookingforbeginners      r/Cooking     r/Cooking  \n",
       "10311  r/Cooking  r/Cookingforbeginners      r/Cooking     r/Cooking  "
      ]
     },
     "execution_count": 159,
     "metadata": {},
     "output_type": "execute_result"
    }
   ],
   "source": [
    "df_classes[(~lrtrue) & (rftrue) & (eftrue)&(df_classes['selftext']!='')].sample(5,random_state=27)"
   ]
  },
  {
   "cell_type": "code",
   "execution_count": 160,
   "id": "1fdb369f-907a-4dd6-83d2-0d99dca354f4",
   "metadata": {},
   "outputs": [
    {
     "data": {
      "text/html": [
       "<div>\n",
       "<style scoped>\n",
       "    .dataframe tbody tr th:only-of-type {\n",
       "        vertical-align: middle;\n",
       "    }\n",
       "\n",
       "    .dataframe tbody tr th {\n",
       "        vertical-align: top;\n",
       "    }\n",
       "\n",
       "    .dataframe thead th {\n",
       "        text-align: right;\n",
       "    }\n",
       "</style>\n",
       "<table border=\"1\" class=\"dataframe\">\n",
       "  <thead>\n",
       "    <tr style=\"text-align: right;\">\n",
       "      <th></th>\n",
       "      <th>selftext</th>\n",
       "      <th>ytrue</th>\n",
       "      <th>logregpred</th>\n",
       "      <th>randforestpred</th>\n",
       "      <th>extforestpred</th>\n",
       "    </tr>\n",
       "  </thead>\n",
       "  <tbody>\n",
       "    <tr>\n",
       "      <th>5008</th>\n",
       "      <td>Simply 1-3 chicken breasts, would you need bottle of canola oil? Or could you do it in a pan with a small enough amount that you can pour into the trash after it cools? For example for chicken parm...</td>\n",
       "      <td>r/Cookingforbeginners</td>\n",
       "      <td>r/Cookingforbeginners</td>\n",
       "      <td>r/Cooking</td>\n",
       "      <td>r/Cookingforbeginners</td>\n",
       "    </tr>\n",
       "    <tr>\n",
       "      <th>1176</th>\n",
       "      <td>For purposes of not looking too tacky to your female date, what should be cooked by you and what things can safely just be used prepackaged?\\n\\n&amp;amp;#x200B;\\n\\nSo like noodles for example. Why should I not just use instant ramen, isn't it as cheap and as good tasting in many cases as cooking noodles myself? Or would that look too tacky? And then just cook the meat/veggies to throw on top</td>\n",
       "      <td>r/Cookingforbeginners</td>\n",
       "      <td>r/Cookingforbeginners</td>\n",
       "      <td>r/Cooking</td>\n",
       "      <td>r/Cookingforbeginners</td>\n",
       "    </tr>\n",
       "    <tr>\n",
       "      <th>2263</th>\n",
       "      <td>My mom makes a dish that included baby portabella mushrooms, bell peppers, and red onion. These are cooked in the same pan as cubed chicken. Her recipe is not exact and she really just eyeballs the portions and cooking time because she knows what she’s doing...I do not. In what order should I bring the veggies and chicken together so that nothing is burnt to a crisp and the chicken is cooked through? The whole pan will include 4-5 breasts of chicken (cubed), one bell pepper, one red onion, and an 8 oz package of baby portabella mushrooms.</td>\n",
       "      <td>r/Cookingforbeginners</td>\n",
       "      <td>r/Cookingforbeginners</td>\n",
       "      <td>r/Cooking</td>\n",
       "      <td>r/Cookingforbeginners</td>\n",
       "    </tr>\n",
       "    <tr>\n",
       "      <th>5619</th>\n",
       "      <td>Like many other home cooks who struggle to get a good hard sear on their meat without setting off their over-sensitive fire alarm in their apartment, Frank Prinsinzano's Brown Butter Method is a must learn. It still gets you a beautiful brown crust, but its done at medium heat rather than high heat, so it never smokes. \\n\\nTo start, melt a lot of butter in a stainless steel pan. Once the water cooks out of the butter and it stops sizzling, add in your meat, some basting herbs, and garlic cloves. Begin basting immedietely. The meat should have a nice steady sizzle the entire time but the butter should never smoke. Keep the heat on medium and if there's any hint its starting to burn, move the pan off the heat for a bit. Flip every few minutes continously basting until it reaches the desired internal temp.\\n\\nAnother benefit of this over the classic \"sear in a smoking hot pan\" is that you can more generously season the meat without worrying about pepper or garlic powder burning. You get a glorious fond and plenty of leftover brown butter to cook any veggies in while the meat rests. \\n\\nVideo Recipe of the method in action here: https://youtu.be/vo_dFDOI5e0\\nHe also explains it in one of the highlights on his Instagram: https://www.instagram.com/frankprisinzano/?hl=en</td>\n",
       "      <td>r/Cooking</td>\n",
       "      <td>r/Cooking</td>\n",
       "      <td>r/Cookingforbeginners</td>\n",
       "      <td>r/Cooking</td>\n",
       "    </tr>\n",
       "    <tr>\n",
       "      <th>8280</th>\n",
       "      <td>I'm making big cakes, so I want it to be made possible that they be stored 3 to 5 days in the fridge and they can still be as soft as possible. \\n\\nWhat I'm adding:\\n\\negg yolks, sugar, butter, water, all purpose flour, baking flour, salt\\n\\nmeringue with only sugar\\n\\nI then just fold them together. Taste is... okay. Not yet the best. It was my first time. It's definitely soft, but very dense. I want it to last and be even less dense and more fluffier.</td>\n",
       "      <td>r/Cookingforbeginners</td>\n",
       "      <td>r/Cookingforbeginners</td>\n",
       "      <td>r/Cooking</td>\n",
       "      <td>r/Cookingforbeginners</td>\n",
       "    </tr>\n",
       "  </tbody>\n",
       "</table>\n",
       "</div>"
      ],
      "text/plain": [
       "                                                                                                                                                                                                                                                                                                                                                                                                                                                                                                                                                                                                                                                                                                                                                                                                                                                                                                                                                                                                                                                                                                                                                                                                                                                                                                                                  selftext  \\\n",
       "5008                                                                                                                                                                                                                                                                                                                                                                                                                                                                                                                                                                                                                                                                                                                                                                                                                                                                                                                                                                                                                                                                                                                              Simply 1-3 chicken breasts, would you need bottle of canola oil? Or could you do it in a pan with a small enough amount that you can pour into the trash after it cools? For example for chicken parm...   \n",
       "1176                                                                                                                                                                                                                                                                                                                                                                                                                                                                                                                                                                                                                                                                                                                                                                                                                                                                                                                                For purposes of not looking too tacky to your female date, what should be cooked by you and what things can safely just be used prepackaged?\\n\\n&amp;#x200B;\\n\\nSo like noodles for example. Why should I not just use instant ramen, isn't it as cheap and as good tasting in many cases as cooking noodles myself? Or would that look too tacky? And then just cook the meat/veggies to throw on top   \n",
       "2263                                                                                                                                                                                                                                                                                                                                                                                                                                                                                                                                                                                                                                                                                                                                                                      My mom makes a dish that included baby portabella mushrooms, bell peppers, and red onion. These are cooked in the same pan as cubed chicken. Her recipe is not exact and she really just eyeballs the portions and cooking time because she knows what she’s doing...I do not. In what order should I bring the veggies and chicken together so that nothing is burnt to a crisp and the chicken is cooked through? The whole pan will include 4-5 breasts of chicken (cubed), one bell pepper, one red onion, and an 8 oz package of baby portabella mushrooms.   \n",
       "5619  Like many other home cooks who struggle to get a good hard sear on their meat without setting off their over-sensitive fire alarm in their apartment, Frank Prinsinzano's Brown Butter Method is a must learn. It still gets you a beautiful brown crust, but its done at medium heat rather than high heat, so it never smokes. \\n\\nTo start, melt a lot of butter in a stainless steel pan. Once the water cooks out of the butter and it stops sizzling, add in your meat, some basting herbs, and garlic cloves. Begin basting immedietely. The meat should have a nice steady sizzle the entire time but the butter should never smoke. Keep the heat on medium and if there's any hint its starting to burn, move the pan off the heat for a bit. Flip every few minutes continously basting until it reaches the desired internal temp.\\n\\nAnother benefit of this over the classic \"sear in a smoking hot pan\" is that you can more generously season the meat without worrying about pepper or garlic powder burning. You get a glorious fond and plenty of leftover brown butter to cook any veggies in while the meat rests. \\n\\nVideo Recipe of the method in action here: https://youtu.be/vo_dFDOI5e0\\nHe also explains it in one of the highlights on his Instagram: https://www.instagram.com/frankprisinzano/?hl=en   \n",
       "8280                                                                                                                                                                                                                                                                                                                                                                                                                                                                                                                                                                                                                                                                                                                                                                                                                                                             I'm making big cakes, so I want it to be made possible that they be stored 3 to 5 days in the fridge and they can still be as soft as possible. \\n\\nWhat I'm adding:\\n\\negg yolks, sugar, butter, water, all purpose flour, baking flour, salt\\n\\nmeringue with only sugar\\n\\nI then just fold them together. Taste is... okay. Not yet the best. It was my first time. It's definitely soft, but very dense. I want it to last and be even less dense and more fluffier.   \n",
       "\n",
       "                      ytrue             logregpred         randforestpred  \\\n",
       "5008  r/Cookingforbeginners  r/Cookingforbeginners              r/Cooking   \n",
       "1176  r/Cookingforbeginners  r/Cookingforbeginners              r/Cooking   \n",
       "2263  r/Cookingforbeginners  r/Cookingforbeginners              r/Cooking   \n",
       "5619              r/Cooking              r/Cooking  r/Cookingforbeginners   \n",
       "8280  r/Cookingforbeginners  r/Cookingforbeginners              r/Cooking   \n",
       "\n",
       "              extforestpred  \n",
       "5008  r/Cookingforbeginners  \n",
       "1176  r/Cookingforbeginners  \n",
       "2263  r/Cookingforbeginners  \n",
       "5619              r/Cooking  \n",
       "8280  r/Cookingforbeginners  "
      ]
     },
     "execution_count": 160,
     "metadata": {},
     "output_type": "execute_result"
    }
   ],
   "source": [
    "df_classes[(lrtrue) & (~rftrue) & (eftrue)&(df_classes['selftext']!='')].sample(5,random_state=83)"
   ]
  },
  {
   "cell_type": "code",
   "execution_count": 163,
   "id": "9408a99f-3b97-4c38-92e9-f4c015e83f9d",
   "metadata": {},
   "outputs": [
    {
     "data": {
      "text/html": [
       "<div>\n",
       "<style scoped>\n",
       "    .dataframe tbody tr th:only-of-type {\n",
       "        vertical-align: middle;\n",
       "    }\n",
       "\n",
       "    .dataframe tbody tr th {\n",
       "        vertical-align: top;\n",
       "    }\n",
       "\n",
       "    .dataframe thead th {\n",
       "        text-align: right;\n",
       "    }\n",
       "</style>\n",
       "<table border=\"1\" class=\"dataframe\">\n",
       "  <thead>\n",
       "    <tr style=\"text-align: right;\">\n",
       "      <th></th>\n",
       "      <th>selftext</th>\n",
       "      <th>ytrue</th>\n",
       "      <th>logregpred</th>\n",
       "      <th>randforestpred</th>\n",
       "      <th>extforestpred</th>\n",
       "    </tr>\n",
       "  </thead>\n",
       "  <tbody>\n",
       "    <tr>\n",
       "      <th>9019</th>\n",
       "      <td>[removed]</td>\n",
       "      <td>r/Cookingforbeginners</td>\n",
       "      <td>r/Cookingforbeginners</td>\n",
       "      <td>r/Cookingforbeginners</td>\n",
       "      <td>r/Cooking</td>\n",
       "    </tr>\n",
       "    <tr>\n",
       "      <th>7848</th>\n",
       "      <td>\\nCome watch kalala make baklava, bread, tomato soup, and grilled cheese sandwiches. \\n\\n\\n[kalala’s kitchen](www.twitch.tv/kalalaskitchen)</td>\n",
       "      <td>r/Cooking</td>\n",
       "      <td>r/Cooking</td>\n",
       "      <td>r/Cooking</td>\n",
       "      <td>r/Cookingforbeginners</td>\n",
       "    </tr>\n",
       "    <tr>\n",
       "      <th>8793</th>\n",
       "      <td>Hey! There's a killer deal on roma tomatoes right now and I want to grab them! If i freeze them whole will they hold up okay? They'll be used for sauce</td>\n",
       "      <td>r/Cooking</td>\n",
       "      <td>r/Cooking</td>\n",
       "      <td>r/Cooking</td>\n",
       "      <td>r/Cookingforbeginners</td>\n",
       "    </tr>\n",
       "    <tr>\n",
       "      <th>2724</th>\n",
       "      <td>[removed]</td>\n",
       "      <td>r/Cookingforbeginners</td>\n",
       "      <td>r/Cookingforbeginners</td>\n",
       "      <td>r/Cookingforbeginners</td>\n",
       "      <td>r/Cooking</td>\n",
       "    </tr>\n",
       "    <tr>\n",
       "      <th>9916</th>\n",
       "      <td>[removed]</td>\n",
       "      <td>r/Cookingforbeginners</td>\n",
       "      <td>r/Cookingforbeginners</td>\n",
       "      <td>r/Cookingforbeginners</td>\n",
       "      <td>r/Cooking</td>\n",
       "    </tr>\n",
       "  </tbody>\n",
       "</table>\n",
       "</div>"
      ],
      "text/plain": [
       "                                                                                                                                                     selftext  \\\n",
       "9019                                                                                                                                                [removed]   \n",
       "7848              \\nCome watch kalala make baklava, bread, tomato soup, and grilled cheese sandwiches. \\n\\n\\n[kalala’s kitchen](www.twitch.tv/kalalaskitchen)   \n",
       "8793  Hey! There's a killer deal on roma tomatoes right now and I want to grab them! If i freeze them whole will they hold up okay? They'll be used for sauce   \n",
       "2724                                                                                                                                                [removed]   \n",
       "9916                                                                                                                                                [removed]   \n",
       "\n",
       "                      ytrue             logregpred         randforestpred  \\\n",
       "9019  r/Cookingforbeginners  r/Cookingforbeginners  r/Cookingforbeginners   \n",
       "7848              r/Cooking              r/Cooking              r/Cooking   \n",
       "8793              r/Cooking              r/Cooking              r/Cooking   \n",
       "2724  r/Cookingforbeginners  r/Cookingforbeginners  r/Cookingforbeginners   \n",
       "9916  r/Cookingforbeginners  r/Cookingforbeginners  r/Cookingforbeginners   \n",
       "\n",
       "              extforestpred  \n",
       "9019              r/Cooking  \n",
       "7848  r/Cookingforbeginners  \n",
       "8793  r/Cookingforbeginners  \n",
       "2724              r/Cooking  \n",
       "9916              r/Cooking  "
      ]
     },
     "execution_count": 163,
     "metadata": {},
     "output_type": "execute_result"
    }
   ],
   "source": [
    "df_classes[(lrtrue) & (rftrue) & (~eftrue)&(df_classes['selftext']!='')].sample(5,random_state=96)"
   ]
  },
  {
   "cell_type": "code",
   "execution_count": 171,
   "id": "09f7a9fb-6915-440b-a20d-30949ae41c36",
   "metadata": {},
   "outputs": [],
   "source": [
    "vc = VotingClassifier([\n",
    "    ('logreg',pipe1),\n",
    "    ('randfor',rsc.best_estimator_),\n",
    "    ('extfor',rsc2.best_estimator_)\n",
    "],voting='soft',n_jobs=-1)"
   ]
  },
  {
   "cell_type": "code",
   "execution_count": 172,
   "id": "42bbcd3b-f009-4740-8526-b9326eb72135",
   "metadata": {},
   "outputs": [
    {
     "data": {
      "text/plain": [
       "VotingClassifier(estimators=[('logreg',\n",
       "                              Pipeline(steps=[('cv',\n",
       "                                               CountVectorizer(strip_accents='unicode')),\n",
       "                                              ('logreg',\n",
       "                                               LogisticRegression())])),\n",
       "                             ('randfor',\n",
       "                              Pipeline(steps=[('cv',\n",
       "                                               CountVectorizer(max_df=0.8,\n",
       "                                                               max_features=1000,\n",
       "                                                               ngram_range=(1,\n",
       "                                                                            2),\n",
       "                                                               strip_accents='ascii')),\n",
       "                                              ('rfc',\n",
       "                                               RandomForestClassifier(min_samples_leaf=2,\n",
       "                                                                      n_estimators=200,\n",
       "                                                                      n_jobs=-1,\n",
       "                                                                      random_state=815))])),\n",
       "                             ('extfor',\n",
       "                              Pipeline(steps=[('cv',\n",
       "                                               CountVectorizer(max_df=0.8,\n",
       "                                                               max_features=1000,\n",
       "                                                               strip_accents='ascii')),\n",
       "                                              ('etc',\n",
       "                                               ExtraTreesClassifier(criterion='entropy',\n",
       "                                                                    min_samples_split=3,\n",
       "                                                                    n_estimators=200,\n",
       "                                                                    n_jobs=-1,\n",
       "                                                                    random_state=815))]))],\n",
       "                 n_jobs=-1, voting='soft')"
      ]
     },
     "execution_count": 172,
     "metadata": {},
     "output_type": "execute_result"
    }
   ],
   "source": [
    "vc.fit(X_train,y_train)"
   ]
  },
  {
   "cell_type": "code",
   "execution_count": 173,
   "id": "9972ea06-0c5d-4e62-8ecd-eb67187b956a",
   "metadata": {},
   "outputs": [
    {
     "data": {
      "text/plain": [
       "0.6451374792397121"
      ]
     },
     "execution_count": 173,
     "metadata": {},
     "output_type": "execute_result"
    }
   ],
   "source": [
    "vc.score(X_test,y_test)"
   ]
  },
  {
   "cell_type": "code",
   "execution_count": 178,
   "id": "3d5afbd4-b814-4e9e-b221-f6cffc56bc90",
   "metadata": {},
   "outputs": [
    {
     "data": {
      "image/png": "[encoded data removed]",
      "text/plain": [
       "<Figure size 432x288 with 2 Axes>"
      ]
     },
     "metadata": {
      "needs_background": "light"
     },
     "output_type": "display_data"
    }
   ],
   "source": [
    "ConfusionMatrixDisplay.from_estimator(vc,X_test,y_test,cmap='Blues');"
   ]
  },
  {
   "cell_type": "code",
   "execution_count": 179,
   "id": "5ff9105f-6165-4fbc-b758-6d985bc72827",
   "metadata": {},
   "outputs": [],
   "source": [
    "vc2 = VotingClassifier([\n",
    "    ('logreg',pipe1),\n",
    "    ('randfor',rsc.best_estimator_),\n",
    "    ('extfor',rsc2.best_estimator_)\n",
    "],voting='hard',n_jobs=-1)"
   ]
  },
  {
   "cell_type": "code",
   "execution_count": 180,
   "id": "58169bc8-153b-4226-abc5-baddd9e4feaf",
   "metadata": {},
   "outputs": [
    {
     "data": {
      "text/plain": [
       "VotingClassifier(estimators=[('logreg',\n",
       "                              Pipeline(steps=[('cv',\n",
       "                                               CountVectorizer(strip_accents='unicode')),\n",
       "                                              ('logreg',\n",
       "                                               LogisticRegression())])),\n",
       "                             ('randfor',\n",
       "                              Pipeline(steps=[('cv',\n",
       "                                               CountVectorizer(max_df=0.8,\n",
       "                                                               max_features=1000,\n",
       "                                                               ngram_range=(1,\n",
       "                                                                            2),\n",
       "                                                               strip_accents='ascii')),\n",
       "                                              ('rfc',\n",
       "                                               RandomForestClassifier(min_samples_leaf=2,\n",
       "                                                                      n_estimators=200,\n",
       "                                                                      n_jobs=-1,\n",
       "                                                                      random_state=815))])),\n",
       "                             ('extfor',\n",
       "                              Pipeline(steps=[('cv',\n",
       "                                               CountVectorizer(max_df=0.8,\n",
       "                                                               max_features=1000,\n",
       "                                                               strip_accents='ascii')),\n",
       "                                              ('etc',\n",
       "                                               ExtraTreesClassifier(criterion='entropy',\n",
       "                                                                    min_samples_split=3,\n",
       "                                                                    n_estimators=200,\n",
       "                                                                    n_jobs=-1,\n",
       "                                                                    random_state=815))]))],\n",
       "                 n_jobs=-1)"
      ]
     },
     "execution_count": 180,
     "metadata": {},
     "output_type": "execute_result"
    }
   ],
   "source": [
    "vc2.fit(X_train,y_train)"
   ]
  },
  {
   "cell_type": "code",
   "execution_count": 181,
   "id": "e7c696d2-cc6f-45cb-9ecd-b48cb8e4fe1f",
   "metadata": {},
   "outputs": [
    {
     "data": {
      "text/plain": [
       "0.6334194500830411"
      ]
     },
     "execution_count": 181,
     "metadata": {},
     "output_type": "execute_result"
    }
   ],
   "source": [
    "vc2.score(X_test,y_test)"
   ]
  },
  {
   "cell_type": "code",
   "execution_count": 184,
   "id": "dfdb040a-203d-41df-98b6-403e4b4a5680",
   "metadata": {},
   "outputs": [
    {
     "data": {
      "text/plain": [
       "<sklearn.metrics._plot.confusion_matrix.ConfusionMatrixDisplay at 0x2a6daa80820>"
      ]
     },
     "execution_count": 184,
     "metadata": {},
     "output_type": "execute_result"
    },
    {
     "data": {
      "image/png": "[encoded data removed]",
      "text/plain": [
       "<Figure size 432x288 with 2 Axes>"
      ]
     },
     "metadata": {
      "needs_background": "light"
     },
     "output_type": "display_data"
    }
   ],
   "source": [
    "ConfusionMatrixDisplay.from_estimator(vc2,X_test,y_test,cmap='Blues')"
   ]
  },
  {
   "cell_type": "code",
   "execution_count": null,
   "id": "2fda9879-19e4-4390-989e-d479a1bd850a",
   "metadata": {},
   "outputs": [],
   "source": []
  }
 ],
 "metadata": {
  "kernelspec": {
   "display_name": "Python 3 (ipykernel)",
   "language": "python",
   "name": "python3"
  },
  "language_info": {
   "codemirror_mode": {
    "name": "ipython",
    "version": 3
   },
   "file_extension": ".py",
   "mimetype": "text/x-python",
   "name": "python",
   "nbconvert_exporter": "python",
   "pygments_lexer": "ipython3",
   "version": "3.9.7"
  }
 },
 "nbformat": 4,
 "nbformat_minor": 5
}
